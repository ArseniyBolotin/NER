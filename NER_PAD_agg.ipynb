{
  "nbformat": 4,
  "nbformat_minor": 0,
  "metadata": {
    "kernelspec": {
      "display_name": "Python 3",
      "language": "python",
      "name": "python3"
    },
    "language_info": {
      "codemirror_mode": {
        "name": "ipython",
        "version": 3
      },
      "file_extension": ".py",
      "mimetype": "text/x-python",
      "name": "python",
      "nbconvert_exporter": "python",
      "pygments_lexer": "ipython3",
      "version": "3.8.5"
    },
    "colab": {
      "name": "NER_PAD_agg.ipynb",
      "provenance": []
    }
  },
  "cells": [
    {
      "cell_type": "code",
      "metadata": {
        "colab": {
          "base_uri": "https://localhost:8080/"
        },
        "id": "E9DBV8gYpopc",
        "outputId": "9874ce11-a421-46fe-9c61-b7b81d4eb5db"
      },
      "source": [
        "!pip install sklearn_crfsuite"
      ],
      "execution_count": null,
      "outputs": [
        {
          "output_type": "stream",
          "text": [
            "Collecting sklearn_crfsuite\n",
            "  Downloading https://files.pythonhosted.org/packages/25/74/5b7befa513482e6dee1f3dd68171a6c9dfc14c0eaa00f885ffeba54fe9b0/sklearn_crfsuite-0.3.6-py2.py3-none-any.whl\n",
            "Collecting python-crfsuite>=0.8.3\n",
            "\u001b[?25l  Downloading https://files.pythonhosted.org/packages/79/47/58f16c46506139f17de4630dbcfb877ce41a6355a1bbf3c443edb9708429/python_crfsuite-0.9.7-cp37-cp37m-manylinux1_x86_64.whl (743kB)\n",
            "\u001b[K     |████████████████████████████████| 747kB 5.0MB/s \n",
            "\u001b[?25hRequirement already satisfied: six in /usr/local/lib/python3.7/dist-packages (from sklearn_crfsuite) (1.15.0)\n",
            "Requirement already satisfied: tabulate in /usr/local/lib/python3.7/dist-packages (from sklearn_crfsuite) (0.8.9)\n",
            "Requirement already satisfied: tqdm>=2.0 in /usr/local/lib/python3.7/dist-packages (from sklearn_crfsuite) (4.41.1)\n",
            "Installing collected packages: python-crfsuite, sklearn-crfsuite\n",
            "Successfully installed python-crfsuite-0.9.7 sklearn-crfsuite-0.3.6\n"
          ],
          "name": "stdout"
        }
      ]
    },
    {
      "cell_type": "code",
      "metadata": {
        "id": "OEfFyYZVph-B"
      },
      "source": [
        "import sklearn_crfsuite\n",
        "from sklearn_crfsuite import scorers\n",
        "from sklearn_crfsuite import metrics\n",
        "from sklearn.metrics import make_scorer\n",
        "from sklearn.model_selection import cross_val_score\n",
        "from sklearn.model_selection import RandomizedSearchCV\n",
        "\n",
        "from nltk.corpus import stopwords\n",
        "import pandas as pd\n",
        "import pickle\n",
        "import re\n",
        "import datetime\n",
        "import os\n",
        "import numpy as np"
      ],
      "execution_count": null,
      "outputs": []
    },
    {
      "cell_type": "code",
      "metadata": {
        "colab": {
          "base_uri": "https://localhost:8080/"
        },
        "id": "TNJIwNGCp3yV",
        "outputId": "d68d9e58-fe42-42a5-bb05-8259e2f5ce85"
      },
      "source": [
        "import nltk\n",
        "nltk.download(\"stopwords\")"
      ],
      "execution_count": null,
      "outputs": [
        {
          "output_type": "stream",
          "text": [
            "[nltk_data] Downloading package stopwords to /root/nltk_data...\n",
            "[nltk_data]   Unzipping corpora/stopwords.zip.\n"
          ],
          "name": "stdout"
        },
        {
          "output_type": "execute_result",
          "data": {
            "text/plain": [
              "True"
            ]
          },
          "metadata": {
            "tags": []
          },
          "execution_count": 3
        }
      ]
    },
    {
      "cell_type": "code",
      "metadata": {
        "id": "YiMGvd2mph-J"
      },
      "source": [
        "## ADDITIONAL FUNCTIONS\n",
        "if not os.path.exists('models'):\n",
        "    os.makedirs('models')\n",
        "    \n",
        "pStopWordsList = stopwords.words('english') + stopwords.words('russian')\n",
        "\n",
        "def convert_amount(pAmount, rubles = False):\n",
        "    try:\n",
        "        if rubles:\n",
        "            cAmount = pytils.numeral.rubles(abs(float(pAmount)), zero_for_kopeck=True)    \n",
        "        else:\n",
        "            cAmount = pytils.numeral.in_words(abs(int(pAmount)))    \n",
        "    except Exception as e:\n",
        "        cAmount = pAmount  \n",
        "    return cAmount\n",
        "\n",
        "def convert_date(pDate, format_mode, formatDate = None):\n",
        "    formatDates = ['%Y-%m-%d',\n",
        "                   '%d-%m-%Y',\n",
        "                   '%d/%m/%Y',\n",
        "                   '%d.%m.%Y',\n",
        "                   '%y-%m-%d',\n",
        "                   '%d-%m-%y',\n",
        "                   '%d/%m/%y',\n",
        "                   '%d.%m.%y',\n",
        "                   '%Y-%m-%d %H:%M:%S',\n",
        "                   '%d-%m-%Y %H:%M:%S',\n",
        "                   '%d/%m/%Y %H:%M:%S',\n",
        "                   '%d.%m.%Y %H:%M:%S',\n",
        "                   '%y-%m-%d %H:%M:%S',\n",
        "                   '%d-%m-%y %H:%M:%S',\n",
        "                   '%d/%m/%y %H:%M:%S',\n",
        "                   '%d.%m.%y %H:%M:%S']\n",
        "    if formatDate!=None:\n",
        "        cDate = datetime.datetime.strptime(pDate, formatDate).date()\n",
        "    else:\n",
        "        for fd in formatDates:\n",
        "            try:\n",
        "                cDate = datetime.datetime.strptime(pDate, fd).date()\n",
        "                break\n",
        "            except Exception as e:\n",
        "                cDate=None\n",
        "    if cDate == None:\n",
        "        print('convert_date: Can not define date format for \"%s\"' % pDate)\n",
        "        return ''\n",
        "    if format_mode == 1:\n",
        "        dmonth = {1: '01', 2: '02', 3: '03', 4: '04', 5: '05', 6: '06', 7: '07', 8: '08', 9: '09', 10: '10', 11: '11', 12: '12'}\n",
        "        dformat = '{}.{}.{}'\n",
        "        res = dformat.format(cDate.day, dmonth[cDate.month], cDate.year - 2000)\n",
        "    if format_mode == 2:\n",
        "        dmonth = {1: 'января', 2: 'февраля', 3: 'марта', 4: 'апреля', 5: 'мая', 6: 'июня', 7: 'июля', 8: 'августа', 9: 'сентября', 10: 'октября', 11: 'ноября', 12: 'декабря'}   \n",
        "        dformat = '{} {} {}'\n",
        "        res = dformat.format(cDate.day, dmonth[cDate.month], cDate.year)\n",
        "    if format_mode == 3:\n",
        "        dmonth = {1: 'января', 2: 'февраля', 3: 'марта', 4: 'апреля', 5: 'мая', 6: 'июня', 7: 'июля', 8: 'августа', 9: 'сентября', 10: 'октября', 11: 'ноября', 12: 'декабря'}   \n",
        "        dformat = '\"{}\" {} {}'\n",
        "        res = dformat.format(str(cDate.day).zfill(2), dmonth[cDate.month], cDate.year)            \n",
        "    if format_mode == 4:\n",
        "        dmonth = {1: '01', 2: '02', 3: '03', 4: '04', 5: '05', 6: '06', 7: '07', 8: '08', 9: '09', 10: '10', 11: '11', 12: '12'}\n",
        "        dformat = '{}.{}.{}'\n",
        "        res = dformat.format(cDate.day, dmonth[cDate.month], cDate.year)            \n",
        "    return res\n",
        "\n",
        "def checkdate(text, pattern):\n",
        "    res = ''\n",
        "    if pattern==None: return ''\n",
        "    text = text.lower()\n",
        "    pattern = pattern.lower()\n",
        "    res = pattern\n",
        "    if res in text: return res\n",
        "    res = convert_date(pattern, format_mode=1).lower()\n",
        "    if res in text: return res\n",
        "    res = convert_date(pattern, format_mode=4).lower()\n",
        "    if res in text: return res   \n",
        "    res = res.replace('.','/')\n",
        "    if res in text: return res   \n",
        "    res = res.replace('/','-')\n",
        "    if res in text: return res       \n",
        "    res = convert_date(pattern, format_mode=2).lower()\n",
        "    if res in text: return res\n",
        "    res = convert_date(pattern, format_mode=3).lower()\n",
        "    if res in text: return res\n",
        "    res = res[1:]\n",
        "    if res in text: return res\n",
        "    res = res.replace('\"\"', '')\n",
        "    if res in text: return res\n",
        "    \n",
        "    if \" \".join([w for w in convert_date(pattern, format_mode=1).lower()]) in text:\n",
        "        res = \" \".join([w for w in convert_date(pattern, format_mode=1)])\n",
        "    if \" \".join([w for w in convert_date(pattern, format_mode=2).lower()]) in text:\n",
        "        res = \" \".join([w for w in convert_date(pattern, format_mode=2)])\n",
        "    \n",
        "    return ''\n",
        "    \n",
        "def checkamount(text, pattern, space =3):\n",
        "    digits = [\"0\",\"1\",\"2\",\"3\",\"4\",\"5\",\"6\",\"7\",\"8\",\"9\"]\n",
        "    if pattern in (None,''): return ''\n",
        "    res = ''\n",
        "    \n",
        "    if pattern in (None,'','nan'): return ''\n",
        "    \n",
        "    if pattern == 'nan':\n",
        "        return res\n",
        "    if pattern in text:\n",
        "        res = pattern\n",
        "    res=pattern\n",
        "    if res in text: return res\n",
        "    \n",
        "    pattern = pattern.lower().replace(' ','').replace(',', '.')#.replace('-', '')\n",
        "    res = pattern\n",
        "    if res in text: return res\n",
        "    \n",
        "    res = pattern.replace('.', ',')\n",
        "    if res in text: return res\n",
        "    \n",
        "    res = pattern.replace(',', '.')\n",
        "    if res in text: return res\n",
        "\n",
        "    res = pattern.replace(',', '-')\n",
        "    if res in text: return res\n",
        "\n",
        "    res = pattern.replace('.', '-')\n",
        "    if res in text: return res\n",
        "    \n",
        "    try:\n",
        "        res = '{:_}'.format(float(pattern)).replace('_', ' ')\n",
        "        if res in text: return res\n",
        "        res = res.replace('.',',')\n",
        "        if res in text: return res\n",
        "        \n",
        "        res = res.replace('.','-')\n",
        "        if res in text: return res\n",
        "    except Exception as e:\n",
        "        tmp = None\n",
        "    \n",
        "    res = convert_amount(pattern).lower()\n",
        "    if convert_amount(pattern, rubles=True).lower() in text:\n",
        "    \n",
        "        res = convert_amount(pattern, rubles=True).lower()        \n",
        "    if res in text: return res\n",
        "        \n",
        "    tmp = pattern.split('.')\n",
        "    res = convert_amount(tmp[0]).lower()\n",
        "    tmp[0] = '{:,}'.format(int(tmp[0])).replace(',', ' ')\n",
        "    \n",
        "    res = ','.join(tmp)\n",
        "    if res in text: return res\n",
        "    \n",
        "    res = '.'.join(tmp)\n",
        "    if res in text: return res\n",
        "    \n",
        "    reg = ''\n",
        "    for l in pattern:\n",
        "        if l in digits:\n",
        "            reg = '%s%s.{0,%s}' % (reg, l,space)\n",
        "    m = re.search(reg, text)\n",
        "    if m!=None:\n",
        "        return m.string[m.start(0):m.end(0)][:-space]\n",
        "\n",
        "    for w in pattern.split():\n",
        "        reg = '%s%s.{0,%s}' % (reg, w,space)\n",
        "    m = re.search(reg, text)\n",
        "    if m!=None:\n",
        "        return m.string[m.start(0):m.end(0)][:-space]\n",
        "    \n",
        "    return ''\n",
        "\n",
        "def checkstring(text, target, spaces = 2):\n",
        "    if target in (None,'','nan'): return ''\n",
        "    text = text.lower()\n",
        "    target = target.lower()\n",
        "    '''\n",
        "    reg = ''\n",
        "    for l in target:\n",
        "        reg = '%s%s.{0,%s}' % (re.escape(reg), l,spaces)\n",
        "    \n",
        "    m = re.search(reg, text)\n",
        "    if m!=None:\n",
        "        return m.string[m.start(0):m.end(0)][:-spaces]\n",
        "    '''\n",
        "    target = target.replace('ооо','').replace('ао бывш.зао', '').\\\n",
        "             replace('зао','').replace('оао','').replace('ао','').\\\n",
        "             replace('ип','').replace(',','').strip()\n",
        "    if target in text:\n",
        "        return target\n",
        "    if target in ['бн', 'б/н']:\n",
        "        return ''\n",
        "    if target.replace('0','o') in text.replace('0','o'):\n",
        "        return target.replace('0','o')\n",
        "    if target.replace('з','3') in text.replace('з','3'):\n",
        "        return target.replace('з','3')    \n",
        "    if target.replace('э','3') in text.replace('э','3'):\n",
        "        return target.replace('э','3')    \n",
        "    if target.replace('э','9') in text.replace('э','9'):\n",
        "        return target.replace('э','9')    \n",
        "    if target.replace('б','6') in text.replace('б','6'):\n",
        "        return target.replace('б','6')    \n",
        "    for ch in [' ','_', '\\\\','`','*','{','}','[',']','(',')','>','#','+','-','.','!','$','\\'', ' ']:\n",
        "        if ch in target:\n",
        "            target = target.replace(ch,\"\")\n",
        "            if target in text:\n",
        "                return target\n",
        "    return ''\n",
        "\n",
        "def process_text_layer(TextLayer, pStopWordsList = []):\n",
        "    txt =  \" \".join([w for w in TextLayer.lower().split() \\\n",
        "                     if (not w in pStopWordsList)])\n",
        "\n",
        "    txt = txt. \\\n",
        "        replace('«', ''). \\\n",
        "        replace('»', ''). \\\n",
        "        replace('(', ''). \\\n",
        "        replace(')', ''). \\\n",
        "        replace('\\[)', ''). \\\n",
        "        replace('\\]', ''). \\\n",
        "        replace('^', ''). \\\n",
        "        replace('\\\\', '')\n",
        "\n",
        "    return txt\n",
        "\n",
        "def tagging_sentence_by_targets(ptag, sentence_tagged, df_targets, pmodel_name):\n",
        "    ret = sentence_tagged\n",
        "    for r in df_targets[df_targets['tag']==ptag]['string_value']:\n",
        "        tagging_sentence(ret, r, pmodel_name)\n",
        "    \n",
        "    return ret\n",
        "\n",
        "def word2features2(sent, i, exclude = 'O', bias=3):\n",
        "    word = sent[i][0]\n",
        "    if sent[i][2] == exclude:\n",
        "        return None\n",
        "\n",
        "    features = {\n",
        "        'bias': bias,\n",
        "        'word.lower()': word.lower(),\n",
        "        'word[:3]': word[:3],\n",
        "        'word[:2]': word[:2],\n",
        "        'word[-3:]': word[-3:],\n",
        "        'word[-2:]': word[-2:],\n",
        "        'word.isdigit()': word.isdigit(),\n",
        "        'BOS': False,\n",
        "        'EOS': False\n",
        "    }\n",
        "    for w in range(1, bias+1):\n",
        "        if i > w:\n",
        "            word1 = sent[i-w][0]\n",
        "            features.update({\n",
        "                '-%s:word.lower()' % (w): word1.lower()\n",
        "            })\n",
        "            \n",
        "    if i < 1:\n",
        "        features['BOS'] = True\n",
        "\n",
        "    for w in range(1, bias+1):\n",
        "        if i < len(sent)-w:\n",
        "            word1 = sent[i+w][0]\n",
        "            features.update({\n",
        "                '+%s:word.lower()' % (w): word1.lower()\n",
        "            })\n",
        "            \n",
        "    if i >= len(sent)-1:\n",
        "        features['EOS'] = True\n",
        "\n",
        "    return features\n",
        "\n",
        "def sent2features(sent, exclude = 'O'):\n",
        "    result = list()\n",
        "    for i in range(len(sent)):\n",
        "        ret = word2features2(sent, i, exclude = exclude, bias=10)\n",
        "        if ret !=None:\n",
        "            result.append(ret)\n",
        "    return result\n",
        "\n",
        "def sent2labels(sent, exclude = 'O'):\n",
        "    result = list()\n",
        "    for token, postag, label in sent:\n",
        "        if label !=exclude:\n",
        "            result.append(label)        \n",
        "    return result\n",
        "\n",
        "def tagging_sentence(sentence, target, tag):\n",
        "    sentence_text=  ' '.join([w['Word'] for w in sentence])\n",
        "    r_tag = ''\n",
        "\n",
        "    try:\n",
        "        res_find  = re.finditer(target.lower(), sentence_text.lower())\n",
        "    except:\n",
        "        return sentence\n",
        "\n",
        "    for m in res_find:\n",
        "        r_tag = 'B-%s' % tag\n",
        "        for i in range(len(sentence_text[:m.start()].split()), len(sentence_text[:m.end()].split())):\n",
        "            \"\"\"\n",
        "            if r_tag==('B-%s' % tag):\n",
        "                if i>0:\n",
        "                    sentence[i-1]['Tag']= 'B1-%s' % tag\n",
        "                if i>1:\n",
        "                    sentence[i-2]['Tag']= 'B2-%s' % tag                      \n",
        "                if i>2:\n",
        "                    sentence[i-3]['Tag']= 'B3-%s' % tag\n",
        "                if i>3:\n",
        "                    sentence[i-4]['Tag']= 'B4-%s' % tag  \n",
        "            \"\"\"\n",
        "            sentence[i]['Tag']= r_tag\n",
        "            r_tag = 'I-%s' % tag   \n",
        "            \"\"\"\n",
        "            for j in range(1,5):\n",
        "                if i+j < len(sentence):\n",
        "                    sentence[i+j]['Tag']='E%s-%s' % (str(j), tag)\n",
        "            \"\"\"\n",
        "    return sentence\n",
        "\n",
        "def prepare_sentence(num, sentence):\n",
        "    words = sentence.replace('\"', '').split()\n",
        "    tmp = []\n",
        "    for w in words:\n",
        "        tmp.append({'Sentence #': 'Sentence: %s' % num, 'Word' : w, 'POS' : 'NN', 'Tag': 'O'})\n",
        "    return tmp"
      ],
      "execution_count": null,
      "outputs": []
    },
    {
      "cell_type": "code",
      "metadata": {
        "colab": {
          "base_uri": "https://localhost:8080/"
        },
        "id": "lBiLcpwnqGAW",
        "outputId": "0e929ab7-3b61-4d26-c5d0-bc080965a6b6"
      },
      "source": [
        "!gdown --id 1hYI4ovDNu2jUUBOMAEKya6BPbYEBd5An"
      ],
      "execution_count": null,
      "outputs": [
        {
          "output_type": "stream",
          "text": [
            "Downloading...\n",
            "From: https://drive.google.com/uc?id=1hYI4ovDNu2jUUBOMAEKya6BPbYEBd5An\n",
            "To: /content/NER PAD.csv\n",
            "\r0.00B [00:00, ?B/s]\r10.5MB [00:00, 103MB/s]\r24.6MB [00:00, 112MB/s]\r41.8MB [00:00, 158MB/s]\n"
          ],
          "name": "stdout"
        }
      ]
    },
    {
      "cell_type": "code",
      "metadata": {
        "id": "FxW5mjflph-X"
      },
      "source": [
        "data = pd.read_csv('NER PAD.csv')\n",
        "for column in data.columns:\n",
        "    data[column] = data[column].astype(str)\n",
        "data['DOCCPTYINN'] = data['DOCCPTYINN'].apply(lambda r: r[:-2] if type(r) == str else r)"
      ],
      "execution_count": null,
      "outputs": []
    },
    {
      "cell_type": "code",
      "metadata": {
        "id": "2a-9bZdDph-l"
      },
      "source": [
        "PADData = data.copy()\n",
        "PADData['string_value'] = PADData.apply(lambda r: process_text_layer(r['string_value'], pStopWordsList), axis = 1)"
      ],
      "execution_count": null,
      "outputs": []
    },
    {
      "cell_type": "code",
      "metadata": {
        "colab": {
          "base_uri": "https://localhost:8080/",
          "height": 465
        },
        "id": "BFbDSbI4tGjM",
        "outputId": "5d40683c-f6c5-4bf2-b66f-8709cbae465d"
      },
      "source": [
        "PADData.head()"
      ],
      "execution_count": null,
      "outputs": [
        {
          "output_type": "execute_result",
          "data": {
            "text/html": [
              "<div>\n",
              "<style scoped>\n",
              "    .dataframe tbody tr th:only-of-type {\n",
              "        vertical-align: middle;\n",
              "    }\n",
              "\n",
              "    .dataframe tbody tr th {\n",
              "        vertical-align: top;\n",
              "    }\n",
              "\n",
              "    .dataframe thead th {\n",
              "        text-align: right;\n",
              "    }\n",
              "</style>\n",
              "<table border=\"1\" class=\"dataframe\">\n",
              "  <thead>\n",
              "    <tr style=\"text-align: right;\">\n",
              "      <th></th>\n",
              "      <th>tag</th>\n",
              "      <th>DOCTYPE</th>\n",
              "      <th>DOCNUM</th>\n",
              "      <th>DOCDATE</th>\n",
              "      <th>DOCAMOUNT</th>\n",
              "      <th>DOCCPTY</th>\n",
              "      <th>DOCAGRNUM</th>\n",
              "      <th>DOCAGRDATE</th>\n",
              "      <th>DOCCUSTOMER</th>\n",
              "      <th>DOCCPTYINN</th>\n",
              "      <th>string_value</th>\n",
              "    </tr>\n",
              "  </thead>\n",
              "  <tbody>\n",
              "    <tr>\n",
              "      <th>0</th>\n",
              "      <td>SV990125172_ОРГ__INM_18'09'58_1.pdf</td>\n",
              "      <td>УПД2</td>\n",
              "      <td>(нацио</td>\n",
              "      <td>2018-12-31</td>\n",
              "      <td>1200</td>\n",
              "      <td>Телеком ЛТД, ООО</td>\n",
              "      <td>П-1856у</td>\n",
              "      <td>2014-12-01</td>\n",
              "      <td>ТВ ДАРЬЯЛ</td>\n",
              "      <td>21190038</td>\n",
              "      <td>l * универсальный приложение № 1 постановлению...</td>\n",
              "    </tr>\n",
              "    <tr>\n",
              "      <th>1</th>\n",
              "      <td>SS528581_ОРГ__INM_17'05'39_A.pdf</td>\n",
              "      <td>АКТ</td>\n",
              "      <td>0000-000346</td>\n",
              "      <td>2019-04-10</td>\n",
              "      <td>10000</td>\n",
              "      <td>РИА КАЛМЫКИЯ, АУ РК</td>\n",
              "      <td>0000-000290</td>\n",
              "      <td>2019-04-10</td>\n",
              "      <td>МИЦ ИЗВЕСТИЯ ООО</td>\n",
              "      <td>08160051</td>\n",
              "      <td>l лист согласования стр. 1 1 2 9 * 0 4 сохрани...</td>\n",
              "    </tr>\n",
              "    <tr>\n",
              "      <th>2</th>\n",
              "      <td>SF435712_ОРГ__INM_15'25'41_A.pdf</td>\n",
              "      <td>Счет-фактура</td>\n",
              "      <td>0000-004358</td>\n",
              "      <td>2019-03-31</td>\n",
              "      <td>5273,76</td>\n",
              "      <td>ГОРМОСТ ГБУ</td>\n",
              "      <td>291-2013/ИК/А-158/13.</td>\n",
              "      <td>2013-04-01</td>\n",
              "      <td>АКЦЕПТ (ТЕЛЕВИЗИОННЫЙ КАНАЛ РЕН ТВ) ООО</td>\n",
              "      <td>77227654</td>\n",
              "      <td>l приложение № постановлению правительства рф ...</td>\n",
              "    </tr>\n",
              "    <tr>\n",
              "      <th>3</th>\n",
              "      <td>SV990124943_ОРГ__INM_19'00'43_A.pdf</td>\n",
              "      <td>АКТ</td>\n",
              "      <td>0000-012544</td>\n",
              "      <td>2019-06-30</td>\n",
              "      <td>1000</td>\n",
              "      <td>СТАТУС АО</td>\n",
              "      <td>Основной договор (Счет №А7407)</td>\n",
              "      <td>2016-04-20</td>\n",
              "      <td>СПОРТ-ЭКСПРЕСС АО</td>\n",
              "      <td>77071792</td>\n",
              "      <td>l акционерное общество \"регистраторское общест...</td>\n",
              "    </tr>\n",
              "    <tr>\n",
              "      <th>4</th>\n",
              "      <td>S29013419_ОРИГИНАЛ__IND_1_22.05.12'21'36.pdf</td>\n",
              "      <td>АКТ</td>\n",
              "      <td>00000000014</td>\n",
              "      <td>2019-04-30</td>\n",
              "      <td>11800</td>\n",
              "      <td>СТАНДАРТ БЕЗОПАСНОСТИ ООО</td>\n",
              "      <td>04-14/ТРК-863/13СЖ</td>\n",
              "      <td>2013-12-13</td>\n",
              "      <td>Телерадиокомпания Петербург АО</td>\n",
              "      <td>78133587</td>\n",
              "      <td>l * 000\"стандарт безопасности\" адрес: 197376, ...</td>\n",
              "    </tr>\n",
              "  </tbody>\n",
              "</table>\n",
              "</div>"
            ],
            "text/plain": [
              "                                            tag  ...                                       string_value\n",
              "0           SV990125172_ОРГ__INM_18'09'58_1.pdf  ...  l * универсальный приложение № 1 постановлению...\n",
              "1              SS528581_ОРГ__INM_17'05'39_A.pdf  ...  l лист согласования стр. 1 1 2 9 * 0 4 сохрани...\n",
              "2              SF435712_ОРГ__INM_15'25'41_A.pdf  ...  l приложение № постановлению правительства рф ...\n",
              "3           SV990124943_ОРГ__INM_19'00'43_A.pdf  ...  l акционерное общество \"регистраторское общест...\n",
              "4  S29013419_ОРИГИНАЛ__IND_1_22.05.12'21'36.pdf  ...  l * 000\"стандарт безопасности\" адрес: 197376, ...\n",
              "\n",
              "[5 rows x 11 columns]"
            ]
          },
          "metadata": {
            "tags": []
          },
          "execution_count": 21
        }
      ]
    },
    {
      "cell_type": "code",
      "metadata": {
        "id": "8bLJpN-Rph-o"
      },
      "source": [
        "models = ['DOCNUM',\n",
        "            'DOCDATE',\n",
        "            'DOCAMOUNT',\n",
        "            'DOCCPTY',\n",
        "            'DOCAGRNUM',\n",
        "            'DOCAGRDATE',\n",
        "            'DOCCUSTOMER',\n",
        "            'DOCCPTYINN']\n",
        "\n",
        "datasets = {}\n",
        "for model_name in models:\n",
        "    ds = PADData[['tag','string_value', model_name]].rename(columns={'string_value': 'x', model_name: 'target'})\n",
        "    if 'DATE' in model_name:\n",
        "        ds['target'] = ds.apply(lambda r: checkdate(r['x'], r['target']),axis=1).copy()\n",
        "    if model_name in ['DOCNUM', 'DOCAGRNUM', 'DOCCUSTOMER', 'DOCCPTY']:\n",
        "        ds['target'] = ds.apply(lambda r: checkstring(r[\"x\"], r['target']),axis=1).copy()      \n",
        "    if 'AMOUNT' in model_name:\n",
        "        ds['target'] = ds.apply(lambda r: checkamount(r['x'], r['target']),axis=1).copy()\n",
        "        \n",
        "    ds = ds[ds['target']!=''].drop_duplicates().copy()\n",
        "    ds[\"x_tagged\"] = ds.apply(lambda r: prepare_sentence(r.name, r[\"x\"]), axis=1)\n",
        "    ds[\"x_tagged\"] = ds.apply(lambda r: tagging_sentence(r['x_tagged'], r['target'], model_name), axis=1)\n",
        "    \n",
        "    datasets[model_name] = ds.copy()"
      ],
      "execution_count": null,
      "outputs": []
    },
    {
      "cell_type": "code",
      "metadata": {
        "id": "IMvp_cCsgl8X"
      },
      "source": [
        "def choose(word, x, y):\n",
        "    x = x.strip()\n",
        "    y = y.strip()\n",
        "    word = word.strip()\n",
        "    nx = len(x)\n",
        "    ny = len(y)\n",
        "    n = len(word)\n",
        "\n",
        "    find_x = -1\n",
        "    find_y = -1\n",
        "    if x.find(word) != -1:\n",
        "        find_x = max(len(word), find_x)\n",
        "    if word.find(x) != -1:\n",
        "        find_x = max(len(x), find_x)\n",
        "    if y.find(word) != -1:\n",
        "        find_y = max(len(word), find_y)\n",
        "    if word.find(y) != -1:\n",
        "        find_y = max(len(y), find_y)\n",
        "\n",
        "    if find_x != -1 or find_y != -1:\n",
        "        if find_x >= find_y:\n",
        "            return 0\n",
        "        else:\n",
        "            return 1\n",
        "    \n",
        "    index = 0\n",
        "    while index < nx and index < ny and index < n:\n",
        "        if x[index] != word[index] and y[index] == word[index]:\n",
        "            return 1\n",
        "        elif x[index] == word[index] and y[index] != word[index]:\n",
        "             return 0\n",
        "        index += 1\n",
        "\n",
        "    if index < ny - 1 and index < n - 1 and y[index + 1] == word[index + 1]:\n",
        "        return 1\n",
        "    elif index < nx - 1 and index < n - 1 and x[index + 1] == word[index + 1]:\n",
        "        return 0\n",
        "    \n",
        "    return 0 #default\n",
        "\n",
        "def merge_tags(row):\n",
        "    x = row.tags_x\n",
        "    y = row.tags_y\n",
        "    if type(y) != list:\n",
        "        return\n",
        "    if type(x) != list:\n",
        "        x = y\n",
        "        return\n",
        "    assert len(x) == len(y)\n",
        "    for i in range(len(x)):\n",
        "        if x[i] == 'O' and y[i] != 'O':\n",
        "            x[i] = y[i]\n",
        "        if x[i] != 'O' and y[i] != 'O' and x[i] != y[i]: #labels conflict\n",
        "            print(f'Labels conflict with word {row.words_x[i]} --- {x[i]} : {row.target_x}; {y[i]} : {row.target_y}')\n",
        "            if pd.isnull(row.target_x):\n",
        "                x[i] = y[i]\n",
        "                continue\n",
        "            if pd.isnull(row.target_y):\n",
        "                continue\n",
        "            choosed = choose(row.words_x[i], row.target_x, row.target_y)\n",
        "            if choosed == 0:\n",
        "                print(f'Selected : {row.target_x}')\n",
        "            else:\n",
        "                print(f'Selected : {row.target_y}')\n",
        "                x[i] = y[i]"
      ],
      "execution_count": 78,
      "outputs": []
    },
    {
      "cell_type": "code",
      "metadata": {
        "colab": {
          "base_uri": "https://localhost:8080/",
          "height": 114
        },
        "id": "ImrULTX1UeTB",
        "outputId": "4bc399cf-c08a-4e4e-954b-b293ffa9b137"
      },
      "source": [
        "d_merged = datasets[\"DOCNUM\"].copy()\n",
        "d_merged[\"tags\"] = d_merged.x_tagged.apply(lambda sent : [elem['Tag'] for elem in sent])\n",
        "d_merged[\"words\"] = d_merged.x_tagged.apply(lambda sent : [elem['Word'] for elem in sent])\n",
        "d_merged.head(1)"
      ],
      "execution_count": 79,
      "outputs": [
        {
          "output_type": "execute_result",
          "data": {
            "text/html": [
              "<div>\n",
              "<style scoped>\n",
              "    .dataframe tbody tr th:only-of-type {\n",
              "        vertical-align: middle;\n",
              "    }\n",
              "\n",
              "    .dataframe tbody tr th {\n",
              "        vertical-align: top;\n",
              "    }\n",
              "\n",
              "    .dataframe thead th {\n",
              "        text-align: right;\n",
              "    }\n",
              "</style>\n",
              "<table border=\"1\" class=\"dataframe\">\n",
              "  <thead>\n",
              "    <tr style=\"text-align: right;\">\n",
              "      <th></th>\n",
              "      <th>tag</th>\n",
              "      <th>x</th>\n",
              "      <th>target</th>\n",
              "      <th>x_tagged</th>\n",
              "      <th>tags</th>\n",
              "      <th>words</th>\n",
              "    </tr>\n",
              "  </thead>\n",
              "  <tbody>\n",
              "    <tr>\n",
              "      <th>2</th>\n",
              "      <td>SF435712_ОРГ__INM_15'25'41_A.pdf</td>\n",
              "      <td>l приложение № постановлению правительства рф ...</td>\n",
              "      <td>0000-004358</td>\n",
              "      <td>[{'Sentence #': 'Sentence: 2', 'Word': 'l', 'P...</td>\n",
              "      <td>[O, O, O, O, O, O, O, O, O, B-DOCNUM, O, O, O,...</td>\n",
              "      <td>[l, приложение, №, постановлению, правительств...</td>\n",
              "    </tr>\n",
              "  </tbody>\n",
              "</table>\n",
              "</div>"
            ],
            "text/plain": [
              "                                tag  ...                                              words\n",
              "2  SF435712_ОРГ__INM_15'25'41_A.pdf  ...  [l, приложение, №, постановлению, правительств...\n",
              "\n",
              "[1 rows x 6 columns]"
            ]
          },
          "metadata": {
            "tags": []
          },
          "execution_count": 79
        }
      ]
    },
    {
      "cell_type": "code",
      "metadata": {
        "id": "yc04sVMqV77L"
      },
      "source": [
        "for model in models[1:]:\n",
        "    d_new = datasets[model].copy()\n",
        "    d_new[\"tags\"] = d_new.x_tagged.apply(lambda sent : [elem['Tag'] for elem in sent])\n",
        "    d_new[\"words\"] = d_new.x_tagged.apply(lambda sent : [elem['Word'] for elem in sent])\n",
        "    d_new.head(1)\n",
        "    d_merged = pd.merge(d_merged, d_new.loc[:, [\"tags\", \"target\", \"words\", \"tag\"]], left_index=True, right_index=True, how=\"outer\")\n",
        "    d_merged.loc[pd.isna(d_merged.tags_x), 'tags_x'] = d_merged.loc[pd.isna(d_merged.tags_x), 'tags_y']\n",
        "    d_merged.loc[pd.isna(d_merged.words_x), 'words_x'] = d_merged.loc[pd.isna(d_merged.words_x), 'words_y']\n",
        "    d_merged.loc[pd.isna(d_merged.tag_x), 'tag_x'] = d_merged.loc[pd.isna(d_merged.tag_x), 'tag_y']\n",
        "    d_merged.apply(merge_tags, axis=1)\n",
        "    d_merged.drop(columns=['target_y', 'tags_y', 'words_y', 'tag_y'], inplace=True)\n",
        "    d_merged.rename(columns={'target_x' : 'target', 'tags_x' : 'tags', 'words_x' : 'words', 'tag_x' : 'tag'}, inplace=True)"
      ],
      "execution_count": null,
      "outputs": []
    },
    {
      "cell_type": "code",
      "metadata": {
        "id": "czFZD6fqZFDo"
      },
      "source": [
        "df = d_merged.loc[:, ['tag', 'words', 'tags']].rename(columns={'tag' : 'id', 'tags' : 'ner_tags', 'words' : 'tokens'})"
      ],
      "execution_count": 81,
      "outputs": []
    },
    {
      "cell_type": "code",
      "metadata": {
        "colab": {
          "base_uri": "https://localhost:8080/",
          "height": 202
        },
        "id": "4_gjQrcfLsAi",
        "outputId": "e33ddb91-c70a-441b-89c5-1ef8e7f19664"
      },
      "source": [
        "df.head()"
      ],
      "execution_count": 82,
      "outputs": [
        {
          "output_type": "execute_result",
          "data": {
            "text/html": [
              "<div>\n",
              "<style scoped>\n",
              "    .dataframe tbody tr th:only-of-type {\n",
              "        vertical-align: middle;\n",
              "    }\n",
              "\n",
              "    .dataframe tbody tr th {\n",
              "        vertical-align: top;\n",
              "    }\n",
              "\n",
              "    .dataframe thead th {\n",
              "        text-align: right;\n",
              "    }\n",
              "</style>\n",
              "<table border=\"1\" class=\"dataframe\">\n",
              "  <thead>\n",
              "    <tr style=\"text-align: right;\">\n",
              "      <th></th>\n",
              "      <th>id</th>\n",
              "      <th>tokens</th>\n",
              "      <th>ner_tags</th>\n",
              "    </tr>\n",
              "  </thead>\n",
              "  <tbody>\n",
              "    <tr>\n",
              "      <th>0</th>\n",
              "      <td>SV990125172_ОРГ__INM_18'09'58_1.pdf</td>\n",
              "      <td>[l, *, универсальный, приложение, №, 1, постан...</td>\n",
              "      <td>[O, O, O, O, O, O, O, O, O, O, O, O, O, O, B-D...</td>\n",
              "    </tr>\n",
              "    <tr>\n",
              "      <th>1</th>\n",
              "      <td>SS528581_ОРГ__INM_17'05'39_A.pdf</td>\n",
              "      <td>[l, лист, согласования, стр., 1, 1, 2, 9, *, 0...</td>\n",
              "      <td>[O, O, O, O, O, O, O, O, O, O, O, O, O, O, O, ...</td>\n",
              "    </tr>\n",
              "    <tr>\n",
              "      <th>2</th>\n",
              "      <td>SF435712_ОРГ__INM_15'25'41_A.pdf</td>\n",
              "      <td>[l, приложение, №, постановлению, правительств...</td>\n",
              "      <td>[O, O, O, O, O, O, O, O, O, B-DOCNUM, B-DOCDAT...</td>\n",
              "    </tr>\n",
              "    <tr>\n",
              "      <th>3</th>\n",
              "      <td>SV990124943_ОРГ__INM_19'00'43_A.pdf</td>\n",
              "      <td>[l, акционерное, общество, регистраторское, об...</td>\n",
              "      <td>[O, O, O, O, O, B-DOCCPTY, O, O, O, O, O, O, O...</td>\n",
              "    </tr>\n",
              "    <tr>\n",
              "      <th>4</th>\n",
              "      <td>S29013419_ОРИГИНАЛ__IND_1_22.05.12'21'36.pdf</td>\n",
              "      <td>[l, *, 000стандарт, безопасности, адрес:, 1973...</td>\n",
              "      <td>[O, O, O, B-DOCCPTY, O, O, O, O, O, O, O, O, O...</td>\n",
              "    </tr>\n",
              "  </tbody>\n",
              "</table>\n",
              "</div>"
            ],
            "text/plain": [
              "                                             id  ...                                           ner_tags\n",
              "0           SV990125172_ОРГ__INM_18'09'58_1.pdf  ...  [O, O, O, O, O, O, O, O, O, O, O, O, O, O, B-D...\n",
              "1              SS528581_ОРГ__INM_17'05'39_A.pdf  ...  [O, O, O, O, O, O, O, O, O, O, O, O, O, O, O, ...\n",
              "2              SF435712_ОРГ__INM_15'25'41_A.pdf  ...  [O, O, O, O, O, O, O, O, O, B-DOCNUM, B-DOCDAT...\n",
              "3           SV990124943_ОРГ__INM_19'00'43_A.pdf  ...  [O, O, O, O, O, B-DOCCPTY, O, O, O, O, O, O, O...\n",
              "4  S29013419_ОРИГИНАЛ__IND_1_22.05.12'21'36.pdf  ...  [O, O, O, B-DOCCPTY, O, O, O, O, O, O, O, O, O...\n",
              "\n",
              "[5 rows x 3 columns]"
            ]
          },
          "metadata": {
            "tags": []
          },
          "execution_count": 82
        }
      ]
    },
    {
      "cell_type": "code",
      "metadata": {
        "colab": {
          "base_uri": "https://localhost:8080/"
        },
        "id": "5Rzneg_XLs5I",
        "outputId": "ce187597-3fff-4ac1-f99c-bfa7ec50dbb9"
      },
      "source": [
        "df.shape"
      ],
      "execution_count": 83,
      "outputs": [
        {
          "output_type": "execute_result",
          "data": {
            "text/plain": [
              "(4000, 3)"
            ]
          },
          "metadata": {
            "tags": []
          },
          "execution_count": 83
        }
      ]
    },
    {
      "cell_type": "code",
      "metadata": {
        "id": "Vw2v8MtdMRov"
      },
      "source": [
        "df.to_csv(\"NER_PAD_agg.csv\", index=False)"
      ],
      "execution_count": 84,
      "outputs": []
    },
    {
      "cell_type": "code",
      "metadata": {
        "id": "UCx_DvaI629R"
      },
      "source": [
        "from sklearn.model_selection import train_test_split\n",
        "train, test = train_test_split(df, test_size=0.2, random_state=42)"
      ],
      "execution_count": 86,
      "outputs": []
    },
    {
      "cell_type": "code",
      "metadata": {
        "colab": {
          "base_uri": "https://localhost:8080/",
          "height": 202
        },
        "id": "tXeiG-Dt7D3w",
        "outputId": "b37a5001-f7c7-4ba6-86cf-019717e37798"
      },
      "source": [
        "train.head()"
      ],
      "execution_count": 87,
      "outputs": [
        {
          "output_type": "execute_result",
          "data": {
            "text/html": [
              "<div>\n",
              "<style scoped>\n",
              "    .dataframe tbody tr th:only-of-type {\n",
              "        vertical-align: middle;\n",
              "    }\n",
              "\n",
              "    .dataframe tbody tr th {\n",
              "        vertical-align: top;\n",
              "    }\n",
              "\n",
              "    .dataframe thead th {\n",
              "        text-align: right;\n",
              "    }\n",
              "</style>\n",
              "<table border=\"1\" class=\"dataframe\">\n",
              "  <thead>\n",
              "    <tr style=\"text-align: right;\">\n",
              "      <th></th>\n",
              "      <th>id</th>\n",
              "      <th>tokens</th>\n",
              "      <th>ner_tags</th>\n",
              "    </tr>\n",
              "  </thead>\n",
              "  <tbody>\n",
              "    <tr>\n",
              "      <th>3994</th>\n",
              "      <td>SV990115834_ОРГ__INM_16'04'09_3.pdf</td>\n",
              "      <td>[l, испр, 4-, v, moscow, quarterly, report, li...</td>\n",
              "      <td>[O, O, O, O, O, O, O, O, O, O, O, O, O, O, O, ...</td>\n",
              "    </tr>\n",
              "    <tr>\n",
              "      <th>423</th>\n",
              "      <td>B31001902_ОРГ__INM_15'54'06_5.pdf</td>\n",
              "      <td>[l, приложение, №1, постановлению, правительст...</td>\n",
              "      <td>[O, O, O, O, O, O, O, O, O, O, O, O, O, O, O, ...</td>\n",
              "    </tr>\n",
              "    <tr>\n",
              "      <th>2991</th>\n",
              "      <td>A15279883_ОРИГИНАЛ__IND_2_31.05.15'26'21.pdf</td>\n",
              "      <td>[l, лист, согласования, page, 1, 1, сохранить,...</td>\n",
              "      <td>[O, O, O, O, O, O, O, O, O, O, O, O, B-DOCDATE...</td>\n",
              "    </tr>\n",
              "    <tr>\n",
              "      <th>1221</th>\n",
              "      <td>S29013406_ОРИГИНАЛ__IND_1_22.05.11'50'49.pdf</td>\n",
              "      <td>[l, приложение, ne, 1, постановлению, правител...</td>\n",
              "      <td>[O, O, O, O, O, O, O, O, O, B-DOCNUM, B-DOCDAT...</td>\n",
              "    </tr>\n",
              "    <tr>\n",
              "      <th>506</th>\n",
              "      <td>SV990126331_ОРГ__INM_16'23'42_A.pdf</td>\n",
              "      <td>[l, универсальный, приложение, №, 1, постановл...</td>\n",
              "      <td>[O, O, O, O, O, O, O, O, O, O, O, O, B-DOCNUM,...</td>\n",
              "    </tr>\n",
              "  </tbody>\n",
              "</table>\n",
              "</div>"
            ],
            "text/plain": [
              "                                                id  ...                                           ner_tags\n",
              "3994           SV990115834_ОРГ__INM_16'04'09_3.pdf  ...  [O, O, O, O, O, O, O, O, O, O, O, O, O, O, O, ...\n",
              "423              B31001902_ОРГ__INM_15'54'06_5.pdf  ...  [O, O, O, O, O, O, O, O, O, O, O, O, O, O, O, ...\n",
              "2991  A15279883_ОРИГИНАЛ__IND_2_31.05.15'26'21.pdf  ...  [O, O, O, O, O, O, O, O, O, O, O, O, B-DOCDATE...\n",
              "1221  S29013406_ОРИГИНАЛ__IND_1_22.05.11'50'49.pdf  ...  [O, O, O, O, O, O, O, O, O, B-DOCNUM, B-DOCDAT...\n",
              "506            SV990126331_ОРГ__INM_16'23'42_A.pdf  ...  [O, O, O, O, O, O, O, O, O, O, O, O, B-DOCNUM,...\n",
              "\n",
              "[5 rows x 3 columns]"
            ]
          },
          "metadata": {
            "tags": []
          },
          "execution_count": 87
        }
      ]
    },
    {
      "cell_type": "code",
      "metadata": {
        "colab": {
          "base_uri": "https://localhost:8080/",
          "height": 202
        },
        "id": "svfal9ii7FS9",
        "outputId": "31caeb09-4f47-4a27-eeea-b1458e3905dc"
      },
      "source": [
        "test.head()"
      ],
      "execution_count": 88,
      "outputs": [
        {
          "output_type": "execute_result",
          "data": {
            "text/html": [
              "<div>\n",
              "<style scoped>\n",
              "    .dataframe tbody tr th:only-of-type {\n",
              "        vertical-align: middle;\n",
              "    }\n",
              "\n",
              "    .dataframe tbody tr th {\n",
              "        vertical-align: top;\n",
              "    }\n",
              "\n",
              "    .dataframe thead th {\n",
              "        text-align: right;\n",
              "    }\n",
              "</style>\n",
              "<table border=\"1\" class=\"dataframe\">\n",
              "  <thead>\n",
              "    <tr style=\"text-align: right;\">\n",
              "      <th></th>\n",
              "      <th>id</th>\n",
              "      <th>tokens</th>\n",
              "      <th>ner_tags</th>\n",
              "    </tr>\n",
              "  </thead>\n",
              "  <tbody>\n",
              "    <tr>\n",
              "      <th>555</th>\n",
              "      <td>B31005082_ОРГ__INM_15'39'47_1.pdf</td>\n",
              "      <td>[l, т, !, приложение, №, 1, постановлению, пра...</td>\n",
              "      <td>[O, O, O, O, O, O, O, O, O, O, O, O, B-DOCNUM,...</td>\n",
              "    </tr>\n",
              "    <tr>\n",
              "      <th>3491</th>\n",
              "      <td>SS821512_ОРГ__INM_15'39'55_A.pdf</td>\n",
              "      <td>[l, 08.05.2019, лист, согласования, 15*0?, сох...</td>\n",
              "      <td>[O, O, O, O, O, O, O, O, O, O, O, O, O, O, O, ...</td>\n",
              "    </tr>\n",
              "    <tr>\n",
              "      <th>527</th>\n",
              "      <td>B31001904_ОРГ__INM_15'54'06_5.pdf</td>\n",
              "      <td>[l, приложение, №, 1, постановлению, правитель...</td>\n",
              "      <td>[O, O, O, O, O, O, O, O, O, O, O, O, O, O, O, ...</td>\n",
              "    </tr>\n",
              "    <tr>\n",
              "      <th>3925</th>\n",
              "      <td>SV990123251_ОРГ__INM_16'22'58_A.pdf</td>\n",
              "      <td>[l, osa, e, p, r, n, n, k, v, v, 9, 9, 0, 1, а...</td>\n",
              "      <td>[O, O, O, O, O, O, O, O, O, O, O, O, O, O, O, ...</td>\n",
              "    </tr>\n",
              "    <tr>\n",
              "      <th>2989</th>\n",
              "      <td>SV990124219_16.07.2019.18'26'08.pdf</td>\n",
              "      <td>[l, л, п, р, т, -, э, п, р, е, л, дрес, рассыл...</td>\n",
              "      <td>[O, O, O, O, O, O, O, O, O, O, O, O, O, O, O, ...</td>\n",
              "    </tr>\n",
              "  </tbody>\n",
              "</table>\n",
              "</div>"
            ],
            "text/plain": [
              "                                       id  ...                                           ner_tags\n",
              "555     B31005082_ОРГ__INM_15'39'47_1.pdf  ...  [O, O, O, O, O, O, O, O, O, O, O, O, B-DOCNUM,...\n",
              "3491     SS821512_ОРГ__INM_15'39'55_A.pdf  ...  [O, O, O, O, O, O, O, O, O, O, O, O, O, O, O, ...\n",
              "527     B31001904_ОРГ__INM_15'54'06_5.pdf  ...  [O, O, O, O, O, O, O, O, O, O, O, O, O, O, O, ...\n",
              "3925  SV990123251_ОРГ__INM_16'22'58_A.pdf  ...  [O, O, O, O, O, O, O, O, O, O, O, O, O, O, O, ...\n",
              "2989  SV990124219_16.07.2019.18'26'08.pdf  ...  [O, O, O, O, O, O, O, O, O, O, O, O, O, O, O, ...\n",
              "\n",
              "[5 rows x 3 columns]"
            ]
          },
          "metadata": {
            "tags": []
          },
          "execution_count": 88
        }
      ]
    },
    {
      "cell_type": "code",
      "metadata": {
        "colab": {
          "base_uri": "https://localhost:8080/"
        },
        "id": "hTs49rsF7Kiv",
        "outputId": "a6be12d9-a4bd-46ef-802c-f9a7b02f7cde"
      },
      "source": [
        "print(train.shape, test.shape)"
      ],
      "execution_count": 89,
      "outputs": [
        {
          "output_type": "stream",
          "text": [
            "(3200, 3) (800, 3)\n"
          ],
          "name": "stdout"
        }
      ]
    },
    {
      "cell_type": "code",
      "metadata": {
        "id": "Nu1dpSpX7CyW"
      },
      "source": [
        "train.to_csv('NER_PAD_agg_train.csv', index=False)\n",
        "test.to_csv('NER_PAD_agg_test.csv', index=False)"
      ],
      "execution_count": 90,
      "outputs": []
    },
    {
      "cell_type": "code",
      "metadata": {
        "id": "AKi1YfK27N2Y"
      },
      "source": [
        "train_PAD, test_PAD = train_test_split(PADData, test_size=0.2, random_state=42)"
      ],
      "execution_count": 91,
      "outputs": []
    },
    {
      "cell_type": "code",
      "metadata": {
        "colab": {
          "base_uri": "https://localhost:8080/"
        },
        "id": "O1vMwAHR8QdP",
        "outputId": "327f2325-d468-40ff-a2ea-25e815919a7c"
      },
      "source": [
        "set(train_PAD.index) == set(train.index)"
      ],
      "execution_count": 93,
      "outputs": [
        {
          "output_type": "execute_result",
          "data": {
            "text/plain": [
              "True"
            ]
          },
          "metadata": {
            "tags": []
          },
          "execution_count": 93
        }
      ]
    },
    {
      "cell_type": "code",
      "metadata": {
        "colab": {
          "base_uri": "https://localhost:8080/"
        },
        "id": "XzhaccTC8g_o",
        "outputId": "1b266c97-a341-4a98-8331-23998dbdefdf"
      },
      "source": [
        "set(test_PAD.index) == set(test.index)"
      ],
      "execution_count": 97,
      "outputs": [
        {
          "output_type": "execute_result",
          "data": {
            "text/plain": [
              "True"
            ]
          },
          "metadata": {
            "tags": []
          },
          "execution_count": 97
        }
      ]
    },
    {
      "cell_type": "code",
      "metadata": {
        "id": "gPoWv7bf8mpk"
      },
      "source": [
        "train.to_csv('NER_PAD_train.csv', index=False)\n",
        "test.to_csv('NER_PAD_test.csv', index=False)"
      ],
      "execution_count": 98,
      "outputs": []
    },
    {
      "cell_type": "code",
      "metadata": {
        "id": "en8S24FV8tlz"
      },
      "source": [
        ""
      ],
      "execution_count": null,
      "outputs": []
    }
  ]
}