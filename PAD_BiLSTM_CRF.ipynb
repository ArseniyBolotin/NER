{
  "nbformat": 4,
  "nbformat_minor": 0,
  "metadata": {
    "accelerator": "GPU",
    "colab": {
      "name": "PAD_BiLSTM_CRF.ipynb",
      "provenance": [],
      "collapsed_sections": [],
      "toc_visible": true
    },
    "kernelspec": {
      "display_name": "Python 3",
      "language": "python",
      "name": "python3"
    },
    "language_info": {
      "codemirror_mode": {
        "name": "ipython",
        "version": 3
      },
      "file_extension": ".py",
      "mimetype": "text/x-python",
      "name": "python",
      "nbconvert_exporter": "python",
      "pygments_lexer": "ipython3",
      "version": "3.7.7"
    }
  },
  "cells": [
    {
      "cell_type": "markdown",
      "metadata": {
        "id": "nWEBhhbD_qSX"
      },
      "source": [
        "## Data"
      ]
    },
    {
      "cell_type": "code",
      "metadata": {
        "colab": {
          "base_uri": "https://localhost:8080/"
        },
        "id": "s7aSUMN1AcXD",
        "outputId": "6a26a38d-9955-4b9e-96bd-ad5c41a2505a"
      },
      "source": [
        "!pip install keras-crf\n",
        "!pip install tensorflow==1.15.0 keras==2.2.4\n",
        "!pip install sklearn_crfsuite\n",
        "!pip install git+https://www.github.com/keras-team/keras-contrib.git"
      ],
      "execution_count": 1,
      "outputs": [
        {
          "output_type": "stream",
          "text": [
            "Requirement already satisfied: keras-crf in /usr/local/lib/python3.7/dist-packages (0.2.0)\n",
            "Requirement already satisfied: seqeval in /usr/local/lib/python3.7/dist-packages (from keras-crf) (1.2.2)\n",
            "Requirement already satisfied: tensorflow in /usr/local/lib/python3.7/dist-packages (from keras-crf) (1.15.0)\n",
            "Requirement already satisfied: tensorflow-addons in /usr/local/lib/python3.7/dist-packages (from keras-crf) (0.13.0)\n",
            "Requirement already satisfied: numpy>=1.14.0 in /usr/local/lib/python3.7/dist-packages (from seqeval->keras-crf) (1.19.5)\n",
            "Requirement already satisfied: scikit-learn>=0.21.3 in /usr/local/lib/python3.7/dist-packages (from seqeval->keras-crf) (0.22.2.post1)\n",
            "Requirement already satisfied: google-pasta>=0.1.6 in /usr/local/lib/python3.7/dist-packages (from tensorflow->keras-crf) (0.2.0)\n",
            "Requirement already satisfied: six>=1.10.0 in /usr/local/lib/python3.7/dist-packages (from tensorflow->keras-crf) (1.15.0)\n",
            "Requirement already satisfied: wheel>=0.26 in /usr/local/lib/python3.7/dist-packages (from tensorflow->keras-crf) (0.36.2)\n",
            "Requirement already satisfied: absl-py>=0.7.0 in /usr/local/lib/python3.7/dist-packages (from tensorflow->keras-crf) (0.12.0)\n",
            "Requirement already satisfied: tensorboard<1.16.0,>=1.15.0 in /usr/local/lib/python3.7/dist-packages (from tensorflow->keras-crf) (1.15.0)\n",
            "Requirement already satisfied: protobuf>=3.6.1 in /usr/local/lib/python3.7/dist-packages (from tensorflow->keras-crf) (3.12.4)\n",
            "Requirement already satisfied: grpcio>=1.8.6 in /usr/local/lib/python3.7/dist-packages (from tensorflow->keras-crf) (1.32.0)\n",
            "Requirement already satisfied: wrapt>=1.11.1 in /usr/local/lib/python3.7/dist-packages (from tensorflow->keras-crf) (1.12.1)\n",
            "Requirement already satisfied: opt-einsum>=2.3.2 in /usr/local/lib/python3.7/dist-packages (from tensorflow->keras-crf) (3.3.0)\n",
            "Requirement already satisfied: keras-preprocessing>=1.0.5 in /usr/local/lib/python3.7/dist-packages (from tensorflow->keras-crf) (1.1.2)\n",
            "Requirement already satisfied: termcolor>=1.1.0 in /usr/local/lib/python3.7/dist-packages (from tensorflow->keras-crf) (1.1.0)\n",
            "Requirement already satisfied: keras-applications>=1.0.8 in /usr/local/lib/python3.7/dist-packages (from tensorflow->keras-crf) (1.0.8)\n",
            "Requirement already satisfied: astor>=0.6.0 in /usr/local/lib/python3.7/dist-packages (from tensorflow->keras-crf) (0.8.1)\n",
            "Requirement already satisfied: tensorflow-estimator==1.15.1 in /usr/local/lib/python3.7/dist-packages (from tensorflow->keras-crf) (1.15.1)\n",
            "Requirement already satisfied: gast==0.2.2 in /usr/local/lib/python3.7/dist-packages (from tensorflow->keras-crf) (0.2.2)\n",
            "Requirement already satisfied: typeguard>=2.7 in /usr/local/lib/python3.7/dist-packages (from tensorflow-addons->keras-crf) (2.7.1)\n",
            "Requirement already satisfied: scipy>=0.17.0 in /usr/local/lib/python3.7/dist-packages (from scikit-learn>=0.21.3->seqeval->keras-crf) (1.4.1)\n",
            "Requirement already satisfied: joblib>=0.11 in /usr/local/lib/python3.7/dist-packages (from scikit-learn>=0.21.3->seqeval->keras-crf) (1.0.1)\n",
            "Requirement already satisfied: werkzeug>=0.11.15 in /usr/local/lib/python3.7/dist-packages (from tensorboard<1.16.0,>=1.15.0->tensorflow->keras-crf) (2.0.0)\n",
            "Requirement already satisfied: setuptools>=41.0.0 in /usr/local/lib/python3.7/dist-packages (from tensorboard<1.16.0,>=1.15.0->tensorflow->keras-crf) (56.1.0)\n",
            "Requirement already satisfied: markdown>=2.6.8 in /usr/local/lib/python3.7/dist-packages (from tensorboard<1.16.0,>=1.15.0->tensorflow->keras-crf) (3.3.4)\n",
            "Requirement already satisfied: h5py in /usr/local/lib/python3.7/dist-packages (from keras-applications>=1.0.8->tensorflow->keras-crf) (2.10.0)\n",
            "Requirement already satisfied: importlib-metadata; python_version < \"3.8\" in /usr/local/lib/python3.7/dist-packages (from markdown>=2.6.8->tensorboard<1.16.0,>=1.15.0->tensorflow->keras-crf) (4.0.1)\n",
            "Requirement already satisfied: typing-extensions>=3.6.4; python_version < \"3.8\" in /usr/local/lib/python3.7/dist-packages (from importlib-metadata; python_version < \"3.8\"->markdown>=2.6.8->tensorboard<1.16.0,>=1.15.0->tensorflow->keras-crf) (3.7.4.3)\n",
            "Requirement already satisfied: zipp>=0.5 in /usr/local/lib/python3.7/dist-packages (from importlib-metadata; python_version < \"3.8\"->markdown>=2.6.8->tensorboard<1.16.0,>=1.15.0->tensorflow->keras-crf) (3.4.1)\n",
            "Requirement already satisfied: tensorflow==1.15.0 in /usr/local/lib/python3.7/dist-packages (1.15.0)\n",
            "Requirement already satisfied: keras==2.2.4 in /usr/local/lib/python3.7/dist-packages (2.2.4)\n",
            "Requirement already satisfied: tensorboard<1.16.0,>=1.15.0 in /usr/local/lib/python3.7/dist-packages (from tensorflow==1.15.0) (1.15.0)\n",
            "Requirement already satisfied: termcolor>=1.1.0 in /usr/local/lib/python3.7/dist-packages (from tensorflow==1.15.0) (1.1.0)\n",
            "Requirement already satisfied: keras-applications>=1.0.8 in /usr/local/lib/python3.7/dist-packages (from tensorflow==1.15.0) (1.0.8)\n",
            "Requirement already satisfied: grpcio>=1.8.6 in /usr/local/lib/python3.7/dist-packages (from tensorflow==1.15.0) (1.32.0)\n",
            "Requirement already satisfied: wheel>=0.26 in /usr/local/lib/python3.7/dist-packages (from tensorflow==1.15.0) (0.36.2)\n",
            "Requirement already satisfied: wrapt>=1.11.1 in /usr/local/lib/python3.7/dist-packages (from tensorflow==1.15.0) (1.12.1)\n",
            "Requirement already satisfied: astor>=0.6.0 in /usr/local/lib/python3.7/dist-packages (from tensorflow==1.15.0) (0.8.1)\n",
            "Requirement already satisfied: numpy<2.0,>=1.16.0 in /usr/local/lib/python3.7/dist-packages (from tensorflow==1.15.0) (1.19.5)\n",
            "Requirement already satisfied: protobuf>=3.6.1 in /usr/local/lib/python3.7/dist-packages (from tensorflow==1.15.0) (3.12.4)\n",
            "Requirement already satisfied: six>=1.10.0 in /usr/local/lib/python3.7/dist-packages (from tensorflow==1.15.0) (1.15.0)\n",
            "Requirement already satisfied: google-pasta>=0.1.6 in /usr/local/lib/python3.7/dist-packages (from tensorflow==1.15.0) (0.2.0)\n",
            "Requirement already satisfied: tensorflow-estimator==1.15.1 in /usr/local/lib/python3.7/dist-packages (from tensorflow==1.15.0) (1.15.1)\n",
            "Requirement already satisfied: gast==0.2.2 in /usr/local/lib/python3.7/dist-packages (from tensorflow==1.15.0) (0.2.2)\n",
            "Requirement already satisfied: keras-preprocessing>=1.0.5 in /usr/local/lib/python3.7/dist-packages (from tensorflow==1.15.0) (1.1.2)\n",
            "Requirement already satisfied: absl-py>=0.7.0 in /usr/local/lib/python3.7/dist-packages (from tensorflow==1.15.0) (0.12.0)\n",
            "Requirement already satisfied: opt-einsum>=2.3.2 in /usr/local/lib/python3.7/dist-packages (from tensorflow==1.15.0) (3.3.0)\n",
            "Requirement already satisfied: h5py in /usr/local/lib/python3.7/dist-packages (from keras==2.2.4) (2.10.0)\n",
            "Requirement already satisfied: scipy>=0.14 in /usr/local/lib/python3.7/dist-packages (from keras==2.2.4) (1.4.1)\n",
            "Requirement already satisfied: pyyaml in /usr/local/lib/python3.7/dist-packages (from keras==2.2.4) (3.13)\n",
            "Requirement already satisfied: setuptools>=41.0.0 in /usr/local/lib/python3.7/dist-packages (from tensorboard<1.16.0,>=1.15.0->tensorflow==1.15.0) (56.1.0)\n",
            "Requirement already satisfied: markdown>=2.6.8 in /usr/local/lib/python3.7/dist-packages (from tensorboard<1.16.0,>=1.15.0->tensorflow==1.15.0) (3.3.4)\n",
            "Requirement already satisfied: werkzeug>=0.11.15 in /usr/local/lib/python3.7/dist-packages (from tensorboard<1.16.0,>=1.15.0->tensorflow==1.15.0) (2.0.0)\n",
            "Requirement already satisfied: importlib-metadata; python_version < \"3.8\" in /usr/local/lib/python3.7/dist-packages (from markdown>=2.6.8->tensorboard<1.16.0,>=1.15.0->tensorflow==1.15.0) (4.0.1)\n",
            "Requirement already satisfied: typing-extensions>=3.6.4; python_version < \"3.8\" in /usr/local/lib/python3.7/dist-packages (from importlib-metadata; python_version < \"3.8\"->markdown>=2.6.8->tensorboard<1.16.0,>=1.15.0->tensorflow==1.15.0) (3.7.4.3)\n",
            "Requirement already satisfied: zipp>=0.5 in /usr/local/lib/python3.7/dist-packages (from importlib-metadata; python_version < \"3.8\"->markdown>=2.6.8->tensorboard<1.16.0,>=1.15.0->tensorflow==1.15.0) (3.4.1)\n",
            "Requirement already satisfied: sklearn_crfsuite in /usr/local/lib/python3.7/dist-packages (0.3.6)\n",
            "Requirement already satisfied: tabulate in /usr/local/lib/python3.7/dist-packages (from sklearn_crfsuite) (0.8.9)\n",
            "Requirement already satisfied: python-crfsuite>=0.8.3 in /usr/local/lib/python3.7/dist-packages (from sklearn_crfsuite) (0.9.7)\n",
            "Requirement already satisfied: tqdm>=2.0 in /usr/local/lib/python3.7/dist-packages (from sklearn_crfsuite) (4.41.1)\n",
            "Requirement already satisfied: six in /usr/local/lib/python3.7/dist-packages (from sklearn_crfsuite) (1.15.0)\n",
            "Collecting git+https://www.github.com/keras-team/keras-contrib.git\n",
            "  Cloning https://www.github.com/keras-team/keras-contrib.git to /tmp/pip-req-build-79sdwgcl\n",
            "  Running command git clone -q https://www.github.com/keras-team/keras-contrib.git /tmp/pip-req-build-79sdwgcl\n",
            "Requirement already satisfied (use --upgrade to upgrade): keras-contrib==2.0.8 from git+https://www.github.com/keras-team/keras-contrib.git in /usr/local/lib/python3.7/dist-packages\n",
            "Requirement already satisfied: keras in /usr/local/lib/python3.7/dist-packages (from keras-contrib==2.0.8) (2.2.4)\n",
            "Requirement already satisfied: scipy>=0.14 in /usr/local/lib/python3.7/dist-packages (from keras->keras-contrib==2.0.8) (1.4.1)\n",
            "Requirement already satisfied: six>=1.9.0 in /usr/local/lib/python3.7/dist-packages (from keras->keras-contrib==2.0.8) (1.15.0)\n",
            "Requirement already satisfied: h5py in /usr/local/lib/python3.7/dist-packages (from keras->keras-contrib==2.0.8) (2.10.0)\n",
            "Requirement already satisfied: pyyaml in /usr/local/lib/python3.7/dist-packages (from keras->keras-contrib==2.0.8) (3.13)\n",
            "Requirement already satisfied: keras-preprocessing>=1.0.5 in /usr/local/lib/python3.7/dist-packages (from keras->keras-contrib==2.0.8) (1.1.2)\n",
            "Requirement already satisfied: keras-applications>=1.0.6 in /usr/local/lib/python3.7/dist-packages (from keras->keras-contrib==2.0.8) (1.0.8)\n",
            "Requirement already satisfied: numpy>=1.9.1 in /usr/local/lib/python3.7/dist-packages (from keras->keras-contrib==2.0.8) (1.19.5)\n",
            "Building wheels for collected packages: keras-contrib\n",
            "  Building wheel for keras-contrib (setup.py) ... \u001b[?25l\u001b[?25hdone\n",
            "  Created wheel for keras-contrib: filename=keras_contrib-2.0.8-cp37-none-any.whl size=101065 sha256=28ff89d55f8d9ce70a233c2595c8c9a405746f1bd2423dc22af75231a8a544f1\n",
            "  Stored in directory: /tmp/pip-ephem-wheel-cache-x0gh4fle/wheels/11/27/c8/4ed56de7b55f4f61244e2dc6ef3cdbaff2692527a2ce6502ba\n",
            "Successfully built keras-contrib\n"
          ],
          "name": "stdout"
        }
      ]
    },
    {
      "cell_type": "code",
      "metadata": {
        "colab": {
          "base_uri": "https://localhost:8080/"
        },
        "id": "TCbzGoESAitd",
        "outputId": "bc3abbb3-d5ff-48ed-ed2a-24446ecf39d4"
      },
      "source": [
        "import numpy as np\n",
        "import pandas as pd\n",
        "import tensorflow as tf\n",
        "from keras.models import *\n",
        "from keras.optimizers import Adam\n",
        "from sklearn_crfsuite import metrics\n",
        "from keras_contrib.layers import CRF\n",
        "from keras.utils import to_categorical\n",
        "from keras_contrib.losses import crf_loss\n",
        "from keras.preprocessing.sequence import pad_sequences\n",
        "from keras.callbacks import EarlyStopping, ModelCheckpoint\n",
        "from keras_contrib.metrics import crf_viterbi_accuracy, crf_marginal_accuracy\n",
        "from keras.layers import LSTM, Embedding, Dense, TimeDistributed, Dropout, Bidirectional, Input"
      ],
      "execution_count": 2,
      "outputs": [
        {
          "output_type": "stream",
          "text": [
            "Using TensorFlow backend.\n"
          ],
          "name": "stderr"
        }
      ]
    },
    {
      "cell_type": "code",
      "metadata": {
        "colab": {
          "base_uri": "https://localhost:8080/"
        },
        "id": "Eb555VbHAcvd",
        "outputId": "b3c6e3b8-cd2d-4ba7-c604-e695efe2b337"
      },
      "source": [
        "!gdown --id 1cCXjHX9FAgouF0DWuWPO5qyBHVZDkXTQ\n",
        "!gdown --id 1RFNBRcly96omdpNtYlEK6O1EuQs3ux7t\n",
        "!gdown --id 1AnLqXtSyJNBK7YmwuW6L6z2OYhE4RPTV"
      ],
      "execution_count": 3,
      "outputs": [
        {
          "output_type": "stream",
          "text": [
            "Downloading...\n",
            "From: https://drive.google.com/uc?id=1cCXjHX9FAgouF0DWuWPO5qyBHVZDkXTQ\n",
            "To: /content/NER_PAD_agg_test.csv\n",
            "2.92MB [00:00, 94.9MB/s]\n",
            "Downloading...\n",
            "From: https://drive.google.com/uc?id=1RFNBRcly96omdpNtYlEK6O1EuQs3ux7t\n",
            "To: /content/NER_PAD_agg_train.csv\n",
            "11.7MB [00:00, 44.1MB/s]\n",
            "Downloading...\n",
            "From: https://drive.google.com/uc?id=1AnLqXtSyJNBK7YmwuW6L6z2OYhE4RPTV\n",
            "To: /content/NER_PAD_agg.csv\n",
            "14.6MB [00:00, 55.2MB/s]\n"
          ],
          "name": "stdout"
        }
      ]
    },
    {
      "cell_type": "code",
      "metadata": {
        "id": "4qUe_hf4aP84"
      },
      "source": [
        "df = pd.read_csv('NER_PAD_agg.csv', converters={'tokens': eval, 'ner_tags': eval})\n",
        "train = pd.read_csv('NER_PAD_agg_train.csv', converters={'tokens': eval, 'ner_tags': eval})\n",
        "test = pd.read_csv('NER_PAD_agg_test.csv', converters={'tokens': eval, 'ner_tags': eval})\n",
        "\n",
        "all_dfs = [df, train, test]"
      ],
      "execution_count": 4,
      "outputs": []
    },
    {
      "cell_type": "code",
      "metadata": {
        "id": "KXz_dGApGKoB"
      },
      "source": [
        "all_tags = set()\n",
        "word_to_ix = {}\n",
        "for _, row in df.iterrows():\n",
        "    for tag in row.ner_tags:\n",
        "        all_tags.add(tag)\n",
        "    for word in row.tokens:\n",
        "        if word not in word_to_ix:\n",
        "            word_to_ix[word] = len(word_to_ix)\n",
        "all_tags = sorted(list(all_tags))\n",
        "tag_to_idx = {t: i for i, t in enumerate(all_tags)}\n",
        "label_list = {i: t for i, t in enumerate(all_tags)}\n",
        "labels = list(tag_to_idx.keys())\n",
        "labels.remove('O')\n",
        "labels = sorted(labels, key=lambda name: (name[1:], name[0]))"
      ],
      "execution_count": 5,
      "outputs": []
    },
    {
      "cell_type": "code",
      "metadata": {
        "id": "75wxpfE8Hx0u"
      },
      "source": [
        "def find_token(x):\n",
        "    res = []\n",
        "    for w in x['tokens']:\n",
        "        if w in word_to_ix.keys():\n",
        "            res.append(word_to_ix[w])\n",
        "        else:\n",
        "            res.append(0)\n",
        "    return res\n",
        "\n",
        "for d in all_dfs:\n",
        "    d['encoded_ner_tags'] = d.apply(lambda x: [tag_to_idx[t] for t in x['ner_tags']], axis=1)\n",
        "    d['int_tokens'] = d.apply(find_token, axis=1)"
      ],
      "execution_count": 6,
      "outputs": []
    },
    {
      "cell_type": "code",
      "metadata": {
        "colab": {
          "base_uri": "https://localhost:8080/",
          "height": 589
        },
        "id": "YJ-tjDcUa8qN",
        "outputId": "d3e70959-cd45-4c17-ed4e-9252fcaa0a79"
      },
      "source": [
        "df"
      ],
      "execution_count": 7,
      "outputs": [
        {
          "output_type": "execute_result",
          "data": {
            "text/html": [
              "<div>\n",
              "<style scoped>\n",
              "    .dataframe tbody tr th:only-of-type {\n",
              "        vertical-align: middle;\n",
              "    }\n",
              "\n",
              "    .dataframe tbody tr th {\n",
              "        vertical-align: top;\n",
              "    }\n",
              "\n",
              "    .dataframe thead th {\n",
              "        text-align: right;\n",
              "    }\n",
              "</style>\n",
              "<table border=\"1\" class=\"dataframe\">\n",
              "  <thead>\n",
              "    <tr style=\"text-align: right;\">\n",
              "      <th></th>\n",
              "      <th>id</th>\n",
              "      <th>tokens</th>\n",
              "      <th>ner_tags</th>\n",
              "      <th>encoded_ner_tags</th>\n",
              "      <th>int_tokens</th>\n",
              "    </tr>\n",
              "  </thead>\n",
              "  <tbody>\n",
              "    <tr>\n",
              "      <th>0</th>\n",
              "      <td>SV990125172_ОРГ__INM_18'09'58_1.pdf</td>\n",
              "      <td>[l, *, универсальный, приложение, №, 1, постан...</td>\n",
              "      <td>[O, O, O, O, O, O, O, O, O, O, O, O, O, O, B-D...</td>\n",
              "      <td>[15, 15, 15, 15, 15, 15, 15, 15, 15, 15, 15, 1...</td>\n",
              "      <td>[0, 1, 2, 3, 4, 5, 6, 7, 8, 9, 10, 11, 4, 12, ...</td>\n",
              "    </tr>\n",
              "    <tr>\n",
              "      <th>1</th>\n",
              "      <td>SS528581_ОРГ__INM_17'05'39_A.pdf</td>\n",
              "      <td>[l, лист, согласования, стр., 1, 1, 2, 9, *, 0...</td>\n",
              "      <td>[O, O, O, O, O, O, O, O, O, O, O, O, O, O, O, ...</td>\n",
              "      <td>[15, 15, 15, 15, 15, 15, 15, 15, 15, 15, 15, 1...</td>\n",
              "      <td>[0, 242, 243, 244, 5, 5, 94, 102, 1, 180, 97, ...</td>\n",
              "    </tr>\n",
              "    <tr>\n",
              "      <th>2</th>\n",
              "      <td>SF435712_ОРГ__INM_15'25'41_A.pdf</td>\n",
              "      <td>[l, приложение, №, постановлению, правительств...</td>\n",
              "      <td>[O, O, O, O, O, O, O, O, O, B-DOCNUM, B-DOCDAT...</td>\n",
              "      <td>[15, 15, 15, 15, 15, 15, 15, 15, 15, 7, 6, 13,...</td>\n",
              "      <td>[0, 3, 4, 6, 7, 294, 295, 11, 4, 296, 13, 297,...</td>\n",
              "    </tr>\n",
              "    <tr>\n",
              "      <th>3</th>\n",
              "      <td>SV990124943_ОРГ__INM_19'00'43_A.pdf</td>\n",
              "      <td>[l, акционерное, общество, регистраторское, об...</td>\n",
              "      <td>[O, O, O, O, O, B-DOCCPTY, O, O, O, O, O, O, O...</td>\n",
              "      <td>[15, 15, 15, 15, 15, 3, 15, 15, 15, 15, 15, 15...</td>\n",
              "      <td>[0, 364, 365, 366, 365, 367, 368, 53, 35, 369,...</td>\n",
              "    </tr>\n",
              "    <tr>\n",
              "      <th>4</th>\n",
              "      <td>S29013419_ОРИГИНАЛ__IND_1_22.05.12'21'36.pdf</td>\n",
              "      <td>[l, *, 000стандарт, безопасности, адрес:, 1973...</td>\n",
              "      <td>[O, O, O, B-DOCCPTY, O, O, O, O, O, O, O, O, O...</td>\n",
              "      <td>[15, 15, 15, 3, 15, 15, 15, 15, 15, 15, 15, 15...</td>\n",
              "      <td>[0, 1, 462, 463, 464, 465, 466, 467, 468, 469,...</td>\n",
              "    </tr>\n",
              "    <tr>\n",
              "      <th>...</th>\n",
              "      <td>...</td>\n",
              "      <td>...</td>\n",
              "      <td>...</td>\n",
              "      <td>...</td>\n",
              "      <td>...</td>\n",
              "    </tr>\n",
              "    <tr>\n",
              "      <th>3995</th>\n",
              "      <td>SV990121575_ОРГ__INM_18'45'08_3.pdf</td>\n",
              "      <td>[l, экземпляр, аостс, стс, отчет, роялти, 2, к...</td>\n",
              "      <td>[O, O, O, O, O, O, O, O, O, O, O, B-DOCAGRNUM,...</td>\n",
              "      <td>[15, 15, 15, 15, 15, 15, 15, 15, 15, 15, 15, 1...</td>\n",
              "      <td>[0, 2091, 32885, 975, 3682, 19158, 94, 398, 26...</td>\n",
              "    </tr>\n",
              "    <tr>\n",
              "      <th>3996</th>\n",
              "      <td>SV990121572_ОРГ__INM_18'45'08_3.pdf</td>\n",
              "      <td>[l, ао, стс, отчет, роялти, 3, квартал, лиценз...</td>\n",
              "      <td>[O, O, O, O, O, O, O, O, O, O, O, O, O, O, O, ...</td>\n",
              "      <td>[15, 15, 15, 15, 15, 15, 15, 15, 15, 15, 15, 1...</td>\n",
              "      <td>[0, 476, 975, 3682, 19158, 96, 398, 26324, 481...</td>\n",
              "    </tr>\n",
              "    <tr>\n",
              "      <th>3997</th>\n",
              "      <td>SV990121520_ОРГ__INM_16'31'06_3.pdf</td>\n",
              "      <td>[l, экземпляр, ао, стс, ао, стс, отчет, роялти...</td>\n",
              "      <td>[O, O, O, O, O, O, O, O, O, O, O, O, O, O, B-D...</td>\n",
              "      <td>[15, 15, 15, 15, 15, 15, 15, 15, 15, 15, 15, 1...</td>\n",
              "      <td>[0, 2091, 476, 975, 476, 975, 3682, 19158, 96,...</td>\n",
              "    </tr>\n",
              "    <tr>\n",
              "      <th>3998</th>\n",
              "      <td>SV990121573_ОРГ__INM_18'45'08_3.pdf</td>\n",
              "      <td>[l, экземпляр, аостс, стс, отчет, п, роялти, 4...</td>\n",
              "      <td>[O, O, O, O, O, O, O, O, O, O, O, O, O, O, O, ...</td>\n",
              "      <td>[15, 15, 15, 15, 15, 15, 15, 15, 15, 15, 15, 1...</td>\n",
              "      <td>[0, 2091, 32885, 975, 3682, 163, 19158, 97, 66...</td>\n",
              "    </tr>\n",
              "    <tr>\n",
              "      <th>3999</th>\n",
              "      <td>SV990121764_ОРГ__INM_17'56'07_3.pdf</td>\n",
              "      <td>[l, экземпляр, аостс, ао, стс, отчет, роялти, ...</td>\n",
              "      <td>[O, O, O, O, O, O, O, O, O, O, O, O, O, O, O, ...</td>\n",
              "      <td>[15, 15, 15, 15, 15, 15, 15, 15, 15, 15, 15, 1...</td>\n",
              "      <td>[0, 2091, 32885, 476, 975, 3682, 19158, 97, 39...</td>\n",
              "    </tr>\n",
              "  </tbody>\n",
              "</table>\n",
              "<p>4000 rows × 5 columns</p>\n",
              "</div>"
            ],
            "text/plain": [
              "                                                id  ...                                         int_tokens\n",
              "0              SV990125172_ОРГ__INM_18'09'58_1.pdf  ...  [0, 1, 2, 3, 4, 5, 6, 7, 8, 9, 10, 11, 4, 12, ...\n",
              "1                 SS528581_ОРГ__INM_17'05'39_A.pdf  ...  [0, 242, 243, 244, 5, 5, 94, 102, 1, 180, 97, ...\n",
              "2                 SF435712_ОРГ__INM_15'25'41_A.pdf  ...  [0, 3, 4, 6, 7, 294, 295, 11, 4, 296, 13, 297,...\n",
              "3              SV990124943_ОРГ__INM_19'00'43_A.pdf  ...  [0, 364, 365, 366, 365, 367, 368, 53, 35, 369,...\n",
              "4     S29013419_ОРИГИНАЛ__IND_1_22.05.12'21'36.pdf  ...  [0, 1, 462, 463, 464, 465, 466, 467, 468, 469,...\n",
              "...                                            ...  ...                                                ...\n",
              "3995           SV990121575_ОРГ__INM_18'45'08_3.pdf  ...  [0, 2091, 32885, 975, 3682, 19158, 94, 398, 26...\n",
              "3996           SV990121572_ОРГ__INM_18'45'08_3.pdf  ...  [0, 476, 975, 3682, 19158, 96, 398, 26324, 481...\n",
              "3997           SV990121520_ОРГ__INM_16'31'06_3.pdf  ...  [0, 2091, 476, 975, 476, 975, 3682, 19158, 96,...\n",
              "3998           SV990121573_ОРГ__INM_18'45'08_3.pdf  ...  [0, 2091, 32885, 975, 3682, 163, 19158, 97, 66...\n",
              "3999           SV990121764_ОРГ__INM_17'56'07_3.pdf  ...  [0, 2091, 32885, 476, 975, 3682, 19158, 97, 39...\n",
              "\n",
              "[4000 rows x 5 columns]"
            ]
          },
          "metadata": {
            "tags": []
          },
          "execution_count": 7
        }
      ]
    },
    {
      "cell_type": "code",
      "metadata": {
        "id": "h7on26KgNkWZ"
      },
      "source": [
        "def focal_loss(gamma=2., alpha=1.):\n",
        "\n",
        "    gamma = float(gamma)\n",
        "    alpha = float(alpha)\n",
        "\n",
        "    def focal_loss_fixed(y_true, y_pred):\n",
        "        \"\"\"Focal loss for multi-classification\n",
        "        FL(p_t)=-alpha(1-p_t)^{gamma}ln(p_t)\n",
        "        Notice: y_pred is probability after softmax\n",
        "        gradient is d(Fl)/d(p_t) not d(Fl)/d(x) as described in paper\n",
        "        d(Fl)/d(p_t) * [p_t(1-p_t)] = d(Fl)/d(x)\n",
        "        Focal Loss for Dense Object Detection\n",
        "        https://arxiv.org/abs/1708.02002\n",
        "\n",
        "        Arguments:\n",
        "            y_true {tensor} -- ground truth labels, shape of [batch_size, num_cls]\n",
        "            y_pred {tensor} -- model's output, shape of [batch_size, num_cls]\n",
        "\n",
        "        Keyword Arguments:\n",
        "            gamma {float} -- (default: {2.0})\n",
        "            alpha {float} -- (default: {4.0})\n",
        "\n",
        "        Returns:\n",
        "            [tensor] -- loss.\n",
        "        \"\"\"\n",
        "        epsilon = 1.e-9\n",
        "        y_true = tf.convert_to_tensor(y_true, tf.float32)\n",
        "        y_pred = tf.convert_to_tensor(y_pred, tf.float32)\n",
        "\n",
        "        model_out = tf.add(y_pred, epsilon)\n",
        "        ce = tf.multiply(y_true, -tf.log(model_out))\n",
        "        weight = tf.multiply(y_true, tf.pow(tf.subtract(1., model_out), gamma))\n",
        "        fl = tf.multiply(alpha, tf.multiply(weight, ce))\n",
        "        reduced_fl = tf.reduce_max(fl, axis=1)\n",
        "        return tf.reduce_mean(reduced_fl)\n",
        "    return focal_loss_fixed"
      ],
      "execution_count": 8,
      "outputs": []
    },
    {
      "cell_type": "markdown",
      "metadata": {
        "id": "jI1NKthi8GPO"
      },
      "source": [
        "##LSTM"
      ]
    },
    {
      "cell_type": "code",
      "metadata": {
        "colab": {
          "base_uri": "https://localhost:8080/"
        },
        "id": "BYIXPgrO8F7l",
        "outputId": "84921990-e476-46b2-dba5-b420b4d34d8d"
      },
      "source": [
        "MAX_WORDS = len(word_to_ix)\n",
        "EMBEDDING_LENGTH = 1024\n",
        "MAX_SEQUENCE_LENGTH = np.max(df['int_tokens'].apply(len))\n",
        "HIDDEN_SIZE = 100\n",
        "\n",
        "model = Sequential()\n",
        "model.add(Embedding(MAX_WORDS, EMBEDDING_LENGTH, input_length=MAX_SEQUENCE_LENGTH))\n",
        "model.add(LSTM(HIDDEN_SIZE, return_sequences=True))\n",
        "# model.add(Dense(50))\n",
        "model.add(TimeDistributed(Dense(len(label_list), activation=\"softmax\")))\n",
        "\n",
        "\n",
        "model.compile(Adam(lr=0.005), loss=focal_loss(), metrics=['accuracy'])\n",
        "model.summary()"
      ],
      "execution_count": 32,
      "outputs": [
        {
          "output_type": "stream",
          "text": [
            "_________________________________________________________________\n",
            "Layer (type)                 Output Shape              Param #   \n",
            "=================================================================\n",
            "embedding_12 (Embedding)     (None, 943, 1024)         68114432  \n",
            "_________________________________________________________________\n",
            "lstm_12 (LSTM)               (None, 943, 100)          450000    \n",
            "_________________________________________________________________\n",
            "time_distributed_13 (TimeDis (None, 943, 16)           1616      \n",
            "=================================================================\n",
            "Total params: 68,566,048\n",
            "Trainable params: 68,566,048\n",
            "Non-trainable params: 0\n",
            "_________________________________________________________________\n"
          ],
          "name": "stdout"
        }
      ]
    },
    {
      "cell_type": "code",
      "metadata": {
        "colab": {
          "base_uri": "https://localhost:8080/"
        },
        "id": "kKCCbAtD8Ktq",
        "outputId": "efbf5624-ff75-4a13-fc0d-5974d2a5e969"
      },
      "source": [
        "callbacks = [EarlyStopping(monitor='val_acc', patience=3),\n",
        "         ModelCheckpoint(filepath='best_model.h5', monitor='val_acc', save_best_only=True)]\n",
        "\n",
        "x_train = pad_sequences(train['int_tokens'], padding='post', maxlen=MAX_SEQUENCE_LENGTH)\n",
        "y_train = pad_sequences(train['encoded_ner_tags'], padding='post', maxlen=MAX_SEQUENCE_LENGTH, value=tag_to_idx['O'])\n",
        "y_train = to_categorical(y_train, num_classes=len(label_list))\n",
        "history = model.fit(\n",
        "    x=x_train,\n",
        "    y=y_train,\n",
        "    epochs=30,\n",
        "    batch_size=200,\n",
        "    callbacks=callbacks,\n",
        "    validation_split=0.1,\n",
        ")\n",
        "\n",
        "model.load_weights('best_model.h5')"
      ],
      "execution_count": 33,
      "outputs": [
        {
          "output_type": "stream",
          "text": [
            "Train on 2880 samples, validate on 320 samples\n",
            "Epoch 1/30\n",
            "2880/2880 [==============================] - 38s 13ms/step - loss: 0.5439 - acc: 0.1811 - val_loss: 0.2290 - val_acc: 0.9456\n",
            "Epoch 2/30\n",
            "2880/2880 [==============================] - 32s 11ms/step - loss: 0.1544 - acc: 0.9751 - val_loss: 0.1451 - val_acc: 0.9827\n",
            "Epoch 3/30\n",
            "2880/2880 [==============================] - 32s 11ms/step - loss: 0.0782 - acc: 0.9921 - val_loss: 0.1497 - val_acc: 0.9930\n",
            "Epoch 4/30\n",
            "2880/2880 [==============================] - 32s 11ms/step - loss: 0.0521 - acc: 0.9961 - val_loss: 0.1701 - val_acc: 0.9956\n",
            "Epoch 5/30\n",
            "2880/2880 [==============================] - 32s 11ms/step - loss: 0.0389 - acc: 0.9976 - val_loss: 0.1685 - val_acc: 0.9957\n",
            "Epoch 6/30\n",
            "2880/2880 [==============================] - 32s 11ms/step - loss: 0.0308 - acc: 0.9981 - val_loss: 0.1700 - val_acc: 0.9959\n",
            "Epoch 7/30\n",
            "2880/2880 [==============================] - 32s 11ms/step - loss: 0.0256 - acc: 0.9985 - val_loss: 0.1935 - val_acc: 0.9962\n",
            "Epoch 8/30\n",
            "2880/2880 [==============================] - 32s 11ms/step - loss: 0.0217 - acc: 0.9987 - val_loss: 0.1910 - val_acc: 0.9962\n",
            "Epoch 9/30\n",
            "2880/2880 [==============================] - 32s 11ms/step - loss: 0.0193 - acc: 0.9988 - val_loss: 0.2138 - val_acc: 0.9962\n",
            "Epoch 10/30\n",
            "2880/2880 [==============================] - 32s 11ms/step - loss: 0.0166 - acc: 0.9990 - val_loss: 0.2128 - val_acc: 0.9961\n",
            "Epoch 11/30\n",
            "2880/2880 [==============================] - 31s 11ms/step - loss: 0.0142 - acc: 0.9991 - val_loss: 0.2246 - val_acc: 0.9963\n",
            "Epoch 12/30\n",
            "2880/2880 [==============================] - 32s 11ms/step - loss: 0.0125 - acc: 0.9992 - val_loss: 0.2415 - val_acc: 0.9963\n",
            "Epoch 13/30\n",
            "2880/2880 [==============================] - 31s 11ms/step - loss: 0.0113 - acc: 0.9992 - val_loss: 0.2616 - val_acc: 0.9963\n",
            "Epoch 14/30\n",
            "2880/2880 [==============================] - 31s 11ms/step - loss: 0.0102 - acc: 0.9993 - val_loss: 0.2656 - val_acc: 0.9963\n",
            "Epoch 15/30\n",
            "2880/2880 [==============================] - 31s 11ms/step - loss: 0.0090 - acc: 0.9994 - val_loss: 0.2812 - val_acc: 0.9963\n",
            "Epoch 16/30\n",
            "2880/2880 [==============================] - 32s 11ms/step - loss: 0.0082 - acc: 0.9994 - val_loss: 0.2590 - val_acc: 0.9963\n"
          ],
          "name": "stdout"
        }
      ]
    },
    {
      "cell_type": "code",
      "metadata": {
        "colab": {
          "base_uri": "https://localhost:8080/"
        },
        "id": "5Wrxz170-VKK",
        "outputId": "cafa4eff-5661-4cd2-ef23-2c815dfde884"
      },
      "source": [
        "preds = model.predict(pad_sequences(test['int_tokens'], padding='post', maxlen=MAX_SEQUENCE_LENGTH))\n",
        "tag_preds = [np.argmax(pred, axis=1) for pred in preds]\n",
        "truncated_preds = []\n",
        "for i in range(len(tag_preds)):\n",
        "    truncated_preds.append(tag_preds[i][:len(test['encoded_ner_tags'].iloc[i])])\n",
        "named_preds = []\n",
        "for i in truncated_preds:\n",
        "    named_preds.append([])\n",
        "    for j in i:\n",
        "        named_preds[-1].append(label_list[j])\n",
        "print(metrics.flat_classification_report(test['ner_tags'], named_preds, digits=4, labels=labels))"
      ],
      "execution_count": 34,
      "outputs": [
        {
          "output_type": "stream",
          "text": [
            "/usr/local/lib/python3.7/dist-packages/sklearn/metrics/_classification.py:1272: UndefinedMetricWarning: Precision and F-score are ill-defined and being set to 0.0 in labels with no predicted samples. Use `zero_division` parameter to control this behavior.\n",
            "  _warn_prf(average, modifier, msg_start, len(result))\n",
            "/usr/local/lib/python3.7/dist-packages/sklearn/metrics/_classification.py:1272: UndefinedMetricWarning: Recall and F-score are ill-defined and being set to 0.0 in labels with no true samples. Use `zero_division` parameter to control this behavior.\n",
            "  _warn_prf(average, modifier, msg_start, len(result))\n"
          ],
          "name": "stderr"
        },
        {
          "output_type": "stream",
          "text": [
            "               precision    recall  f1-score   support\n",
            "\n",
            " B-DOCAGRDATE     0.8041    0.5200    0.6316       150\n",
            " I-DOCAGRDATE     0.7083    0.5795    0.6375        88\n",
            "  B-DOCAGRNUM     0.7700    0.4302    0.5520       179\n",
            "  I-DOCAGRNUM     1.0000    0.5714    0.7273         7\n",
            "  B-DOCAMOUNT     0.9103    0.4570    0.6085      1243\n",
            "  I-DOCAMOUNT     0.8013    0.3903    0.5249       620\n",
            "    B-DOCCPTY     0.9331    0.7731    0.8456       595\n",
            "    I-DOCCPTY     0.9351    0.7926    0.8580       564\n",
            " B-DOCCPTYINN     0.9845    0.6738    0.8000       282\n",
            "B-DOCCUSTOMER     0.9329    0.9360    0.9344       609\n",
            "I-DOCCUSTOMER     0.9403    0.9199    0.9300       462\n",
            "    B-DOCDATE     0.9027    0.7767    0.8350       645\n",
            "    I-DOCDATE     0.9185    0.8942    0.9062       605\n",
            "     B-DOCNUM     0.7925    0.5223    0.6296       651\n",
            "     I-DOCNUM     0.0000    0.0000    0.0000         0\n",
            "\n",
            "    micro avg     0.8990    0.6707    0.7683      6700\n",
            "    macro avg     0.8222    0.6158    0.6947      6700\n",
            " weighted avg     0.8914    0.6707    0.7529      6700\n",
            "\n"
          ],
          "name": "stdout"
        }
      ]
    },
    {
      "cell_type": "markdown",
      "metadata": {
        "id": "a9sMZjlv-g-z"
      },
      "source": [
        "##LSTM CRF"
      ]
    },
    {
      "cell_type": "code",
      "metadata": {
        "colab": {
          "base_uri": "https://localhost:8080/"
        },
        "id": "My3qNfhl-gQ0",
        "outputId": "bb9d5941-a03c-44fc-becc-8ad29eff8a66"
      },
      "source": [
        "MAX_WORDS = len(word_to_ix)\n",
        "EMBEDDING_LENGTH = 1024\n",
        "MAX_SEQUENCE_LENGTH = np.max(df['int_tokens'].apply(len))\n",
        "HIDDEN_SIZE = 100\n",
        "\n",
        "model = Sequential()\n",
        "model.add(Embedding(MAX_WORDS, EMBEDDING_LENGTH, input_length=MAX_SEQUENCE_LENGTH))\n",
        "model.add(LSTM(HIDDEN_SIZE, return_sequences=True))\n",
        "# model.add(Dense(50))\n",
        "model.add(TimeDistributed(Dense(len(label_list), activation=\"relu\")))\n",
        "crf = CRF(len(label_list), learn_mode='marginal')\n",
        "model.add(crf)\n",
        "\n",
        "model.compile(Adam(lr=0.005), loss=focal_loss(), metrics=[crf_marginal_accuracy])\n",
        "model.summary()"
      ],
      "execution_count": 12,
      "outputs": [
        {
          "output_type": "stream",
          "text": [
            "_________________________________________________________________\n",
            "Layer (type)                 Output Shape              Param #   \n",
            "=================================================================\n",
            "embedding_2 (Embedding)      (None, 943, 1024)         68114432  \n",
            "_________________________________________________________________\n",
            "lstm_2 (LSTM)                (None, 943, 100)          450000    \n",
            "_________________________________________________________________\n",
            "time_distributed_2 (TimeDist (None, 943, 16)           1616      \n",
            "_________________________________________________________________\n",
            "crf_2 (CRF)                  (None, 943, 16)           560       \n",
            "=================================================================\n",
            "Total params: 68,566,608\n",
            "Trainable params: 68,566,608\n",
            "Non-trainable params: 0\n",
            "_________________________________________________________________\n"
          ],
          "name": "stdout"
        }
      ]
    },
    {
      "cell_type": "code",
      "metadata": {
        "colab": {
          "base_uri": "https://localhost:8080/"
        },
        "id": "wQevGrHN-sA1",
        "outputId": "6dfbe862-b6d7-4d95-e0ba-524cc23de84f"
      },
      "source": [
        "callbacks = [EarlyStopping(monitor='val_crf_marginal_accuracy', patience=3),\n",
        "         ModelCheckpoint(filepath='best_model.h5', monitor='val_crf_marginal_accuracy', save_best_only=True)]\n",
        "\n",
        "x_train = pad_sequences(train['int_tokens'], padding='post', maxlen=MAX_SEQUENCE_LENGTH)\n",
        "y_train = pad_sequences(train['encoded_ner_tags'], padding='post', maxlen=MAX_SEQUENCE_LENGTH, value=tag_to_idx['O'])\n",
        "y_train = to_categorical(y_train, num_classes=len(label_list))\n",
        "history = model.fit(\n",
        "    x=x_train,\n",
        "    y=y_train,\n",
        "    epochs=30,\n",
        "    batch_size=200,\n",
        "    callbacks=callbacks,\n",
        "    validation_split=0.1,\n",
        ")\n",
        "\n",
        "model.load_weights('best_model.h5')"
      ],
      "execution_count": 13,
      "outputs": [
        {
          "output_type": "stream",
          "text": [
            "Train on 2880 samples, validate on 320 samples\n",
            "Epoch 1/30\n",
            "2880/2880 [==============================] - 45s 16ms/step - loss: 0.6710 - crf_marginal_accuracy: 0.7907 - val_loss: 0.3396 - val_crf_marginal_accuracy: 0.9178\n",
            "Epoch 2/30\n",
            "2880/2880 [==============================] - 42s 15ms/step - loss: 0.2207 - crf_marginal_accuracy: 0.9624 - val_loss: 0.1676 - val_crf_marginal_accuracy: 0.9792\n",
            "Epoch 3/30\n",
            "2880/2880 [==============================] - 42s 15ms/step - loss: 0.1012 - crf_marginal_accuracy: 0.9894 - val_loss: 0.1606 - val_crf_marginal_accuracy: 0.9940\n",
            "Epoch 4/30\n",
            "2880/2880 [==============================] - 42s 15ms/step - loss: 0.0637 - crf_marginal_accuracy: 0.9956 - val_loss: 0.1612 - val_crf_marginal_accuracy: 0.9949\n",
            "Epoch 5/30\n",
            "2880/2880 [==============================] - 42s 15ms/step - loss: 0.0472 - crf_marginal_accuracy: 0.9972 - val_loss: 0.1598 - val_crf_marginal_accuracy: 0.9948\n",
            "Epoch 6/30\n",
            "2880/2880 [==============================] - 42s 15ms/step - loss: 0.0358 - crf_marginal_accuracy: 0.9980 - val_loss: 0.1896 - val_crf_marginal_accuracy: 0.9960\n",
            "Epoch 7/30\n",
            "2880/2880 [==============================] - 43s 15ms/step - loss: 0.0300 - crf_marginal_accuracy: 0.9983 - val_loss: 0.2065 - val_crf_marginal_accuracy: 0.9961\n",
            "Epoch 8/30\n",
            "2880/2880 [==============================] - 43s 15ms/step - loss: 0.0244 - crf_marginal_accuracy: 0.9987 - val_loss: 0.2090 - val_crf_marginal_accuracy: 0.9961\n",
            "Epoch 9/30\n",
            "2880/2880 [==============================] - 42s 15ms/step - loss: 0.0203 - crf_marginal_accuracy: 0.9989 - val_loss: 0.2278 - val_crf_marginal_accuracy: 0.9962\n",
            "Epoch 10/30\n",
            "2880/2880 [==============================] - 43s 15ms/step - loss: 0.0174 - crf_marginal_accuracy: 0.9989 - val_loss: 0.2580 - val_crf_marginal_accuracy: 0.9964\n",
            "Epoch 11/30\n",
            "2880/2880 [==============================] - 43s 15ms/step - loss: 0.0156 - crf_marginal_accuracy: 0.9991 - val_loss: 0.2410 - val_crf_marginal_accuracy: 0.9963\n",
            "Epoch 12/30\n",
            "2880/2880 [==============================] - 42s 15ms/step - loss: 0.0143 - crf_marginal_accuracy: 0.9991 - val_loss: 0.2619 - val_crf_marginal_accuracy: 0.9963\n",
            "Epoch 13/30\n",
            "2880/2880 [==============================] - 42s 15ms/step - loss: 0.0129 - crf_marginal_accuracy: 0.9992 - val_loss: 0.2788 - val_crf_marginal_accuracy: 0.9963\n"
          ],
          "name": "stdout"
        }
      ]
    },
    {
      "cell_type": "code",
      "metadata": {
        "colab": {
          "base_uri": "https://localhost:8080/"
        },
        "id": "EstRqvRzAx4s",
        "outputId": "c9047d48-95ee-4621-b343-c35bdcc9dcf3"
      },
      "source": [
        "preds = model.predict(pad_sequences(test['int_tokens'], padding='post', maxlen=MAX_SEQUENCE_LENGTH))\n",
        "tag_preds = [np.argmax(pred, axis=1) for pred in preds]\n",
        "truncated_preds = []\n",
        "for i in range(len(tag_preds)):\n",
        "    truncated_preds.append(tag_preds[i][:len(test['encoded_ner_tags'].iloc[i])])\n",
        "named_preds = []\n",
        "for i in truncated_preds:\n",
        "    named_preds.append([])\n",
        "    for j in i:\n",
        "        named_preds[-1].append(label_list[j])\n",
        "print(metrics.flat_classification_report(test['ner_tags'], named_preds, digits=4, labels=labels))"
      ],
      "execution_count": 14,
      "outputs": [
        {
          "output_type": "stream",
          "text": [
            "/usr/local/lib/python3.7/dist-packages/sklearn/metrics/_classification.py:1272: UndefinedMetricWarning: Precision and F-score are ill-defined and being set to 0.0 in labels with no predicted samples. Use `zero_division` parameter to control this behavior.\n",
            "  _warn_prf(average, modifier, msg_start, len(result))\n",
            "/usr/local/lib/python3.7/dist-packages/sklearn/metrics/_classification.py:1272: UndefinedMetricWarning: Recall and F-score are ill-defined and being set to 0.0 in labels with no true samples. Use `zero_division` parameter to control this behavior.\n",
            "  _warn_prf(average, modifier, msg_start, len(result))\n"
          ],
          "name": "stderr"
        },
        {
          "output_type": "stream",
          "text": [
            "               precision    recall  f1-score   support\n",
            "\n",
            " B-DOCAGRDATE     0.7700    0.5133    0.6160       150\n",
            " I-DOCAGRDATE     0.7656    0.5568    0.6447        88\n",
            "  B-DOCAGRNUM     0.8706    0.4134    0.5606       179\n",
            "  I-DOCAGRNUM     0.0000    0.0000    0.0000         7\n",
            "  B-DOCAMOUNT     0.8308    0.4425    0.5774      1243\n",
            "  I-DOCAMOUNT     0.7986    0.3774    0.5126       620\n",
            "    B-DOCCPTY     0.9378    0.7597    0.8394       595\n",
            "    I-DOCCPTY     0.9112    0.8191    0.8627       564\n",
            " B-DOCCPTYINN     0.9949    0.6915    0.8159       282\n",
            "B-DOCCUSTOMER     0.9356    0.9064    0.9208       609\n",
            "I-DOCCUSTOMER     0.9446    0.9221    0.9332       462\n",
            "    B-DOCDATE     0.8998    0.7659    0.8275       645\n",
            "    I-DOCDATE     0.9100    0.8860    0.8978       605\n",
            "     B-DOCNUM     0.8925    0.5484    0.6794       651\n",
            "     I-DOCNUM     0.0000    0.0000    0.0000         0\n",
            "\n",
            "    micro avg     0.8973    0.6654    0.7641      6700\n",
            "    macro avg     0.7641    0.5735    0.6459      6700\n",
            " weighted avg     0.8861    0.6654    0.7481      6700\n",
            "\n"
          ],
          "name": "stdout"
        }
      ]
    },
    {
      "cell_type": "markdown",
      "metadata": {
        "id": "kie7GWuRs7as"
      },
      "source": [
        "##BiLSTM"
      ]
    },
    {
      "cell_type": "code",
      "metadata": {
        "colab": {
          "base_uri": "https://localhost:8080/"
        },
        "id": "IbUobqKIs6II",
        "outputId": "e2bb25d6-095a-44f4-c5a1-2adf55eb55ad"
      },
      "source": [
        "MAX_WORDS = len(word_to_ix)\n",
        "EMBEDDING_LENGTH = 1024\n",
        "MAX_SEQUENCE_LENGTH = np.max(df['int_tokens'].apply(len))\n",
        "HIDDEN_SIZE = 100\n",
        "\n",
        "model = Sequential()\n",
        "model.add(Embedding(MAX_WORDS, EMBEDDING_LENGTH, input_length=MAX_SEQUENCE_LENGTH))\n",
        "model.add(Bidirectional(LSTM(HIDDEN_SIZE, return_sequences=True)))\n",
        "# model.add(Dense(50))\n",
        "model.add(TimeDistributed(Dense(len(label_list), activation=\"softmax\")))\n",
        "\n",
        "\n",
        "model.compile(Adam(lr=0.005), loss=focal_loss(), metrics=['accuracy'])\n",
        "model.summary()"
      ],
      "execution_count": 23,
      "outputs": [
        {
          "output_type": "stream",
          "text": [
            "_________________________________________________________________\n",
            "Layer (type)                 Output Shape              Param #   \n",
            "=================================================================\n",
            "embedding_9 (Embedding)      (None, 943, 1024)         68114432  \n",
            "_________________________________________________________________\n",
            "bidirectional_7 (Bidirection (None, 943, 200)          900000    \n",
            "_________________________________________________________________\n",
            "time_distributed_9 (TimeDist (None, 943, 16)           3216      \n",
            "=================================================================\n",
            "Total params: 69,017,648\n",
            "Trainable params: 69,017,648\n",
            "Non-trainable params: 0\n",
            "_________________________________________________________________\n"
          ],
          "name": "stdout"
        }
      ]
    },
    {
      "cell_type": "code",
      "metadata": {
        "colab": {
          "base_uri": "https://localhost:8080/"
        },
        "id": "ec67uvC-tLAI",
        "outputId": "9e295f9c-9a5f-41d8-c34d-33aa86e11e56"
      },
      "source": [
        "callbacks = [EarlyStopping(monitor='val_acc', patience=3),\n",
        "         ModelCheckpoint(filepath='best_model.h5', monitor='val_acc', save_best_only=True)]\n",
        "\n",
        "x_train = pad_sequences(train['int_tokens'], padding='post', maxlen=MAX_SEQUENCE_LENGTH)\n",
        "y_train = pad_sequences(train['encoded_ner_tags'], padding='post', maxlen=MAX_SEQUENCE_LENGTH, value=tag_to_idx['O'])\n",
        "y_train = to_categorical(y_train, num_classes=len(label_list))\n",
        "history = model.fit(\n",
        "    x=x_train,\n",
        "    y=y_train,\n",
        "    epochs=30,\n",
        "    batch_size=200,\n",
        "    callbacks=callbacks,\n",
        "    validation_split=0.1,\n",
        ")\n",
        "\n",
        "model.load_weights('best_model.h5')"
      ],
      "execution_count": 24,
      "outputs": [
        {
          "output_type": "stream",
          "text": [
            "Train on 2880 samples, validate on 320 samples\n",
            "Epoch 1/30\n",
            "2880/2880 [==============================] - 56s 19ms/step - loss: 0.5302 - acc: 0.6311 - val_loss: 0.2152 - val_acc: 0.9672\n",
            "Epoch 2/30\n",
            "2880/2880 [==============================] - 51s 18ms/step - loss: 0.1416 - acc: 0.9819 - val_loss: 0.1414 - val_acc: 0.9885\n",
            "Epoch 3/30\n",
            "2880/2880 [==============================] - 50s 17ms/step - loss: 0.0688 - acc: 0.9951 - val_loss: 0.1375 - val_acc: 0.9958\n",
            "Epoch 4/30\n",
            "2880/2880 [==============================] - 50s 17ms/step - loss: 0.0424 - acc: 0.9978 - val_loss: 0.1489 - val_acc: 0.9961\n",
            "Epoch 5/30\n",
            "2880/2880 [==============================] - 50s 18ms/step - loss: 0.0294 - acc: 0.9984 - val_loss: 0.1638 - val_acc: 0.9965\n",
            "Epoch 6/30\n",
            "2880/2880 [==============================] - 50s 17ms/step - loss: 0.0219 - acc: 0.9988 - val_loss: 0.1807 - val_acc: 0.9966\n",
            "Epoch 7/30\n",
            "2880/2880 [==============================] - 51s 18ms/step - loss: 0.0166 - acc: 0.9990 - val_loss: 0.1866 - val_acc: 0.9966\n",
            "Epoch 8/30\n",
            "2880/2880 [==============================] - 50s 17ms/step - loss: 0.0134 - acc: 0.9992 - val_loss: 0.1941 - val_acc: 0.9967\n",
            "Epoch 9/30\n",
            "2880/2880 [==============================] - 51s 18ms/step - loss: 0.0112 - acc: 0.9993 - val_loss: 0.2060 - val_acc: 0.9966\n",
            "Epoch 10/30\n",
            "2880/2880 [==============================] - 51s 18ms/step - loss: 0.0095 - acc: 0.9994 - val_loss: 0.2223 - val_acc: 0.9967\n",
            "Epoch 11/30\n",
            "2880/2880 [==============================] - 52s 18ms/step - loss: 0.0084 - acc: 0.9995 - val_loss: 0.2336 - val_acc: 0.9967\n",
            "Epoch 12/30\n",
            "2880/2880 [==============================] - 52s 18ms/step - loss: 0.0069 - acc: 0.9996 - val_loss: 0.2210 - val_acc: 0.9967\n",
            "Epoch 13/30\n",
            "2880/2880 [==============================] - 51s 18ms/step - loss: 0.0059 - acc: 0.9996 - val_loss: 0.2704 - val_acc: 0.9967\n",
            "Epoch 14/30\n",
            "2880/2880 [==============================] - 51s 18ms/step - loss: 0.0050 - acc: 0.9996 - val_loss: 0.2689 - val_acc: 0.9966\n"
          ],
          "name": "stdout"
        }
      ]
    },
    {
      "cell_type": "code",
      "metadata": {
        "colab": {
          "base_uri": "https://localhost:8080/"
        },
        "id": "Sp_dRSB5uuJz",
        "outputId": "85408a8e-ef5f-4880-fdb8-dffd928fc722"
      },
      "source": [
        "preds = model.predict(pad_sequences(test['int_tokens'], padding='post', maxlen=MAX_SEQUENCE_LENGTH))\n",
        "tag_preds = [np.argmax(pred, axis=1) for pred in preds]\n",
        "truncated_preds = []\n",
        "for i in range(len(tag_preds)):\n",
        "    truncated_preds.append(tag_preds[i][:len(test['encoded_ner_tags'].iloc[i])])\n",
        "named_preds = []\n",
        "for i in truncated_preds:\n",
        "    named_preds.append([])\n",
        "    for j in i:\n",
        "        named_preds[-1].append(label_list[j])\n",
        "print(metrics.flat_classification_report(test['ner_tags'], named_preds, digits=4, labels=labels))"
      ],
      "execution_count": 25,
      "outputs": [
        {
          "output_type": "stream",
          "text": [
            "/usr/local/lib/python3.7/dist-packages/sklearn/metrics/_classification.py:1272: UndefinedMetricWarning: Precision and F-score are ill-defined and being set to 0.0 in labels with no predicted samples. Use `zero_division` parameter to control this behavior.\n",
            "  _warn_prf(average, modifier, msg_start, len(result))\n",
            "/usr/local/lib/python3.7/dist-packages/sklearn/metrics/_classification.py:1272: UndefinedMetricWarning: Recall and F-score are ill-defined and being set to 0.0 in labels with no true samples. Use `zero_division` parameter to control this behavior.\n",
            "  _warn_prf(average, modifier, msg_start, len(result))\n"
          ],
          "name": "stderr"
        },
        {
          "output_type": "stream",
          "text": [
            "               precision    recall  f1-score   support\n",
            "\n",
            " B-DOCAGRDATE     0.8317    0.5600    0.6693       150\n",
            " I-DOCAGRDATE     0.7241    0.7159    0.7200        88\n",
            "  B-DOCAGRNUM     0.8929    0.4190    0.5703       179\n",
            "  I-DOCAGRNUM     1.0000    0.8571    0.9231         7\n",
            "  B-DOCAMOUNT     0.8679    0.5921    0.7040      1243\n",
            "  I-DOCAMOUNT     0.7757    0.4742    0.5886       620\n",
            "    B-DOCCPTY     0.9365    0.7933    0.8590       595\n",
            "    I-DOCCPTY     0.9432    0.8245    0.8798       564\n",
            " B-DOCCPTYINN     0.9896    0.6773    0.8042       282\n",
            "B-DOCCUSTOMER     0.9609    0.9688    0.9648       609\n",
            "I-DOCCUSTOMER     0.9540    0.9437    0.9489       462\n",
            "    B-DOCDATE     0.9287    0.8078    0.8640       645\n",
            "    I-DOCDATE     0.9191    0.9207    0.9199       605\n",
            "     B-DOCNUM     0.8938    0.5561    0.6856       651\n",
            "     I-DOCNUM     0.0000    0.0000    0.0000         0\n",
            "\n",
            "    micro avg     0.9090    0.7242    0.8061      6700\n",
            "    macro avg     0.8412    0.6740    0.7401      6700\n",
            " weighted avg     0.9024    0.7242    0.7959      6700\n",
            "\n"
          ],
          "name": "stdout"
        }
      ]
    },
    {
      "cell_type": "markdown",
      "metadata": {
        "id": "W69Qi7k3gTEL"
      },
      "source": [
        "##BiLSTM CRF"
      ]
    },
    {
      "cell_type": "code",
      "metadata": {
        "colab": {
          "base_uri": "https://localhost:8080/"
        },
        "id": "qF1S7oW2BWoX",
        "outputId": "7788ef53-b62c-4390-f096-fae8e7a0f663"
      },
      "source": [
        "MAX_WORDS = len(word_to_ix)\n",
        "EMBEDDING_LENGTH = 1024\n",
        "MAX_SEQUENCE_LENGTH = np.max(df['int_tokens'].apply(len))\n",
        "HIDDEN_SIZE = 100\n",
        "\n",
        "model = Sequential()\n",
        "model.add(Embedding(MAX_WORDS, EMBEDDING_LENGTH, input_length=MAX_SEQUENCE_LENGTH))\n",
        "model.add(Bidirectional(LSTM(HIDDEN_SIZE, return_sequences=True)))\n",
        "# model.add(Dense(50))\n",
        "model.add(TimeDistributed(Dense(len(label_list), activation=\"relu\")))\n",
        "crf = CRF(len(label_list), learn_mode='marginal')\n",
        "model.add(crf)\n",
        "\n",
        "model.compile(Adam(lr=0.005), loss=focal_loss(), metrics=[crf_marginal_accuracy])\n",
        "model.summary()"
      ],
      "execution_count": 26,
      "outputs": [
        {
          "output_type": "stream",
          "text": [
            "_________________________________________________________________\n",
            "Layer (type)                 Output Shape              Param #   \n",
            "=================================================================\n",
            "embedding_10 (Embedding)     (None, 943, 1024)         68114432  \n",
            "_________________________________________________________________\n",
            "bidirectional_8 (Bidirection (None, 943, 200)          900000    \n",
            "_________________________________________________________________\n",
            "time_distributed_10 (TimeDis (None, 943, 16)           3216      \n",
            "_________________________________________________________________\n",
            "crf_5 (CRF)                  (None, 943, 16)           560       \n",
            "=================================================================\n",
            "Total params: 69,018,208\n",
            "Trainable params: 69,018,208\n",
            "Non-trainable params: 0\n",
            "_________________________________________________________________\n"
          ],
          "name": "stdout"
        }
      ]
    },
    {
      "cell_type": "code",
      "metadata": {
        "colab": {
          "base_uri": "https://localhost:8080/"
        },
        "id": "LAVZ0buRG02d",
        "outputId": "39a05e9c-65d5-4bb9-98ec-3a37a9a93cf2"
      },
      "source": [
        "callbacks = [EarlyStopping(monitor='val_crf_marginal_accuracy', patience=3),\n",
        "         ModelCheckpoint(filepath='best_model.h5', monitor='val_crf_marginal_accuracy', save_best_only=True)]\n",
        "\n",
        "x_train = pad_sequences(train['int_tokens'], padding='post', maxlen=MAX_SEQUENCE_LENGTH)\n",
        "y_train = pad_sequences(train['encoded_ner_tags'], padding='post', maxlen=MAX_SEQUENCE_LENGTH, value=tag_to_idx['O'])\n",
        "y_train = to_categorical(y_train, num_classes=len(label_list))\n",
        "history = model.fit(\n",
        "    x=x_train,\n",
        "    y=y_train,\n",
        "    epochs=30,\n",
        "    batch_size=200,\n",
        "    callbacks=callbacks,\n",
        "    validation_split=0.1,\n",
        ")\n",
        "\n",
        "model.load_weights('best_model.h5')"
      ],
      "execution_count": 27,
      "outputs": [
        {
          "output_type": "stream",
          "text": [
            "Train on 2880 samples, validate on 320 samples\n",
            "Epoch 1/30\n",
            "2880/2880 [==============================] - 89s 31ms/step - loss: 0.6023 - crf_marginal_accuracy: 0.0443 - val_loss: 0.2822 - val_crf_marginal_accuracy: 0.1311\n",
            "Epoch 2/30\n",
            "2880/2880 [==============================] - 81s 28ms/step - loss: 0.1908 - crf_marginal_accuracy: 0.7989 - val_loss: 0.1572 - val_crf_marginal_accuracy: 0.9842\n",
            "Epoch 3/30\n",
            "2880/2880 [==============================] - 81s 28ms/step - loss: 0.0877 - crf_marginal_accuracy: 0.9911 - val_loss: 0.1382 - val_crf_marginal_accuracy: 0.9936\n",
            "Epoch 4/30\n",
            "2880/2880 [==============================] - 81s 28ms/step - loss: 0.0531 - crf_marginal_accuracy: 0.9962 - val_loss: 0.1580 - val_crf_marginal_accuracy: 0.9962\n",
            "Epoch 5/30\n",
            "2880/2880 [==============================] - 81s 28ms/step - loss: 0.0360 - crf_marginal_accuracy: 0.9980 - val_loss: 0.1724 - val_crf_marginal_accuracy: 0.9962\n",
            "Epoch 6/30\n",
            "2880/2880 [==============================] - 80s 28ms/step - loss: 0.0270 - crf_marginal_accuracy: 0.9984 - val_loss: 0.1837 - val_crf_marginal_accuracy: 0.9964\n",
            "Epoch 7/30\n",
            "2880/2880 [==============================] - 80s 28ms/step - loss: 0.0218 - crf_marginal_accuracy: 0.9988 - val_loss: 0.2090 - val_crf_marginal_accuracy: 0.9965\n",
            "Epoch 8/30\n",
            "2880/2880 [==============================] - 81s 28ms/step - loss: 0.0175 - crf_marginal_accuracy: 0.9990 - val_loss: 0.2252 - val_crf_marginal_accuracy: 0.9966\n",
            "Epoch 9/30\n",
            "2880/2880 [==============================] - 80s 28ms/step - loss: 0.0148 - crf_marginal_accuracy: 0.9991 - val_loss: 0.2346 - val_crf_marginal_accuracy: 0.9965\n",
            "Epoch 10/30\n",
            "2880/2880 [==============================] - 81s 28ms/step - loss: 0.0133 - crf_marginal_accuracy: 0.9992 - val_loss: 0.2623 - val_crf_marginal_accuracy: 0.9967\n",
            "Epoch 11/30\n",
            "2880/2880 [==============================] - 81s 28ms/step - loss: 0.0111 - crf_marginal_accuracy: 0.9994 - val_loss: 0.2583 - val_crf_marginal_accuracy: 0.9965\n",
            "Epoch 12/30\n",
            "2880/2880 [==============================] - 82s 28ms/step - loss: 0.0093 - crf_marginal_accuracy: 0.9995 - val_loss: 0.2674 - val_crf_marginal_accuracy: 0.9967\n",
            "Epoch 13/30\n",
            "2880/2880 [==============================] - 82s 28ms/step - loss: 0.0078 - crf_marginal_accuracy: 0.9995 - val_loss: 0.2764 - val_crf_marginal_accuracy: 0.9967\n",
            "Epoch 14/30\n",
            "2880/2880 [==============================] - 83s 29ms/step - loss: 0.0074 - crf_marginal_accuracy: 0.9996 - val_loss: 0.2965 - val_crf_marginal_accuracy: 0.9967\n",
            "Epoch 15/30\n",
            "2880/2880 [==============================] - 82s 28ms/step - loss: 0.0065 - crf_marginal_accuracy: 0.9996 - val_loss: 0.2967 - val_crf_marginal_accuracy: 0.9966\n"
          ],
          "name": "stdout"
        }
      ]
    },
    {
      "cell_type": "code",
      "metadata": {
        "colab": {
          "base_uri": "https://localhost:8080/"
        },
        "id": "IZNVGThAXHeL",
        "outputId": "0c649d90-3344-481d-d058-06e0fe25195a"
      },
      "source": [
        "preds = model.predict(pad_sequences(test['int_tokens'], padding='post', maxlen=MAX_SEQUENCE_LENGTH))\n",
        "tag_preds = [np.argmax(pred, axis=1) for pred in preds]\n",
        "truncated_preds = []\n",
        "for i in range(len(tag_preds)):\n",
        "    truncated_preds.append(tag_preds[i][:len(test['encoded_ner_tags'].iloc[i])])\n",
        "named_preds = []\n",
        "for i in truncated_preds:\n",
        "    named_preds.append([])\n",
        "    for j in i:\n",
        "        named_preds[-1].append(label_list[j])\n",
        "print(metrics.flat_classification_report(test['ner_tags'], named_preds, digits=4, labels=labels))"
      ],
      "execution_count": 28,
      "outputs": [
        {
          "output_type": "stream",
          "text": [
            "/usr/local/lib/python3.7/dist-packages/sklearn/metrics/_classification.py:1272: UndefinedMetricWarning: Precision and F-score are ill-defined and being set to 0.0 in labels with no predicted samples. Use `zero_division` parameter to control this behavior.\n",
            "  _warn_prf(average, modifier, msg_start, len(result))\n",
            "/usr/local/lib/python3.7/dist-packages/sklearn/metrics/_classification.py:1272: UndefinedMetricWarning: Recall and F-score are ill-defined and being set to 0.0 in labels with no true samples. Use `zero_division` parameter to control this behavior.\n",
            "  _warn_prf(average, modifier, msg_start, len(result))\n"
          ],
          "name": "stderr"
        },
        {
          "output_type": "stream",
          "text": [
            "               precision    recall  f1-score   support\n",
            "\n",
            " B-DOCAGRDATE     0.8532    0.6200    0.7181       150\n",
            " I-DOCAGRDATE     0.7442    0.7273    0.7356        88\n",
            "  B-DOCAGRNUM     0.9211    0.3911    0.5490       179\n",
            "  I-DOCAGRNUM     1.0000    0.8571    0.9231         7\n",
            "  B-DOCAMOUNT     0.8497    0.6002    0.7034      1243\n",
            "  I-DOCAMOUNT     0.8320    0.5032    0.6271       620\n",
            "    B-DOCCPTY     0.9316    0.8017    0.8618       595\n",
            "    I-DOCCPTY     0.9222    0.8404    0.8794       564\n",
            " B-DOCCPTYINN     1.0000    0.7021    0.8250       282\n",
            "B-DOCCUSTOMER     0.9639    0.9655    0.9647       609\n",
            "I-DOCCUSTOMER     0.9586    0.9524    0.9555       462\n",
            "    B-DOCDATE     0.9156    0.8078    0.8583       645\n",
            "    I-DOCDATE     0.9262    0.9124    0.9192       605\n",
            "     B-DOCNUM     0.8959    0.5684    0.6955       651\n",
            "     I-DOCNUM     0.0000    0.0000    0.0000         0\n",
            "\n",
            "    micro avg     0.9093    0.7330    0.8117      6700\n",
            "    macro avg     0.8476    0.6833    0.7477      6700\n",
            " weighted avg     0.9041    0.7330    0.8020      6700\n",
            "\n"
          ],
          "name": "stdout"
        }
      ]
    },
    {
      "cell_type": "markdown",
      "metadata": {
        "id": "6AAlxHWKgXnl"
      },
      "source": [
        "Binary Models"
      ]
    },
    {
      "cell_type": "code",
      "metadata": {
        "colab": {
          "base_uri": "https://localhost:8080/"
        },
        "id": "ePsINOJidAxY",
        "outputId": "bc65e83e-2a42-44f7-b6b5-459fb5f9864a"
      },
      "source": [
        "labels[8:9]"
      ],
      "execution_count": 72,
      "outputs": [
        {
          "output_type": "execute_result",
          "data": {
            "text/plain": [
              "['B-DOCCPTYINN']"
            ]
          },
          "metadata": {
            "tags": []
          },
          "execution_count": 72
        }
      ]
    },
    {
      "cell_type": "code",
      "metadata": {
        "colab": {
          "base_uri": "https://localhost:8080/",
          "height": 765
        },
        "id": "Jc0q2dDkgaqs",
        "outputId": "b4ab8363-8e6e-465c-c3a2-ee1f89c77f8c"
      },
      "source": [
        "models = []\n",
        "MAX_WORDS = len(word_to_ix)\n",
        "EMBEDDING_LENGTH = 512\n",
        "MAX_SEQUENCE_LENGTH = np.max(df['int_tokens'].apply(len))\n",
        "HIDDEN_SIZE = 100\n",
        "\n",
        "for label in labels[8:9]:\n",
        "    model = Sequential()\n",
        "    model.add(Embedding(MAX_WORDS, EMBEDDING_LENGTH, input_length=MAX_SEQUENCE_LENGTH))\n",
        "    model.add(Bidirectional(LSTM(HIDDEN_SIZE, return_sequences=True)))\n",
        "    # model.add(Dense(50))\n",
        "    model.add(TimeDistributed(Dense(2, activation=\"relu\")))\n",
        "    crf = CRF(2, learn_mode='marginal')\n",
        "    model.add(crf)\n",
        "    # model.add(Dense(1, activation='sigmoid'))\n",
        "    # model.add(Dense(1, activation='tanh'))\n",
        "\n",
        "    model.compile(Adam(lr=0.2), loss=focal_loss(), metrics=[crf_marginal_accuracy])\n",
        "    \n",
        "    callbacks = [EarlyStopping(monitor='val_crf_marginal_accuracy', patience=20),\n",
        "         ModelCheckpoint(filepath='best_model.h5', monitor='val_crf_marginal_accuracy', save_best_only=True)]\n",
        "\n",
        "    id = tag_to_idx[label]\n",
        "    mask = train['ner_tags'].apply(lambda x: True if label in x else False)\n",
        "    x_train = pad_sequences(train['int_tokens'][mask], padding='post', maxlen=MAX_SEQUENCE_LENGTH)\n",
        "    y_tmp = train['encoded_ner_tags'][mask].apply(lambda x: [1 if t == id else 0 for t in x])\n",
        "    y_train = pad_sequences(y_tmp, padding='post', maxlen=MAX_SEQUENCE_LENGTH, value=0)\n",
        "    y_train = to_categorical(y_train, num_classes=2)\n",
        "    class_weight={0: 1, 1: 50}\n",
        "    history = model.fit(\n",
        "        x=x_train,\n",
        "        y=y_train,\n",
        "        epochs=20,\n",
        "        batch_size=200,\n",
        "        callbacks=callbacks,\n",
        "        validation_split=0.1,\n",
        "    )\n",
        "\n",
        "    model.load_weights('best_model.h5')\n",
        "    # model.save_weights(label + '.h5')\n",
        "    models.append(model)"
      ],
      "execution_count": 12,
      "outputs": [
        {
          "output_type": "stream",
          "text": [
            "Train on 862 samples, validate on 96 samples\n",
            "Epoch 1/20\n",
            "862/862 [==============================] - 25s 29ms/step - loss: 1.3034 - crf_marginal_accuracy: 0.5655 - val_loss: 0.2268 - val_crf_marginal_accuracy: 0.9989\n",
            "Epoch 2/20\n",
            "862/862 [==============================] - 21s 24ms/step - loss: 0.1980 - crf_marginal_accuracy: 0.7012 - val_loss: 0.2786 - val_crf_marginal_accuracy: 0.0193\n",
            "Epoch 3/20\n",
            "862/862 [==============================] - 21s 24ms/step - loss: 0.3032 - crf_marginal_accuracy: 0.3105 - val_loss: 0.2988 - val_crf_marginal_accuracy: 0.9989\n",
            "Epoch 4/20\n",
            "862/862 [==============================] - 21s 24ms/step - loss: 0.2310 - crf_marginal_accuracy: 0.9988 - val_loss: 0.1805 - val_crf_marginal_accuracy: 0.0303\n",
            "Epoch 5/20\n",
            "862/862 [==============================] - 20s 24ms/step - loss: 0.1970 - crf_marginal_accuracy: 0.0190 - val_loss: 0.1838 - val_crf_marginal_accuracy: 0.0370\n",
            "Epoch 6/20\n",
            "862/862 [==============================] - 21s 24ms/step - loss: 0.1888 - crf_marginal_accuracy: 0.7752 - val_loss: 0.1886 - val_crf_marginal_accuracy: 0.9989\n",
            "Epoch 7/20\n",
            "862/862 [==============================] - 21s 24ms/step - loss: 0.1942 - crf_marginal_accuracy: 0.7013 - val_loss: 0.1852 - val_crf_marginal_accuracy: 0.0183\n",
            "Epoch 8/20\n",
            "862/862 [==============================] - 21s 24ms/step - loss: 0.1928 - crf_marginal_accuracy: 0.0931 - val_loss: 0.1770 - val_crf_marginal_accuracy: 0.9989\n",
            "Epoch 9/20\n",
            "862/862 [==============================] - 21s 24ms/step - loss: 0.2226 - crf_marginal_accuracy: 0.9974 - val_loss: 0.1739 - val_crf_marginal_accuracy: 0.0173\n",
            "Epoch 10/20\n",
            "862/862 [==============================] - 21s 24ms/step - loss: 0.1986 - crf_marginal_accuracy: 0.0177 - val_loss: 0.1744 - val_crf_marginal_accuracy: 0.9989\n",
            "Epoch 11/20\n",
            "200/862 [=====>........................] - ETA: 12s - loss: 0.1741 - crf_marginal_accuracy: 0.9988"
          ],
          "name": "stdout"
        },
        {
          "output_type": "error",
          "ename": "KeyboardInterrupt",
          "evalue": "ignored",
          "traceback": [
            "\u001b[0;31m---------------------------------------------------------------------------\u001b[0m",
            "\u001b[0;31mKeyboardInterrupt\u001b[0m                         Traceback (most recent call last)",
            "\u001b[0;32m<ipython-input-12-0309452a328e>\u001b[0m in \u001b[0;36m<module>\u001b[0;34m()\u001b[0m\n\u001b[1;32m     34\u001b[0m         \u001b[0mbatch_size\u001b[0m\u001b[0;34m=\u001b[0m\u001b[0;36m200\u001b[0m\u001b[0;34m,\u001b[0m\u001b[0;34m\u001b[0m\u001b[0;34m\u001b[0m\u001b[0m\n\u001b[1;32m     35\u001b[0m         \u001b[0mcallbacks\u001b[0m\u001b[0;34m=\u001b[0m\u001b[0mcallbacks\u001b[0m\u001b[0;34m,\u001b[0m\u001b[0;34m\u001b[0m\u001b[0;34m\u001b[0m\u001b[0m\n\u001b[0;32m---> 36\u001b[0;31m         \u001b[0mvalidation_split\u001b[0m\u001b[0;34m=\u001b[0m\u001b[0;36m0.1\u001b[0m\u001b[0;34m,\u001b[0m\u001b[0;34m\u001b[0m\u001b[0;34m\u001b[0m\u001b[0m\n\u001b[0m\u001b[1;32m     37\u001b[0m     )\n\u001b[1;32m     38\u001b[0m \u001b[0;34m\u001b[0m\u001b[0m\n",
            "\u001b[0;32m/usr/local/lib/python3.7/dist-packages/keras/engine/training.py\u001b[0m in \u001b[0;36mfit\u001b[0;34m(self, x, y, batch_size, epochs, verbose, callbacks, validation_split, validation_data, shuffle, class_weight, sample_weight, initial_epoch, steps_per_epoch, validation_steps, **kwargs)\u001b[0m\n\u001b[1;32m   1037\u001b[0m                                         \u001b[0minitial_epoch\u001b[0m\u001b[0;34m=\u001b[0m\u001b[0minitial_epoch\u001b[0m\u001b[0;34m,\u001b[0m\u001b[0;34m\u001b[0m\u001b[0;34m\u001b[0m\u001b[0m\n\u001b[1;32m   1038\u001b[0m                                         \u001b[0msteps_per_epoch\u001b[0m\u001b[0;34m=\u001b[0m\u001b[0msteps_per_epoch\u001b[0m\u001b[0;34m,\u001b[0m\u001b[0;34m\u001b[0m\u001b[0;34m\u001b[0m\u001b[0m\n\u001b[0;32m-> 1039\u001b[0;31m                                         validation_steps=validation_steps)\n\u001b[0m\u001b[1;32m   1040\u001b[0m \u001b[0;34m\u001b[0m\u001b[0m\n\u001b[1;32m   1041\u001b[0m     def evaluate(self, x=None, y=None,\n",
            "\u001b[0;32m/usr/local/lib/python3.7/dist-packages/keras/engine/training_arrays.py\u001b[0m in \u001b[0;36mfit_loop\u001b[0;34m(model, f, ins, out_labels, batch_size, epochs, verbose, callbacks, val_f, val_ins, shuffle, callback_metrics, initial_epoch, steps_per_epoch, validation_steps)\u001b[0m\n\u001b[1;32m    197\u001b[0m                     \u001b[0mins_batch\u001b[0m\u001b[0;34m[\u001b[0m\u001b[0mi\u001b[0m\u001b[0;34m]\u001b[0m \u001b[0;34m=\u001b[0m \u001b[0mins_batch\u001b[0m\u001b[0;34m[\u001b[0m\u001b[0mi\u001b[0m\u001b[0;34m]\u001b[0m\u001b[0;34m.\u001b[0m\u001b[0mtoarray\u001b[0m\u001b[0;34m(\u001b[0m\u001b[0;34m)\u001b[0m\u001b[0;34m\u001b[0m\u001b[0;34m\u001b[0m\u001b[0m\n\u001b[1;32m    198\u001b[0m \u001b[0;34m\u001b[0m\u001b[0m\n\u001b[0;32m--> 199\u001b[0;31m                 \u001b[0mouts\u001b[0m \u001b[0;34m=\u001b[0m \u001b[0mf\u001b[0m\u001b[0;34m(\u001b[0m\u001b[0mins_batch\u001b[0m\u001b[0;34m)\u001b[0m\u001b[0;34m\u001b[0m\u001b[0;34m\u001b[0m\u001b[0m\n\u001b[0m\u001b[1;32m    200\u001b[0m                 \u001b[0mouts\u001b[0m \u001b[0;34m=\u001b[0m \u001b[0mto_list\u001b[0m\u001b[0;34m(\u001b[0m\u001b[0mouts\u001b[0m\u001b[0;34m)\u001b[0m\u001b[0;34m\u001b[0m\u001b[0;34m\u001b[0m\u001b[0m\n\u001b[1;32m    201\u001b[0m                 \u001b[0;32mfor\u001b[0m \u001b[0ml\u001b[0m\u001b[0;34m,\u001b[0m \u001b[0mo\u001b[0m \u001b[0;32min\u001b[0m \u001b[0mzip\u001b[0m\u001b[0;34m(\u001b[0m\u001b[0mout_labels\u001b[0m\u001b[0;34m,\u001b[0m \u001b[0mouts\u001b[0m\u001b[0;34m)\u001b[0m\u001b[0;34m:\u001b[0m\u001b[0;34m\u001b[0m\u001b[0;34m\u001b[0m\u001b[0m\n",
            "\u001b[0;32m/usr/local/lib/python3.7/dist-packages/keras/backend/tensorflow_backend.py\u001b[0m in \u001b[0;36m__call__\u001b[0;34m(self, inputs)\u001b[0m\n\u001b[1;32m   2713\u001b[0m                 \u001b[0;32mreturn\u001b[0m \u001b[0mself\u001b[0m\u001b[0;34m.\u001b[0m\u001b[0m_legacy_call\u001b[0m\u001b[0;34m(\u001b[0m\u001b[0minputs\u001b[0m\u001b[0;34m)\u001b[0m\u001b[0;34m\u001b[0m\u001b[0;34m\u001b[0m\u001b[0m\n\u001b[1;32m   2714\u001b[0m \u001b[0;34m\u001b[0m\u001b[0m\n\u001b[0;32m-> 2715\u001b[0;31m             \u001b[0;32mreturn\u001b[0m \u001b[0mself\u001b[0m\u001b[0;34m.\u001b[0m\u001b[0m_call\u001b[0m\u001b[0;34m(\u001b[0m\u001b[0minputs\u001b[0m\u001b[0;34m)\u001b[0m\u001b[0;34m\u001b[0m\u001b[0;34m\u001b[0m\u001b[0m\n\u001b[0m\u001b[1;32m   2716\u001b[0m         \u001b[0;32melse\u001b[0m\u001b[0;34m:\u001b[0m\u001b[0;34m\u001b[0m\u001b[0;34m\u001b[0m\u001b[0m\n\u001b[1;32m   2717\u001b[0m             \u001b[0;32mif\u001b[0m \u001b[0mpy_any\u001b[0m\u001b[0;34m(\u001b[0m\u001b[0mis_tensor\u001b[0m\u001b[0;34m(\u001b[0m\u001b[0mx\u001b[0m\u001b[0;34m)\u001b[0m \u001b[0;32mfor\u001b[0m \u001b[0mx\u001b[0m \u001b[0;32min\u001b[0m \u001b[0minputs\u001b[0m\u001b[0;34m)\u001b[0m\u001b[0;34m:\u001b[0m\u001b[0;34m\u001b[0m\u001b[0;34m\u001b[0m\u001b[0m\n",
            "\u001b[0;32m/usr/local/lib/python3.7/dist-packages/keras/backend/tensorflow_backend.py\u001b[0m in \u001b[0;36m_call\u001b[0;34m(self, inputs)\u001b[0m\n\u001b[1;32m   2673\u001b[0m             \u001b[0mfetched\u001b[0m \u001b[0;34m=\u001b[0m \u001b[0mself\u001b[0m\u001b[0;34m.\u001b[0m\u001b[0m_callable_fn\u001b[0m\u001b[0;34m(\u001b[0m\u001b[0;34m*\u001b[0m\u001b[0marray_vals\u001b[0m\u001b[0;34m,\u001b[0m \u001b[0mrun_metadata\u001b[0m\u001b[0;34m=\u001b[0m\u001b[0mself\u001b[0m\u001b[0;34m.\u001b[0m\u001b[0mrun_metadata\u001b[0m\u001b[0;34m)\u001b[0m\u001b[0;34m\u001b[0m\u001b[0;34m\u001b[0m\u001b[0m\n\u001b[1;32m   2674\u001b[0m         \u001b[0;32melse\u001b[0m\u001b[0;34m:\u001b[0m\u001b[0;34m\u001b[0m\u001b[0;34m\u001b[0m\u001b[0m\n\u001b[0;32m-> 2675\u001b[0;31m             \u001b[0mfetched\u001b[0m \u001b[0;34m=\u001b[0m \u001b[0mself\u001b[0m\u001b[0;34m.\u001b[0m\u001b[0m_callable_fn\u001b[0m\u001b[0;34m(\u001b[0m\u001b[0;34m*\u001b[0m\u001b[0marray_vals\u001b[0m\u001b[0;34m)\u001b[0m\u001b[0;34m\u001b[0m\u001b[0;34m\u001b[0m\u001b[0m\n\u001b[0m\u001b[1;32m   2676\u001b[0m         \u001b[0;32mreturn\u001b[0m \u001b[0mfetched\u001b[0m\u001b[0;34m[\u001b[0m\u001b[0;34m:\u001b[0m\u001b[0mlen\u001b[0m\u001b[0;34m(\u001b[0m\u001b[0mself\u001b[0m\u001b[0;34m.\u001b[0m\u001b[0moutputs\u001b[0m\u001b[0;34m)\u001b[0m\u001b[0;34m]\u001b[0m\u001b[0;34m\u001b[0m\u001b[0;34m\u001b[0m\u001b[0m\n\u001b[1;32m   2677\u001b[0m \u001b[0;34m\u001b[0m\u001b[0m\n",
            "\u001b[0;32m/usr/local/lib/python3.7/dist-packages/tensorflow_core/python/client/session.py\u001b[0m in \u001b[0;36m__call__\u001b[0;34m(self, *args, **kwargs)\u001b[0m\n\u001b[1;32m   1470\u001b[0m         ret = tf_session.TF_SessionRunCallable(self._session._session,\n\u001b[1;32m   1471\u001b[0m                                                \u001b[0mself\u001b[0m\u001b[0;34m.\u001b[0m\u001b[0m_handle\u001b[0m\u001b[0;34m,\u001b[0m \u001b[0margs\u001b[0m\u001b[0;34m,\u001b[0m\u001b[0;34m\u001b[0m\u001b[0;34m\u001b[0m\u001b[0m\n\u001b[0;32m-> 1472\u001b[0;31m                                                run_metadata_ptr)\n\u001b[0m\u001b[1;32m   1473\u001b[0m         \u001b[0;32mif\u001b[0m \u001b[0mrun_metadata\u001b[0m\u001b[0;34m:\u001b[0m\u001b[0;34m\u001b[0m\u001b[0;34m\u001b[0m\u001b[0m\n\u001b[1;32m   1474\u001b[0m           \u001b[0mproto_data\u001b[0m \u001b[0;34m=\u001b[0m \u001b[0mtf_session\u001b[0m\u001b[0;34m.\u001b[0m\u001b[0mTF_GetBuffer\u001b[0m\u001b[0;34m(\u001b[0m\u001b[0mrun_metadata_ptr\u001b[0m\u001b[0;34m)\u001b[0m\u001b[0;34m\u001b[0m\u001b[0;34m\u001b[0m\u001b[0m\n",
            "\u001b[0;31mKeyboardInterrupt\u001b[0m: "
          ]
        }
      ]
    },
    {
      "cell_type": "code",
      "metadata": {
        "colab": {
          "base_uri": "https://localhost:8080/"
        },
        "id": "aArgDTZVME77",
        "outputId": "fc7fdb85-66dd-4f35-ce55-c018cc701ce7"
      },
      "source": [
        "labels[:1]"
      ],
      "execution_count": 24,
      "outputs": [
        {
          "output_type": "execute_result",
          "data": {
            "text/plain": [
              "['B-DOCAGRDATE']"
            ]
          },
          "metadata": {
            "tags": []
          },
          "execution_count": 24
        }
      ]
    },
    {
      "cell_type": "code",
      "metadata": {
        "id": "fqaBAya2G0-1"
      },
      "source": [
        "# for i in range(len(models)):\n",
        "#     model = models[i]\n",
        "#     label = labels[i]\n",
        "#     cur_list = {0: 'O', 1: label}\n",
        "#     preds = model.predict(pad_sequences(train['int_tokens'], padding='post', maxlen=MAX_SEQUENCE_LENGTH))\n",
        "#     tag_preds = [np.argmax(pred, axis=1) for pred in preds]\n",
        "#     truncated_preds = []\n",
        "#     for i in range(len(tag_preds)):\n",
        "#         truncated_preds.append(tag_preds[i][:len(train['encoded_ner_tags'].iloc[i])])\n",
        "#     named_preds = []\n",
        "#     for i in truncated_preds:\n",
        "#         named_preds.append([])\n",
        "#         for j in i:\n",
        "#             named_preds[-1].append(cur_list[j])\n",
        "#     test_tmp = train['ner_tags'].apply(lambda x: [t if t == label else 'O' for t in x])\n",
        "#     print(metrics.flat_classification_report(test_tmp, named_preds, digits=4, labels=[label, 'O']))"
      ],
      "execution_count": null,
      "outputs": []
    },
    {
      "cell_type": "code",
      "metadata": {
        "colab": {
          "base_uri": "https://localhost:8080/",
          "height": 510
        },
        "id": "-JqyyaMcp6HB",
        "outputId": "c0a64a91-5c58-459c-a25c-7ce94d43ec90"
      },
      "source": [
        "for label in labels[9:10]:\n",
        "    model = Sequential()\n",
        "    model.add(Embedding(MAX_WORDS, EMBEDDING_LENGTH, input_length=MAX_SEQUENCE_LENGTH))\n",
        "    model.add(Bidirectional(LSTM(HIDDEN_SIZE, return_sequences=True)))\n",
        "    # model.add(Dense(50))\n",
        "    model.add(TimeDistributed(Dense(2, activation=\"relu\")))\n",
        "    crf = CRF(2, learn_mode='marginal')\n",
        "    model.add(crf)\n",
        "    # model.add(Dense(1, activation='sigmoid'))\n",
        "\n",
        "    model.compile(Adam(lr=0.005), loss='binary_crossentropy', metrics=[crf_marginal_accuracy])\n",
        "    \n",
        "    callbacks = [EarlyStopping(monitor='val_crf_marginal_accuracy', patience=2),\n",
        "         ModelCheckpoint(filepath='best_model.h5', monitor='val_crf_marginal_accuracy', save_best_only=True)]\n",
        "\n",
        "    id = tag_to_idx[label]\n",
        "\n",
        "    x_train = pad_sequences(train['int_tokens'], padding='post', maxlen=MAX_SEQUENCE_LENGTH)\n",
        "    y_tmp = train['encoded_ner_tags'].apply(lambda x: [1 if t == id else 0 for t in x])\n",
        "    y_train = pad_sequences(y_tmp, padding='post', maxlen=MAX_SEQUENCE_LENGTH, value=0)\n",
        "    y_train = to_categorical(y_train, num_classes=2)\n",
        "    history = model.fit(\n",
        "        x=x_train,\n",
        "        y=y_train,\n",
        "        epochs=15,\n",
        "        batch_size=200,\n",
        "        callbacks=callbacks,\n",
        "        validation_split=0.1,\n",
        "    )\n",
        "\n",
        "    model.load_weights('best_model.h5')\n",
        "    model.save_weights(label + '.h5')\n",
        "    # models.append(model)"
      ],
      "execution_count": null,
      "outputs": [
        {
          "output_type": "stream",
          "text": [
            "Train on 2880 samples, validate on 320 samples\n",
            "Epoch 1/15\n",
            " 200/2880 [=>............................] - ETA: 3:21 - loss: 1.8294 - crf_marginal_accuracy: 6.4687e-04"
          ],
          "name": "stdout"
        },
        {
          "output_type": "error",
          "ename": "ResourceExhaustedError",
          "evalue": "ignored",
          "traceback": [
            "\u001b[0;31m---------------------------------------------------------------------------\u001b[0m",
            "\u001b[0;31mResourceExhaustedError\u001b[0m                    Traceback (most recent call last)",
            "\u001b[0;32m<ipython-input-14-43ab493f7a63>\u001b[0m in \u001b[0;36m<module>\u001b[0;34m()\u001b[0m\n\u001b[1;32m     26\u001b[0m         \u001b[0mbatch_size\u001b[0m\u001b[0;34m=\u001b[0m\u001b[0;36m200\u001b[0m\u001b[0;34m,\u001b[0m\u001b[0;34m\u001b[0m\u001b[0;34m\u001b[0m\u001b[0m\n\u001b[1;32m     27\u001b[0m         \u001b[0mcallbacks\u001b[0m\u001b[0;34m=\u001b[0m\u001b[0mcallbacks\u001b[0m\u001b[0;34m,\u001b[0m\u001b[0;34m\u001b[0m\u001b[0;34m\u001b[0m\u001b[0m\n\u001b[0;32m---> 28\u001b[0;31m         \u001b[0mvalidation_split\u001b[0m\u001b[0;34m=\u001b[0m\u001b[0;36m0.1\u001b[0m\u001b[0;34m,\u001b[0m\u001b[0;34m\u001b[0m\u001b[0;34m\u001b[0m\u001b[0m\n\u001b[0m\u001b[1;32m     29\u001b[0m     )\n\u001b[1;32m     30\u001b[0m \u001b[0;34m\u001b[0m\u001b[0m\n",
            "\u001b[0;32m/usr/local/lib/python3.7/dist-packages/keras/engine/training.py\u001b[0m in \u001b[0;36mfit\u001b[0;34m(self, x, y, batch_size, epochs, verbose, callbacks, validation_split, validation_data, shuffle, class_weight, sample_weight, initial_epoch, steps_per_epoch, validation_steps, **kwargs)\u001b[0m\n\u001b[1;32m   1037\u001b[0m                                         \u001b[0minitial_epoch\u001b[0m\u001b[0;34m=\u001b[0m\u001b[0minitial_epoch\u001b[0m\u001b[0;34m,\u001b[0m\u001b[0;34m\u001b[0m\u001b[0;34m\u001b[0m\u001b[0m\n\u001b[1;32m   1038\u001b[0m                                         \u001b[0msteps_per_epoch\u001b[0m\u001b[0;34m=\u001b[0m\u001b[0msteps_per_epoch\u001b[0m\u001b[0;34m,\u001b[0m\u001b[0;34m\u001b[0m\u001b[0;34m\u001b[0m\u001b[0m\n\u001b[0;32m-> 1039\u001b[0;31m                                         validation_steps=validation_steps)\n\u001b[0m\u001b[1;32m   1040\u001b[0m \u001b[0;34m\u001b[0m\u001b[0m\n\u001b[1;32m   1041\u001b[0m     def evaluate(self, x=None, y=None,\n",
            "\u001b[0;32m/usr/local/lib/python3.7/dist-packages/keras/engine/training_arrays.py\u001b[0m in \u001b[0;36mfit_loop\u001b[0;34m(model, f, ins, out_labels, batch_size, epochs, verbose, callbacks, val_f, val_ins, shuffle, callback_metrics, initial_epoch, steps_per_epoch, validation_steps)\u001b[0m\n\u001b[1;32m    197\u001b[0m                     \u001b[0mins_batch\u001b[0m\u001b[0;34m[\u001b[0m\u001b[0mi\u001b[0m\u001b[0;34m]\u001b[0m \u001b[0;34m=\u001b[0m \u001b[0mins_batch\u001b[0m\u001b[0;34m[\u001b[0m\u001b[0mi\u001b[0m\u001b[0;34m]\u001b[0m\u001b[0;34m.\u001b[0m\u001b[0mtoarray\u001b[0m\u001b[0;34m(\u001b[0m\u001b[0;34m)\u001b[0m\u001b[0;34m\u001b[0m\u001b[0;34m\u001b[0m\u001b[0m\n\u001b[1;32m    198\u001b[0m \u001b[0;34m\u001b[0m\u001b[0m\n\u001b[0;32m--> 199\u001b[0;31m                 \u001b[0mouts\u001b[0m \u001b[0;34m=\u001b[0m \u001b[0mf\u001b[0m\u001b[0;34m(\u001b[0m\u001b[0mins_batch\u001b[0m\u001b[0;34m)\u001b[0m\u001b[0;34m\u001b[0m\u001b[0;34m\u001b[0m\u001b[0m\n\u001b[0m\u001b[1;32m    200\u001b[0m                 \u001b[0mouts\u001b[0m \u001b[0;34m=\u001b[0m \u001b[0mto_list\u001b[0m\u001b[0;34m(\u001b[0m\u001b[0mouts\u001b[0m\u001b[0;34m)\u001b[0m\u001b[0;34m\u001b[0m\u001b[0;34m\u001b[0m\u001b[0m\n\u001b[1;32m    201\u001b[0m                 \u001b[0;32mfor\u001b[0m \u001b[0ml\u001b[0m\u001b[0;34m,\u001b[0m \u001b[0mo\u001b[0m \u001b[0;32min\u001b[0m \u001b[0mzip\u001b[0m\u001b[0;34m(\u001b[0m\u001b[0mout_labels\u001b[0m\u001b[0;34m,\u001b[0m \u001b[0mouts\u001b[0m\u001b[0;34m)\u001b[0m\u001b[0;34m:\u001b[0m\u001b[0;34m\u001b[0m\u001b[0;34m\u001b[0m\u001b[0m\n",
            "\u001b[0;32m/usr/local/lib/python3.7/dist-packages/keras/backend/tensorflow_backend.py\u001b[0m in \u001b[0;36m__call__\u001b[0;34m(self, inputs)\u001b[0m\n\u001b[1;32m   2713\u001b[0m                 \u001b[0;32mreturn\u001b[0m \u001b[0mself\u001b[0m\u001b[0;34m.\u001b[0m\u001b[0m_legacy_call\u001b[0m\u001b[0;34m(\u001b[0m\u001b[0minputs\u001b[0m\u001b[0;34m)\u001b[0m\u001b[0;34m\u001b[0m\u001b[0;34m\u001b[0m\u001b[0m\n\u001b[1;32m   2714\u001b[0m \u001b[0;34m\u001b[0m\u001b[0m\n\u001b[0;32m-> 2715\u001b[0;31m             \u001b[0;32mreturn\u001b[0m \u001b[0mself\u001b[0m\u001b[0;34m.\u001b[0m\u001b[0m_call\u001b[0m\u001b[0;34m(\u001b[0m\u001b[0minputs\u001b[0m\u001b[0;34m)\u001b[0m\u001b[0;34m\u001b[0m\u001b[0;34m\u001b[0m\u001b[0m\n\u001b[0m\u001b[1;32m   2716\u001b[0m         \u001b[0;32melse\u001b[0m\u001b[0;34m:\u001b[0m\u001b[0;34m\u001b[0m\u001b[0;34m\u001b[0m\u001b[0m\n\u001b[1;32m   2717\u001b[0m             \u001b[0;32mif\u001b[0m \u001b[0mpy_any\u001b[0m\u001b[0;34m(\u001b[0m\u001b[0mis_tensor\u001b[0m\u001b[0;34m(\u001b[0m\u001b[0mx\u001b[0m\u001b[0;34m)\u001b[0m \u001b[0;32mfor\u001b[0m \u001b[0mx\u001b[0m \u001b[0;32min\u001b[0m \u001b[0minputs\u001b[0m\u001b[0;34m)\u001b[0m\u001b[0;34m:\u001b[0m\u001b[0;34m\u001b[0m\u001b[0;34m\u001b[0m\u001b[0m\n",
            "\u001b[0;32m/usr/local/lib/python3.7/dist-packages/keras/backend/tensorflow_backend.py\u001b[0m in \u001b[0;36m_call\u001b[0;34m(self, inputs)\u001b[0m\n\u001b[1;32m   2673\u001b[0m             \u001b[0mfetched\u001b[0m \u001b[0;34m=\u001b[0m \u001b[0mself\u001b[0m\u001b[0;34m.\u001b[0m\u001b[0m_callable_fn\u001b[0m\u001b[0;34m(\u001b[0m\u001b[0;34m*\u001b[0m\u001b[0marray_vals\u001b[0m\u001b[0;34m,\u001b[0m \u001b[0mrun_metadata\u001b[0m\u001b[0;34m=\u001b[0m\u001b[0mself\u001b[0m\u001b[0;34m.\u001b[0m\u001b[0mrun_metadata\u001b[0m\u001b[0;34m)\u001b[0m\u001b[0;34m\u001b[0m\u001b[0;34m\u001b[0m\u001b[0m\n\u001b[1;32m   2674\u001b[0m         \u001b[0;32melse\u001b[0m\u001b[0;34m:\u001b[0m\u001b[0;34m\u001b[0m\u001b[0;34m\u001b[0m\u001b[0m\n\u001b[0;32m-> 2675\u001b[0;31m             \u001b[0mfetched\u001b[0m \u001b[0;34m=\u001b[0m \u001b[0mself\u001b[0m\u001b[0;34m.\u001b[0m\u001b[0m_callable_fn\u001b[0m\u001b[0;34m(\u001b[0m\u001b[0;34m*\u001b[0m\u001b[0marray_vals\u001b[0m\u001b[0;34m)\u001b[0m\u001b[0;34m\u001b[0m\u001b[0;34m\u001b[0m\u001b[0m\n\u001b[0m\u001b[1;32m   2676\u001b[0m         \u001b[0;32mreturn\u001b[0m \u001b[0mfetched\u001b[0m\u001b[0;34m[\u001b[0m\u001b[0;34m:\u001b[0m\u001b[0mlen\u001b[0m\u001b[0;34m(\u001b[0m\u001b[0mself\u001b[0m\u001b[0;34m.\u001b[0m\u001b[0moutputs\u001b[0m\u001b[0;34m)\u001b[0m\u001b[0;34m]\u001b[0m\u001b[0;34m\u001b[0m\u001b[0;34m\u001b[0m\u001b[0m\n\u001b[1;32m   2677\u001b[0m \u001b[0;34m\u001b[0m\u001b[0m\n",
            "\u001b[0;32m/usr/local/lib/python3.7/dist-packages/tensorflow_core/python/client/session.py\u001b[0m in \u001b[0;36m__call__\u001b[0;34m(self, *args, **kwargs)\u001b[0m\n\u001b[1;32m   1470\u001b[0m         ret = tf_session.TF_SessionRunCallable(self._session._session,\n\u001b[1;32m   1471\u001b[0m                                                \u001b[0mself\u001b[0m\u001b[0;34m.\u001b[0m\u001b[0m_handle\u001b[0m\u001b[0;34m,\u001b[0m \u001b[0margs\u001b[0m\u001b[0;34m,\u001b[0m\u001b[0;34m\u001b[0m\u001b[0;34m\u001b[0m\u001b[0m\n\u001b[0;32m-> 1472\u001b[0;31m                                                run_metadata_ptr)\n\u001b[0m\u001b[1;32m   1473\u001b[0m         \u001b[0;32mif\u001b[0m \u001b[0mrun_metadata\u001b[0m\u001b[0;34m:\u001b[0m\u001b[0;34m\u001b[0m\u001b[0;34m\u001b[0m\u001b[0m\n\u001b[1;32m   1474\u001b[0m           \u001b[0mproto_data\u001b[0m \u001b[0;34m=\u001b[0m \u001b[0mtf_session\u001b[0m\u001b[0;34m.\u001b[0m\u001b[0mTF_GetBuffer\u001b[0m\u001b[0;34m(\u001b[0m\u001b[0mrun_metadata_ptr\u001b[0m\u001b[0;34m)\u001b[0m\u001b[0;34m\u001b[0m\u001b[0;34m\u001b[0m\u001b[0m\n",
            "\u001b[0;31mResourceExhaustedError\u001b[0m: OOM when allocating tensor with shape[943,200,700] and type float on /job:localhost/replica:0/task:0/device:GPU:0 by allocator GPU_0_bfc\n\t [[{{node training_15/Adam/gradients/bidirectional_16/ReverseV2_grad/ReverseV2}}]]\nHint: If you want to see a list of allocated tensors when OOM happens, add report_tensor_allocations_upon_oom to RunOptions for current allocation info.\n"
          ]
        }
      ]
    }
  ]
}