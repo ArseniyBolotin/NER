{
  "nbformat": 4,
  "nbformat_minor": 0,
  "metadata": {
    "kernelspec": {
      "display_name": "Python 3",
      "language": "python",
      "name": "python3"
    },
    "language_info": {
      "codemirror_mode": {
        "name": "ipython",
        "version": 3
      },
      "file_extension": ".py",
      "mimetype": "text/x-python",
      "name": "python",
      "nbconvert_exporter": "python",
      "pygments_lexer": "ipython3",
      "version": "3.7.4"
    },
    "colab": {
      "name": "RFQ_BiLSTM_CRF.ipynb",
      "provenance": [],
      "collapsed_sections": []
    },
    "accelerator": "GPU"
  },
  "cells": [
    {
      "cell_type": "markdown",
      "metadata": {
        "id": "P-m5xc_kgT0J"
      },
      "source": [
        "##Data"
      ]
    },
    {
      "cell_type": "code",
      "metadata": {
        "id": "k0r8SfGi91zt",
        "colab": {
          "base_uri": "https://localhost:8080/"
        },
        "outputId": "090de07a-12fa-48f0-c7c4-166ca203b763"
      },
      "source": [
        "!pip install keras-crf\n",
        "!pip install tensorflow==1.15.0 keras==2.2.4\n",
        "!pip install sklearn_crfsuite\n",
        "!pip install git+https://www.github.com/keras-team/keras-contrib.git"
      ],
      "execution_count": 1,
      "outputs": [
        {
          "output_type": "stream",
          "text": [
            "Collecting keras-crf\n",
            "  Downloading https://files.pythonhosted.org/packages/64/a8/e8b11718872f1564787e27375b116288bf66abc2acb2bbdd36539f568238/keras_crf-0.2.0-py3-none-any.whl\n",
            "Collecting seqeval\n",
            "\u001b[?25l  Downloading https://files.pythonhosted.org/packages/9d/2d/233c79d5b4e5ab1dbf111242299153f3caddddbb691219f363ad55ce783d/seqeval-1.2.2.tar.gz (43kB)\n",
            "\u001b[K     |████████████████████████████████| 51kB 4.7MB/s \n",
            "\u001b[?25hCollecting tensorflow-addons\n",
            "\u001b[?25l  Downloading https://files.pythonhosted.org/packages/66/4b/e893d194e626c24b3df2253066aa418f46a432fdb68250cde14bf9bb0700/tensorflow_addons-0.13.0-cp37-cp37m-manylinux2010_x86_64.whl (679kB)\n",
            "\u001b[K     |████████████████████████████████| 686kB 18.9MB/s \n",
            "\u001b[?25hRequirement already satisfied: tensorflow in /usr/local/lib/python3.7/dist-packages (from keras-crf) (2.4.1)\n",
            "Requirement already satisfied: numpy>=1.14.0 in /usr/local/lib/python3.7/dist-packages (from seqeval->keras-crf) (1.19.5)\n",
            "Requirement already satisfied: scikit-learn>=0.21.3 in /usr/local/lib/python3.7/dist-packages (from seqeval->keras-crf) (0.22.2.post1)\n",
            "Requirement already satisfied: typeguard>=2.7 in /usr/local/lib/python3.7/dist-packages (from tensorflow-addons->keras-crf) (2.7.1)\n",
            "Requirement already satisfied: flatbuffers~=1.12.0 in /usr/local/lib/python3.7/dist-packages (from tensorflow->keras-crf) (1.12)\n",
            "Requirement already satisfied: google-pasta~=0.2 in /usr/local/lib/python3.7/dist-packages (from tensorflow->keras-crf) (0.2.0)\n",
            "Requirement already satisfied: astunparse~=1.6.3 in /usr/local/lib/python3.7/dist-packages (from tensorflow->keras-crf) (1.6.3)\n",
            "Requirement already satisfied: six~=1.15.0 in /usr/local/lib/python3.7/dist-packages (from tensorflow->keras-crf) (1.15.0)\n",
            "Requirement already satisfied: opt-einsum~=3.3.0 in /usr/local/lib/python3.7/dist-packages (from tensorflow->keras-crf) (3.3.0)\n",
            "Requirement already satisfied: tensorboard~=2.4 in /usr/local/lib/python3.7/dist-packages (from tensorflow->keras-crf) (2.4.1)\n",
            "Requirement already satisfied: termcolor~=1.1.0 in /usr/local/lib/python3.7/dist-packages (from tensorflow->keras-crf) (1.1.0)\n",
            "Requirement already satisfied: wrapt~=1.12.1 in /usr/local/lib/python3.7/dist-packages (from tensorflow->keras-crf) (1.12.1)\n",
            "Requirement already satisfied: tensorflow-estimator<2.5.0,>=2.4.0 in /usr/local/lib/python3.7/dist-packages (from tensorflow->keras-crf) (2.4.0)\n",
            "Requirement already satisfied: h5py~=2.10.0 in /usr/local/lib/python3.7/dist-packages (from tensorflow->keras-crf) (2.10.0)\n",
            "Requirement already satisfied: protobuf>=3.9.2 in /usr/local/lib/python3.7/dist-packages (from tensorflow->keras-crf) (3.12.4)\n",
            "Requirement already satisfied: wheel~=0.35 in /usr/local/lib/python3.7/dist-packages (from tensorflow->keras-crf) (0.36.2)\n",
            "Requirement already satisfied: gast==0.3.3 in /usr/local/lib/python3.7/dist-packages (from tensorflow->keras-crf) (0.3.3)\n",
            "Requirement already satisfied: typing-extensions~=3.7.4 in /usr/local/lib/python3.7/dist-packages (from tensorflow->keras-crf) (3.7.4.3)\n",
            "Requirement already satisfied: keras-preprocessing~=1.1.2 in /usr/local/lib/python3.7/dist-packages (from tensorflow->keras-crf) (1.1.2)\n",
            "Requirement already satisfied: absl-py~=0.10 in /usr/local/lib/python3.7/dist-packages (from tensorflow->keras-crf) (0.12.0)\n",
            "Requirement already satisfied: grpcio~=1.32.0 in /usr/local/lib/python3.7/dist-packages (from tensorflow->keras-crf) (1.32.0)\n",
            "Requirement already satisfied: joblib>=0.11 in /usr/local/lib/python3.7/dist-packages (from scikit-learn>=0.21.3->seqeval->keras-crf) (1.0.1)\n",
            "Requirement already satisfied: scipy>=0.17.0 in /usr/local/lib/python3.7/dist-packages (from scikit-learn>=0.21.3->seqeval->keras-crf) (1.4.1)\n",
            "Requirement already satisfied: markdown>=2.6.8 in /usr/local/lib/python3.7/dist-packages (from tensorboard~=2.4->tensorflow->keras-crf) (3.3.4)\n",
            "Requirement already satisfied: google-auth-oauthlib<0.5,>=0.4.1 in /usr/local/lib/python3.7/dist-packages (from tensorboard~=2.4->tensorflow->keras-crf) (0.4.4)\n",
            "Requirement already satisfied: requests<3,>=2.21.0 in /usr/local/lib/python3.7/dist-packages (from tensorboard~=2.4->tensorflow->keras-crf) (2.23.0)\n",
            "Requirement already satisfied: setuptools>=41.0.0 in /usr/local/lib/python3.7/dist-packages (from tensorboard~=2.4->tensorflow->keras-crf) (56.1.0)\n",
            "Requirement already satisfied: tensorboard-plugin-wit>=1.6.0 in /usr/local/lib/python3.7/dist-packages (from tensorboard~=2.4->tensorflow->keras-crf) (1.8.0)\n",
            "Requirement already satisfied: werkzeug>=0.11.15 in /usr/local/lib/python3.7/dist-packages (from tensorboard~=2.4->tensorflow->keras-crf) (2.0.0)\n",
            "Requirement already satisfied: google-auth<2,>=1.6.3 in /usr/local/lib/python3.7/dist-packages (from tensorboard~=2.4->tensorflow->keras-crf) (1.30.0)\n",
            "Requirement already satisfied: importlib-metadata; python_version < \"3.8\" in /usr/local/lib/python3.7/dist-packages (from markdown>=2.6.8->tensorboard~=2.4->tensorflow->keras-crf) (4.0.1)\n",
            "Requirement already satisfied: requests-oauthlib>=0.7.0 in /usr/local/lib/python3.7/dist-packages (from google-auth-oauthlib<0.5,>=0.4.1->tensorboard~=2.4->tensorflow->keras-crf) (1.3.0)\n",
            "Requirement already satisfied: urllib3!=1.25.0,!=1.25.1,<1.26,>=1.21.1 in /usr/local/lib/python3.7/dist-packages (from requests<3,>=2.21.0->tensorboard~=2.4->tensorflow->keras-crf) (1.24.3)\n",
            "Requirement already satisfied: certifi>=2017.4.17 in /usr/local/lib/python3.7/dist-packages (from requests<3,>=2.21.0->tensorboard~=2.4->tensorflow->keras-crf) (2020.12.5)\n",
            "Requirement already satisfied: chardet<4,>=3.0.2 in /usr/local/lib/python3.7/dist-packages (from requests<3,>=2.21.0->tensorboard~=2.4->tensorflow->keras-crf) (3.0.4)\n",
            "Requirement already satisfied: idna<3,>=2.5 in /usr/local/lib/python3.7/dist-packages (from requests<3,>=2.21.0->tensorboard~=2.4->tensorflow->keras-crf) (2.10)\n",
            "Requirement already satisfied: rsa<5,>=3.1.4; python_version >= \"3.6\" in /usr/local/lib/python3.7/dist-packages (from google-auth<2,>=1.6.3->tensorboard~=2.4->tensorflow->keras-crf) (4.7.2)\n",
            "Requirement already satisfied: cachetools<5.0,>=2.0.0 in /usr/local/lib/python3.7/dist-packages (from google-auth<2,>=1.6.3->tensorboard~=2.4->tensorflow->keras-crf) (4.2.2)\n",
            "Requirement already satisfied: pyasn1-modules>=0.2.1 in /usr/local/lib/python3.7/dist-packages (from google-auth<2,>=1.6.3->tensorboard~=2.4->tensorflow->keras-crf) (0.2.8)\n",
            "Requirement already satisfied: zipp>=0.5 in /usr/local/lib/python3.7/dist-packages (from importlib-metadata; python_version < \"3.8\"->markdown>=2.6.8->tensorboard~=2.4->tensorflow->keras-crf) (3.4.1)\n",
            "Requirement already satisfied: oauthlib>=3.0.0 in /usr/local/lib/python3.7/dist-packages (from requests-oauthlib>=0.7.0->google-auth-oauthlib<0.5,>=0.4.1->tensorboard~=2.4->tensorflow->keras-crf) (3.1.0)\n",
            "Requirement already satisfied: pyasn1>=0.1.3 in /usr/local/lib/python3.7/dist-packages (from rsa<5,>=3.1.4; python_version >= \"3.6\"->google-auth<2,>=1.6.3->tensorboard~=2.4->tensorflow->keras-crf) (0.4.8)\n",
            "Building wheels for collected packages: seqeval\n",
            "  Building wheel for seqeval (setup.py) ... \u001b[?25l\u001b[?25hdone\n",
            "  Created wheel for seqeval: filename=seqeval-1.2.2-cp37-none-any.whl size=16172 sha256=e13007e6ee12b8127c135e95fa66dfe547c5ef26eceef8f5b41ef54e57363f2e\n",
            "  Stored in directory: /root/.cache/pip/wheels/52/df/1b/45d75646c37428f7e626214704a0e35bd3cfc32eda37e59e5f\n",
            "Successfully built seqeval\n",
            "Installing collected packages: seqeval, tensorflow-addons, keras-crf\n",
            "Successfully installed keras-crf-0.2.0 seqeval-1.2.2 tensorflow-addons-0.13.0\n",
            "Collecting tensorflow==1.15.0\n",
            "\u001b[?25l  Downloading https://files.pythonhosted.org/packages/92/2b/e3af15221da9ff323521565fa3324b0d7c7c5b1d7a8ca66984c8d59cb0ce/tensorflow-1.15.0-cp37-cp37m-manylinux2010_x86_64.whl (412.3MB)\n",
            "\u001b[K     |████████████████████████████████| 412.3MB 24kB/s \n",
            "\u001b[?25hCollecting keras==2.2.4\n",
            "\u001b[?25l  Downloading https://files.pythonhosted.org/packages/5e/10/aa32dad071ce52b5502266b5c659451cfd6ffcbf14e6c8c4f16c0ff5aaab/Keras-2.2.4-py2.py3-none-any.whl (312kB)\n",
            "\u001b[K     |████████████████████████████████| 317kB 37.2MB/s \n",
            "\u001b[?25hCollecting tensorboard<1.16.0,>=1.15.0\n",
            "\u001b[?25l  Downloading https://files.pythonhosted.org/packages/1e/e9/d3d747a97f7188f48aa5eda486907f3b345cd409f0a0850468ba867db246/tensorboard-1.15.0-py3-none-any.whl (3.8MB)\n",
            "\u001b[K     |████████████████████████████████| 3.8MB 32.6MB/s \n",
            "\u001b[?25hRequirement already satisfied: keras-preprocessing>=1.0.5 in /usr/local/lib/python3.7/dist-packages (from tensorflow==1.15.0) (1.1.2)\n",
            "Requirement already satisfied: protobuf>=3.6.1 in /usr/local/lib/python3.7/dist-packages (from tensorflow==1.15.0) (3.12.4)\n",
            "Requirement already satisfied: astor>=0.6.0 in /usr/local/lib/python3.7/dist-packages (from tensorflow==1.15.0) (0.8.1)\n",
            "Requirement already satisfied: grpcio>=1.8.6 in /usr/local/lib/python3.7/dist-packages (from tensorflow==1.15.0) (1.32.0)\n",
            "Requirement already satisfied: termcolor>=1.1.0 in /usr/local/lib/python3.7/dist-packages (from tensorflow==1.15.0) (1.1.0)\n",
            "Requirement already satisfied: wheel>=0.26 in /usr/local/lib/python3.7/dist-packages (from tensorflow==1.15.0) (0.36.2)\n",
            "Requirement already satisfied: six>=1.10.0 in /usr/local/lib/python3.7/dist-packages (from tensorflow==1.15.0) (1.15.0)\n",
            "Collecting gast==0.2.2\n",
            "  Downloading https://files.pythonhosted.org/packages/4e/35/11749bf99b2d4e3cceb4d55ca22590b0d7c2c62b9de38ac4a4a7f4687421/gast-0.2.2.tar.gz\n",
            "Collecting keras-applications>=1.0.8\n",
            "\u001b[?25l  Downloading https://files.pythonhosted.org/packages/71/e3/19762fdfc62877ae9102edf6342d71b28fbfd9dea3d2f96a882ce099b03f/Keras_Applications-1.0.8-py3-none-any.whl (50kB)\n",
            "\u001b[K     |████████████████████████████████| 51kB 6.4MB/s \n",
            "\u001b[?25hRequirement already satisfied: numpy<2.0,>=1.16.0 in /usr/local/lib/python3.7/dist-packages (from tensorflow==1.15.0) (1.19.5)\n",
            "Collecting tensorflow-estimator==1.15.1\n",
            "\u001b[?25l  Downloading https://files.pythonhosted.org/packages/de/62/2ee9cd74c9fa2fa450877847ba560b260f5d0fb70ee0595203082dafcc9d/tensorflow_estimator-1.15.1-py2.py3-none-any.whl (503kB)\n",
            "\u001b[K     |████████████████████████████████| 512kB 34.8MB/s \n",
            "\u001b[?25hRequirement already satisfied: opt-einsum>=2.3.2 in /usr/local/lib/python3.7/dist-packages (from tensorflow==1.15.0) (3.3.0)\n",
            "Requirement already satisfied: wrapt>=1.11.1 in /usr/local/lib/python3.7/dist-packages (from tensorflow==1.15.0) (1.12.1)\n",
            "Requirement already satisfied: absl-py>=0.7.0 in /usr/local/lib/python3.7/dist-packages (from tensorflow==1.15.0) (0.12.0)\n",
            "Requirement already satisfied: google-pasta>=0.1.6 in /usr/local/lib/python3.7/dist-packages (from tensorflow==1.15.0) (0.2.0)\n",
            "Requirement already satisfied: pyyaml in /usr/local/lib/python3.7/dist-packages (from keras==2.2.4) (3.13)\n",
            "Requirement already satisfied: scipy>=0.14 in /usr/local/lib/python3.7/dist-packages (from keras==2.2.4) (1.4.1)\n",
            "Requirement already satisfied: h5py in /usr/local/lib/python3.7/dist-packages (from keras==2.2.4) (2.10.0)\n",
            "Requirement already satisfied: werkzeug>=0.11.15 in /usr/local/lib/python3.7/dist-packages (from tensorboard<1.16.0,>=1.15.0->tensorflow==1.15.0) (2.0.0)\n",
            "Requirement already satisfied: setuptools>=41.0.0 in /usr/local/lib/python3.7/dist-packages (from tensorboard<1.16.0,>=1.15.0->tensorflow==1.15.0) (56.1.0)\n",
            "Requirement already satisfied: markdown>=2.6.8 in /usr/local/lib/python3.7/dist-packages (from tensorboard<1.16.0,>=1.15.0->tensorflow==1.15.0) (3.3.4)\n",
            "Requirement already satisfied: importlib-metadata; python_version < \"3.8\" in /usr/local/lib/python3.7/dist-packages (from markdown>=2.6.8->tensorboard<1.16.0,>=1.15.0->tensorflow==1.15.0) (4.0.1)\n",
            "Requirement already satisfied: typing-extensions>=3.6.4; python_version < \"3.8\" in /usr/local/lib/python3.7/dist-packages (from importlib-metadata; python_version < \"3.8\"->markdown>=2.6.8->tensorboard<1.16.0,>=1.15.0->tensorflow==1.15.0) (3.7.4.3)\n",
            "Requirement already satisfied: zipp>=0.5 in /usr/local/lib/python3.7/dist-packages (from importlib-metadata; python_version < \"3.8\"->markdown>=2.6.8->tensorboard<1.16.0,>=1.15.0->tensorflow==1.15.0) (3.4.1)\n",
            "Building wheels for collected packages: gast\n",
            "  Building wheel for gast (setup.py) ... \u001b[?25l\u001b[?25hdone\n",
            "  Created wheel for gast: filename=gast-0.2.2-cp37-none-any.whl size=7540 sha256=9355a2c56debbad3eea54dd90884851de5ae7de957a9a3145dc55f3e2a060628\n",
            "  Stored in directory: /root/.cache/pip/wheels/5c/2e/7e/a1d4d4fcebe6c381f378ce7743a3ced3699feb89bcfbdadadd\n",
            "Successfully built gast\n",
            "\u001b[31mERROR: tensorflow-probability 0.12.1 has requirement gast>=0.3.2, but you'll have gast 0.2.2 which is incompatible.\u001b[0m\n",
            "Installing collected packages: tensorboard, gast, keras-applications, tensorflow-estimator, tensorflow, keras\n",
            "  Found existing installation: tensorboard 2.4.1\n",
            "    Uninstalling tensorboard-2.4.1:\n",
            "      Successfully uninstalled tensorboard-2.4.1\n",
            "  Found existing installation: gast 0.3.3\n",
            "    Uninstalling gast-0.3.3:\n",
            "      Successfully uninstalled gast-0.3.3\n",
            "  Found existing installation: tensorflow-estimator 2.4.0\n",
            "    Uninstalling tensorflow-estimator-2.4.0:\n",
            "      Successfully uninstalled tensorflow-estimator-2.4.0\n",
            "  Found existing installation: tensorflow 2.4.1\n",
            "    Uninstalling tensorflow-2.4.1:\n",
            "      Successfully uninstalled tensorflow-2.4.1\n",
            "  Found existing installation: Keras 2.4.3\n",
            "    Uninstalling Keras-2.4.3:\n",
            "      Successfully uninstalled Keras-2.4.3\n",
            "Successfully installed gast-0.2.2 keras-2.2.4 keras-applications-1.0.8 tensorboard-1.15.0 tensorflow-1.15.0 tensorflow-estimator-1.15.1\n",
            "Collecting sklearn_crfsuite\n",
            "  Downloading https://files.pythonhosted.org/packages/25/74/5b7befa513482e6dee1f3dd68171a6c9dfc14c0eaa00f885ffeba54fe9b0/sklearn_crfsuite-0.3.6-py2.py3-none-any.whl\n",
            "Requirement already satisfied: tabulate in /usr/local/lib/python3.7/dist-packages (from sklearn_crfsuite) (0.8.9)\n",
            "Collecting python-crfsuite>=0.8.3\n",
            "\u001b[?25l  Downloading https://files.pythonhosted.org/packages/79/47/58f16c46506139f17de4630dbcfb877ce41a6355a1bbf3c443edb9708429/python_crfsuite-0.9.7-cp37-cp37m-manylinux1_x86_64.whl (743kB)\n",
            "\u001b[K     |████████████████████████████████| 747kB 10.9MB/s \n",
            "\u001b[?25hRequirement already satisfied: six in /usr/local/lib/python3.7/dist-packages (from sklearn_crfsuite) (1.15.0)\n",
            "Requirement already satisfied: tqdm>=2.0 in /usr/local/lib/python3.7/dist-packages (from sklearn_crfsuite) (4.41.1)\n",
            "Installing collected packages: python-crfsuite, sklearn-crfsuite\n",
            "Successfully installed python-crfsuite-0.9.7 sklearn-crfsuite-0.3.6\n",
            "Collecting git+https://www.github.com/keras-team/keras-contrib.git\n",
            "  Cloning https://www.github.com/keras-team/keras-contrib.git to /tmp/pip-req-build-bbsn0b7i\n",
            "  Running command git clone -q https://www.github.com/keras-team/keras-contrib.git /tmp/pip-req-build-bbsn0b7i\n",
            "Requirement already satisfied: keras in /usr/local/lib/python3.7/dist-packages (from keras-contrib==2.0.8) (2.2.4)\n",
            "Requirement already satisfied: keras-preprocessing>=1.0.5 in /usr/local/lib/python3.7/dist-packages (from keras->keras-contrib==2.0.8) (1.1.2)\n",
            "Requirement already satisfied: numpy>=1.9.1 in /usr/local/lib/python3.7/dist-packages (from keras->keras-contrib==2.0.8) (1.19.5)\n",
            "Requirement already satisfied: six>=1.9.0 in /usr/local/lib/python3.7/dist-packages (from keras->keras-contrib==2.0.8) (1.15.0)\n",
            "Requirement already satisfied: keras-applications>=1.0.6 in /usr/local/lib/python3.7/dist-packages (from keras->keras-contrib==2.0.8) (1.0.8)\n",
            "Requirement already satisfied: scipy>=0.14 in /usr/local/lib/python3.7/dist-packages (from keras->keras-contrib==2.0.8) (1.4.1)\n",
            "Requirement already satisfied: h5py in /usr/local/lib/python3.7/dist-packages (from keras->keras-contrib==2.0.8) (2.10.0)\n",
            "Requirement already satisfied: pyyaml in /usr/local/lib/python3.7/dist-packages (from keras->keras-contrib==2.0.8) (3.13)\n",
            "Building wheels for collected packages: keras-contrib\n",
            "  Building wheel for keras-contrib (setup.py) ... \u001b[?25l\u001b[?25hdone\n",
            "  Created wheel for keras-contrib: filename=keras_contrib-2.0.8-cp37-none-any.whl size=101065 sha256=c770580e02dcded4d0c2cf1066bb548048cd747f46acabb121a758358aee967e\n",
            "  Stored in directory: /tmp/pip-ephem-wheel-cache-q0m13b3l/wheels/11/27/c8/4ed56de7b55f4f61244e2dc6ef3cdbaff2692527a2ce6502ba\n",
            "Successfully built keras-contrib\n",
            "Installing collected packages: keras-contrib\n",
            "Successfully installed keras-contrib-2.0.8\n"
          ],
          "name": "stdout"
        }
      ]
    },
    {
      "cell_type": "code",
      "metadata": {
        "id": "FeB5ReEC9zGb",
        "colab": {
          "base_uri": "https://localhost:8080/"
        },
        "outputId": "aac726e9-71e4-4923-bac0-f02a8769e7b8"
      },
      "source": [
        "import numpy as np\n",
        "import pandas as pd\n",
        "import tensorflow as tf\n",
        "from keras.models import *\n",
        "from keras.optimizers import Adam\n",
        "from sklearn_crfsuite import metrics\n",
        "from keras_contrib.layers import CRF\n",
        "from keras.utils import to_categorical\n",
        "from keras_contrib.losses import crf_loss\n",
        "from keras.preprocessing.sequence import pad_sequences\n",
        "from keras.callbacks import EarlyStopping, ModelCheckpoint\n",
        "from keras_contrib.metrics import crf_viterbi_accuracy, crf_marginal_accuracy\n",
        "from keras.layers import LSTM, Embedding, Dense, TimeDistributed, Dropout, Bidirectional, Input"
      ],
      "execution_count": 2,
      "outputs": [
        {
          "output_type": "stream",
          "text": [
            "Using TensorFlow backend.\n"
          ],
          "name": "stderr"
        }
      ]
    },
    {
      "cell_type": "code",
      "metadata": {
        "colab": {
          "base_uri": "https://localhost:8080/"
        },
        "id": "4j45MMoygtVu",
        "outputId": "92b930c4-b43c-46c8-b803-31a1a87aa94d"
      },
      "source": [
        "!gdown --id 1L6dd0FnYqgn-eoQ-gFnBiNji7R1ul9n_\n",
        "!gdown --id 1-5mE9XjocmyCKGlkpW1YGuCnNsGwQioD\n",
        "!gdown --id 1d4er4I7x4VIwy7BsWFpsPuC2z6aZ3P6s"
      ],
      "execution_count": 3,
      "outputs": [
        {
          "output_type": "stream",
          "text": [
            "Downloading...\n",
            "From: https://drive.google.com/uc?id=1L6dd0FnYqgn-eoQ-gFnBiNji7R1ul9n_\n",
            "To: /content/NER_RFQ_agg.csv\n",
            "4.39MB [00:00, 29.0MB/s]\n",
            "Downloading...\n",
            "From: https://drive.google.com/uc?id=1-5mE9XjocmyCKGlkpW1YGuCnNsGwQioD\n",
            "To: /content/NER_RFQ_agg_train.csv\n",
            "3.48MB [00:00, 112MB/s]\n",
            "Downloading...\n",
            "From: https://drive.google.com/uc?id=1d4er4I7x4VIwy7BsWFpsPuC2z6aZ3P6s\n",
            "To: /content/NER_RFQ_agg_test.csv\n",
            "100% 909k/909k [00:00<00:00, 60.3MB/s]\n"
          ],
          "name": "stdout"
        }
      ]
    },
    {
      "cell_type": "code",
      "metadata": {
        "id": "QE6uVM7vgwdk"
      },
      "source": [
        "df = pd.read_csv('NER_RFQ_agg.csv', converters={'tokens': eval, 'ner_tags': eval})\n",
        "train = pd.read_csv('NER_RFQ_agg_train.csv', converters={'tokens': eval, 'ner_tags': eval})\n",
        "test = pd.read_csv('NER_RFQ_agg_test.csv', converters={'tokens': eval, 'ner_tags': eval})\n",
        "\n",
        "all_dfs = [df, train, test]"
      ],
      "execution_count": 4,
      "outputs": []
    },
    {
      "cell_type": "code",
      "metadata": {
        "id": "Er0ERkbphFkz"
      },
      "source": [
        "all_tags = set()\n",
        "word_to_ix = {}\n",
        "for _, row in df.iterrows():\n",
        "    for tag in row.ner_tags:\n",
        "        all_tags.add(tag)\n",
        "    for word in row.tokens:\n",
        "        if word not in word_to_ix:\n",
        "            word_to_ix[word] = len(word_to_ix)\n",
        "all_tags = sorted(list(all_tags))\n",
        "tag_to_idx = {t: i for i, t in enumerate(all_tags)}\n",
        "label_list = {i: t for i, t in enumerate(all_tags)}\n",
        "labels = list(tag_to_idx.keys())\n",
        "labels.remove('O')\n",
        "labels = sorted(labels, key=lambda name: (name[1:], name[0]))"
      ],
      "execution_count": 5,
      "outputs": []
    },
    {
      "cell_type": "code",
      "metadata": {
        "id": "d9kIq0d-iW4w"
      },
      "source": [
        "def find_token(x):\n",
        "    res = []\n",
        "    for w in x['tokens']:\n",
        "        if w in word_to_ix.keys():\n",
        "            res.append(word_to_ix[w])\n",
        "        else:\n",
        "            res.append(0)\n",
        "    return res\n",
        "\n",
        "for d in all_dfs:\n",
        "    d['encoded_ner_tags'] = d.apply(lambda x: [tag_to_idx[t] for t in x['ner_tags']], axis=1)\n",
        "    d['int_tokens'] = d.apply(find_token, axis=1)"
      ],
      "execution_count": 6,
      "outputs": []
    },
    {
      "cell_type": "code",
      "metadata": {
        "colab": {
          "base_uri": "https://localhost:8080/",
          "height": 419
        },
        "id": "honR3O_JihGN",
        "outputId": "50644142-5b83-464f-e117-f4e3302602fd"
      },
      "source": [
        "df"
      ],
      "execution_count": 7,
      "outputs": [
        {
          "output_type": "execute_result",
          "data": {
            "text/html": [
              "<div>\n",
              "<style scoped>\n",
              "    .dataframe tbody tr th:only-of-type {\n",
              "        vertical-align: middle;\n",
              "    }\n",
              "\n",
              "    .dataframe tbody tr th {\n",
              "        vertical-align: top;\n",
              "    }\n",
              "\n",
              "    .dataframe thead th {\n",
              "        text-align: right;\n",
              "    }\n",
              "</style>\n",
              "<table border=\"1\" class=\"dataframe\">\n",
              "  <thead>\n",
              "    <tr style=\"text-align: right;\">\n",
              "      <th></th>\n",
              "      <th>id</th>\n",
              "      <th>tokens</th>\n",
              "      <th>ner_tags</th>\n",
              "      <th>encoded_ner_tags</th>\n",
              "      <th>int_tokens</th>\n",
              "    </tr>\n",
              "  </thead>\n",
              "  <tbody>\n",
              "    <tr>\n",
              "      <th>0</th>\n",
              "      <td>119287R.msg</td>\n",
              "      <td>[name, 119287r.msg, &lt;aogdesk@nordstar.ru&gt;, &lt;mv...</td>\n",
              "      <td>[O, O, O, O, O, O, O, O, O, O, O, O, O, O, O, ...</td>\n",
              "      <td>[2, 2, 2, 2, 2, 2, 2, 2, 2, 2, 2, 2, 2, 2, 2, ...</td>\n",
              "      <td>[0, 1, 2, 3, 4, 5, 6, 7, 8, 9, 10, 9, 11, 12, ...</td>\n",
              "    </tr>\n",
              "    <tr>\n",
              "      <th>1</th>\n",
              "      <td>119735R.msg</td>\n",
              "      <td>[name, 119735r.msg, &lt;aogdesk@nordstar.ru&gt;, &lt;mv...</td>\n",
              "      <td>[O, O, O, O, O, O, O, O, O, O, O, O, O, O, O, ...</td>\n",
              "      <td>[2, 2, 2, 2, 2, 2, 2, 2, 2, 2, 2, 2, 2, 2, 2, ...</td>\n",
              "      <td>[0, 72, 2, 3, 4, 5, 6, 73, 74, 75, 8, 9, 10, 9...</td>\n",
              "    </tr>\n",
              "    <tr>\n",
              "      <th>2</th>\n",
              "      <td>120421R.msg</td>\n",
              "      <td>[name, 120421r.msg, d.klebcha@s7.ru, &lt;d.klebch...</td>\n",
              "      <td>[O, O, O, O, O, O, O, O, B-GoodsString, I-Good...</td>\n",
              "      <td>[2, 2, 2, 2, 2, 2, 2, 2, 0, 1, 2, 2, 2, 2, 2, ...</td>\n",
              "      <td>[0, 90, 91, 92, 93, 94, 5, 95, 96, 97, 98, 8, ...</td>\n",
              "    </tr>\n",
              "    <tr>\n",
              "      <th>3</th>\n",
              "      <td>120660R.msg</td>\n",
              "      <td>[name, 120660r.msg, yuliya, a., kondratova, &lt;y...</td>\n",
              "      <td>[O, O, O, O, O, O, O, O, O, O, O, O, O, O, O, ...</td>\n",
              "      <td>[2, 2, 2, 2, 2, 2, 2, 2, 2, 2, 2, 2, 2, 2, 2, ...</td>\n",
              "      <td>[0, 134, 135, 136, 137, 138, 70, 5, 95, 139, 1...</td>\n",
              "    </tr>\n",
              "    <tr>\n",
              "      <th>4</th>\n",
              "      <td>120660R.msg</td>\n",
              "      <td>[name, 120660r.msg, yuliya, a., kondratova, &lt;y...</td>\n",
              "      <td>[O, O, O, O, O, O, O, O, O, O, O, O, O, O, O, ...</td>\n",
              "      <td>[2, 2, 2, 2, 2, 2, 2, 2, 2, 2, 2, 2, 2, 2, 2, ...</td>\n",
              "      <td>[0, 134, 135, 136, 137, 138, 70, 5, 95, 139, 1...</td>\n",
              "    </tr>\n",
              "    <tr>\n",
              "      <th>...</th>\n",
              "      <td>...</td>\n",
              "      <td>...</td>\n",
              "      <td>...</td>\n",
              "      <td>...</td>\n",
              "      <td>...</td>\n",
              "    </tr>\n",
              "    <tr>\n",
              "      <th>1187</th>\n",
              "      <td>123527R.msg</td>\n",
              "      <td>[name, 123527r.msg, =?utf-8?b?0kprincw0lrqvtcy...</td>\n",
              "      <td>[O, O, O, O, O, O, O, O, B-GoodsString, O, O, ...</td>\n",
              "      <td>[2, 2, 2, 2, 2, 2, 2, 2, 0, 2, 2, 2, 2, 2, 2, ...</td>\n",
              "      <td>[0, 12334, 1662, 1663, 1664, 70, 5, 1665, 1233...</td>\n",
              "    </tr>\n",
              "    <tr>\n",
              "      <th>1188</th>\n",
              "      <td>123088R.msg</td>\n",
              "      <td>[name, 123088r.msg, lakshmi, suresh, &lt;lakshmi@...</td>\n",
              "      <td>[O, O, O, O, O, O, O, O, O, O, O, O, O, O, O, ...</td>\n",
              "      <td>[2, 2, 2, 2, 2, 2, 2, 2, 2, 2, 2, 2, 2, 2, 2, ...</td>\n",
              "      <td>[0, 8701, 8702, 8703, 8704, 94, 5, 439, 8705, ...</td>\n",
              "    </tr>\n",
              "    <tr>\n",
              "      <th>1189</th>\n",
              "      <td>123508R.msg</td>\n",
              "      <td>[name, 123508r.msg, &lt;aogdesk@nordstar.ru&gt;, &lt;mv...</td>\n",
              "      <td>[O, O, O, O, O, O, O, O, O, O, O, O, O, O, O, ...</td>\n",
              "      <td>[2, 2, 2, 2, 2, 2, 2, 2, 2, 2, 2, 2, 2, 2, 2, ...</td>\n",
              "      <td>[0, 9930, 2, 3, 4, 5, 6, 9931, 8, 9, 10, 9, 11...</td>\n",
              "    </tr>\n",
              "    <tr>\n",
              "      <th>1190</th>\n",
              "      <td>124894R.msg</td>\n",
              "      <td>[name, 124894r.msg, &lt;anton.peshko@utair.ru&gt;, a...</td>\n",
              "      <td>[O, O, O, O, O, O, O, O, O, O, O, O, O, O, O, ...</td>\n",
              "      <td>[2, 2, 2, 2, 2, 2, 2, 2, 2, 2, 2, 2, 2, 2, 2, ...</td>\n",
              "      <td>[0, 12341, 1557, 382, 1558, 1557, 5, 271, 1234...</td>\n",
              "    </tr>\n",
              "    <tr>\n",
              "      <th>1191</th>\n",
              "      <td>124484R.msg</td>\n",
              "      <td>[name, 124484r.msg, &lt;gennadiy.moskatov@utair.r...</td>\n",
              "      <td>[O, O, O, O, O, O, O, O, O, O, O, O, O, O, O, ...</td>\n",
              "      <td>[2, 2, 2, 2, 2, 2, 2, 2, 2, 2, 2, 2, 2, 2, 2, ...</td>\n",
              "      <td>[0, 12354, 4038, 4039, 4040, 4038, 5, 271, 123...</td>\n",
              "    </tr>\n",
              "  </tbody>\n",
              "</table>\n",
              "<p>1192 rows × 5 columns</p>\n",
              "</div>"
            ],
            "text/plain": [
              "               id  ...                                         int_tokens\n",
              "0     119287R.msg  ...  [0, 1, 2, 3, 4, 5, 6, 7, 8, 9, 10, 9, 11, 12, ...\n",
              "1     119735R.msg  ...  [0, 72, 2, 3, 4, 5, 6, 73, 74, 75, 8, 9, 10, 9...\n",
              "2     120421R.msg  ...  [0, 90, 91, 92, 93, 94, 5, 95, 96, 97, 98, 8, ...\n",
              "3     120660R.msg  ...  [0, 134, 135, 136, 137, 138, 70, 5, 95, 139, 1...\n",
              "4     120660R.msg  ...  [0, 134, 135, 136, 137, 138, 70, 5, 95, 139, 1...\n",
              "...           ...  ...                                                ...\n",
              "1187  123527R.msg  ...  [0, 12334, 1662, 1663, 1664, 70, 5, 1665, 1233...\n",
              "1188  123088R.msg  ...  [0, 8701, 8702, 8703, 8704, 94, 5, 439, 8705, ...\n",
              "1189  123508R.msg  ...  [0, 9930, 2, 3, 4, 5, 6, 9931, 8, 9, 10, 9, 11...\n",
              "1190  124894R.msg  ...  [0, 12341, 1557, 382, 1558, 1557, 5, 271, 1234...\n",
              "1191  124484R.msg  ...  [0, 12354, 4038, 4039, 4040, 4038, 5, 271, 123...\n",
              "\n",
              "[1192 rows x 5 columns]"
            ]
          },
          "metadata": {
            "tags": []
          },
          "execution_count": 7
        }
      ]
    },
    {
      "cell_type": "code",
      "metadata": {
        "id": "GLHz71x74hEB"
      },
      "source": [
        "def focal_loss(gamma=2., alpha=4.):\n",
        "\n",
        "    gamma = float(gamma)\n",
        "    alpha = float(alpha)\n",
        "\n",
        "    def focal_loss_fixed(y_true, y_pred):\n",
        "        \"\"\"Focal loss for multi-classification\n",
        "        FL(p_t)=-alpha(1-p_t)^{gamma}ln(p_t)\n",
        "        Notice: y_pred is probability after softmax\n",
        "        gradient is d(Fl)/d(p_t) not d(Fl)/d(x) as described in paper\n",
        "        d(Fl)/d(p_t) * [p_t(1-p_t)] = d(Fl)/d(x)\n",
        "        Focal Loss for Dense Object Detection\n",
        "        https://arxiv.org/abs/1708.02002\n",
        "\n",
        "        Arguments:\n",
        "            y_true {tensor} -- ground truth labels, shape of [batch_size, num_cls]\n",
        "            y_pred {tensor} -- model's output, shape of [batch_size, num_cls]\n",
        "\n",
        "        Keyword Arguments:\n",
        "            gamma {float} -- (default: {2.0})\n",
        "            alpha {float} -- (default: {4.0})\n",
        "\n",
        "        Returns:\n",
        "            [tensor] -- loss.\n",
        "        \"\"\"\n",
        "        epsilon = 1.e-9\n",
        "        y_true = tf.convert_to_tensor(y_true, tf.float32)\n",
        "        y_pred = tf.convert_to_tensor(y_pred, tf.float32)\n",
        "\n",
        "        model_out = tf.add(y_pred, epsilon)\n",
        "        ce = tf.multiply(y_true, -tf.log(model_out))\n",
        "        weight = tf.multiply(y_true, tf.pow(tf.subtract(1., model_out), gamma))\n",
        "        fl = tf.multiply(alpha, tf.multiply(weight, ce))\n",
        "        reduced_fl = tf.reduce_max(fl, axis=1)\n",
        "        return tf.reduce_mean(reduced_fl)\n",
        "    return focal_loss_fixed"
      ],
      "execution_count": 8,
      "outputs": []
    },
    {
      "cell_type": "markdown",
      "metadata": {
        "id": "bf6vtcqKEd0l"
      },
      "source": [
        "##CRF"
      ]
    },
    {
      "cell_type": "code",
      "metadata": {
        "colab": {
          "base_uri": "https://localhost:8080/"
        },
        "id": "LO6qHJRbEfXG",
        "outputId": "d08ad0ae-d710-4ff2-b121-e7be07a552ec"
      },
      "source": [
        "MAX_WORDS = len(word_to_ix)\n",
        "EMBEDDING_LENGTH = 500\n",
        "MAX_SEQUENCE_LENGTH = np.max(df['int_tokens'].apply(len))\n",
        "HIDDEN_SIZE = 100\n",
        "\n",
        "model = Sequential()\n",
        "model.add(Embedding(MAX_WORDS, EMBEDDING_LENGTH, input_length=MAX_SEQUENCE_LENGTH))\n",
        "# model.add(LSTM(HIDDEN_SIZE, return_sequences=True))\n",
        "# model.add(Dense(50))\n",
        "model.add(TimeDistributed(Dense(len(label_list), activation=\"relu\")))\n",
        "crf = CRF(len(label_list), learn_mode='marginal')\n",
        "model.add(crf)\n",
        "\n",
        "model.compile(Adam(lr=0.005), loss=focal_loss(), metrics=[crf_marginal_accuracy])\n",
        "model.summary()"
      ],
      "execution_count": 9,
      "outputs": [
        {
          "output_type": "stream",
          "text": [
            "WARNING:tensorflow:From /usr/local/lib/python3.7/dist-packages/keras/backend/tensorflow_backend.py:74: The name tf.get_default_graph is deprecated. Please use tf.compat.v1.get_default_graph instead.\n",
            "\n",
            "WARNING:tensorflow:From /usr/local/lib/python3.7/dist-packages/keras/backend/tensorflow_backend.py:517: The name tf.placeholder is deprecated. Please use tf.compat.v1.placeholder instead.\n",
            "\n",
            "WARNING:tensorflow:From /usr/local/lib/python3.7/dist-packages/keras/backend/tensorflow_backend.py:4138: The name tf.random_uniform is deprecated. Please use tf.random.uniform instead.\n",
            "\n",
            "WARNING:tensorflow:From /usr/local/lib/python3.7/dist-packages/tensorflow_core/python/ops/math_ops.py:2509: where (from tensorflow.python.ops.array_ops) is deprecated and will be removed in a future version.\n",
            "Instructions for updating:\n",
            "Use tf.where in 2.0, which has the same broadcast rule as np.where\n",
            "WARNING:tensorflow:From /usr/local/lib/python3.7/dist-packages/keras/optimizers.py:790: The name tf.train.Optimizer is deprecated. Please use tf.compat.v1.train.Optimizer instead.\n",
            "\n",
            "_________________________________________________________________\n",
            "Layer (type)                 Output Shape              Param #   \n",
            "=================================================================\n",
            "embedding_1 (Embedding)      (None, 3004, 500)         6180500   \n",
            "_________________________________________________________________\n",
            "time_distributed_1 (TimeDist (None, 3004, 3)           1503      \n",
            "_________________________________________________________________\n",
            "crf_1 (CRF)                  (None, 3004, 3)           27        \n",
            "=================================================================\n",
            "Total params: 6,182,030\n",
            "Trainable params: 6,182,030\n",
            "Non-trainable params: 0\n",
            "_________________________________________________________________\n"
          ],
          "name": "stdout"
        }
      ]
    },
    {
      "cell_type": "code",
      "metadata": {
        "colab": {
          "base_uri": "https://localhost:8080/"
        },
        "id": "5dkpXrazFdGx",
        "outputId": "c2de857d-1b26-481c-f21c-13428b66b498"
      },
      "source": [
        "callbacks = [EarlyStopping(monitor='val_crf_marginal_accuracy', patience=4),\n",
        "         ModelCheckpoint(filepath='best_model.h5', monitor='val_crf_marginal_accuracy', save_best_only=True)]\n",
        "\n",
        "x_train = pad_sequences(train['int_tokens'], padding='post', maxlen=MAX_SEQUENCE_LENGTH)\n",
        "y_train = pad_sequences(train['encoded_ner_tags'], padding='post', maxlen=MAX_SEQUENCE_LENGTH, value=tag_to_idx['O'])\n",
        "y_train = to_categorical(y_train, num_classes=len(label_list))\n",
        "history = model.fit(\n",
        "    x=x_train,\n",
        "    y=y_train,\n",
        "    epochs=50,\n",
        "    batch_size=128,\n",
        "    callbacks=callbacks,\n",
        "    validation_split=0.1,\n",
        ")\n",
        "\n",
        "model.load_weights('best_model.h5')"
      ],
      "execution_count": 10,
      "outputs": [
        {
          "output_type": "stream",
          "text": [
            "WARNING:tensorflow:From /usr/local/lib/python3.7/dist-packages/keras/backend/tensorflow_backend.py:133: The name tf.placeholder_with_default is deprecated. Please use tf.compat.v1.placeholder_with_default instead.\n",
            "\n",
            "WARNING:tensorflow:From /usr/local/lib/python3.7/dist-packages/keras/backend/tensorflow_backend.py:986: The name tf.assign_add is deprecated. Please use tf.compat.v1.assign_add instead.\n",
            "\n",
            "WARNING:tensorflow:From /usr/local/lib/python3.7/dist-packages/keras/backend/tensorflow_backend.py:973: The name tf.assign is deprecated. Please use tf.compat.v1.assign instead.\n",
            "\n",
            "WARNING:tensorflow:From /usr/local/lib/python3.7/dist-packages/keras/backend/tensorflow_backend.py:2741: The name tf.Session is deprecated. Please use tf.compat.v1.Session instead.\n",
            "\n",
            "Train on 857 samples, validate on 96 samples\n",
            "Epoch 1/50\n",
            "WARNING:tensorflow:From /usr/local/lib/python3.7/dist-packages/keras/backend/tensorflow_backend.py:174: The name tf.get_default_session is deprecated. Please use tf.compat.v1.get_default_session instead.\n",
            "\n",
            "WARNING:tensorflow:From /usr/local/lib/python3.7/dist-packages/keras/backend/tensorflow_backend.py:181: The name tf.ConfigProto is deprecated. Please use tf.compat.v1.ConfigProto instead.\n",
            "\n",
            "WARNING:tensorflow:From /usr/local/lib/python3.7/dist-packages/keras/backend/tensorflow_backend.py:190: The name tf.global_variables is deprecated. Please use tf.compat.v1.global_variables instead.\n",
            "\n",
            "WARNING:tensorflow:From /usr/local/lib/python3.7/dist-packages/keras/backend/tensorflow_backend.py:199: The name tf.is_variable_initialized is deprecated. Please use tf.compat.v1.is_variable_initialized instead.\n",
            "\n",
            "WARNING:tensorflow:From /usr/local/lib/python3.7/dist-packages/keras/backend/tensorflow_backend.py:206: The name tf.variables_initializer is deprecated. Please use tf.compat.v1.variables_initializer instead.\n",
            "\n",
            "857/857 [==============================] - 56s 65ms/step - loss: 3.1286 - crf_marginal_accuracy: 0.9966 - val_loss: 2.8504 - val_crf_marginal_accuracy: 0.9962\n",
            "Epoch 2/50\n",
            "857/857 [==============================] - 52s 61ms/step - loss: 2.4165 - crf_marginal_accuracy: 0.9967 - val_loss: 2.3906 - val_crf_marginal_accuracy: 0.9965\n",
            "Epoch 3/50\n",
            "857/857 [==============================] - 52s 61ms/step - loss: 1.8582 - crf_marginal_accuracy: 0.9972 - val_loss: 2.2175 - val_crf_marginal_accuracy: 0.9969\n",
            "Epoch 4/50\n",
            "857/857 [==============================] - 52s 61ms/step - loss: 1.5706 - crf_marginal_accuracy: 0.9977 - val_loss: 2.1463 - val_crf_marginal_accuracy: 0.9970\n",
            "Epoch 5/50\n",
            "857/857 [==============================] - 52s 60ms/step - loss: 1.4342 - crf_marginal_accuracy: 0.9979 - val_loss: 2.0949 - val_crf_marginal_accuracy: 0.9971\n",
            "Epoch 6/50\n",
            "857/857 [==============================] - 52s 60ms/step - loss: 1.3432 - crf_marginal_accuracy: 0.9981 - val_loss: 2.0932 - val_crf_marginal_accuracy: 0.9974\n",
            "Epoch 7/50\n",
            "857/857 [==============================] - 51s 60ms/step - loss: 1.2741 - crf_marginal_accuracy: 0.9983 - val_loss: 2.0840 - val_crf_marginal_accuracy: 0.9974\n",
            "Epoch 8/50\n",
            "857/857 [==============================] - 52s 60ms/step - loss: 1.2192 - crf_marginal_accuracy: 0.9984 - val_loss: 2.0720 - val_crf_marginal_accuracy: 0.9975\n",
            "Epoch 9/50\n",
            "857/857 [==============================] - 52s 60ms/step - loss: 1.1655 - crf_marginal_accuracy: 0.9985 - val_loss: 2.0682 - val_crf_marginal_accuracy: 0.9976\n",
            "Epoch 10/50\n",
            "857/857 [==============================] - 52s 60ms/step - loss: 1.1205 - crf_marginal_accuracy: 0.9986 - val_loss: 2.0430 - val_crf_marginal_accuracy: 0.9977\n",
            "Epoch 11/50\n",
            "857/857 [==============================] - 52s 60ms/step - loss: 1.0728 - crf_marginal_accuracy: 0.9986 - val_loss: 2.0353 - val_crf_marginal_accuracy: 0.9978\n",
            "Epoch 12/50\n",
            "857/857 [==============================] - 51s 60ms/step - loss: 1.0314 - crf_marginal_accuracy: 0.9987 - val_loss: 2.0351 - val_crf_marginal_accuracy: 0.9979\n",
            "Epoch 13/50\n",
            "857/857 [==============================] - 51s 60ms/step - loss: 0.9925 - crf_marginal_accuracy: 0.9988 - val_loss: 2.0321 - val_crf_marginal_accuracy: 0.9979\n",
            "Epoch 14/50\n",
            "857/857 [==============================] - 51s 60ms/step - loss: 0.9621 - crf_marginal_accuracy: 0.9988 - val_loss: 2.0128 - val_crf_marginal_accuracy: 0.9979\n",
            "Epoch 15/50\n",
            "857/857 [==============================] - 52s 60ms/step - loss: 0.9419 - crf_marginal_accuracy: 0.9988 - val_loss: 1.9982 - val_crf_marginal_accuracy: 0.9981\n",
            "Epoch 16/50\n",
            "857/857 [==============================] - 52s 60ms/step - loss: 0.9200 - crf_marginal_accuracy: 0.9989 - val_loss: 2.0322 - val_crf_marginal_accuracy: 0.9981\n",
            "Epoch 17/50\n",
            "857/857 [==============================] - 51s 60ms/step - loss: 0.9073 - crf_marginal_accuracy: 0.9989 - val_loss: 2.0525 - val_crf_marginal_accuracy: 0.9980\n",
            "Epoch 18/50\n",
            "857/857 [==============================] - 51s 59ms/step - loss: 0.8981 - crf_marginal_accuracy: 0.9989 - val_loss: 2.1113 - val_crf_marginal_accuracy: 0.9979\n",
            "Epoch 19/50\n",
            "857/857 [==============================] - 51s 60ms/step - loss: 0.8838 - crf_marginal_accuracy: 0.9989 - val_loss: 2.0889 - val_crf_marginal_accuracy: 0.9981\n",
            "Epoch 20/50\n",
            "857/857 [==============================] - 51s 60ms/step - loss: 0.8696 - crf_marginal_accuracy: 0.9990 - val_loss: 2.0892 - val_crf_marginal_accuracy: 0.9981\n"
          ],
          "name": "stdout"
        }
      ]
    },
    {
      "cell_type": "code",
      "metadata": {
        "colab": {
          "base_uri": "https://localhost:8080/"
        },
        "id": "qzbxRwXlFdiV",
        "outputId": "1400d314-aba8-4c61-a045-201cf0b609dc"
      },
      "source": [
        "preds = model.predict(pad_sequences(test['int_tokens'], padding='post', maxlen=MAX_SEQUENCE_LENGTH))\n",
        "tag_preds = [np.argmax(pred, axis=1) for pred in preds]\n",
        "truncated_preds = []\n",
        "for i in range(len(tag_preds)):\n",
        "    truncated_preds.append(tag_preds[i][:len(test['encoded_ner_tags'].iloc[i])])\n",
        "named_preds = []\n",
        "for i in truncated_preds:\n",
        "    named_preds.append([])\n",
        "    for j in i:\n",
        "        named_preds[-1].append(label_list[j])\n",
        "print(metrics.flat_classification_report(test['ner_tags'], named_preds, digits=4, labels=labels))"
      ],
      "execution_count": 11,
      "outputs": [
        {
          "output_type": "stream",
          "text": [
            "               precision    recall  f1-score   support\n",
            "\n",
            "B-GoodsString     0.8277    0.5762    0.6794      1109\n",
            "I-GoodsString     0.7722    0.6414    0.7008      1718\n",
            "\n",
            "    micro avg     0.7917    0.6158    0.6928      2827\n",
            "    macro avg     0.8000    0.6088    0.6901      2827\n",
            " weighted avg     0.7940    0.6158    0.6924      2827\n",
            "\n"
          ],
          "name": "stdout"
        }
      ]
    },
    {
      "cell_type": "markdown",
      "metadata": {
        "id": "iyoHkq_EHN77"
      },
      "source": [
        "##LSTM"
      ]
    },
    {
      "cell_type": "code",
      "metadata": {
        "colab": {
          "base_uri": "https://localhost:8080/"
        },
        "id": "tdJ9aKOiJB0F",
        "outputId": "53a02c9b-23b6-4ec0-8c2e-7772d9362559"
      },
      "source": [
        "MAX_WORDS = len(word_to_ix)\n",
        "EMBEDDING_LENGTH = 500\n",
        "MAX_SEQUENCE_LENGTH = np.max(df['int_tokens'].apply(len))\n",
        "HIDDEN_SIZE = 100\n",
        "\n",
        "model = Sequential()\n",
        "model.add(Embedding(MAX_WORDS, EMBEDDING_LENGTH, input_length=MAX_SEQUENCE_LENGTH))\n",
        "model.add(LSTM(HIDDEN_SIZE, return_sequences=True))\n",
        "# model.add(Dense(50))\n",
        "model.add(TimeDistributed(Dense(len(label_list), activation=\"softmax\")))\n",
        "\n",
        "model.compile(Adam(lr=0.005), loss=focal_loss(), metrics=['accuracy'])\n",
        "model.summary()"
      ],
      "execution_count": null,
      "outputs": [
        {
          "output_type": "stream",
          "text": [
            "_________________________________________________________________\n",
            "Layer (type)                 Output Shape              Param #   \n",
            "=================================================================\n",
            "embedding_2 (Embedding)      (None, 3004, 500)         6180500   \n",
            "_________________________________________________________________\n",
            "lstm_2 (LSTM)                (None, 3004, 100)         240400    \n",
            "_________________________________________________________________\n",
            "time_distributed_2 (TimeDist (None, 3004, 3)           303       \n",
            "=================================================================\n",
            "Total params: 6,421,203\n",
            "Trainable params: 6,421,203\n",
            "Non-trainable params: 0\n",
            "_________________________________________________________________\n"
          ],
          "name": "stdout"
        }
      ]
    },
    {
      "cell_type": "code",
      "metadata": {
        "colab": {
          "base_uri": "https://localhost:8080/"
        },
        "id": "fzCy3A1HJD1J",
        "outputId": "b51062b2-1e78-42da-dcad-255aaf93aae9"
      },
      "source": [
        "callbacks = [EarlyStopping(monitor='val_acc', patience=4),\n",
        "         ModelCheckpoint(filepath='best_model.h5', monitor='val_acc', save_best_only=True)]\n",
        "\n",
        "x_train = pad_sequences(train['int_tokens'], padding='post', maxlen=MAX_SEQUENCE_LENGTH)\n",
        "y_train = pad_sequences(train['encoded_ner_tags'], padding='post', maxlen=MAX_SEQUENCE_LENGTH, value=tag_to_idx['O'])\n",
        "y_train = to_categorical(y_train, num_classes=len(label_list))\n",
        "history = model.fit(\n",
        "    x=x_train,\n",
        "    y=y_train,\n",
        "    epochs=50,\n",
        "    batch_size=128,\n",
        "    callbacks=callbacks,\n",
        "    validation_split=0.1,\n",
        ")\n",
        "\n",
        "model.load_weights('best_model.h5')"
      ],
      "execution_count": null,
      "outputs": [
        {
          "output_type": "stream",
          "text": [
            "Train on 857 samples, validate on 96 samples\n",
            "Epoch 1/50\n",
            "857/857 [==============================] - 28s 33ms/step - loss: 1.8385 - acc: 0.9843 - val_loss: 1.8301 - val_acc: 0.9906\n",
            "Epoch 2/50\n",
            "857/857 [==============================] - 27s 31ms/step - loss: 1.6827 - acc: 0.9931 - val_loss: 1.6963 - val_acc: 0.9957\n",
            "Epoch 3/50\n",
            "857/857 [==============================] - 27s 31ms/step - loss: 1.2895 - acc: 0.9969 - val_loss: 1.6023 - val_acc: 0.9977\n",
            "Epoch 4/50\n",
            "857/857 [==============================] - 27s 31ms/step - loss: 0.8569 - acc: 0.9988 - val_loss: 1.5176 - val_acc: 0.9984\n",
            "Epoch 5/50\n",
            "857/857 [==============================] - 27s 31ms/step - loss: 0.5662 - acc: 0.9993 - val_loss: 1.4654 - val_acc: 0.9987\n",
            "Epoch 6/50\n",
            "857/857 [==============================] - 27s 31ms/step - loss: 0.4050 - acc: 0.9995 - val_loss: 1.4908 - val_acc: 0.9989\n",
            "Epoch 7/50\n",
            "857/857 [==============================] - 27s 31ms/step - loss: 0.3113 - acc: 0.9997 - val_loss: 1.4510 - val_acc: 0.9990\n",
            "Epoch 8/50\n",
            "857/857 [==============================] - 27s 31ms/step - loss: 0.2606 - acc: 0.9997 - val_loss: 1.4860 - val_acc: 0.9990\n",
            "Epoch 9/50\n",
            "857/857 [==============================] - 27s 31ms/step - loss: 0.2073 - acc: 0.9998 - val_loss: 1.5887 - val_acc: 0.9991\n",
            "Epoch 10/50\n",
            "857/857 [==============================] - 27s 31ms/step - loss: 0.1923 - acc: 0.9998 - val_loss: 1.6059 - val_acc: 0.9992\n",
            "Epoch 11/50\n",
            "857/857 [==============================] - 27s 31ms/step - loss: 0.1611 - acc: 0.9998 - val_loss: 1.5282 - val_acc: 0.9993\n",
            "Epoch 12/50\n",
            "857/857 [==============================] - 27s 31ms/step - loss: 0.1341 - acc: 0.9999 - val_loss: 1.7172 - val_acc: 0.9992\n",
            "Epoch 13/50\n",
            "857/857 [==============================] - 27s 31ms/step - loss: 0.1289 - acc: 0.9999 - val_loss: 1.6714 - val_acc: 0.9992\n",
            "Epoch 14/50\n",
            "857/857 [==============================] - 27s 31ms/step - loss: 0.1117 - acc: 0.9999 - val_loss: 1.8196 - val_acc: 0.9992\n",
            "Epoch 15/50\n",
            "857/857 [==============================] - 27s 31ms/step - loss: 0.1083 - acc: 0.9999 - val_loss: 1.8019 - val_acc: 0.9992\n"
          ],
          "name": "stdout"
        }
      ]
    },
    {
      "cell_type": "code",
      "metadata": {
        "colab": {
          "base_uri": "https://localhost:8080/"
        },
        "id": "XW3cpdTvJFMq",
        "outputId": "cb5ae7c8-348c-4087-ca35-049b12cf7ac4"
      },
      "source": [
        "preds = model.predict(pad_sequences(test['int_tokens'], padding='post', maxlen=MAX_SEQUENCE_LENGTH))\n",
        "tag_preds = [np.argmax(pred, axis=1) for pred in preds]\n",
        "truncated_preds = []\n",
        "for i in range(len(tag_preds)):\n",
        "    truncated_preds.append(tag_preds[i][:len(test['encoded_ner_tags'].iloc[i])])\n",
        "named_preds = []\n",
        "for i in truncated_preds:\n",
        "    named_preds.append([])\n",
        "    for j in i:\n",
        "        named_preds[-1].append(label_list[j])\n",
        "print(metrics.flat_classification_report(test['ner_tags'], named_preds, digits=4, labels=labels))"
      ],
      "execution_count": null,
      "outputs": [
        {
          "output_type": "stream",
          "text": [
            "               precision    recall  f1-score   support\n",
            "\n",
            "B-GoodsString     0.9015    0.8332    0.8660      1109\n",
            "I-GoodsString     0.9197    0.7998    0.8555      1718\n",
            "\n",
            "    micro avg     0.9123    0.8129    0.8597      2827\n",
            "    macro avg     0.9106    0.8165    0.8608      2827\n",
            " weighted avg     0.9125    0.8129    0.8596      2827\n",
            "\n"
          ],
          "name": "stdout"
        }
      ]
    },
    {
      "cell_type": "markdown",
      "metadata": {
        "id": "mpiPf9EfHLla"
      },
      "source": [
        "##BiLSTM"
      ]
    },
    {
      "cell_type": "code",
      "metadata": {
        "colab": {
          "base_uri": "https://localhost:8080/"
        },
        "id": "UHBHDBZ7HPUE",
        "outputId": "59bc6c70-90e3-4d46-f64b-64f453b2edd2"
      },
      "source": [
        "MAX_WORDS = len(word_to_ix)\n",
        "EMBEDDING_LENGTH = 500\n",
        "MAX_SEQUENCE_LENGTH = np.max(df['int_tokens'].apply(len))\n",
        "HIDDEN_SIZE = 100\n",
        "\n",
        "model = Sequential()\n",
        "model.add(Embedding(MAX_WORDS, EMBEDDING_LENGTH, input_length=MAX_SEQUENCE_LENGTH))\n",
        "model.add(Bidirectional(LSTM(HIDDEN_SIZE, return_sequences=True)))\n",
        "# model.add(Dense(50))\n",
        "model.add(TimeDistributed(Dense(len(label_list), activation=\"softmax\")))\n",
        "\n",
        "model.compile(Adam(lr=0.005), loss=focal_loss(), metrics=['accuracy'])\n",
        "model.summary()"
      ],
      "execution_count": null,
      "outputs": [
        {
          "output_type": "stream",
          "text": [
            "WARNING:tensorflow:From /usr/local/lib/python3.7/dist-packages/keras/backend/tensorflow_backend.py:74: The name tf.get_default_graph is deprecated. Please use tf.compat.v1.get_default_graph instead.\n",
            "\n",
            "WARNING:tensorflow:From /usr/local/lib/python3.7/dist-packages/keras/backend/tensorflow_backend.py:517: The name tf.placeholder is deprecated. Please use tf.compat.v1.placeholder instead.\n",
            "\n",
            "WARNING:tensorflow:From /usr/local/lib/python3.7/dist-packages/keras/backend/tensorflow_backend.py:4138: The name tf.random_uniform is deprecated. Please use tf.random.uniform instead.\n",
            "\n",
            "WARNING:tensorflow:From /usr/local/lib/python3.7/dist-packages/keras/optimizers.py:790: The name tf.train.Optimizer is deprecated. Please use tf.compat.v1.train.Optimizer instead.\n",
            "\n",
            "_________________________________________________________________\n",
            "Layer (type)                 Output Shape              Param #   \n",
            "=================================================================\n",
            "embedding_1 (Embedding)      (None, 3004, 500)         6180500   \n",
            "_________________________________________________________________\n",
            "bidirectional_1 (Bidirection (None, 3004, 200)         480800    \n",
            "_________________________________________________________________\n",
            "time_distributed_1 (TimeDist (None, 3004, 3)           603       \n",
            "=================================================================\n",
            "Total params: 6,661,903\n",
            "Trainable params: 6,661,903\n",
            "Non-trainable params: 0\n",
            "_________________________________________________________________\n"
          ],
          "name": "stdout"
        }
      ]
    },
    {
      "cell_type": "code",
      "metadata": {
        "colab": {
          "base_uri": "https://localhost:8080/"
        },
        "id": "FcQ7OoK1HQhE",
        "outputId": "c4a72d96-ffa9-4242-e96e-443fc18c2b84"
      },
      "source": [
        "callbacks = [EarlyStopping(monitor='val_acc', patience=4),\n",
        "         ModelCheckpoint(filepath='best_model.h5', monitor='val_acc', save_best_only=True)]\n",
        "\n",
        "x_train = pad_sequences(train['int_tokens'], padding='post', maxlen=MAX_SEQUENCE_LENGTH)\n",
        "y_train = pad_sequences(train['encoded_ner_tags'], padding='post', maxlen=MAX_SEQUENCE_LENGTH, value=tag_to_idx['O'])\n",
        "y_train = to_categorical(y_train, num_classes=len(label_list))\n",
        "history = model.fit(\n",
        "    x=x_train,\n",
        "    y=y_train,\n",
        "    epochs=50,\n",
        "    batch_size=128,\n",
        "    callbacks=callbacks,\n",
        "    validation_split=0.1,\n",
        ")\n",
        "\n",
        "model.load_weights('best_model.h5')"
      ],
      "execution_count": null,
      "outputs": [
        {
          "output_type": "stream",
          "text": [
            "WARNING:tensorflow:From /usr/local/lib/python3.7/dist-packages/tensorflow_core/python/ops/math_grad.py:1375: where (from tensorflow.python.ops.array_ops) is deprecated and will be removed in a future version.\n",
            "Instructions for updating:\n",
            "Use tf.where in 2.0, which has the same broadcast rule as np.where\n",
            "WARNING:tensorflow:From /usr/local/lib/python3.7/dist-packages/keras/backend/tensorflow_backend.py:986: The name tf.assign_add is deprecated. Please use tf.compat.v1.assign_add instead.\n",
            "\n",
            "WARNING:tensorflow:From /usr/local/lib/python3.7/dist-packages/keras/backend/tensorflow_backend.py:973: The name tf.assign is deprecated. Please use tf.compat.v1.assign instead.\n",
            "\n",
            "WARNING:tensorflow:From /usr/local/lib/python3.7/dist-packages/keras/backend/tensorflow_backend.py:2741: The name tf.Session is deprecated. Please use tf.compat.v1.Session instead.\n",
            "\n",
            "Train on 857 samples, validate on 96 samples\n",
            "Epoch 1/50\n",
            "WARNING:tensorflow:From /usr/local/lib/python3.7/dist-packages/keras/backend/tensorflow_backend.py:174: The name tf.get_default_session is deprecated. Please use tf.compat.v1.get_default_session instead.\n",
            "\n",
            "WARNING:tensorflow:From /usr/local/lib/python3.7/dist-packages/keras/backend/tensorflow_backend.py:181: The name tf.ConfigProto is deprecated. Please use tf.compat.v1.ConfigProto instead.\n",
            "\n",
            "WARNING:tensorflow:From /usr/local/lib/python3.7/dist-packages/keras/backend/tensorflow_backend.py:190: The name tf.global_variables is deprecated. Please use tf.compat.v1.global_variables instead.\n",
            "\n",
            "WARNING:tensorflow:From /usr/local/lib/python3.7/dist-packages/keras/backend/tensorflow_backend.py:199: The name tf.is_variable_initialized is deprecated. Please use tf.compat.v1.is_variable_initialized instead.\n",
            "\n",
            "WARNING:tensorflow:From /usr/local/lib/python3.7/dist-packages/keras/backend/tensorflow_backend.py:206: The name tf.variables_initializer is deprecated. Please use tf.compat.v1.variables_initializer instead.\n",
            "\n",
            "857/857 [==============================] - 60s 70ms/step - loss: 1.8518 - acc: 0.8444 - val_loss: 1.8229 - val_acc: 0.9950\n",
            "Epoch 2/50\n",
            "857/857 [==============================] - 56s 65ms/step - loss: 1.6058 - acc: 0.9970 - val_loss: 1.6387 - val_acc: 0.9977\n",
            "Epoch 3/50\n",
            "857/857 [==============================] - 55s 65ms/step - loss: 1.0476 - acc: 0.9987 - val_loss: 1.4785 - val_acc: 0.9986\n",
            "Epoch 4/50\n",
            "857/857 [==============================] - 56s 65ms/step - loss: 0.5672 - acc: 0.9994 - val_loss: 1.6737 - val_acc: 0.9988\n",
            "Epoch 5/50\n",
            "857/857 [==============================] - 56s 65ms/step - loss: 0.3470 - acc: 0.9997 - val_loss: 1.4485 - val_acc: 0.9991\n",
            "Epoch 6/50\n",
            "857/857 [==============================] - 57s 66ms/step - loss: 0.1985 - acc: 0.9998 - val_loss: 1.4065 - val_acc: 0.9991\n",
            "Epoch 7/50\n",
            "857/857 [==============================] - 56s 65ms/step - loss: 0.1127 - acc: 0.9999 - val_loss: 1.4576 - val_acc: 0.9992\n",
            "Epoch 8/50\n",
            "857/857 [==============================] - 56s 65ms/step - loss: 0.0659 - acc: 1.0000 - val_loss: 1.6173 - val_acc: 0.9993\n",
            "Epoch 9/50\n",
            "857/857 [==============================] - 56s 65ms/step - loss: 0.0424 - acc: 1.0000 - val_loss: 1.8129 - val_acc: 0.9993\n",
            "Epoch 10/50\n",
            "857/857 [==============================] - 56s 65ms/step - loss: 0.0300 - acc: 1.0000 - val_loss: 2.0207 - val_acc: 0.9993\n",
            "Epoch 11/50\n",
            "857/857 [==============================] - 56s 66ms/step - loss: 0.0348 - acc: 1.0000 - val_loss: 1.9642 - val_acc: 0.9992\n",
            "Epoch 12/50\n",
            "857/857 [==============================] - 56s 66ms/step - loss: 0.0237 - acc: 1.0000 - val_loss: 2.1011 - val_acc: 0.9993\n",
            "Epoch 13/50\n",
            "857/857 [==============================] - 56s 65ms/step - loss: 0.0198 - acc: 1.0000 - val_loss: 2.1051 - val_acc: 0.9993\n",
            "Epoch 14/50\n",
            "857/857 [==============================] - 56s 65ms/step - loss: 0.0171 - acc: 1.0000 - val_loss: 2.1410 - val_acc: 0.9993\n"
          ],
          "name": "stdout"
        }
      ]
    },
    {
      "cell_type": "code",
      "metadata": {
        "colab": {
          "base_uri": "https://localhost:8080/"
        },
        "id": "Dv7unKqeHUUn",
        "outputId": "3ced504d-1049-411b-c44a-a21f0f7ec7ee"
      },
      "source": [
        "preds = model.predict(pad_sequences(test['int_tokens'], padding='post', maxlen=MAX_SEQUENCE_LENGTH))\n",
        "tag_preds = [np.argmax(pred, axis=1) for pred in preds]\n",
        "truncated_preds = []\n",
        "for i in range(len(tag_preds)):\n",
        "    truncated_preds.append(tag_preds[i][:len(test['encoded_ner_tags'].iloc[i])])\n",
        "named_preds = []\n",
        "for i in truncated_preds:\n",
        "    named_preds.append([])\n",
        "    for j in i:\n",
        "        named_preds[-1].append(label_list[j])\n",
        "print(metrics.flat_classification_report(test['ner_tags'], named_preds, digits=4, labels=labels))"
      ],
      "execution_count": null,
      "outputs": [
        {
          "output_type": "stream",
          "text": [
            "               precision    recall  f1-score   support\n",
            "\n",
            "B-GoodsString     0.9177    0.8449    0.8798      1109\n",
            "I-GoodsString     0.9289    0.8440    0.8844      1718\n",
            "\n",
            "    micro avg     0.9245    0.8444    0.8826      2827\n",
            "    macro avg     0.9233    0.8445    0.8821      2827\n",
            " weighted avg     0.9245    0.8444    0.8826      2827\n",
            "\n"
          ],
          "name": "stdout"
        }
      ]
    },
    {
      "cell_type": "markdown",
      "metadata": {
        "id": "Z1zCrDK_HMvk"
      },
      "source": [
        "##LSTM CRF"
      ]
    },
    {
      "cell_type": "code",
      "metadata": {
        "colab": {
          "base_uri": "https://localhost:8080/"
        },
        "id": "icnVRXSLIuhH",
        "outputId": "eb42c6cc-a3dd-4e80-c396-5c65f941c63d"
      },
      "source": [
        "MAX_WORDS = len(word_to_ix)\n",
        "EMBEDDING_LENGTH = 500\n",
        "MAX_SEQUENCE_LENGTH = np.max(df['int_tokens'].apply(len))\n",
        "HIDDEN_SIZE = 100\n",
        "\n",
        "model = Sequential()\n",
        "model.add(Embedding(MAX_WORDS, EMBEDDING_LENGTH, input_length=MAX_SEQUENCE_LENGTH))\n",
        "model.add(LSTM(HIDDEN_SIZE, return_sequences=True))\n",
        "# model.add(Dense(50))\n",
        "model.add(TimeDistributed(Dense(len(label_list), activation=\"relu\")))\n",
        "crf = CRF(len(label_list), learn_mode='marginal')\n",
        "model.add(crf)\n",
        "\n",
        "model.compile(Adam(lr=0.005), loss=focal_loss(), metrics=[crf_marginal_accuracy])\n",
        "model.summary()"
      ],
      "execution_count": null,
      "outputs": [
        {
          "output_type": "stream",
          "text": [
            "_________________________________________________________________\n",
            "Layer (type)                 Output Shape              Param #   \n",
            "=================================================================\n",
            "embedding_6 (Embedding)      (None, 3004, 500)         6180500   \n",
            "_________________________________________________________________\n",
            "lstm_6 (LSTM)                (None, 3004, 100)         240400    \n",
            "_________________________________________________________________\n",
            "time_distributed_6 (TimeDist (None, 3004, 3)           303       \n",
            "_________________________________________________________________\n",
            "crf_4 (CRF)                  (None, 3004, 3)           27        \n",
            "=================================================================\n",
            "Total params: 6,421,230\n",
            "Trainable params: 6,421,230\n",
            "Non-trainable params: 0\n",
            "_________________________________________________________________\n"
          ],
          "name": "stdout"
        }
      ]
    },
    {
      "cell_type": "code",
      "metadata": {
        "colab": {
          "base_uri": "https://localhost:8080/"
        },
        "id": "VLQDByZSIvvM",
        "outputId": "515fb2d7-28d2-4910-d4d5-6ecb0e10cdc7"
      },
      "source": [
        "callbacks = [EarlyStopping(monitor='val_crf_marginal_accuracy', patience=4),\n",
        "         ModelCheckpoint(filepath='best_model.h5', monitor='val_crf_marginal_accuracy', save_best_only=True)]\n",
        "\n",
        "x_train = pad_sequences(train['int_tokens'], padding='post', maxlen=MAX_SEQUENCE_LENGTH)\n",
        "y_train = pad_sequences(train['encoded_ner_tags'], padding='post', maxlen=MAX_SEQUENCE_LENGTH, value=tag_to_idx['O'])\n",
        "y_train = to_categorical(y_train, num_classes=len(label_list))\n",
        "history = model.fit(\n",
        "    x=x_train,\n",
        "    y=y_train,\n",
        "    epochs=50,\n",
        "    batch_size=128,\n",
        "    callbacks=callbacks,\n",
        "    validation_split=0.1,\n",
        ")\n",
        "\n",
        "model.load_weights('best_model.h5')"
      ],
      "execution_count": null,
      "outputs": [
        {
          "output_type": "stream",
          "text": [
            "Train on 857 samples, validate on 96 samples\n",
            "Epoch 1/50\n",
            "857/857 [==============================] - 63s 74ms/step - loss: 2.6331 - crf_marginal_accuracy: 0.9890 - val_loss: 1.8899 - val_crf_marginal_accuracy: 0.9125\n",
            "Epoch 2/50\n",
            "857/857 [==============================] - 60s 70ms/step - loss: 1.8688 - crf_marginal_accuracy: 0.9696 - val_loss: 1.8303 - val_crf_marginal_accuracy: 0.9959\n",
            "Epoch 3/50\n",
            "857/857 [==============================] - 60s 70ms/step - loss: 1.6739 - crf_marginal_accuracy: 0.9938 - val_loss: 1.7354 - val_crf_marginal_accuracy: 0.9793\n",
            "Epoch 4/50\n",
            "857/857 [==============================] - 60s 70ms/step - loss: 1.4363 - crf_marginal_accuracy: 0.9881 - val_loss: 1.6469 - val_crf_marginal_accuracy: 0.9950\n",
            "Epoch 5/50\n",
            "857/857 [==============================] - 60s 70ms/step - loss: 1.1479 - crf_marginal_accuracy: 0.9965 - val_loss: 1.5554 - val_crf_marginal_accuracy: 0.9962\n",
            "Epoch 6/50\n",
            "857/857 [==============================] - 60s 70ms/step - loss: 0.8865 - crf_marginal_accuracy: 0.9983 - val_loss: 1.4603 - val_crf_marginal_accuracy: 0.9982\n",
            "Epoch 7/50\n",
            "857/857 [==============================] - 60s 70ms/step - loss: 0.7074 - crf_marginal_accuracy: 0.9992 - val_loss: 1.4393 - val_crf_marginal_accuracy: 0.9985\n",
            "Epoch 8/50\n",
            "857/857 [==============================] - 60s 70ms/step - loss: 0.5848 - crf_marginal_accuracy: 0.9993 - val_loss: 1.3723 - val_crf_marginal_accuracy: 0.9986\n",
            "Epoch 9/50\n",
            "857/857 [==============================] - 60s 70ms/step - loss: 0.4947 - crf_marginal_accuracy: 0.9994 - val_loss: 1.3463 - val_crf_marginal_accuracy: 0.9987\n",
            "Epoch 10/50\n",
            "857/857 [==============================] - 60s 70ms/step - loss: 0.4354 - crf_marginal_accuracy: 0.9995 - val_loss: 1.4043 - val_crf_marginal_accuracy: 0.9987\n",
            "Epoch 11/50\n",
            "857/857 [==============================] - 60s 70ms/step - loss: 0.3862 - crf_marginal_accuracy: 0.9996 - val_loss: 1.4095 - val_crf_marginal_accuracy: 0.9988\n",
            "Epoch 12/50\n",
            "857/857 [==============================] - 60s 70ms/step - loss: 0.3385 - crf_marginal_accuracy: 0.9996 - val_loss: 1.3958 - val_crf_marginal_accuracy: 0.9989\n",
            "Epoch 13/50\n",
            "857/857 [==============================] - 60s 70ms/step - loss: 0.2982 - crf_marginal_accuracy: 0.9997 - val_loss: 1.4300 - val_crf_marginal_accuracy: 0.9989\n",
            "Epoch 14/50\n",
            "857/857 [==============================] - 60s 70ms/step - loss: 0.2594 - crf_marginal_accuracy: 0.9997 - val_loss: 1.4676 - val_crf_marginal_accuracy: 0.9989\n",
            "Epoch 15/50\n",
            "857/857 [==============================] - 60s 70ms/step - loss: 0.2326 - crf_marginal_accuracy: 0.9998 - val_loss: 1.5066 - val_crf_marginal_accuracy: 0.9990\n",
            "Epoch 16/50\n",
            "857/857 [==============================] - 60s 70ms/step - loss: 0.1970 - crf_marginal_accuracy: 0.9998 - val_loss: 1.5538 - val_crf_marginal_accuracy: 0.9991\n",
            "Epoch 17/50\n",
            "857/857 [==============================] - 60s 70ms/step - loss: 0.1756 - crf_marginal_accuracy: 0.9999 - val_loss: 1.5644 - val_crf_marginal_accuracy: 0.9992\n",
            "Epoch 18/50\n",
            "857/857 [==============================] - 61s 71ms/step - loss: 0.1616 - crf_marginal_accuracy: 0.9999 - val_loss: 1.5961 - val_crf_marginal_accuracy: 0.9992\n",
            "Epoch 19/50\n",
            "857/857 [==============================] - 60s 70ms/step - loss: 0.1509 - crf_marginal_accuracy: 0.9999 - val_loss: 1.6321 - val_crf_marginal_accuracy: 0.9991\n",
            "Epoch 20/50\n",
            "857/857 [==============================] - 60s 70ms/step - loss: 0.1475 - crf_marginal_accuracy: 0.9999 - val_loss: 1.6289 - val_crf_marginal_accuracy: 0.9992\n",
            "Epoch 21/50\n",
            "857/857 [==============================] - 60s 70ms/step - loss: 0.1338 - crf_marginal_accuracy: 0.9999 - val_loss: 1.6898 - val_crf_marginal_accuracy: 0.9992\n",
            "Epoch 22/50\n",
            "857/857 [==============================] - 60s 70ms/step - loss: 0.1266 - crf_marginal_accuracy: 0.9999 - val_loss: 1.7164 - val_crf_marginal_accuracy: 0.9992\n"
          ],
          "name": "stdout"
        }
      ]
    },
    {
      "cell_type": "code",
      "metadata": {
        "colab": {
          "base_uri": "https://localhost:8080/"
        },
        "id": "7O1pG-WlIyZG",
        "outputId": "5bfdd3e5-40f3-4622-d746-6fd6e38f185d"
      },
      "source": [
        "preds = model.predict(pad_sequences(test['int_tokens'], padding='post', maxlen=MAX_SEQUENCE_LENGTH))\n",
        "tag_preds = [np.argmax(pred, axis=1) for pred in preds]\n",
        "truncated_preds = []\n",
        "for i in range(len(tag_preds)):\n",
        "    truncated_preds.append(tag_preds[i][:len(test['encoded_ner_tags'].iloc[i])])\n",
        "named_preds = []\n",
        "for i in truncated_preds:\n",
        "    named_preds.append([])\n",
        "    for j in i:\n",
        "        named_preds[-1].append(label_list[j])\n",
        "print(metrics.flat_classification_report(test['ner_tags'], named_preds, digits=4, labels=labels))"
      ],
      "execution_count": null,
      "outputs": [
        {
          "output_type": "stream",
          "text": [
            "               precision    recall  f1-score   support\n",
            "\n",
            "B-GoodsString     0.9048    0.8395    0.8709      1109\n",
            "I-GoodsString     0.9324    0.7625    0.8389      1718\n",
            "\n",
            "    micro avg     0.9207    0.7927    0.8519      2827\n",
            "    macro avg     0.9186    0.8010    0.8549      2827\n",
            " weighted avg     0.9215    0.7927    0.8515      2827\n",
            "\n"
          ],
          "name": "stdout"
        }
      ]
    },
    {
      "cell_type": "markdown",
      "metadata": {
        "id": "Ug9rZbTSz4hn"
      },
      "source": [
        "##BiLSTM CRF"
      ]
    },
    {
      "cell_type": "code",
      "metadata": {
        "colab": {
          "base_uri": "https://localhost:8080/"
        },
        "id": "LWKE1TWsvyBW",
        "outputId": "8f9ba1fd-0fd8-4b8f-963e-4d9ab3dcfecd"
      },
      "source": [
        "MAX_WORDS = len(word_to_ix)\n",
        "EMBEDDING_LENGTH = 500\n",
        "MAX_SEQUENCE_LENGTH = np.max(df['int_tokens'].apply(len))\n",
        "HIDDEN_SIZE = 100\n",
        "\n",
        "model = Sequential()\n",
        "model.add(Embedding(MAX_WORDS, EMBEDDING_LENGTH, input_length=MAX_SEQUENCE_LENGTH))\n",
        "model.add(Bidirectional(LSTM(HIDDEN_SIZE, return_sequences=True)))\n",
        "# model.add(Dense(50))\n",
        "model.add(TimeDistributed(Dense(len(label_list), activation=\"relu\")))\n",
        "crf = CRF(len(label_list), learn_mode='marginal')\n",
        "model.add(crf)\n",
        "\n",
        "model.compile(Adam(lr=0.005), loss=focal_loss(), metrics=[crf_marginal_accuracy])\n",
        "model.summary()"
      ],
      "execution_count": null,
      "outputs": [
        {
          "output_type": "stream",
          "text": [
            "_________________________________________________________________\n",
            "Layer (type)                 Output Shape              Param #   \n",
            "=================================================================\n",
            "embedding_7 (Embedding)      (None, 3004, 500)         6180500   \n",
            "_________________________________________________________________\n",
            "bidirectional_3 (Bidirection (None, 3004, 200)         480800    \n",
            "_________________________________________________________________\n",
            "time_distributed_7 (TimeDist (None, 3004, 3)           603       \n",
            "_________________________________________________________________\n",
            "crf_5 (CRF)                  (None, 3004, 3)           27        \n",
            "=================================================================\n",
            "Total params: 6,661,930\n",
            "Trainable params: 6,661,930\n",
            "Non-trainable params: 0\n",
            "_________________________________________________________________\n"
          ],
          "name": "stdout"
        }
      ]
    },
    {
      "cell_type": "code",
      "metadata": {
        "colab": {
          "base_uri": "https://localhost:8080/"
        },
        "id": "k-VxyceJ5CW7",
        "outputId": "183cc2b1-98ca-4a7b-c74b-c90aa0d8a68c"
      },
      "source": [
        "callbacks = [EarlyStopping(monitor='val_crf_marginal_accuracy', patience=4),\n",
        "         ModelCheckpoint(filepath='best_model.h5', monitor='val_crf_marginal_accuracy', save_best_only=True)]\n",
        "\n",
        "x_train = pad_sequences(train['int_tokens'], padding='post', maxlen=MAX_SEQUENCE_LENGTH)\n",
        "y_train = pad_sequences(train['encoded_ner_tags'], padding='post', maxlen=MAX_SEQUENCE_LENGTH, value=tag_to_idx['O'])\n",
        "y_train = to_categorical(y_train, num_classes=len(label_list))\n",
        "history = model.fit(\n",
        "    x=x_train,\n",
        "    y=y_train,\n",
        "    epochs=50,\n",
        "    batch_size=128,\n",
        "    callbacks=callbacks,\n",
        "    validation_split=0.1,\n",
        ")\n",
        "\n",
        "model.load_weights('best_model.h5')"
      ],
      "execution_count": null,
      "outputs": [
        {
          "output_type": "stream",
          "text": [
            "Train on 857 samples, validate on 96 samples\n",
            "Epoch 1/50\n",
            "857/857 [==============================] - 93s 109ms/step - loss: 2.0349 - crf_marginal_accuracy: 0.9894 - val_loss: 1.9224 - val_crf_marginal_accuracy: 0.9969\n",
            "Epoch 2/50\n",
            "857/857 [==============================] - 90s 105ms/step - loss: 1.8295 - crf_marginal_accuracy: 0.9975 - val_loss: 1.8265 - val_crf_marginal_accuracy: 0.9973\n",
            "Epoch 3/50\n",
            "857/857 [==============================] - 89s 104ms/step - loss: 1.6557 - crf_marginal_accuracy: 0.9981 - val_loss: 1.7516 - val_crf_marginal_accuracy: 0.9977\n",
            "Epoch 4/50\n",
            "857/857 [==============================] - 90s 104ms/step - loss: 1.3582 - crf_marginal_accuracy: 0.9985 - val_loss: 1.6941 - val_crf_marginal_accuracy: 0.9979\n",
            "Epoch 5/50\n",
            "857/857 [==============================] - 89s 104ms/step - loss: 0.9865 - crf_marginal_accuracy: 0.9989 - val_loss: 1.7184 - val_crf_marginal_accuracy: 0.9985\n",
            "Epoch 6/50\n",
            "857/857 [==============================] - 90s 104ms/step - loss: 0.6959 - crf_marginal_accuracy: 0.9995 - val_loss: 1.7333 - val_crf_marginal_accuracy: 0.9985\n",
            "Epoch 7/50\n",
            "857/857 [==============================] - 89s 104ms/step - loss: 0.4978 - crf_marginal_accuracy: 0.9996 - val_loss: 1.8953 - val_crf_marginal_accuracy: 0.9988\n",
            "Epoch 8/50\n",
            "857/857 [==============================] - 90s 105ms/step - loss: 0.3835 - crf_marginal_accuracy: 0.9997 - val_loss: 1.8601 - val_crf_marginal_accuracy: 0.9989\n",
            "Epoch 9/50\n",
            "857/857 [==============================] - 89s 104ms/step - loss: 0.2947 - crf_marginal_accuracy: 0.9998 - val_loss: 1.8309 - val_crf_marginal_accuracy: 0.9989\n",
            "Epoch 10/50\n",
            "857/857 [==============================] - 89s 104ms/step - loss: 0.2314 - crf_marginal_accuracy: 0.9998 - val_loss: 1.8064 - val_crf_marginal_accuracy: 0.9990\n",
            "Epoch 11/50\n",
            "857/857 [==============================] - 89s 104ms/step - loss: 0.1858 - crf_marginal_accuracy: 0.9998 - val_loss: 1.7574 - val_crf_marginal_accuracy: 0.9991\n",
            "Epoch 12/50\n",
            "857/857 [==============================] - 89s 104ms/step - loss: 0.1412 - crf_marginal_accuracy: 0.9999 - val_loss: 1.8017 - val_crf_marginal_accuracy: 0.9992\n",
            "Epoch 13/50\n",
            "857/857 [==============================] - 90s 105ms/step - loss: 0.1216 - crf_marginal_accuracy: 0.9999 - val_loss: 1.8624 - val_crf_marginal_accuracy: 0.9992\n",
            "Epoch 14/50\n",
            "857/857 [==============================] - 90s 105ms/step - loss: 0.1030 - crf_marginal_accuracy: 0.9999 - val_loss: 1.9594 - val_crf_marginal_accuracy: 0.9992\n",
            "Epoch 15/50\n",
            "857/857 [==============================] - 89s 104ms/step - loss: 0.0853 - crf_marginal_accuracy: 0.9999 - val_loss: 2.0157 - val_crf_marginal_accuracy: 0.9992\n",
            "Epoch 16/50\n",
            "857/857 [==============================] - 90s 105ms/step - loss: 0.0749 - crf_marginal_accuracy: 0.9999 - val_loss: 2.0156 - val_crf_marginal_accuracy: 0.9992\n",
            "Epoch 17/50\n",
            "857/857 [==============================] - 90s 105ms/step - loss: 0.0677 - crf_marginal_accuracy: 0.9999 - val_loss: 2.0181 - val_crf_marginal_accuracy: 0.9992\n",
            "Epoch 18/50\n",
            "857/857 [==============================] - 90s 105ms/step - loss: 0.0656 - crf_marginal_accuracy: 0.9999 - val_loss: 2.0525 - val_crf_marginal_accuracy: 0.9992\n",
            "Epoch 19/50\n",
            "857/857 [==============================] - 89s 104ms/step - loss: 0.0557 - crf_marginal_accuracy: 0.9999 - val_loss: 2.1240 - val_crf_marginal_accuracy: 0.9992\n",
            "Epoch 20/50\n",
            "857/857 [==============================] - 89s 104ms/step - loss: 0.0523 - crf_marginal_accuracy: 0.9999 - val_loss: 2.1635 - val_crf_marginal_accuracy: 0.9992\n",
            "Epoch 21/50\n",
            "857/857 [==============================] - 89s 104ms/step - loss: 0.0503 - crf_marginal_accuracy: 0.9999 - val_loss: 2.2625 - val_crf_marginal_accuracy: 0.9992\n"
          ],
          "name": "stdout"
        }
      ]
    },
    {
      "cell_type": "code",
      "metadata": {
        "colab": {
          "base_uri": "https://localhost:8080/"
        },
        "id": "qkw_hRmu505F",
        "outputId": "af7317ff-af31-447b-8ece-48b03f25bd83"
      },
      "source": [
        "preds = model.predict(pad_sequences(test['int_tokens'], padding='post', maxlen=MAX_SEQUENCE_LENGTH))\n",
        "tag_preds = [np.argmax(pred, axis=1) for pred in preds]\n",
        "truncated_preds = []\n",
        "for i in range(len(tag_preds)):\n",
        "    truncated_preds.append(tag_preds[i][:len(test['encoded_ner_tags'].iloc[i])])\n",
        "named_preds = []\n",
        "for i in truncated_preds:\n",
        "    named_preds.append([])\n",
        "    for j in i:\n",
        "        named_preds[-1].append(label_list[j])\n",
        "print(metrics.flat_classification_report(test['ner_tags'], named_preds, digits=4, labels=labels))"
      ],
      "execution_count": null,
      "outputs": [
        {
          "output_type": "stream",
          "text": [
            "               precision    recall  f1-score   support\n",
            "\n",
            "B-GoodsString     0.8891    0.8097    0.8476      1109\n",
            "I-GoodsString     0.9220    0.8190    0.8674      1718\n",
            "\n",
            "    micro avg     0.9089    0.8154    0.8596      2827\n",
            "    macro avg     0.9056    0.8144    0.8575      2827\n",
            " weighted avg     0.9091    0.8154    0.8596      2827\n",
            "\n"
          ],
          "name": "stdout"
        }
      ]
    }
  ]
}