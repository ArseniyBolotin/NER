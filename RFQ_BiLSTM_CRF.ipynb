{
  "nbformat": 4,
  "nbformat_minor": 0,
  "metadata": {
    "kernelspec": {
      "display_name": "Python 3",
      "language": "python",
      "name": "python3"
    },
    "language_info": {
      "codemirror_mode": {
        "name": "ipython",
        "version": 3
      },
      "file_extension": ".py",
      "mimetype": "text/x-python",
      "name": "python",
      "nbconvert_exporter": "python",
      "pygments_lexer": "ipython3",
      "version": "3.7.4"
    },
    "colab": {
      "name": "RFQ_BiLSTM_CRF",
      "provenance": [],
      "collapsed_sections": []
    },
    "accelerator": "GPU"
  },
  "cells": [
    {
      "cell_type": "code",
      "metadata": {
        "colab": {
          "base_uri": "https://localhost:8080/"
        },
        "id": "E9DBV8gYpopc",
        "outputId": "34216d2e-e0fa-4f2d-d460-0b1f7752a496"
      },
      "source": [
        "!pip install sklearn_crfsuite"
      ],
      "execution_count": 1,
      "outputs": [
        {
          "output_type": "stream",
          "text": [
            "Collecting sklearn_crfsuite\n",
            "  Downloading https://files.pythonhosted.org/packages/25/74/5b7befa513482e6dee1f3dd68171a6c9dfc14c0eaa00f885ffeba54fe9b0/sklearn_crfsuite-0.3.6-py2.py3-none-any.whl\n",
            "Requirement already satisfied: tabulate in /usr/local/lib/python3.7/dist-packages (from sklearn_crfsuite) (0.8.9)\n",
            "Requirement already satisfied: six in /usr/local/lib/python3.7/dist-packages (from sklearn_crfsuite) (1.15.0)\n",
            "Requirement already satisfied: tqdm>=2.0 in /usr/local/lib/python3.7/dist-packages (from sklearn_crfsuite) (4.41.1)\n",
            "Collecting python-crfsuite>=0.8.3\n",
            "\u001b[?25l  Downloading https://files.pythonhosted.org/packages/79/47/58f16c46506139f17de4630dbcfb877ce41a6355a1bbf3c443edb9708429/python_crfsuite-0.9.7-cp37-cp37m-manylinux1_x86_64.whl (743kB)\n",
            "\u001b[K     |████████████████████████████████| 747kB 3.9MB/s \n",
            "\u001b[?25hInstalling collected packages: python-crfsuite, sklearn-crfsuite\n",
            "Successfully installed python-crfsuite-0.9.7 sklearn-crfsuite-0.3.6\n"
          ],
          "name": "stdout"
        }
      ]
    },
    {
      "cell_type": "code",
      "metadata": {
        "id": "qsHFPIxycb_c"
      },
      "source": [
        "import sklearn_crfsuite\n",
        "from sklearn_crfsuite import scorers\n",
        "from sklearn_crfsuite import metrics\n",
        "from sklearn.metrics import make_scorer\n",
        "from sklearn.model_selection import cross_val_score\n",
        "from sklearn.model_selection import RandomizedSearchCV\n",
        "\n",
        "from nltk.corpus import stopwords\n",
        "import pandas as pd\n",
        "import pickle\n",
        "import re\n",
        "import os"
      ],
      "execution_count": 2,
      "outputs": []
    },
    {
      "cell_type": "code",
      "metadata": {
        "colab": {
          "base_uri": "https://localhost:8080/"
        },
        "id": "TNJIwNGCp3yV",
        "outputId": "9c45001c-3066-4fe4-899c-d0c4eb39921e"
      },
      "source": [
        "import nltk\n",
        "nltk.download(\"stopwords\")"
      ],
      "execution_count": 3,
      "outputs": [
        {
          "output_type": "stream",
          "text": [
            "[nltk_data] Downloading package stopwords to /root/nltk_data...\n",
            "[nltk_data]   Unzipping corpora/stopwords.zip.\n"
          ],
          "name": "stdout"
        },
        {
          "output_type": "execute_result",
          "data": {
            "text/plain": [
              "True"
            ]
          },
          "metadata": {
            "tags": []
          },
          "execution_count": 3
        }
      ]
    },
    {
      "cell_type": "code",
      "metadata": {
        "id": "j3rgWyyacb_e"
      },
      "source": [
        "## ADDITIONAL FUNCTIONS\n",
        "if not os.path.exists('models'):\n",
        "    os.makedirs('models')\n",
        "    \n",
        "pStopWordsList = stopwords.words('english') + stopwords.words('russian')\n",
        "\n",
        "def SearchGoodsinTxt(ptxt, pGoodsPN, pGoodsDescription, pGoodsQty, pGoodsUnit, spaces=3):\n",
        "    if (pGoodsPN==None)&(pGoodsDescription==None):\n",
        "        return None\n",
        "    if pGoodsPN in (None, ''): \n",
        "        pGoodsPN = '' \n",
        "    else: \n",
        "        pGoodsPN= '%s.{0,%s}' % (re.escape(pGoodsPN.lower()), spaces)\n",
        "    if pGoodsDescription in (None, ''): \n",
        "        pGoodsDescription = '' \n",
        "    else: \n",
        "        pGoodsDescription= '%s.{0,%s}' % (re.escape(pGoodsDescription.lower()), spaces)\n",
        "    if pGoodsQty in (None, ''): \n",
        "        pGoodsQty = '' \n",
        "    else: \n",
        "        pGoodsQty= '%s.{0,%s}' % (re.escape(pGoodsQty.lower()), spaces)\n",
        "        \n",
        "    if pGoodsUnit in (None, ''): \n",
        "        pGoodsUnit = '' \n",
        "    else: \n",
        "        pGoodsUnit= '%s.{0,%s}' % (re.escape(pGoodsUnit.lower()), spaces)\n",
        "        \n",
        "    regext = '%s%s%s%s' % (pGoodsPN, pGoodsDescription, pGoodsQty, pGoodsUnit)\n",
        "    #print(regext)\n",
        "    m = re.search(regext, ptxt)\n",
        "    if m!=None:\n",
        "        return m.string[m.start(0):m.end(0)][:-spaces]\n",
        "    \n",
        "    regext = '%s%s%s%s' % (pGoodsDescription, pGoodsPN, pGoodsQty, pGoodsUnit)\n",
        "    m = re.search(regext, ptxt)\n",
        "    if m!=None:\n",
        "        return m.string[m.start(0):m.end(0)][:-spaces]\n",
        "    \n",
        "    regext = '%s%s%s%s' % (pGoodsDescription, pGoodsPN, pGoodsUnit,pGoodsQty)\n",
        "    m = re.search(regext, ptxt)\n",
        "    if m!=None:\n",
        "        return m.string[m.start(0):m.end(0)][:-spaces]\n",
        "\n",
        "    regext = '%s%s%s%s' % (pGoodsPN, pGoodsDescription, pGoodsUnit,pGoodsQty)\n",
        "    m = re.search(regext, ptxt)\n",
        "    if m!=None:\n",
        "        return m.string[m.start(0):m.end(0)][:-spaces]\n",
        "\n",
        "    regext = '%s%s%s%s' % (pGoodsQty, pGoodsUnit, pGoodsPN, pGoodsDescription)\n",
        "    m = re.search(regext, ptxt)\n",
        "    if m!=None:\n",
        "        return m.string[m.start(0):m.end(0)][:-spaces]\n",
        "    \n",
        "    regext = '%s%s%s%s' % (pGoodsUnit, pGoodsQty, pGoodsPN, pGoodsDescription)\n",
        "    m = re.search(regext, ptxt)\n",
        "    if m!=None:\n",
        "        return m.string[m.start(0):m.end(0)][:-spaces]\n",
        "    \n",
        "    regext = '%s%s%s%s' % (pGoodsUnit, pGoodsQty, pGoodsDescription,pGoodsPN)\n",
        "    m = re.search(regext, ptxt)\n",
        "    if m!=None:\n",
        "        return m.string[m.start(0):m.end(0)][:-spaces]\n",
        "    \n",
        "    regext = '%s%s%s%s' % (pGoodsQty, pGoodsUnit, pGoodsDescription,pGoodsPN)\n",
        "    m = re.search(regext, ptxt)\n",
        "    if m!=None:\n",
        "        return m.string[m.start(0):m.end(0)][:-spaces]\n",
        "    \n",
        "    regext = '%s%s%s%s' % (pGoodsPN, pGoodsQty, pGoodsUnit, pGoodsDescription)\n",
        "    m = re.search(regext, ptxt)\n",
        "    if m!=None:\n",
        "        return m.string[m.start(0):m.end(0)][:-spaces]\n",
        "    \n",
        "    regext = '%s%s%s%s' % (pGoodsDescription, pGoodsQty, pGoodsUnit, pGoodsPN)\n",
        "    m = re.search(regext, ptxt)\n",
        "    if m!=None:\n",
        "        return m.string[m.start(0):m.end(0)][:-spaces]\n",
        "    \n",
        "    regext = '%s%s%s%s' % (pGoodsPN, pGoodsUnit, pGoodsQty, pGoodsDescription)\n",
        "    m = re.search(regext, ptxt)\n",
        "    if m!=None:\n",
        "        return m.string[m.start(0):m.end(0)][:-spaces]\n",
        "    \n",
        "    regext = '%s%s%s%s' % (pGoodsDescription, pGoodsUnit, pGoodsQty, pGoodsPN)\n",
        "    m = re.search(regext, ptxt)\n",
        "    if m!=None:\n",
        "        return m.string[m.start(0):m.end(0)][:-spaces]\n",
        "   \n",
        "    regext = '%s%s%s' % (pGoodsPN, pGoodsDescription, pGoodsQty)\n",
        "    m = re.search(regext, ptxt)\n",
        "    if m!=None:\n",
        "        return m.string[m.start(0):m.end(0)][:-spaces]\n",
        "    \n",
        "    regext = '%s%s%s' % (pGoodsDescription, pGoodsPN, pGoodsQty)\n",
        "    m = re.search(regext, ptxt)\n",
        "    if m!=None:\n",
        "        return m.string[m.start(0):m.end(0)][:-spaces]\n",
        "    \n",
        "    regext = '%s%s%s' % (pGoodsQty, pGoodsPN, pGoodsDescription)\n",
        "    m = re.search(regext, ptxt)\n",
        "    if m!=None:\n",
        "        return m.string[m.start(0):m.end(0)][:-spaces]\n",
        "\n",
        "    regext = '%s%s%s' % (pGoodsQty, pGoodsDescription, pGoodsPN)\n",
        "    m = re.search(regext, ptxt)\n",
        "    if m!=None:\n",
        "        return m.string[m.start(0):m.end(0)][:-spaces]\n",
        "\n",
        "    #return m\n",
        "    regext = '%s%s' % (pGoodsPN, pGoodsDescription)\n",
        "    m = re.search(regext, ptxt)\n",
        "    if m!=None:\n",
        "        return m.string[m.start(0):m.end(0)][:-spaces]\n",
        "    \n",
        "    regext = '%s%s' % ( pGoodsDescription, pGoodsPN)\n",
        "    m = re.search(regext, ptxt)\n",
        "    if m!=None:\n",
        "        return m.string[m.start(0):m.end(0)][:-spaces]\n",
        "\n",
        "    regext = '%s' % (pGoodsPN)\n",
        "    m = re.search(regext, ptxt)\n",
        "    if m!=None:\n",
        "        return m.string[m.start(0):m.end(0)][:-spaces]\n",
        "    \n",
        "    regext = '%s' % (pGoodsDescription)\n",
        "    m = re.search(regext, ptxt)\n",
        "    if m!=None:\n",
        "        return m.string[m.start(0):m.end(0)][:-spaces]\n",
        "    return m\n",
        "\n",
        "\n",
        "def process_text_layer(TextLayer, pStopWordsList = []):\n",
        "    txt =  \" \".join([w for w in TextLayer.lower().split() \\\n",
        "                     if (not w in pStopWordsList)])\n",
        "\n",
        "    txt = txt. \\\n",
        "        replace('«', ''). \\\n",
        "        replace('»', ''). \\\n",
        "        replace('(', ''). \\\n",
        "        replace(')', ''). \\\n",
        "        replace('\\[)', ''). \\\n",
        "        replace('\\]', ''). \\\n",
        "        replace('^', ''). \\\n",
        "        replace('\\\\', '')\n",
        "\n",
        "    return txt\n",
        "\n",
        "def tagging_sentence_by_targets(ptag, sentence_tagged, df_targets, pmodel_name):\n",
        "    ret = sentence_tagged\n",
        "    for r in df_targets[df_targets['tag']==ptag]['string_value']:\n",
        "        tagging_sentence(ret, r, pmodel_name)\n",
        "    \n",
        "    return ret\n",
        "\n",
        "def word2features2(sent, i, exclude = 'O', bias=3):\n",
        "    word = sent[i][0]\n",
        "    if sent[i][2] == exclude:\n",
        "        return None\n",
        "\n",
        "    features = {\n",
        "        'bias': bias,\n",
        "        'word.lower()': word.lower(),\n",
        "        'word[:3]': word[:3],\n",
        "        'word[:2]': word[:2],\n",
        "        'word[-3:]': word[-3:],\n",
        "        'word[-2:]': word[-2:],\n",
        "        'word.isdigit()': word.isdigit(),\n",
        "        'BOS': False,\n",
        "        'EOS': False\n",
        "    }\n",
        "    for w in range(1, bias+1):\n",
        "        if i > w:\n",
        "            word1 = sent[i-w][0]\n",
        "            features.update({\n",
        "                '-%s:word.lower()' % (w): word1.lower()\n",
        "            })\n",
        "            \n",
        "    if i < 1:\n",
        "        features['BOS'] = True\n",
        "\n",
        "    for w in range(1, bias+1):\n",
        "        if i < len(sent)-w:\n",
        "            word1 = sent[i+w][0]\n",
        "            features.update({\n",
        "                '+%s:word.lower()' % (w): word1.lower()\n",
        "            })\n",
        "            \n",
        "    if i >= len(sent)-1:\n",
        "        features['EOS'] = True\n",
        "\n",
        "    return features\n",
        "\n",
        "def sent2features(sent, exclude = 'O'):\n",
        "    result = list()\n",
        "    for i in range(len(sent)):\n",
        "        ret = word2features2(sent, i, exclude = exclude, bias=10)\n",
        "        if ret !=None:\n",
        "            result.append(ret)\n",
        "    return result\n",
        "\n",
        "def sent2labels(sent, exclude = 'O'):\n",
        "    result = list()\n",
        "    for token, postag, label in sent:\n",
        "        if label !=exclude:\n",
        "            result.append(label)        \n",
        "    return result\n",
        "\n",
        "def tagging_sentence(sentence, target, tag):\n",
        "    sentence_text=  ' '.join([w['Word'] for w in sentence])\n",
        "    r_tag = ''\n",
        "\n",
        "    try:\n",
        "        res_find  = re.finditer(target.lower(), sentence_text.lower())\n",
        "    except:\n",
        "        return sentence\n",
        "\n",
        "    for m in res_find:\n",
        "        r_tag = 'B-%s' % tag\n",
        "        for i in range(len(sentence_text[:m.start()].split()), len(sentence_text[:m.end()].split())):\n",
        "            \"\"\"\n",
        "            if r_tag==('B-%s' % tag):\n",
        "                if i>0:\n",
        "                    sentence[i-1]['Tag']= 'B1-%s' % tag\n",
        "                if i>1:\n",
        "                    sentence[i-2]['Tag']= 'B2-%s' % tag                      \n",
        "                if i>2:\n",
        "                    sentence[i-3]['Tag']= 'B3-%s' % tag\n",
        "                if i>3:\n",
        "                    sentence[i-4]['Tag']= 'B4-%s' % tag  \n",
        "            \"\"\"\n",
        "            sentence[i]['Tag']= r_tag\n",
        "            r_tag = 'I-%s' % tag   \n",
        "            \"\"\"\n",
        "            for j in range(1,5):\n",
        "                if i+j < len(sentence):\n",
        "                    sentence[i+j]['Tag']='E%s-%s' % (str(j), tag)\n",
        "            \"\"\"\n",
        "    return sentence\n",
        "\n",
        "def prepare_sentence(num, sentence):\n",
        "    words = sentence.replace('\"', '').split()\n",
        "    tmp = []\n",
        "    for w in words:\n",
        "        tmp.append({'Sentence #': 'Sentence: %s' % num, 'Word' : w, 'POS' : 'NN', 'Tag': 'O'})\n",
        "    return tmp"
      ],
      "execution_count": 4,
      "outputs": []
    },
    {
      "cell_type": "code",
      "metadata": {
        "colab": {
          "base_uri": "https://localhost:8080/"
        },
        "id": "lBiLcpwnqGAW",
        "outputId": "e1fb7863-62d0-4cba-b1b6-41ff7a6bc799"
      },
      "source": [
        "!gdown --id 1mvcIhS_E4YhOMP3Tcm898aOjVDZIqLp-"
      ],
      "execution_count": 5,
      "outputs": [
        {
          "output_type": "stream",
          "text": [
            "Downloading...\n",
            "From: https://drive.google.com/uc?id=1mvcIhS_E4YhOMP3Tcm898aOjVDZIqLp-\n",
            "To: /content/NER RFQ.csv\n",
            "\r0.00B [00:00, ?B/s]\r5.41MB [00:00, 85.8MB/s]\n"
          ],
          "name": "stdout"
        }
      ]
    },
    {
      "cell_type": "code",
      "metadata": {
        "id": "w2hL7TFmcb_i"
      },
      "source": [
        "data = pd.read_csv('NER RFQ.csv')\n",
        "for column in data.columns:\n",
        "    data[column] = data[column].astype(str)"
      ],
      "execution_count": 6,
      "outputs": []
    },
    {
      "cell_type": "code",
      "metadata": {
        "id": "6YcPNc4gcb_l"
      },
      "source": [
        "GoodsString = data.copy()\n",
        "GoodsString['tag'] = GoodsString.apply(lambda r: r['tag'].split('-')[0], axis =1)\n",
        "GoodsString['string_value'] = GoodsString.apply(lambda r: process_text_layer(r['string_value'], pStopWordsList), axis = 1)\n",
        "\n",
        "GoodsString['Match'] = GoodsString.apply(lambda r: SearchGoodsinTxt(r['string_value'], r['GoodsPN'], r['GoodsDescription'], r['GoodsQTY'], r['GoodsUnit'], 5), axis=1)"
      ],
      "execution_count": 7,
      "outputs": []
    },
    {
      "cell_type": "code",
      "metadata": {
        "id": "TRxacV1bcb_l"
      },
      "source": [
        "model_name = 'GoodsString'\n",
        "df_x = GoodsString[GoodsString['Match'].notnull()][['tag', 'string_value']].rename(columns={'string_value':'x'})\n",
        "df_y = GoodsString[GoodsString['Match'].notnull()][['tag', 'Match']].rename(columns={'Match': 'string_value'})\n",
        "df_x[\"x_tagged\"] = df_x.apply(lambda r: prepare_sentence(r.name, r[\"x\"]), axis=1)\n",
        "df_x[\"x_tagged\"] = df_x.apply(lambda r: tagging_sentence_by_targets(r[\"tag\"], r['x_tagged'], df_y, model_name), axis=1)"
      ],
      "execution_count": 8,
      "outputs": []
    },
    {
      "cell_type": "code",
      "metadata": {
        "id": "pxK1XQy_cb_n"
      },
      "source": [
        "validation_set_part = 0.2\n",
        "\n",
        "df_validation = df_x.sample(round(len(df_x)*validation_set_part)).copy()\n",
        "df_training = df_x[df_x['tag'].isin(df_validation['tag'].values)==False].copy()"
      ],
      "execution_count": 9,
      "outputs": []
    },
    {
      "cell_type": "code",
      "metadata": {
        "colab": {
          "base_uri": "https://localhost:8080/",
          "height": 204
        },
        "id": "fCFS1zoBdC_A",
        "outputId": "57bb4065-5fb4-4158-eaf6-795d371c3724"
      },
      "source": [
        "df_training.head()"
      ],
      "execution_count": 10,
      "outputs": [
        {
          "output_type": "execute_result",
          "data": {
            "text/html": [
              "<div>\n",
              "<style scoped>\n",
              "    .dataframe tbody tr th:only-of-type {\n",
              "        vertical-align: middle;\n",
              "    }\n",
              "\n",
              "    .dataframe tbody tr th {\n",
              "        vertical-align: top;\n",
              "    }\n",
              "\n",
              "    .dataframe thead th {\n",
              "        text-align: right;\n",
              "    }\n",
              "</style>\n",
              "<table border=\"1\" class=\"dataframe\">\n",
              "  <thead>\n",
              "    <tr style=\"text-align: right;\">\n",
              "      <th></th>\n",
              "      <th>tag</th>\n",
              "      <th>x</th>\n",
              "      <th>x_tagged</th>\n",
              "    </tr>\n",
              "  </thead>\n",
              "  <tbody>\n",
              "    <tr>\n",
              "      <th>70</th>\n",
              "      <td>119287R.msg</td>\n",
              "      <td>name 119287r.msg &lt;aogdesk@nordstar.ru&gt; &lt;mvf@it...</td>\n",
              "      <td>[{'Sentence #': 'Sentence: 70', 'Word': 'name'...</td>\n",
              "    </tr>\n",
              "    <tr>\n",
              "      <th>76</th>\n",
              "      <td>120421R.msg</td>\n",
              "      <td>name 120421r.msg \"d.klebcha@s7.ru\" &lt;d.klebcha@...</td>\n",
              "      <td>[{'Sentence #': 'Sentence: 76', 'Word': 'name'...</td>\n",
              "    </tr>\n",
              "    <tr>\n",
              "      <th>88</th>\n",
              "      <td>120660R.msg</td>\n",
              "      <td>name 120660r.msg \"yuliya a. kondratova\" &lt;yuliy...</td>\n",
              "      <td>[{'Sentence #': 'Sentence: 88', 'Word': 'name'...</td>\n",
              "    </tr>\n",
              "    <tr>\n",
              "      <th>89</th>\n",
              "      <td>120660R.msg</td>\n",
              "      <td>name 120660r.msg \"yuliya a. kondratova\" &lt;yuliy...</td>\n",
              "      <td>[{'Sentence #': 'Sentence: 89', 'Word': 'name'...</td>\n",
              "    </tr>\n",
              "    <tr>\n",
              "      <th>90</th>\n",
              "      <td>120660R.msg</td>\n",
              "      <td>name 120660r.msg \"yuliya a. kondratova\" &lt;yuliy...</td>\n",
              "      <td>[{'Sentence #': 'Sentence: 90', 'Word': 'name'...</td>\n",
              "    </tr>\n",
              "  </tbody>\n",
              "</table>\n",
              "</div>"
            ],
            "text/plain": [
              "            tag  ...                                           x_tagged\n",
              "70  119287R.msg  ...  [{'Sentence #': 'Sentence: 70', 'Word': 'name'...\n",
              "76  120421R.msg  ...  [{'Sentence #': 'Sentence: 76', 'Word': 'name'...\n",
              "88  120660R.msg  ...  [{'Sentence #': 'Sentence: 88', 'Word': 'name'...\n",
              "89  120660R.msg  ...  [{'Sentence #': 'Sentence: 89', 'Word': 'name'...\n",
              "90  120660R.msg  ...  [{'Sentence #': 'Sentence: 90', 'Word': 'name'...\n",
              "\n",
              "[5 rows x 3 columns]"
            ]
          },
          "metadata": {
            "tags": []
          },
          "execution_count": 10
        }
      ]
    },
    {
      "cell_type": "code",
      "metadata": {
        "id": "3eNz46waeMvs"
      },
      "source": [
        "df_training[\"tags\"] = df_training.x_tagged.apply(lambda sent : [elem['Tag'] for elem in sent])\n",
        "df_training[\"words\"] = df_training.x_tagged.apply(lambda sent : [elem['Word'] for elem in sent])"
      ],
      "execution_count": 11,
      "outputs": []
    },
    {
      "cell_type": "code",
      "metadata": {
        "colab": {
          "base_uri": "https://localhost:8080/",
          "height": 204
        },
        "id": "6bdZzm-7fVOm",
        "outputId": "77a78d81-89af-480e-89d4-a61ce348d845"
      },
      "source": [
        "df_training = df_training.loc[:, ['tag', 'words', 'tags']].rename(columns={'tag' : 'id', 'tags' : 'ner_tags', 'words' : 'tokens'})\n",
        "df_training.head()"
      ],
      "execution_count": 12,
      "outputs": [
        {
          "output_type": "execute_result",
          "data": {
            "text/html": [
              "<div>\n",
              "<style scoped>\n",
              "    .dataframe tbody tr th:only-of-type {\n",
              "        vertical-align: middle;\n",
              "    }\n",
              "\n",
              "    .dataframe tbody tr th {\n",
              "        vertical-align: top;\n",
              "    }\n",
              "\n",
              "    .dataframe thead th {\n",
              "        text-align: right;\n",
              "    }\n",
              "</style>\n",
              "<table border=\"1\" class=\"dataframe\">\n",
              "  <thead>\n",
              "    <tr style=\"text-align: right;\">\n",
              "      <th></th>\n",
              "      <th>id</th>\n",
              "      <th>tokens</th>\n",
              "      <th>ner_tags</th>\n",
              "    </tr>\n",
              "  </thead>\n",
              "  <tbody>\n",
              "    <tr>\n",
              "      <th>70</th>\n",
              "      <td>119287R.msg</td>\n",
              "      <td>[name, 119287r.msg, &lt;aogdesk@nordstar.ru&gt;, &lt;mv...</td>\n",
              "      <td>[O, O, O, O, O, O, O, O, O, O, O, O, O, O, O, ...</td>\n",
              "    </tr>\n",
              "    <tr>\n",
              "      <th>76</th>\n",
              "      <td>120421R.msg</td>\n",
              "      <td>[name, 120421r.msg, d.klebcha@s7.ru, &lt;d.klebch...</td>\n",
              "      <td>[O, O, O, O, O, O, O, O, B-GoodsString, I-Good...</td>\n",
              "    </tr>\n",
              "    <tr>\n",
              "      <th>88</th>\n",
              "      <td>120660R.msg</td>\n",
              "      <td>[name, 120660r.msg, yuliya, a., kondratova, &lt;y...</td>\n",
              "      <td>[O, O, O, O, O, O, O, O, O, O, O, O, O, O, O, ...</td>\n",
              "    </tr>\n",
              "    <tr>\n",
              "      <th>89</th>\n",
              "      <td>120660R.msg</td>\n",
              "      <td>[name, 120660r.msg, yuliya, a., kondratova, &lt;y...</td>\n",
              "      <td>[O, O, O, O, O, O, O, O, O, O, O, O, O, O, O, ...</td>\n",
              "    </tr>\n",
              "    <tr>\n",
              "      <th>90</th>\n",
              "      <td>120660R.msg</td>\n",
              "      <td>[name, 120660r.msg, yuliya, a., kondratova, &lt;y...</td>\n",
              "      <td>[O, O, O, O, O, O, O, O, O, O, O, O, O, O, O, ...</td>\n",
              "    </tr>\n",
              "  </tbody>\n",
              "</table>\n",
              "</div>"
            ],
            "text/plain": [
              "             id  ...                                           ner_tags\n",
              "70  119287R.msg  ...  [O, O, O, O, O, O, O, O, O, O, O, O, O, O, O, ...\n",
              "76  120421R.msg  ...  [O, O, O, O, O, O, O, O, B-GoodsString, I-Good...\n",
              "88  120660R.msg  ...  [O, O, O, O, O, O, O, O, O, O, O, O, O, O, O, ...\n",
              "89  120660R.msg  ...  [O, O, O, O, O, O, O, O, O, O, O, O, O, O, O, ...\n",
              "90  120660R.msg  ...  [O, O, O, O, O, O, O, O, O, O, O, O, O, O, O, ...\n",
              "\n",
              "[5 rows x 3 columns]"
            ]
          },
          "metadata": {
            "tags": []
          },
          "execution_count": 12
        }
      ]
    },
    {
      "cell_type": "code",
      "metadata": {
        "id": "iHzZpbpHgzRu"
      },
      "source": [
        "df_validation[\"tags\"] = df_validation.x_tagged.apply(lambda sent : [elem['Tag'] for elem in sent])\n",
        "df_validation[\"words\"] = df_validation.x_tagged.apply(lambda sent : [elem['Word'] for elem in sent])"
      ],
      "execution_count": 13,
      "outputs": []
    },
    {
      "cell_type": "code",
      "metadata": {
        "colab": {
          "base_uri": "https://localhost:8080/",
          "height": 204
        },
        "id": "ZI0UCIWThBAY",
        "outputId": "8eb1b61e-5c00-4ae9-dca3-9d22aedba619"
      },
      "source": [
        "df_validation = df_validation.loc[:, ['tag', 'words', 'tags']].rename(columns={'tag' : 'id', 'tags' : 'ner_tags', 'words' : 'tokens'})\n",
        "df_validation.head()"
      ],
      "execution_count": 14,
      "outputs": [
        {
          "output_type": "execute_result",
          "data": {
            "text/html": [
              "<div>\n",
              "<style scoped>\n",
              "    .dataframe tbody tr th:only-of-type {\n",
              "        vertical-align: middle;\n",
              "    }\n",
              "\n",
              "    .dataframe tbody tr th {\n",
              "        vertical-align: top;\n",
              "    }\n",
              "\n",
              "    .dataframe thead th {\n",
              "        text-align: right;\n",
              "    }\n",
              "</style>\n",
              "<table border=\"1\" class=\"dataframe\">\n",
              "  <thead>\n",
              "    <tr style=\"text-align: right;\">\n",
              "      <th></th>\n",
              "      <th>id</th>\n",
              "      <th>tokens</th>\n",
              "      <th>ner_tags</th>\n",
              "    </tr>\n",
              "  </thead>\n",
              "  <tbody>\n",
              "    <tr>\n",
              "      <th>463</th>\n",
              "      <td>123312R.msg</td>\n",
              "      <td>[name, 123312r.msg, natallia.baboryk, &lt;natalli...</td>\n",
              "      <td>[O, O, O, O, O, O, O, O, O, O, O, O, O, O, O, ...</td>\n",
              "    </tr>\n",
              "    <tr>\n",
              "      <th>1728</th>\n",
              "      <td>125028R.msg</td>\n",
              "      <td>[name, 125028r.msg, &lt;anton.peshko@utair.ru&gt;, a...</td>\n",
              "      <td>[O, O, O, O, O, O, O, O, O, O, O, O, O, O, O, ...</td>\n",
              "    </tr>\n",
              "    <tr>\n",
              "      <th>852</th>\n",
              "      <td>123781R.msg</td>\n",
              "      <td>[name, 123781r.msg, &lt;nataliya.zhmurko@utair.ru...</td>\n",
              "      <td>[O, O, O, O, O, O, O, O, O, O, O, O, O, O, O, ...</td>\n",
              "    </tr>\n",
              "    <tr>\n",
              "      <th>1648</th>\n",
              "      <td>124922R.msg</td>\n",
              "      <td>[name, 124922r.msg, &lt;gennadiy.moskatov@utair.r...</td>\n",
              "      <td>[O, O, O, O, O, O, O, O, O, O, O, O, O, O, O, ...</td>\n",
              "    </tr>\n",
              "    <tr>\n",
              "      <th>990</th>\n",
              "      <td>123937R.msg</td>\n",
              "      <td>[name, 123937r.msg, &lt;gennadiy.moskatov@utair.r...</td>\n",
              "      <td>[O, O, O, O, O, O, O, O, O, O, O, O, O, O, O, ...</td>\n",
              "    </tr>\n",
              "  </tbody>\n",
              "</table>\n",
              "</div>"
            ],
            "text/plain": [
              "               id  ...                                           ner_tags\n",
              "463   123312R.msg  ...  [O, O, O, O, O, O, O, O, O, O, O, O, O, O, O, ...\n",
              "1728  125028R.msg  ...  [O, O, O, O, O, O, O, O, O, O, O, O, O, O, O, ...\n",
              "852   123781R.msg  ...  [O, O, O, O, O, O, O, O, O, O, O, O, O, O, O, ...\n",
              "1648  124922R.msg  ...  [O, O, O, O, O, O, O, O, O, O, O, O, O, O, O, ...\n",
              "990   123937R.msg  ...  [O, O, O, O, O, O, O, O, O, O, O, O, O, O, O, ...\n",
              "\n",
              "[5 rows x 3 columns]"
            ]
          },
          "metadata": {
            "tags": []
          },
          "execution_count": 14
        }
      ]
    },
    {
      "cell_type": "code",
      "metadata": {
        "colab": {
          "base_uri": "https://localhost:8080/"
        },
        "id": "ul8DBStShFjj",
        "outputId": "2dd36b1f-6a40-4759-ff06-4a4946169305"
      },
      "source": [
        "print(df_training.shape, df_validation.shape)"
      ],
      "execution_count": 15,
      "outputs": [
        {
          "output_type": "stream",
          "text": [
            "(811, 3) (385, 3)\n"
          ],
          "name": "stdout"
        }
      ]
    },
    {
      "cell_type": "code",
      "metadata": {
        "colab": {
          "base_uri": "https://localhost:8080/",
          "height": 204
        },
        "id": "FR0B98vehQN7",
        "outputId": "1a4cd76f-fd62-4c37-8080-6fa18d9e4a88"
      },
      "source": [
        "df = pd.concat([df_training, df_validation])\n",
        "df.head()"
      ],
      "execution_count": 16,
      "outputs": [
        {
          "output_type": "execute_result",
          "data": {
            "text/html": [
              "<div>\n",
              "<style scoped>\n",
              "    .dataframe tbody tr th:only-of-type {\n",
              "        vertical-align: middle;\n",
              "    }\n",
              "\n",
              "    .dataframe tbody tr th {\n",
              "        vertical-align: top;\n",
              "    }\n",
              "\n",
              "    .dataframe thead th {\n",
              "        text-align: right;\n",
              "    }\n",
              "</style>\n",
              "<table border=\"1\" class=\"dataframe\">\n",
              "  <thead>\n",
              "    <tr style=\"text-align: right;\">\n",
              "      <th></th>\n",
              "      <th>id</th>\n",
              "      <th>tokens</th>\n",
              "      <th>ner_tags</th>\n",
              "    </tr>\n",
              "  </thead>\n",
              "  <tbody>\n",
              "    <tr>\n",
              "      <th>70</th>\n",
              "      <td>119287R.msg</td>\n",
              "      <td>[name, 119287r.msg, &lt;aogdesk@nordstar.ru&gt;, &lt;mv...</td>\n",
              "      <td>[O, O, O, O, O, O, O, O, O, O, O, O, O, O, O, ...</td>\n",
              "    </tr>\n",
              "    <tr>\n",
              "      <th>76</th>\n",
              "      <td>120421R.msg</td>\n",
              "      <td>[name, 120421r.msg, d.klebcha@s7.ru, &lt;d.klebch...</td>\n",
              "      <td>[O, O, O, O, O, O, O, O, B-GoodsString, I-Good...</td>\n",
              "    </tr>\n",
              "    <tr>\n",
              "      <th>88</th>\n",
              "      <td>120660R.msg</td>\n",
              "      <td>[name, 120660r.msg, yuliya, a., kondratova, &lt;y...</td>\n",
              "      <td>[O, O, O, O, O, O, O, O, O, O, O, O, O, O, O, ...</td>\n",
              "    </tr>\n",
              "    <tr>\n",
              "      <th>89</th>\n",
              "      <td>120660R.msg</td>\n",
              "      <td>[name, 120660r.msg, yuliya, a., kondratova, &lt;y...</td>\n",
              "      <td>[O, O, O, O, O, O, O, O, O, O, O, O, O, O, O, ...</td>\n",
              "    </tr>\n",
              "    <tr>\n",
              "      <th>90</th>\n",
              "      <td>120660R.msg</td>\n",
              "      <td>[name, 120660r.msg, yuliya, a., kondratova, &lt;y...</td>\n",
              "      <td>[O, O, O, O, O, O, O, O, O, O, O, O, O, O, O, ...</td>\n",
              "    </tr>\n",
              "  </tbody>\n",
              "</table>\n",
              "</div>"
            ],
            "text/plain": [
              "             id  ...                                           ner_tags\n",
              "70  119287R.msg  ...  [O, O, O, O, O, O, O, O, O, O, O, O, O, O, O, ...\n",
              "76  120421R.msg  ...  [O, O, O, O, O, O, O, O, B-GoodsString, I-Good...\n",
              "88  120660R.msg  ...  [O, O, O, O, O, O, O, O, O, O, O, O, O, O, O, ...\n",
              "89  120660R.msg  ...  [O, O, O, O, O, O, O, O, O, O, O, O, O, O, O, ...\n",
              "90  120660R.msg  ...  [O, O, O, O, O, O, O, O, O, O, O, O, O, O, O, ...\n",
              "\n",
              "[5 rows x 3 columns]"
            ]
          },
          "metadata": {
            "tags": []
          },
          "execution_count": 16
        }
      ]
    },
    {
      "cell_type": "code",
      "metadata": {
        "id": "Vw2v8MtdMRov"
      },
      "source": [
        "df.to_csv(\"NER_RFQ_agg.csv\", index=False)"
      ],
      "execution_count": 17,
      "outputs": []
    },
    {
      "cell_type": "code",
      "metadata": {
        "id": "EYogHL0G0Zzz"
      },
      "source": [
        "all_tags = set()\n",
        "word_to_ix = {}\n",
        "for _, row in df.iterrows():\n",
        "    for tag in row.ner_tags:\n",
        "        all_tags.add(tag)\n",
        "    for word in row.tokens:\n",
        "        if word not in word_to_ix:\n",
        "            word_to_ix[word] = len(word_to_ix)\n",
        "all_tags = sorted(list(all_tags))\n",
        "tag_to_idx = {t: i for i, t in enumerate(all_tags)}\n",
        "label_list = {i: t for i, t in enumerate(all_tags)}"
      ],
      "execution_count": 18,
      "outputs": []
    },
    {
      "cell_type": "code",
      "metadata": {
        "id": "i-6RYQJc2U_t"
      },
      "source": [
        "def find_token(x):\n",
        "    res = []\n",
        "    for w in x['tokens']:\n",
        "        if w in word_to_ix.keys():\n",
        "            res.append(word_to_ix[w])\n",
        "        else:\n",
        "            res.append(0)\n",
        "    return res\n",
        "\n",
        "df['encoded_ner_tags'] = df.apply(lambda x: [tag_to_idx[t] for t in x['ner_tags']], axis=1)\n",
        "df['int_tokens'] = df.apply(find_token, axis=1)"
      ],
      "execution_count": 19,
      "outputs": []
    },
    {
      "cell_type": "code",
      "metadata": {
        "colab": {
          "base_uri": "https://localhost:8080/",
          "height": 419
        },
        "id": "qcF_GBzQ2fYC",
        "outputId": "353cccaa-adc0-4d2a-a84d-7ad1a92a96a7"
      },
      "source": [
        "df"
      ],
      "execution_count": 20,
      "outputs": [
        {
          "output_type": "execute_result",
          "data": {
            "text/html": [
              "<div>\n",
              "<style scoped>\n",
              "    .dataframe tbody tr th:only-of-type {\n",
              "        vertical-align: middle;\n",
              "    }\n",
              "\n",
              "    .dataframe tbody tr th {\n",
              "        vertical-align: top;\n",
              "    }\n",
              "\n",
              "    .dataframe thead th {\n",
              "        text-align: right;\n",
              "    }\n",
              "</style>\n",
              "<table border=\"1\" class=\"dataframe\">\n",
              "  <thead>\n",
              "    <tr style=\"text-align: right;\">\n",
              "      <th></th>\n",
              "      <th>id</th>\n",
              "      <th>tokens</th>\n",
              "      <th>ner_tags</th>\n",
              "      <th>encoded_ner_tags</th>\n",
              "      <th>int_tokens</th>\n",
              "    </tr>\n",
              "  </thead>\n",
              "  <tbody>\n",
              "    <tr>\n",
              "      <th>70</th>\n",
              "      <td>119287R.msg</td>\n",
              "      <td>[name, 119287r.msg, &lt;aogdesk@nordstar.ru&gt;, &lt;mv...</td>\n",
              "      <td>[O, O, O, O, O, O, O, O, O, O, O, O, O, O, O, ...</td>\n",
              "      <td>[2, 2, 2, 2, 2, 2, 2, 2, 2, 2, 2, 2, 2, 2, 2, ...</td>\n",
              "      <td>[0, 1, 2, 3, 4, 5, 6, 7, 8, 9, 10, 9, 11, 12, ...</td>\n",
              "    </tr>\n",
              "    <tr>\n",
              "      <th>76</th>\n",
              "      <td>120421R.msg</td>\n",
              "      <td>[name, 120421r.msg, d.klebcha@s7.ru, &lt;d.klebch...</td>\n",
              "      <td>[O, O, O, O, O, O, O, O, B-GoodsString, I-Good...</td>\n",
              "      <td>[2, 2, 2, 2, 2, 2, 2, 2, 0, 1, 2, 2, 2, 2, 2, ...</td>\n",
              "      <td>[0, 72, 73, 74, 75, 76, 5, 77, 78, 79, 80, 8, ...</td>\n",
              "    </tr>\n",
              "    <tr>\n",
              "      <th>88</th>\n",
              "      <td>120660R.msg</td>\n",
              "      <td>[name, 120660r.msg, yuliya, a., kondratova, &lt;y...</td>\n",
              "      <td>[O, O, O, O, O, O, O, O, O, O, O, O, O, O, O, ...</td>\n",
              "      <td>[2, 2, 2, 2, 2, 2, 2, 2, 2, 2, 2, 2, 2, 2, 2, ...</td>\n",
              "      <td>[0, 116, 117, 118, 119, 120, 70, 5, 77, 121, 1...</td>\n",
              "    </tr>\n",
              "    <tr>\n",
              "      <th>89</th>\n",
              "      <td>120660R.msg</td>\n",
              "      <td>[name, 120660r.msg, yuliya, a., kondratova, &lt;y...</td>\n",
              "      <td>[O, O, O, O, O, O, O, O, O, O, O, O, O, O, O, ...</td>\n",
              "      <td>[2, 2, 2, 2, 2, 2, 2, 2, 2, 2, 2, 2, 2, 2, 2, ...</td>\n",
              "      <td>[0, 116, 117, 118, 119, 120, 70, 5, 77, 121, 1...</td>\n",
              "    </tr>\n",
              "    <tr>\n",
              "      <th>90</th>\n",
              "      <td>120660R.msg</td>\n",
              "      <td>[name, 120660r.msg, yuliya, a., kondratova, &lt;y...</td>\n",
              "      <td>[O, O, O, O, O, O, O, O, O, O, O, O, O, O, O, ...</td>\n",
              "      <td>[2, 2, 2, 2, 2, 2, 2, 2, 2, 2, 2, 2, 2, 2, 2, ...</td>\n",
              "      <td>[0, 116, 117, 118, 119, 120, 70, 5, 77, 121, 1...</td>\n",
              "    </tr>\n",
              "    <tr>\n",
              "      <th>...</th>\n",
              "      <td>...</td>\n",
              "      <td>...</td>\n",
              "      <td>...</td>\n",
              "      <td>...</td>\n",
              "      <td>...</td>\n",
              "    </tr>\n",
              "    <tr>\n",
              "      <th>2095</th>\n",
              "      <td>125492R.msg</td>\n",
              "      <td>[name, 125492r.msg, mirgul, sadykova, &lt;mirgul....</td>\n",
              "      <td>[O, O, O, O, O, O, O, O, O, O, O, O, O, O, O, ...</td>\n",
              "      <td>[2, 2, 2, 2, 2, 2, 2, 2, 2, 2, 2, 2, 2, 2, 2, ...</td>\n",
              "      <td>[0, 10885, 1219, 1220, 1221, 70, 5, 10886, 8, ...</td>\n",
              "    </tr>\n",
              "    <tr>\n",
              "      <th>602</th>\n",
              "      <td>123436R.msg</td>\n",
              "      <td>[name, 123436r.msg, &lt;sales06@yestechnik.com&gt;, ...</td>\n",
              "      <td>[O, O, O, O, O, O, O, O, O, O, O, O, O, O, O, ...</td>\n",
              "      <td>[2, 2, 2, 2, 2, 2, 2, 2, 2, 2, 2, 2, 2, 2, 2, ...</td>\n",
              "      <td>[0, 9633, 3905, 4, 5, 9634, 8, 9, 3907, 312, 1...</td>\n",
              "    </tr>\n",
              "    <tr>\n",
              "      <th>795</th>\n",
              "      <td>123711R.msg</td>\n",
              "      <td>[name, 123711r.msg, &lt;anton.peshko@utair.ru&gt;, a...</td>\n",
              "      <td>[O, O, O, O, O, O, O, O, O, O, O, O, O, O, O, ...</td>\n",
              "      <td>[2, 2, 2, 2, 2, 2, 2, 2, 2, 2, 2, 2, 2, 2, 2, ...</td>\n",
              "      <td>[0, 12355, 3351, 406, 3352, 3351, 5, 254, 1235...</td>\n",
              "    </tr>\n",
              "    <tr>\n",
              "      <th>693</th>\n",
              "      <td>123541R.msg</td>\n",
              "      <td>[name, 123541r.msg, elena, kodintseva, &lt;elena....</td>\n",
              "      <td>[O, O, O, O, O, O, O, O, O, O, O, O, O, O, O, ...</td>\n",
              "      <td>[2, 2, 2, 2, 2, 2, 2, 2, 2, 2, 2, 2, 2, 2, 2, ...</td>\n",
              "      <td>[0, 8929, 2954, 3856, 3857, 70, 5, 8930, 8, 48...</td>\n",
              "    </tr>\n",
              "    <tr>\n",
              "      <th>448</th>\n",
              "      <td>123280R.msg</td>\n",
              "      <td>[name, 123280r.msg, aidar, tursunbayev, &lt;aidar...</td>\n",
              "      <td>[O, O, O, O, O, O, O, O, O, O, O, O, O, O, O, ...</td>\n",
              "      <td>[2, 2, 2, 2, 2, 2, 2, 2, 2, 2, 2, 2, 2, 2, 2, ...</td>\n",
              "      <td>[0, 10640, 7209, 7210, 7211, 7212, 7213, 5, 10...</td>\n",
              "    </tr>\n",
              "  </tbody>\n",
              "</table>\n",
              "<p>1196 rows × 5 columns</p>\n",
              "</div>"
            ],
            "text/plain": [
              "               id  ...                                         int_tokens\n",
              "70    119287R.msg  ...  [0, 1, 2, 3, 4, 5, 6, 7, 8, 9, 10, 9, 11, 12, ...\n",
              "76    120421R.msg  ...  [0, 72, 73, 74, 75, 76, 5, 77, 78, 79, 80, 8, ...\n",
              "88    120660R.msg  ...  [0, 116, 117, 118, 119, 120, 70, 5, 77, 121, 1...\n",
              "89    120660R.msg  ...  [0, 116, 117, 118, 119, 120, 70, 5, 77, 121, 1...\n",
              "90    120660R.msg  ...  [0, 116, 117, 118, 119, 120, 70, 5, 77, 121, 1...\n",
              "...           ...  ...                                                ...\n",
              "2095  125492R.msg  ...  [0, 10885, 1219, 1220, 1221, 70, 5, 10886, 8, ...\n",
              "602   123436R.msg  ...  [0, 9633, 3905, 4, 5, 9634, 8, 9, 3907, 312, 1...\n",
              "795   123711R.msg  ...  [0, 12355, 3351, 406, 3352, 3351, 5, 254, 1235...\n",
              "693   123541R.msg  ...  [0, 8929, 2954, 3856, 3857, 70, 5, 8930, 8, 48...\n",
              "448   123280R.msg  ...  [0, 10640, 7209, 7210, 7211, 7212, 7213, 5, 10...\n",
              "\n",
              "[1196 rows x 5 columns]"
            ]
          },
          "metadata": {
            "tags": []
          },
          "execution_count": 20
        }
      ]
    },
    {
      "cell_type": "code",
      "metadata": {
        "colab": {
          "base_uri": "https://localhost:8080/",
          "height": 419
        },
        "id": "o1W2IPNW2WO1",
        "outputId": "1d34926c-476f-4287-b36d-0217a37f057c"
      },
      "source": [
        "df"
      ],
      "execution_count": 21,
      "outputs": [
        {
          "output_type": "execute_result",
          "data": {
            "text/html": [
              "<div>\n",
              "<style scoped>\n",
              "    .dataframe tbody tr th:only-of-type {\n",
              "        vertical-align: middle;\n",
              "    }\n",
              "\n",
              "    .dataframe tbody tr th {\n",
              "        vertical-align: top;\n",
              "    }\n",
              "\n",
              "    .dataframe thead th {\n",
              "        text-align: right;\n",
              "    }\n",
              "</style>\n",
              "<table border=\"1\" class=\"dataframe\">\n",
              "  <thead>\n",
              "    <tr style=\"text-align: right;\">\n",
              "      <th></th>\n",
              "      <th>id</th>\n",
              "      <th>tokens</th>\n",
              "      <th>ner_tags</th>\n",
              "      <th>encoded_ner_tags</th>\n",
              "      <th>int_tokens</th>\n",
              "    </tr>\n",
              "  </thead>\n",
              "  <tbody>\n",
              "    <tr>\n",
              "      <th>70</th>\n",
              "      <td>119287R.msg</td>\n",
              "      <td>[name, 119287r.msg, &lt;aogdesk@nordstar.ru&gt;, &lt;mv...</td>\n",
              "      <td>[O, O, O, O, O, O, O, O, O, O, O, O, O, O, O, ...</td>\n",
              "      <td>[2, 2, 2, 2, 2, 2, 2, 2, 2, 2, 2, 2, 2, 2, 2, ...</td>\n",
              "      <td>[0, 1, 2, 3, 4, 5, 6, 7, 8, 9, 10, 9, 11, 12, ...</td>\n",
              "    </tr>\n",
              "    <tr>\n",
              "      <th>76</th>\n",
              "      <td>120421R.msg</td>\n",
              "      <td>[name, 120421r.msg, d.klebcha@s7.ru, &lt;d.klebch...</td>\n",
              "      <td>[O, O, O, O, O, O, O, O, B-GoodsString, I-Good...</td>\n",
              "      <td>[2, 2, 2, 2, 2, 2, 2, 2, 0, 1, 2, 2, 2, 2, 2, ...</td>\n",
              "      <td>[0, 72, 73, 74, 75, 76, 5, 77, 78, 79, 80, 8, ...</td>\n",
              "    </tr>\n",
              "    <tr>\n",
              "      <th>88</th>\n",
              "      <td>120660R.msg</td>\n",
              "      <td>[name, 120660r.msg, yuliya, a., kondratova, &lt;y...</td>\n",
              "      <td>[O, O, O, O, O, O, O, O, O, O, O, O, O, O, O, ...</td>\n",
              "      <td>[2, 2, 2, 2, 2, 2, 2, 2, 2, 2, 2, 2, 2, 2, 2, ...</td>\n",
              "      <td>[0, 116, 117, 118, 119, 120, 70, 5, 77, 121, 1...</td>\n",
              "    </tr>\n",
              "    <tr>\n",
              "      <th>89</th>\n",
              "      <td>120660R.msg</td>\n",
              "      <td>[name, 120660r.msg, yuliya, a., kondratova, &lt;y...</td>\n",
              "      <td>[O, O, O, O, O, O, O, O, O, O, O, O, O, O, O, ...</td>\n",
              "      <td>[2, 2, 2, 2, 2, 2, 2, 2, 2, 2, 2, 2, 2, 2, 2, ...</td>\n",
              "      <td>[0, 116, 117, 118, 119, 120, 70, 5, 77, 121, 1...</td>\n",
              "    </tr>\n",
              "    <tr>\n",
              "      <th>90</th>\n",
              "      <td>120660R.msg</td>\n",
              "      <td>[name, 120660r.msg, yuliya, a., kondratova, &lt;y...</td>\n",
              "      <td>[O, O, O, O, O, O, O, O, O, O, O, O, O, O, O, ...</td>\n",
              "      <td>[2, 2, 2, 2, 2, 2, 2, 2, 2, 2, 2, 2, 2, 2, 2, ...</td>\n",
              "      <td>[0, 116, 117, 118, 119, 120, 70, 5, 77, 121, 1...</td>\n",
              "    </tr>\n",
              "    <tr>\n",
              "      <th>...</th>\n",
              "      <td>...</td>\n",
              "      <td>...</td>\n",
              "      <td>...</td>\n",
              "      <td>...</td>\n",
              "      <td>...</td>\n",
              "    </tr>\n",
              "    <tr>\n",
              "      <th>2095</th>\n",
              "      <td>125492R.msg</td>\n",
              "      <td>[name, 125492r.msg, mirgul, sadykova, &lt;mirgul....</td>\n",
              "      <td>[O, O, O, O, O, O, O, O, O, O, O, O, O, O, O, ...</td>\n",
              "      <td>[2, 2, 2, 2, 2, 2, 2, 2, 2, 2, 2, 2, 2, 2, 2, ...</td>\n",
              "      <td>[0, 10885, 1219, 1220, 1221, 70, 5, 10886, 8, ...</td>\n",
              "    </tr>\n",
              "    <tr>\n",
              "      <th>602</th>\n",
              "      <td>123436R.msg</td>\n",
              "      <td>[name, 123436r.msg, &lt;sales06@yestechnik.com&gt;, ...</td>\n",
              "      <td>[O, O, O, O, O, O, O, O, O, O, O, O, O, O, O, ...</td>\n",
              "      <td>[2, 2, 2, 2, 2, 2, 2, 2, 2, 2, 2, 2, 2, 2, 2, ...</td>\n",
              "      <td>[0, 9633, 3905, 4, 5, 9634, 8, 9, 3907, 312, 1...</td>\n",
              "    </tr>\n",
              "    <tr>\n",
              "      <th>795</th>\n",
              "      <td>123711R.msg</td>\n",
              "      <td>[name, 123711r.msg, &lt;anton.peshko@utair.ru&gt;, a...</td>\n",
              "      <td>[O, O, O, O, O, O, O, O, O, O, O, O, O, O, O, ...</td>\n",
              "      <td>[2, 2, 2, 2, 2, 2, 2, 2, 2, 2, 2, 2, 2, 2, 2, ...</td>\n",
              "      <td>[0, 12355, 3351, 406, 3352, 3351, 5, 254, 1235...</td>\n",
              "    </tr>\n",
              "    <tr>\n",
              "      <th>693</th>\n",
              "      <td>123541R.msg</td>\n",
              "      <td>[name, 123541r.msg, elena, kodintseva, &lt;elena....</td>\n",
              "      <td>[O, O, O, O, O, O, O, O, O, O, O, O, O, O, O, ...</td>\n",
              "      <td>[2, 2, 2, 2, 2, 2, 2, 2, 2, 2, 2, 2, 2, 2, 2, ...</td>\n",
              "      <td>[0, 8929, 2954, 3856, 3857, 70, 5, 8930, 8, 48...</td>\n",
              "    </tr>\n",
              "    <tr>\n",
              "      <th>448</th>\n",
              "      <td>123280R.msg</td>\n",
              "      <td>[name, 123280r.msg, aidar, tursunbayev, &lt;aidar...</td>\n",
              "      <td>[O, O, O, O, O, O, O, O, O, O, O, O, O, O, O, ...</td>\n",
              "      <td>[2, 2, 2, 2, 2, 2, 2, 2, 2, 2, 2, 2, 2, 2, 2, ...</td>\n",
              "      <td>[0, 10640, 7209, 7210, 7211, 7212, 7213, 5, 10...</td>\n",
              "    </tr>\n",
              "  </tbody>\n",
              "</table>\n",
              "<p>1196 rows × 5 columns</p>\n",
              "</div>"
            ],
            "text/plain": [
              "               id  ...                                         int_tokens\n",
              "70    119287R.msg  ...  [0, 1, 2, 3, 4, 5, 6, 7, 8, 9, 10, 9, 11, 12, ...\n",
              "76    120421R.msg  ...  [0, 72, 73, 74, 75, 76, 5, 77, 78, 79, 80, 8, ...\n",
              "88    120660R.msg  ...  [0, 116, 117, 118, 119, 120, 70, 5, 77, 121, 1...\n",
              "89    120660R.msg  ...  [0, 116, 117, 118, 119, 120, 70, 5, 77, 121, 1...\n",
              "90    120660R.msg  ...  [0, 116, 117, 118, 119, 120, 70, 5, 77, 121, 1...\n",
              "...           ...  ...                                                ...\n",
              "2095  125492R.msg  ...  [0, 10885, 1219, 1220, 1221, 70, 5, 10886, 8, ...\n",
              "602   123436R.msg  ...  [0, 9633, 3905, 4, 5, 9634, 8, 9, 3907, 312, 1...\n",
              "795   123711R.msg  ...  [0, 12355, 3351, 406, 3352, 3351, 5, 254, 1235...\n",
              "693   123541R.msg  ...  [0, 8929, 2954, 3856, 3857, 70, 5, 8930, 8, 48...\n",
              "448   123280R.msg  ...  [0, 10640, 7209, 7210, 7211, 7212, 7213, 5, 10...\n",
              "\n",
              "[1196 rows x 5 columns]"
            ]
          },
          "metadata": {
            "tags": []
          },
          "execution_count": 21
        }
      ]
    },
    {
      "cell_type": "code",
      "metadata": {
        "id": "UCx_DvaI629R"
      },
      "source": [
        "from sklearn.model_selection import train_test_split\n",
        "train, test = train_test_split(df, test_size=0.2, random_state=42)"
      ],
      "execution_count": 22,
      "outputs": []
    },
    {
      "cell_type": "code",
      "metadata": {
        "colab": {
          "base_uri": "https://localhost:8080/",
          "height": 204
        },
        "id": "tXeiG-Dt7D3w",
        "outputId": "9ee181e7-ff07-420b-9307-15b93530117f"
      },
      "source": [
        "train.head()"
      ],
      "execution_count": 23,
      "outputs": [
        {
          "output_type": "execute_result",
          "data": {
            "text/html": [
              "<div>\n",
              "<style scoped>\n",
              "    .dataframe tbody tr th:only-of-type {\n",
              "        vertical-align: middle;\n",
              "    }\n",
              "\n",
              "    .dataframe tbody tr th {\n",
              "        vertical-align: top;\n",
              "    }\n",
              "\n",
              "    .dataframe thead th {\n",
              "        text-align: right;\n",
              "    }\n",
              "</style>\n",
              "<table border=\"1\" class=\"dataframe\">\n",
              "  <thead>\n",
              "    <tr style=\"text-align: right;\">\n",
              "      <th></th>\n",
              "      <th>id</th>\n",
              "      <th>tokens</th>\n",
              "      <th>ner_tags</th>\n",
              "      <th>encoded_ner_tags</th>\n",
              "      <th>int_tokens</th>\n",
              "    </tr>\n",
              "  </thead>\n",
              "  <tbody>\n",
              "    <tr>\n",
              "      <th>1554</th>\n",
              "      <td>124789R.msg</td>\n",
              "      <td>[name, 124789r.msg, &lt;olga.pushkareva@utair.ru&gt;...</td>\n",
              "      <td>[O, O, O, O, O, O, O, O, O, O, B-GoodsString, ...</td>\n",
              "      <td>[2, 2, 2, 2, 2, 2, 2, 2, 2, 2, 0, 2, 2, 2, 2, ...</td>\n",
              "      <td>[0, 6832, 4414, 1522, 4415, 4414, 5, 254, 6833...</td>\n",
              "    </tr>\n",
              "    <tr>\n",
              "      <th>259</th>\n",
              "      <td>123118R.msg</td>\n",
              "      <td>[name, 123118r.msg, =?utf-8?b?0jjqstcw0l3qvtcy...</td>\n",
              "      <td>[O, O, O, O, O, O, O, O, O, O, O, O, O, O, O, ...</td>\n",
              "      <td>[2, 2, 2, 2, 2, 2, 2, 2, 2, 2, 2, 2, 2, 2, 2, ...</td>\n",
              "      <td>[0, 3151, 3152, 3153, 3154, 70, 5, 3155, 3156,...</td>\n",
              "    </tr>\n",
              "    <tr>\n",
              "      <th>1120</th>\n",
              "      <td>124145R.msg</td>\n",
              "      <td>[name, 124145r.msg, =?koi8-r?b?5czj08xf1yd3zmh...</td>\n",
              "      <td>[O, O, O, O, O, O, O, O, O, O, O, O, O, O, O, ...</td>\n",
              "      <td>[2, 2, 2, 2, 2, 2, 2, 2, 2, 2, 2, 2, 2, 2, 2, ...</td>\n",
              "      <td>[0, 11362, 467, 468, 70, 5, 11363, 8, 9, 471, ...</td>\n",
              "    </tr>\n",
              "    <tr>\n",
              "      <th>492</th>\n",
              "      <td>123362R.msg</td>\n",
              "      <td>[name, 123362r.msg, mukhamedkali, tleulenov, &lt;...</td>\n",
              "      <td>[O, O, O, O, O, O, O, O, O, O, O, O, O, O, O, ...</td>\n",
              "      <td>[2, 2, 2, 2, 2, 2, 2, 2, 2, 2, 2, 2, 2, 2, 2, ...</td>\n",
              "      <td>[0, 3742, 2921, 2922, 2923, 70, 5, 188, 3743, ...</td>\n",
              "    </tr>\n",
              "    <tr>\n",
              "      <th>2332</th>\n",
              "      <td>125692R.msg</td>\n",
              "      <td>[name, 125692r.msg, nursultan, momynov, &lt;nursu...</td>\n",
              "      <td>[O, O, O, O, O, O, O, O, O, O, O, O, O, O, O, ...</td>\n",
              "      <td>[2, 2, 2, 2, 2, 2, 2, 2, 2, 2, 2, 2, 2, 2, 2, ...</td>\n",
              "      <td>[0, 8554, 6817, 6818, 6819, 70, 5, 77, 8555, 8...</td>\n",
              "    </tr>\n",
              "  </tbody>\n",
              "</table>\n",
              "</div>"
            ],
            "text/plain": [
              "               id  ...                                         int_tokens\n",
              "1554  124789R.msg  ...  [0, 6832, 4414, 1522, 4415, 4414, 5, 254, 6833...\n",
              "259   123118R.msg  ...  [0, 3151, 3152, 3153, 3154, 70, 5, 3155, 3156,...\n",
              "1120  124145R.msg  ...  [0, 11362, 467, 468, 70, 5, 11363, 8, 9, 471, ...\n",
              "492   123362R.msg  ...  [0, 3742, 2921, 2922, 2923, 70, 5, 188, 3743, ...\n",
              "2332  125692R.msg  ...  [0, 8554, 6817, 6818, 6819, 70, 5, 77, 8555, 8...\n",
              "\n",
              "[5 rows x 5 columns]"
            ]
          },
          "metadata": {
            "tags": []
          },
          "execution_count": 23
        }
      ]
    },
    {
      "cell_type": "code",
      "metadata": {
        "colab": {
          "base_uri": "https://localhost:8080/",
          "height": 204
        },
        "id": "svfal9ii7FS9",
        "outputId": "f9d041ba-91c4-4c44-8a55-18802cb28137"
      },
      "source": [
        "test.head()"
      ],
      "execution_count": 24,
      "outputs": [
        {
          "output_type": "execute_result",
          "data": {
            "text/html": [
              "<div>\n",
              "<style scoped>\n",
              "    .dataframe tbody tr th:only-of-type {\n",
              "        vertical-align: middle;\n",
              "    }\n",
              "\n",
              "    .dataframe tbody tr th {\n",
              "        vertical-align: top;\n",
              "    }\n",
              "\n",
              "    .dataframe thead th {\n",
              "        text-align: right;\n",
              "    }\n",
              "</style>\n",
              "<table border=\"1\" class=\"dataframe\">\n",
              "  <thead>\n",
              "    <tr style=\"text-align: right;\">\n",
              "      <th></th>\n",
              "      <th>id</th>\n",
              "      <th>tokens</th>\n",
              "      <th>ner_tags</th>\n",
              "      <th>encoded_ner_tags</th>\n",
              "      <th>int_tokens</th>\n",
              "    </tr>\n",
              "  </thead>\n",
              "  <tbody>\n",
              "    <tr>\n",
              "      <th>1767</th>\n",
              "      <td>125080R.msg</td>\n",
              "      <td>[name, 125080r.msg, &lt;gennadiy.moskatov@utair.r...</td>\n",
              "      <td>[O, O, O, O, O, O, O, O, O, O, O, O, O, O, O, ...</td>\n",
              "      <td>[2, 2, 2, 2, 2, 2, 2, 2, 2, 2, 2, 2, 2, 2, 2, ...</td>\n",
              "      <td>[0, 7545, 4288, 4289, 4290, 4288, 5, 254, 7546...</td>\n",
              "    </tr>\n",
              "    <tr>\n",
              "      <th>874</th>\n",
              "      <td>123820R.msg</td>\n",
              "      <td>[name, 123820r.msg, =?utf-8?b?0jdqvdc00ydqtdc5...</td>\n",
              "      <td>[O, O, O, O, O, O, O, O, O, O, O, O, O, O, O, ...</td>\n",
              "      <td>[2, 2, 2, 2, 2, 2, 2, 2, 2, 2, 2, 2, 2, 2, 2, ...</td>\n",
              "      <td>[0, 4842, 4843, 4844, 70, 5, 193, 77, 4845, 15...</td>\n",
              "    </tr>\n",
              "    <tr>\n",
              "      <th>1175</th>\n",
              "      <td>124236R.msg</td>\n",
              "      <td>[name, 124236r.msg, &lt;aogdesk@nordstar.ru&gt;, &lt;rf...</td>\n",
              "      <td>[O, O, O, O, O, O, O, O, O, O, O, O, O, O, O, ...</td>\n",
              "      <td>[2, 2, 2, 2, 2, 2, 2, 2, 2, 2, 2, 2, 2, 2, 2, ...</td>\n",
              "      <td>[0, 11074, 2, 3193, 4856, 5, 6, 11075, 1598, 5...</td>\n",
              "    </tr>\n",
              "    <tr>\n",
              "      <th>1726</th>\n",
              "      <td>125028R.msg</td>\n",
              "      <td>[name, 125028r.msg, &lt;anton.peshko@utair.ru&gt;, a...</td>\n",
              "      <td>[O, O, O, O, O, O, O, O, O, O, O, O, O, O, O, ...</td>\n",
              "      <td>[2, 2, 2, 2, 2, 2, 2, 2, 2, 2, 2, 2, 2, 2, 2, ...</td>\n",
              "      <td>[0, 8586, 3351, 406, 3352, 3351, 5, 254, 8587,...</td>\n",
              "    </tr>\n",
              "    <tr>\n",
              "      <th>215</th>\n",
              "      <td>123043R.msg</td>\n",
              "      <td>[name, 123043r.msg, mukhamedkali, tleulenov, &lt;...</td>\n",
              "      <td>[O, O, O, O, O, O, O, O, O, O, O, O, O, O, O, ...</td>\n",
              "      <td>[2, 2, 2, 2, 2, 2, 2, 2, 2, 2, 2, 2, 2, 2, 2, ...</td>\n",
              "      <td>[0, 2920, 2921, 2922, 2923, 70, 5, 188, 2924, ...</td>\n",
              "    </tr>\n",
              "  </tbody>\n",
              "</table>\n",
              "</div>"
            ],
            "text/plain": [
              "               id  ...                                         int_tokens\n",
              "1767  125080R.msg  ...  [0, 7545, 4288, 4289, 4290, 4288, 5, 254, 7546...\n",
              "874   123820R.msg  ...  [0, 4842, 4843, 4844, 70, 5, 193, 77, 4845, 15...\n",
              "1175  124236R.msg  ...  [0, 11074, 2, 3193, 4856, 5, 6, 11075, 1598, 5...\n",
              "1726  125028R.msg  ...  [0, 8586, 3351, 406, 3352, 3351, 5, 254, 8587,...\n",
              "215   123043R.msg  ...  [0, 2920, 2921, 2922, 2923, 70, 5, 188, 2924, ...\n",
              "\n",
              "[5 rows x 5 columns]"
            ]
          },
          "metadata": {
            "tags": []
          },
          "execution_count": 24
        }
      ]
    },
    {
      "cell_type": "code",
      "metadata": {
        "colab": {
          "base_uri": "https://localhost:8080/"
        },
        "id": "GWK82nRg4R05",
        "outputId": "6b5378e8-7816-45d8-ce84-bb5565a891e0"
      },
      "source": [
        "!pip install keras-crf\n",
        "!pip install tensorflow==1.15.0 keras==2.2.4"
      ],
      "execution_count": 25,
      "outputs": [
        {
          "output_type": "stream",
          "text": [
            "Collecting keras-crf\n",
            "  Downloading https://files.pythonhosted.org/packages/64/a8/e8b11718872f1564787e27375b116288bf66abc2acb2bbdd36539f568238/keras_crf-0.2.0-py3-none-any.whl\n",
            "Collecting tensorflow-addons\n",
            "\u001b[?25l  Downloading https://files.pythonhosted.org/packages/66/4b/e893d194e626c24b3df2253066aa418f46a432fdb68250cde14bf9bb0700/tensorflow_addons-0.13.0-cp37-cp37m-manylinux2010_x86_64.whl (679kB)\n",
            "\u001b[K     |████████████████████████████████| 686kB 4.0MB/s \n",
            "\u001b[?25hRequirement already satisfied: tensorflow in /usr/local/lib/python3.7/dist-packages (from keras-crf) (2.4.1)\n",
            "Collecting seqeval\n",
            "\u001b[?25l  Downloading https://files.pythonhosted.org/packages/9d/2d/233c79d5b4e5ab1dbf111242299153f3caddddbb691219f363ad55ce783d/seqeval-1.2.2.tar.gz (43kB)\n",
            "\u001b[K     |████████████████████████████████| 51kB 6.8MB/s \n",
            "\u001b[?25hRequirement already satisfied: typeguard>=2.7 in /usr/local/lib/python3.7/dist-packages (from tensorflow-addons->keras-crf) (2.7.1)\n",
            "Requirement already satisfied: protobuf>=3.9.2 in /usr/local/lib/python3.7/dist-packages (from tensorflow->keras-crf) (3.12.4)\n",
            "Requirement already satisfied: opt-einsum~=3.3.0 in /usr/local/lib/python3.7/dist-packages (from tensorflow->keras-crf) (3.3.0)\n",
            "Requirement already satisfied: tensorflow-estimator<2.5.0,>=2.4.0 in /usr/local/lib/python3.7/dist-packages (from tensorflow->keras-crf) (2.4.0)\n",
            "Requirement already satisfied: typing-extensions~=3.7.4 in /usr/local/lib/python3.7/dist-packages (from tensorflow->keras-crf) (3.7.4.3)\n",
            "Requirement already satisfied: tensorboard~=2.4 in /usr/local/lib/python3.7/dist-packages (from tensorflow->keras-crf) (2.4.1)\n",
            "Requirement already satisfied: google-pasta~=0.2 in /usr/local/lib/python3.7/dist-packages (from tensorflow->keras-crf) (0.2.0)\n",
            "Requirement already satisfied: absl-py~=0.10 in /usr/local/lib/python3.7/dist-packages (from tensorflow->keras-crf) (0.12.0)\n",
            "Requirement already satisfied: keras-preprocessing~=1.1.2 in /usr/local/lib/python3.7/dist-packages (from tensorflow->keras-crf) (1.1.2)\n",
            "Requirement already satisfied: flatbuffers~=1.12.0 in /usr/local/lib/python3.7/dist-packages (from tensorflow->keras-crf) (1.12)\n",
            "Requirement already satisfied: six~=1.15.0 in /usr/local/lib/python3.7/dist-packages (from tensorflow->keras-crf) (1.15.0)\n",
            "Requirement already satisfied: wrapt~=1.12.1 in /usr/local/lib/python3.7/dist-packages (from tensorflow->keras-crf) (1.12.1)\n",
            "Requirement already satisfied: gast==0.3.3 in /usr/local/lib/python3.7/dist-packages (from tensorflow->keras-crf) (0.3.3)\n",
            "Requirement already satisfied: termcolor~=1.1.0 in /usr/local/lib/python3.7/dist-packages (from tensorflow->keras-crf) (1.1.0)\n",
            "Requirement already satisfied: wheel~=0.35 in /usr/local/lib/python3.7/dist-packages (from tensorflow->keras-crf) (0.36.2)\n",
            "Requirement already satisfied: numpy~=1.19.2 in /usr/local/lib/python3.7/dist-packages (from tensorflow->keras-crf) (1.19.5)\n",
            "Requirement already satisfied: grpcio~=1.32.0 in /usr/local/lib/python3.7/dist-packages (from tensorflow->keras-crf) (1.32.0)\n",
            "Requirement already satisfied: h5py~=2.10.0 in /usr/local/lib/python3.7/dist-packages (from tensorflow->keras-crf) (2.10.0)\n",
            "Requirement already satisfied: astunparse~=1.6.3 in /usr/local/lib/python3.7/dist-packages (from tensorflow->keras-crf) (1.6.3)\n",
            "Requirement already satisfied: scikit-learn>=0.21.3 in /usr/local/lib/python3.7/dist-packages (from seqeval->keras-crf) (0.22.2.post1)\n",
            "Requirement already satisfied: setuptools in /usr/local/lib/python3.7/dist-packages (from protobuf>=3.9.2->tensorflow->keras-crf) (56.1.0)\n",
            "Requirement already satisfied: requests<3,>=2.21.0 in /usr/local/lib/python3.7/dist-packages (from tensorboard~=2.4->tensorflow->keras-crf) (2.23.0)\n",
            "Requirement already satisfied: tensorboard-plugin-wit>=1.6.0 in /usr/local/lib/python3.7/dist-packages (from tensorboard~=2.4->tensorflow->keras-crf) (1.8.0)\n",
            "Requirement already satisfied: markdown>=2.6.8 in /usr/local/lib/python3.7/dist-packages (from tensorboard~=2.4->tensorflow->keras-crf) (3.3.4)\n",
            "Requirement already satisfied: werkzeug>=0.11.15 in /usr/local/lib/python3.7/dist-packages (from tensorboard~=2.4->tensorflow->keras-crf) (2.0.0)\n",
            "Requirement already satisfied: google-auth<2,>=1.6.3 in /usr/local/lib/python3.7/dist-packages (from tensorboard~=2.4->tensorflow->keras-crf) (1.30.0)\n",
            "Requirement already satisfied: google-auth-oauthlib<0.5,>=0.4.1 in /usr/local/lib/python3.7/dist-packages (from tensorboard~=2.4->tensorflow->keras-crf) (0.4.4)\n",
            "Requirement already satisfied: scipy>=0.17.0 in /usr/local/lib/python3.7/dist-packages (from scikit-learn>=0.21.3->seqeval->keras-crf) (1.4.1)\n",
            "Requirement already satisfied: joblib>=0.11 in /usr/local/lib/python3.7/dist-packages (from scikit-learn>=0.21.3->seqeval->keras-crf) (1.0.1)\n",
            "Requirement already satisfied: idna<3,>=2.5 in /usr/local/lib/python3.7/dist-packages (from requests<3,>=2.21.0->tensorboard~=2.4->tensorflow->keras-crf) (2.10)\n",
            "Requirement already satisfied: certifi>=2017.4.17 in /usr/local/lib/python3.7/dist-packages (from requests<3,>=2.21.0->tensorboard~=2.4->tensorflow->keras-crf) (2020.12.5)\n",
            "Requirement already satisfied: chardet<4,>=3.0.2 in /usr/local/lib/python3.7/dist-packages (from requests<3,>=2.21.0->tensorboard~=2.4->tensorflow->keras-crf) (3.0.4)\n",
            "Requirement already satisfied: urllib3!=1.25.0,!=1.25.1,<1.26,>=1.21.1 in /usr/local/lib/python3.7/dist-packages (from requests<3,>=2.21.0->tensorboard~=2.4->tensorflow->keras-crf) (1.24.3)\n",
            "Requirement already satisfied: importlib-metadata; python_version < \"3.8\" in /usr/local/lib/python3.7/dist-packages (from markdown>=2.6.8->tensorboard~=2.4->tensorflow->keras-crf) (4.0.1)\n",
            "Requirement already satisfied: rsa<5,>=3.1.4; python_version >= \"3.6\" in /usr/local/lib/python3.7/dist-packages (from google-auth<2,>=1.6.3->tensorboard~=2.4->tensorflow->keras-crf) (4.7.2)\n",
            "Requirement already satisfied: cachetools<5.0,>=2.0.0 in /usr/local/lib/python3.7/dist-packages (from google-auth<2,>=1.6.3->tensorboard~=2.4->tensorflow->keras-crf) (4.2.2)\n",
            "Requirement already satisfied: pyasn1-modules>=0.2.1 in /usr/local/lib/python3.7/dist-packages (from google-auth<2,>=1.6.3->tensorboard~=2.4->tensorflow->keras-crf) (0.2.8)\n",
            "Requirement already satisfied: requests-oauthlib>=0.7.0 in /usr/local/lib/python3.7/dist-packages (from google-auth-oauthlib<0.5,>=0.4.1->tensorboard~=2.4->tensorflow->keras-crf) (1.3.0)\n",
            "Requirement already satisfied: zipp>=0.5 in /usr/local/lib/python3.7/dist-packages (from importlib-metadata; python_version < \"3.8\"->markdown>=2.6.8->tensorboard~=2.4->tensorflow->keras-crf) (3.4.1)\n",
            "Requirement already satisfied: pyasn1>=0.1.3 in /usr/local/lib/python3.7/dist-packages (from rsa<5,>=3.1.4; python_version >= \"3.6\"->google-auth<2,>=1.6.3->tensorboard~=2.4->tensorflow->keras-crf) (0.4.8)\n",
            "Requirement already satisfied: oauthlib>=3.0.0 in /usr/local/lib/python3.7/dist-packages (from requests-oauthlib>=0.7.0->google-auth-oauthlib<0.5,>=0.4.1->tensorboard~=2.4->tensorflow->keras-crf) (3.1.0)\n",
            "Building wheels for collected packages: seqeval\n",
            "  Building wheel for seqeval (setup.py) ... \u001b[?25l\u001b[?25hdone\n",
            "  Created wheel for seqeval: filename=seqeval-1.2.2-cp37-none-any.whl size=16172 sha256=2304b542557ef0466dee541bc4ee1c8d11b98485800a3eccfe15e3eb44a26122\n",
            "  Stored in directory: /root/.cache/pip/wheels/52/df/1b/45d75646c37428f7e626214704a0e35bd3cfc32eda37e59e5f\n",
            "Successfully built seqeval\n",
            "Installing collected packages: tensorflow-addons, seqeval, keras-crf\n",
            "Successfully installed keras-crf-0.2.0 seqeval-1.2.2 tensorflow-addons-0.13.0\n",
            "Collecting tensorflow==1.15.0\n",
            "\u001b[?25l  Downloading https://files.pythonhosted.org/packages/92/2b/e3af15221da9ff323521565fa3324b0d7c7c5b1d7a8ca66984c8d59cb0ce/tensorflow-1.15.0-cp37-cp37m-manylinux2010_x86_64.whl (412.3MB)\n",
            "\u001b[K     |████████████████████████████████| 412.3MB 40kB/s \n",
            "\u001b[?25hCollecting keras==2.2.4\n",
            "\u001b[?25l  Downloading https://files.pythonhosted.org/packages/5e/10/aa32dad071ce52b5502266b5c659451cfd6ffcbf14e6c8c4f16c0ff5aaab/Keras-2.2.4-py2.py3-none-any.whl (312kB)\n",
            "\u001b[K     |████████████████████████████████| 317kB 29.2MB/s \n",
            "\u001b[?25hRequirement already satisfied: grpcio>=1.8.6 in /usr/local/lib/python3.7/dist-packages (from tensorflow==1.15.0) (1.32.0)\n",
            "Requirement already satisfied: wrapt>=1.11.1 in /usr/local/lib/python3.7/dist-packages (from tensorflow==1.15.0) (1.12.1)\n",
            "Collecting tensorboard<1.16.0,>=1.15.0\n",
            "\u001b[?25l  Downloading https://files.pythonhosted.org/packages/1e/e9/d3d747a97f7188f48aa5eda486907f3b345cd409f0a0850468ba867db246/tensorboard-1.15.0-py3-none-any.whl (3.8MB)\n",
            "\u001b[K     |████████████████████████████████| 3.8MB 30.5MB/s \n",
            "\u001b[?25hCollecting keras-applications>=1.0.8\n",
            "\u001b[?25l  Downloading https://files.pythonhosted.org/packages/71/e3/19762fdfc62877ae9102edf6342d71b28fbfd9dea3d2f96a882ce099b03f/Keras_Applications-1.0.8-py3-none-any.whl (50kB)\n",
            "\u001b[K     |████████████████████████████████| 51kB 6.1MB/s \n",
            "\u001b[?25hRequirement already satisfied: google-pasta>=0.1.6 in /usr/local/lib/python3.7/dist-packages (from tensorflow==1.15.0) (0.2.0)\n",
            "Requirement already satisfied: absl-py>=0.7.0 in /usr/local/lib/python3.7/dist-packages (from tensorflow==1.15.0) (0.12.0)\n",
            "Requirement already satisfied: opt-einsum>=2.3.2 in /usr/local/lib/python3.7/dist-packages (from tensorflow==1.15.0) (3.3.0)\n",
            "Requirement already satisfied: six>=1.10.0 in /usr/local/lib/python3.7/dist-packages (from tensorflow==1.15.0) (1.15.0)\n",
            "Collecting tensorflow-estimator==1.15.1\n",
            "\u001b[?25l  Downloading https://files.pythonhosted.org/packages/de/62/2ee9cd74c9fa2fa450877847ba560b260f5d0fb70ee0595203082dafcc9d/tensorflow_estimator-1.15.1-py2.py3-none-any.whl (503kB)\n",
            "\u001b[K     |████████████████████████████████| 512kB 23.3MB/s \n",
            "\u001b[?25hRequirement already satisfied: keras-preprocessing>=1.0.5 in /usr/local/lib/python3.7/dist-packages (from tensorflow==1.15.0) (1.1.2)\n",
            "Requirement already satisfied: wheel>=0.26 in /usr/local/lib/python3.7/dist-packages (from tensorflow==1.15.0) (0.36.2)\n",
            "Requirement already satisfied: numpy<2.0,>=1.16.0 in /usr/local/lib/python3.7/dist-packages (from tensorflow==1.15.0) (1.19.5)\n",
            "Requirement already satisfied: protobuf>=3.6.1 in /usr/local/lib/python3.7/dist-packages (from tensorflow==1.15.0) (3.12.4)\n",
            "Collecting gast==0.2.2\n",
            "  Downloading https://files.pythonhosted.org/packages/4e/35/11749bf99b2d4e3cceb4d55ca22590b0d7c2c62b9de38ac4a4a7f4687421/gast-0.2.2.tar.gz\n",
            "Requirement already satisfied: astor>=0.6.0 in /usr/local/lib/python3.7/dist-packages (from tensorflow==1.15.0) (0.8.1)\n",
            "Requirement already satisfied: termcolor>=1.1.0 in /usr/local/lib/python3.7/dist-packages (from tensorflow==1.15.0) (1.1.0)\n",
            "Requirement already satisfied: scipy>=0.14 in /usr/local/lib/python3.7/dist-packages (from keras==2.2.4) (1.4.1)\n",
            "Requirement already satisfied: h5py in /usr/local/lib/python3.7/dist-packages (from keras==2.2.4) (2.10.0)\n",
            "Requirement already satisfied: pyyaml in /usr/local/lib/python3.7/dist-packages (from keras==2.2.4) (3.13)\n",
            "Requirement already satisfied: setuptools>=41.0.0 in /usr/local/lib/python3.7/dist-packages (from tensorboard<1.16.0,>=1.15.0->tensorflow==1.15.0) (56.1.0)\n",
            "Requirement already satisfied: werkzeug>=0.11.15 in /usr/local/lib/python3.7/dist-packages (from tensorboard<1.16.0,>=1.15.0->tensorflow==1.15.0) (2.0.0)\n",
            "Requirement already satisfied: markdown>=2.6.8 in /usr/local/lib/python3.7/dist-packages (from tensorboard<1.16.0,>=1.15.0->tensorflow==1.15.0) (3.3.4)\n",
            "Requirement already satisfied: importlib-metadata; python_version < \"3.8\" in /usr/local/lib/python3.7/dist-packages (from markdown>=2.6.8->tensorboard<1.16.0,>=1.15.0->tensorflow==1.15.0) (4.0.1)\n",
            "Requirement already satisfied: zipp>=0.5 in /usr/local/lib/python3.7/dist-packages (from importlib-metadata; python_version < \"3.8\"->markdown>=2.6.8->tensorboard<1.16.0,>=1.15.0->tensorflow==1.15.0) (3.4.1)\n",
            "Requirement already satisfied: typing-extensions>=3.6.4; python_version < \"3.8\" in /usr/local/lib/python3.7/dist-packages (from importlib-metadata; python_version < \"3.8\"->markdown>=2.6.8->tensorboard<1.16.0,>=1.15.0->tensorflow==1.15.0) (3.7.4.3)\n",
            "Building wheels for collected packages: gast\n",
            "  Building wheel for gast (setup.py) ... \u001b[?25l\u001b[?25hdone\n",
            "  Created wheel for gast: filename=gast-0.2.2-cp37-none-any.whl size=7540 sha256=15144ba6cd3ecdd1f88056e44a9783c7619cb69bd8124c60e48e0196f6ae9cd2\n",
            "  Stored in directory: /root/.cache/pip/wheels/5c/2e/7e/a1d4d4fcebe6c381f378ce7743a3ced3699feb89bcfbdadadd\n",
            "Successfully built gast\n",
            "\u001b[31mERROR: tensorflow-probability 0.12.1 has requirement gast>=0.3.2, but you'll have gast 0.2.2 which is incompatible.\u001b[0m\n",
            "Installing collected packages: tensorboard, keras-applications, tensorflow-estimator, gast, tensorflow, keras\n",
            "  Found existing installation: tensorboard 2.4.1\n",
            "    Uninstalling tensorboard-2.4.1:\n",
            "      Successfully uninstalled tensorboard-2.4.1\n",
            "  Found existing installation: tensorflow-estimator 2.4.0\n",
            "    Uninstalling tensorflow-estimator-2.4.0:\n",
            "      Successfully uninstalled tensorflow-estimator-2.4.0\n",
            "  Found existing installation: gast 0.3.3\n",
            "    Uninstalling gast-0.3.3:\n",
            "      Successfully uninstalled gast-0.3.3\n",
            "  Found existing installation: tensorflow 2.4.1\n",
            "    Uninstalling tensorflow-2.4.1:\n",
            "      Successfully uninstalled tensorflow-2.4.1\n",
            "  Found existing installation: Keras 2.4.3\n",
            "    Uninstalling Keras-2.4.3:\n",
            "      Successfully uninstalled Keras-2.4.3\n",
            "Successfully installed gast-0.2.2 keras-2.2.4 keras-applications-1.0.8 tensorboard-1.15.0 tensorflow-1.15.0 tensorflow-estimator-1.15.1\n"
          ],
          "name": "stdout"
        }
      ]
    },
    {
      "cell_type": "code",
      "metadata": {
        "colab": {
          "base_uri": "https://localhost:8080/"
        },
        "id": "x-yc5qhx4e_5",
        "outputId": "e960f7f8-af70-403e-8a13-4a6bea8e3935"
      },
      "source": [
        "!pip install git+https://www.github.com/keras-team/keras-contrib.git"
      ],
      "execution_count": 26,
      "outputs": [
        {
          "output_type": "stream",
          "text": [
            "Collecting git+https://www.github.com/keras-team/keras-contrib.git\n",
            "  Cloning https://www.github.com/keras-team/keras-contrib.git to /tmp/pip-req-build-g6quj320\n",
            "  Running command git clone -q https://www.github.com/keras-team/keras-contrib.git /tmp/pip-req-build-g6quj320\n",
            "Requirement already satisfied: keras in /usr/local/lib/python3.7/dist-packages (from keras-contrib==2.0.8) (2.2.4)\n",
            "Requirement already satisfied: numpy>=1.9.1 in /usr/local/lib/python3.7/dist-packages (from keras->keras-contrib==2.0.8) (1.19.5)\n",
            "Requirement already satisfied: keras-applications>=1.0.6 in /usr/local/lib/python3.7/dist-packages (from keras->keras-contrib==2.0.8) (1.0.8)\n",
            "Requirement already satisfied: pyyaml in /usr/local/lib/python3.7/dist-packages (from keras->keras-contrib==2.0.8) (3.13)\n",
            "Requirement already satisfied: h5py in /usr/local/lib/python3.7/dist-packages (from keras->keras-contrib==2.0.8) (2.10.0)\n",
            "Requirement already satisfied: keras-preprocessing>=1.0.5 in /usr/local/lib/python3.7/dist-packages (from keras->keras-contrib==2.0.8) (1.1.2)\n",
            "Requirement already satisfied: six>=1.9.0 in /usr/local/lib/python3.7/dist-packages (from keras->keras-contrib==2.0.8) (1.15.0)\n",
            "Requirement already satisfied: scipy>=0.14 in /usr/local/lib/python3.7/dist-packages (from keras->keras-contrib==2.0.8) (1.4.1)\n",
            "Building wheels for collected packages: keras-contrib\n",
            "  Building wheel for keras-contrib (setup.py) ... \u001b[?25l\u001b[?25hdone\n",
            "  Created wheel for keras-contrib: filename=keras_contrib-2.0.8-cp37-none-any.whl size=101065 sha256=020a7b8c8fd2252dc297eac9ac22da99f10cc6b78ca410bdcbcd348ddd2fe474\n",
            "  Stored in directory: /tmp/pip-ephem-wheel-cache-97tfc9eh/wheels/11/27/c8/4ed56de7b55f4f61244e2dc6ef3cdbaff2692527a2ce6502ba\n",
            "Successfully built keras-contrib\n",
            "Installing collected packages: keras-contrib\n",
            "Successfully installed keras-contrib-2.0.8\n"
          ],
          "name": "stdout"
        }
      ]
    },
    {
      "cell_type": "code",
      "metadata": {
        "id": "GLHz71x74hEB"
      },
      "source": [
        "import tensorflow as tf\n",
        "\n",
        "def focal_loss(gamma=2., alpha=4.):\n",
        "\n",
        "    gamma = float(gamma)\n",
        "    alpha = float(alpha)\n",
        "\n",
        "    def focal_loss_fixed(y_true, y_pred):\n",
        "        \"\"\"Focal loss for multi-classification\n",
        "        FL(p_t)=-alpha(1-p_t)^{gamma}ln(p_t)\n",
        "        Notice: y_pred is probability after softmax\n",
        "        gradient is d(Fl)/d(p_t) not d(Fl)/d(x) as described in paper\n",
        "        d(Fl)/d(p_t) * [p_t(1-p_t)] = d(Fl)/d(x)\n",
        "        Focal Loss for Dense Object Detection\n",
        "        https://arxiv.org/abs/1708.02002\n",
        "\n",
        "        Arguments:\n",
        "            y_true {tensor} -- ground truth labels, shape of [batch_size, num_cls]\n",
        "            y_pred {tensor} -- model's output, shape of [batch_size, num_cls]\n",
        "\n",
        "        Keyword Arguments:\n",
        "            gamma {float} -- (default: {2.0})\n",
        "            alpha {float} -- (default: {4.0})\n",
        "\n",
        "        Returns:\n",
        "            [tensor] -- loss.\n",
        "        \"\"\"\n",
        "        epsilon = 1.e-9\n",
        "        y_true = tf.convert_to_tensor(y_true, tf.float32)\n",
        "        y_pred = tf.convert_to_tensor(y_pred, tf.float32)\n",
        "\n",
        "        model_out = tf.add(y_pred, epsilon)\n",
        "        ce = tf.multiply(y_true, -tf.log(model_out))\n",
        "        weight = tf.multiply(y_true, tf.pow(tf.subtract(1., model_out), gamma))\n",
        "        fl = tf.multiply(alpha, tf.multiply(weight, ce))\n",
        "        reduced_fl = tf.reduce_max(fl, axis=1)\n",
        "        return tf.reduce_mean(reduced_fl)\n",
        "    return focal_loss_fixed"
      ],
      "execution_count": 27,
      "outputs": []
    },
    {
      "cell_type": "code",
      "metadata": {
        "colab": {
          "base_uri": "https://localhost:8080/"
        },
        "id": "LWKE1TWsvyBW",
        "outputId": "ca109bae-ee17-4a45-fd73-71b454fafeb1"
      },
      "source": [
        "from keras.optimizers import Adam\n",
        "from keras.models import *\n",
        "from keras.layers import LSTM, Embedding, Dense, TimeDistributed, Dropout, Bidirectional, Input\n",
        "from keras_contrib.layers import CRF\n",
        "from keras_contrib.losses import crf_loss\n",
        "from keras_contrib.metrics import crf_viterbi_accuracy, crf_marginal_accuracy\n",
        "import numpy as np\n",
        "\n",
        "MAX_WORDS = len(word_to_ix)\n",
        "EMBEDDING_LENGTH = 512\n",
        "MAX_SEQUENCE_LENGTH = np.max(df['int_tokens'].apply(len))\n",
        "HIDDEN_SIZE = 100\n",
        "\n",
        "model = Sequential()\n",
        "model.add(Embedding(MAX_WORDS, EMBEDDING_LENGTH, input_length=MAX_SEQUENCE_LENGTH))\n",
        "model.add(Bidirectional(LSTM(HIDDEN_SIZE, return_sequences=True)))\n",
        "# model.add(Dense(50))\n",
        "model.add(TimeDistributed(Dense(len(label_list), activation=\"relu\")))\n",
        "crf = CRF(len(label_list), learn_mode='marginal')\n",
        "model.add(crf)\n",
        "\n",
        "model.compile(Adam(lr=0.005), loss=focal_loss(), metrics=[crf_marginal_accuracy])\n",
        "model.summary()"
      ],
      "execution_count": 38,
      "outputs": [
        {
          "output_type": "stream",
          "text": [
            "_________________________________________________________________\n",
            "Layer (type)                 Output Shape              Param #   \n",
            "=================================================================\n",
            "embedding_6 (Embedding)      (None, 3004, 512)         6328832   \n",
            "_________________________________________________________________\n",
            "bidirectional_6 (Bidirection (None, 3004, 200)         490400    \n",
            "_________________________________________________________________\n",
            "time_distributed_6 (TimeDist (None, 3004, 3)           603       \n",
            "_________________________________________________________________\n",
            "crf_6 (CRF)                  (None, 3004, 3)           27        \n",
            "=================================================================\n",
            "Total params: 6,819,862\n",
            "Trainable params: 6,819,862\n",
            "Non-trainable params: 0\n",
            "_________________________________________________________________\n"
          ],
          "name": "stdout"
        }
      ]
    },
    {
      "cell_type": "code",
      "metadata": {
        "colab": {
          "base_uri": "https://localhost:8080/"
        },
        "id": "k-VxyceJ5CW7",
        "outputId": "9703ec79-ceff-425d-f42f-236447999738"
      },
      "source": [
        "from keras.callbacks import EarlyStopping, ModelCheckpoint\n",
        "from keras.preprocessing.sequence import pad_sequences\n",
        "from keras.utils import to_categorical\n",
        "\n",
        "\n",
        "callbacks = [EarlyStopping(monitor='val_crf_marginal_accuracy', patience=4),\n",
        "         ModelCheckpoint(filepath='best_model.h5', monitor='val_crf_marginal_accuracy', save_best_only=True)]\n",
        "\n",
        "x_train = pad_sequences(train['int_tokens'], padding='post', maxlen=MAX_SEQUENCE_LENGTH)\n",
        "y_train = pad_sequences(train['encoded_ner_tags'], padding='post', maxlen=MAX_SEQUENCE_LENGTH, value=tag_to_idx['O'])\n",
        "y_train = to_categorical(y_train, num_classes=len(label_list))\n",
        "history = model.fit(\n",
        "    x=x_train,\n",
        "    y=y_train,\n",
        "    epochs=50,\n",
        "    batch_size=125,\n",
        "    callbacks=callbacks,\n",
        "    validation_split=0.1,\n",
        ")\n",
        "\n",
        "model.load_weights('best_model.h5')"
      ],
      "execution_count": 39,
      "outputs": [
        {
          "output_type": "stream",
          "text": [
            "Train on 860 samples, validate on 96 samples\n",
            "Epoch 1/50\n",
            "860/860 [==============================] - 131s 153ms/step - loss: 2.8034 - crf_marginal_accuracy: 0.9896 - val_loss: 2.4158 - val_crf_marginal_accuracy: 0.9961\n",
            "Epoch 2/50\n",
            "860/860 [==============================] - 126s 146ms/step - loss: 2.0767 - crf_marginal_accuracy: 0.9945 - val_loss: 1.8907 - val_crf_marginal_accuracy: 0.9970\n",
            "Epoch 3/50\n",
            "860/860 [==============================] - 125s 146ms/step - loss: 1.6959 - crf_marginal_accuracy: 0.9978 - val_loss: 1.6269 - val_crf_marginal_accuracy: 0.9976\n",
            "Epoch 4/50\n",
            "860/860 [==============================] - 127s 147ms/step - loss: 1.2958 - crf_marginal_accuracy: 0.9987 - val_loss: 1.4004 - val_crf_marginal_accuracy: 0.9984\n",
            "Epoch 5/50\n",
            "860/860 [==============================] - 125s 146ms/step - loss: 0.9108 - crf_marginal_accuracy: 0.9993 - val_loss: 1.2675 - val_crf_marginal_accuracy: 0.9989\n",
            "Epoch 6/50\n",
            "860/860 [==============================] - 131s 152ms/step - loss: 0.6253 - crf_marginal_accuracy: 0.9996 - val_loss: 1.1455 - val_crf_marginal_accuracy: 0.9991\n",
            "Epoch 7/50\n",
            "860/860 [==============================] - 126s 146ms/step - loss: 0.4507 - crf_marginal_accuracy: 0.9997 - val_loss: 1.1352 - val_crf_marginal_accuracy: 0.9993\n",
            "Epoch 8/50\n",
            "860/860 [==============================] - 124s 144ms/step - loss: 0.3199 - crf_marginal_accuracy: 0.9998 - val_loss: 1.0672 - val_crf_marginal_accuracy: 0.9994\n",
            "Epoch 9/50\n",
            "860/860 [==============================] - 126s 147ms/step - loss: 0.2435 - crf_marginal_accuracy: 0.9999 - val_loss: 1.0582 - val_crf_marginal_accuracy: 0.9994\n",
            "Epoch 10/50\n",
            "860/860 [==============================] - 124s 144ms/step - loss: 0.1937 - crf_marginal_accuracy: 0.9999 - val_loss: 1.0886 - val_crf_marginal_accuracy: 0.9995\n",
            "Epoch 11/50\n",
            "860/860 [==============================] - 125s 146ms/step - loss: 0.1433 - crf_marginal_accuracy: 0.9999 - val_loss: 1.0899 - val_crf_marginal_accuracy: 0.9995\n",
            "Epoch 12/50\n",
            "860/860 [==============================] - 125s 146ms/step - loss: 0.1175 - crf_marginal_accuracy: 0.9999 - val_loss: 1.1701 - val_crf_marginal_accuracy: 0.9994\n",
            "Epoch 13/50\n",
            "860/860 [==============================] - 125s 146ms/step - loss: 0.0960 - crf_marginal_accuracy: 0.9999 - val_loss: 1.2449 - val_crf_marginal_accuracy: 0.9995\n",
            "Epoch 14/50\n",
            "860/860 [==============================] - 127s 148ms/step - loss: 0.0851 - crf_marginal_accuracy: 1.0000 - val_loss: 1.2535 - val_crf_marginal_accuracy: 0.9995\n",
            "Epoch 15/50\n",
            "860/860 [==============================] - 124s 144ms/step - loss: 0.0717 - crf_marginal_accuracy: 1.0000 - val_loss: 1.2589 - val_crf_marginal_accuracy: 0.9995\n",
            "Epoch 16/50\n",
            "860/860 [==============================] - 125s 145ms/step - loss: 0.0638 - crf_marginal_accuracy: 1.0000 - val_loss: 1.3012 - val_crf_marginal_accuracy: 0.9995\n",
            "Epoch 17/50\n",
            "860/860 [==============================] - 125s 145ms/step - loss: 0.0560 - crf_marginal_accuracy: 1.0000 - val_loss: 1.3359 - val_crf_marginal_accuracy: 0.9996\n",
            "Epoch 18/50\n",
            "860/860 [==============================] - 126s 147ms/step - loss: 0.0511 - crf_marginal_accuracy: 1.0000 - val_loss: 1.3680 - val_crf_marginal_accuracy: 0.9996\n",
            "Epoch 19/50\n",
            "860/860 [==============================] - 126s 146ms/step - loss: 0.0455 - crf_marginal_accuracy: 1.0000 - val_loss: 1.4398 - val_crf_marginal_accuracy: 0.9996\n",
            "Epoch 20/50\n",
            "860/860 [==============================] - 126s 146ms/step - loss: 0.0421 - crf_marginal_accuracy: 1.0000 - val_loss: 1.4645 - val_crf_marginal_accuracy: 0.9996\n",
            "Epoch 21/50\n",
            "860/860 [==============================] - 126s 146ms/step - loss: 0.0390 - crf_marginal_accuracy: 1.0000 - val_loss: 1.5083 - val_crf_marginal_accuracy: 0.9996\n",
            "Epoch 22/50\n",
            "860/860 [==============================] - 127s 147ms/step - loss: 0.0368 - crf_marginal_accuracy: 1.0000 - val_loss: 1.5054 - val_crf_marginal_accuracy: 0.9996\n",
            "Epoch 23/50\n",
            "860/860 [==============================] - 126s 147ms/step - loss: 0.0354 - crf_marginal_accuracy: 1.0000 - val_loss: 1.5436 - val_crf_marginal_accuracy: 0.9996\n",
            "Epoch 24/50\n",
            "860/860 [==============================] - 125s 145ms/step - loss: 0.0333 - crf_marginal_accuracy: 1.0000 - val_loss: 1.5378 - val_crf_marginal_accuracy: 0.9996\n",
            "Epoch 25/50\n",
            "860/860 [==============================] - 125s 146ms/step - loss: 0.0324 - crf_marginal_accuracy: 1.0000 - val_loss: 1.5033 - val_crf_marginal_accuracy: 0.9996\n",
            "Epoch 26/50\n",
            "860/860 [==============================] - 125s 145ms/step - loss: 0.0365 - crf_marginal_accuracy: 1.0000 - val_loss: 1.5085 - val_crf_marginal_accuracy: 0.9996\n",
            "Epoch 27/50\n",
            "860/860 [==============================] - 125s 145ms/step - loss: 0.0291 - crf_marginal_accuracy: 1.0000 - val_loss: 1.5923 - val_crf_marginal_accuracy: 0.9996\n",
            "Epoch 28/50\n",
            "860/860 [==============================] - 125s 145ms/step - loss: 0.0272 - crf_marginal_accuracy: 1.0000 - val_loss: 1.5669 - val_crf_marginal_accuracy: 0.9996\n",
            "Epoch 29/50\n",
            "860/860 [==============================] - 125s 146ms/step - loss: 0.0266 - crf_marginal_accuracy: 1.0000 - val_loss: 1.6181 - val_crf_marginal_accuracy: 0.9996\n"
          ],
          "name": "stdout"
        }
      ]
    },
    {
      "cell_type": "code",
      "metadata": {
        "colab": {
          "base_uri": "https://localhost:8080/"
        },
        "id": "qkw_hRmu505F",
        "outputId": "9ea63951-baf3-4d35-b1fa-1f074abca153"
      },
      "source": [
        "from sklearn_crfsuite import metrics\n",
        "\n",
        "preds = model.predict(pad_sequences(test['int_tokens'], padding='post', maxlen=MAX_SEQUENCE_LENGTH))\n",
        "tag_preds = [np.argmax(pred, axis=1) for pred in preds]\n",
        "truncated_preds = []\n",
        "for i in range(len(tag_preds)):\n",
        "    truncated_preds.append(tag_preds[i][:len(test['encoded_ner_tags'].iloc[i])])\n",
        "print(metrics.flat_classification_report(test['encoded_ner_tags'], truncated_preds, labels=np.arange(2), digits=3))"
      ],
      "execution_count": 42,
      "outputs": [
        {
          "output_type": "stream",
          "text": [
            "              precision    recall  f1-score   support\n",
            "\n",
            "           0      0.918     0.906     0.912       986\n",
            "           1      0.963     0.908     0.935      1289\n",
            "\n",
            "   micro avg      0.943     0.907     0.925      2275\n",
            "   macro avg      0.940     0.907     0.923      2275\n",
            "weighted avg      0.943     0.907     0.925      2275\n",
            "\n"
          ],
          "name": "stdout"
        }
      ]
    }
  ]
}