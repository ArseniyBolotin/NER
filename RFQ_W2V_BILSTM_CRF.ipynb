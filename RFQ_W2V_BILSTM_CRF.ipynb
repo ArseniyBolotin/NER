{
  "nbformat": 4,
  "nbformat_minor": 0,
  "metadata": {
    "accelerator": "GPU",
    "colab": {
      "name": "RFQ_W2V_BILSTM_CRF.ipynb",
      "provenance": [],
      "collapsed_sections": [],
      "toc_visible": true
    },
    "kernelspec": {
      "display_name": "Python 3",
      "language": "python",
      "name": "python3"
    },
    "language_info": {
      "codemirror_mode": {
        "name": "ipython",
        "version": 3
      },
      "file_extension": ".py",
      "mimetype": "text/x-python",
      "name": "python",
      "nbconvert_exporter": "python",
      "pygments_lexer": "ipython3",
      "version": "3.8.5"
    }
  },
  "cells": [
    {
      "cell_type": "code",
      "metadata": {
        "colab": {
          "base_uri": "https://localhost:8080/"
        },
        "id": "O18QSWjJcwxa",
        "outputId": "84d4dd85-7e76-4c75-9b09-6ed030be2b22"
      },
      "source": [
        "%tensorflow_version 1.x"
      ],
      "execution_count": 1,
      "outputs": [
        {
          "output_type": "stream",
          "text": [
            "TensorFlow 1.x selected.\n"
          ],
          "name": "stdout"
        }
      ]
    },
    {
      "cell_type": "code",
      "metadata": {
        "colab": {
          "base_uri": "https://localhost:8080/"
        },
        "id": "0raJ-rDdCJt_",
        "outputId": "4cd6c6af-47f4-40e6-a849-24d594df1e6e"
      },
      "source": [
        "!pip install 'h5py<3.0.0'\n",
        "!pip install sklearn_crfsuite\n",
        "# !pip install tensorflow==1.15.2 keras==2.3.1\n",
        "!pip3 install glove-python-binary\n",
        "!pip install git+https://www.github.com/keras-team/keras-contrib.git --upgrade\n",
        "!pip install catboost"
      ],
      "execution_count": 2,
      "outputs": [
        {
          "output_type": "stream",
          "text": [
            "Requirement already satisfied: h5py<3.0.0 in /usr/local/lib/python3.7/dist-packages (2.10.0)\n",
            "Requirement already satisfied: six in /usr/local/lib/python3.7/dist-packages (from h5py<3.0.0) (1.15.0)\n",
            "Requirement already satisfied: numpy>=1.7 in /usr/local/lib/python3.7/dist-packages (from h5py<3.0.0) (1.19.5)\n",
            "Requirement already satisfied: sklearn_crfsuite in /usr/local/lib/python3.7/dist-packages (0.3.6)\n",
            "Requirement already satisfied: python-crfsuite>=0.8.3 in /usr/local/lib/python3.7/dist-packages (from sklearn_crfsuite) (0.9.7)\n",
            "Requirement already satisfied: tqdm>=2.0 in /usr/local/lib/python3.7/dist-packages (from sklearn_crfsuite) (4.41.1)\n",
            "Requirement already satisfied: tabulate in /usr/local/lib/python3.7/dist-packages (from sklearn_crfsuite) (0.8.9)\n",
            "Requirement already satisfied: six in /usr/local/lib/python3.7/dist-packages (from sklearn_crfsuite) (1.15.0)\n",
            "Requirement already satisfied: glove-python-binary in /usr/local/lib/python3.7/dist-packages (0.2.0)\n",
            "Requirement already satisfied: numpy in /usr/local/lib/python3.7/dist-packages (from glove-python-binary) (1.19.5)\n",
            "Requirement already satisfied: scipy in /usr/local/lib/python3.7/dist-packages (from glove-python-binary) (1.4.1)\n",
            "Collecting git+https://www.github.com/keras-team/keras-contrib.git\n",
            "  Cloning https://www.github.com/keras-team/keras-contrib.git to /tmp/pip-req-build-oo0bniej\n",
            "  Running command git clone -q https://www.github.com/keras-team/keras-contrib.git /tmp/pip-req-build-oo0bniej\n",
            "Requirement already satisfied, skipping upgrade: keras in /tensorflow-1.15.2/python3.7 (from keras-contrib==2.0.8) (2.3.1)\n",
            "Requirement already satisfied, skipping upgrade: keras-preprocessing>=1.0.5 in /usr/local/lib/python3.7/dist-packages (from keras->keras-contrib==2.0.8) (1.1.2)\n",
            "Requirement already satisfied, skipping upgrade: six>=1.9.0 in /usr/local/lib/python3.7/dist-packages (from keras->keras-contrib==2.0.8) (1.15.0)\n",
            "Requirement already satisfied, skipping upgrade: keras-applications>=1.0.6 in /tensorflow-1.15.2/python3.7 (from keras->keras-contrib==2.0.8) (1.0.8)\n",
            "Requirement already satisfied, skipping upgrade: pyyaml in /usr/local/lib/python3.7/dist-packages (from keras->keras-contrib==2.0.8) (3.13)\n",
            "Requirement already satisfied, skipping upgrade: scipy>=0.14 in /usr/local/lib/python3.7/dist-packages (from keras->keras-contrib==2.0.8) (1.4.1)\n",
            "Requirement already satisfied, skipping upgrade: numpy>=1.9.1 in /usr/local/lib/python3.7/dist-packages (from keras->keras-contrib==2.0.8) (1.19.5)\n",
            "Requirement already satisfied, skipping upgrade: h5py in /usr/local/lib/python3.7/dist-packages (from keras->keras-contrib==2.0.8) (2.10.0)\n",
            "Building wheels for collected packages: keras-contrib\n",
            "  Building wheel for keras-contrib (setup.py) ... \u001b[?25l\u001b[?25hdone\n",
            "  Created wheel for keras-contrib: filename=keras_contrib-2.0.8-cp37-none-any.whl size=101065 sha256=2631ed9af3a15cf80b48bc02dd5cbae95dc69e9d535d17bc3a145ebec3dce56c\n",
            "  Stored in directory: /tmp/pip-ephem-wheel-cache-k1zbx6oe/wheels/11/27/c8/4ed56de7b55f4f61244e2dc6ef3cdbaff2692527a2ce6502ba\n",
            "Successfully built keras-contrib\n",
            "Installing collected packages: keras-contrib\n",
            "  Found existing installation: keras-contrib 2.0.8\n",
            "    Uninstalling keras-contrib-2.0.8:\n",
            "      Successfully uninstalled keras-contrib-2.0.8\n",
            "Successfully installed keras-contrib-2.0.8\n",
            "Requirement already satisfied: catboost in /usr/local/lib/python3.7/dist-packages (0.25.1)\n",
            "Requirement already satisfied: plotly in /usr/local/lib/python3.7/dist-packages (from catboost) (4.4.1)\n",
            "Requirement already satisfied: matplotlib in /usr/local/lib/python3.7/dist-packages (from catboost) (3.2.2)\n",
            "Requirement already satisfied: scipy in /usr/local/lib/python3.7/dist-packages (from catboost) (1.4.1)\n",
            "Requirement already satisfied: six in /usr/local/lib/python3.7/dist-packages (from catboost) (1.15.0)\n",
            "Requirement already satisfied: numpy>=1.16.0 in /usr/local/lib/python3.7/dist-packages (from catboost) (1.19.5)\n",
            "Requirement already satisfied: graphviz in /usr/local/lib/python3.7/dist-packages (from catboost) (0.10.1)\n",
            "Requirement already satisfied: pandas>=0.24.0 in /usr/local/lib/python3.7/dist-packages (from catboost) (1.1.5)\n",
            "Requirement already satisfied: retrying>=1.3.3 in /usr/local/lib/python3.7/dist-packages (from plotly->catboost) (1.3.3)\n",
            "Requirement already satisfied: python-dateutil>=2.1 in /usr/local/lib/python3.7/dist-packages (from matplotlib->catboost) (2.8.1)\n",
            "Requirement already satisfied: cycler>=0.10 in /usr/local/lib/python3.7/dist-packages (from matplotlib->catboost) (0.10.0)\n",
            "Requirement already satisfied: kiwisolver>=1.0.1 in /usr/local/lib/python3.7/dist-packages (from matplotlib->catboost) (1.3.1)\n",
            "Requirement already satisfied: pyparsing!=2.0.4,!=2.1.2,!=2.1.6,>=2.0.1 in /usr/local/lib/python3.7/dist-packages (from matplotlib->catboost) (2.4.7)\n",
            "Requirement already satisfied: pytz>=2017.2 in /usr/local/lib/python3.7/dist-packages (from pandas>=0.24.0->catboost) (2018.9)\n"
          ],
          "name": "stdout"
        }
      ]
    },
    {
      "cell_type": "code",
      "metadata": {
        "colab": {
          "base_uri": "https://localhost:8080/"
        },
        "id": "Cx7wVx0OiYyv",
        "outputId": "021da48a-a9d3-4c39-a9d8-bd844b816e69"
      },
      "source": [
        "!gdown --id 1L6dd0FnYqgn-eoQ-gFnBiNji7R1ul9n_\n",
        "!gdown --id 1-5mE9XjocmyCKGlkpW1YGuCnNsGwQioD\n",
        "!gdown --id 1d4er4I7x4VIwy7BsWFpsPuC2z6aZ3P6s"
      ],
      "execution_count": 3,
      "outputs": [
        {
          "output_type": "stream",
          "text": [
            "Downloading...\n",
            "From: https://drive.google.com/uc?id=1L6dd0FnYqgn-eoQ-gFnBiNji7R1ul9n_\n",
            "To: /content/NER_RFQ_agg.csv\n",
            "4.39MB [00:00, 142MB/s]\n",
            "Downloading...\n",
            "From: https://drive.google.com/uc?id=1-5mE9XjocmyCKGlkpW1YGuCnNsGwQioD\n",
            "To: /content/NER_RFQ_agg_train.csv\n",
            "3.48MB [00:00, 109MB/s]\n",
            "Downloading...\n",
            "From: https://drive.google.com/uc?id=1d4er4I7x4VIwy7BsWFpsPuC2z6aZ3P6s\n",
            "To: /content/NER_RFQ_agg_test.csv\n",
            "100% 909k/909k [00:00<00:00, 60.6MB/s]\n"
          ],
          "name": "stdout"
        }
      ]
    },
    {
      "cell_type": "code",
      "metadata": {
        "colab": {
          "base_uri": "https://localhost:8080/"
        },
        "id": "OEfFyYZVph-B",
        "outputId": "71e26ec3-117a-49af-ff96-3746e42c9484"
      },
      "source": [
        "import sklearn_crfsuite\n",
        "from sklearn_crfsuite import scorers\n",
        "from sklearn_crfsuite import metrics\n",
        "from sklearn.metrics import make_scorer\n",
        "from sklearn.metrics import f1_score, precision_score, recall_score\n",
        "from sklearn.model_selection import cross_val_score\n",
        "from sklearn.model_selection import RandomizedSearchCV\n",
        "\n",
        "from nltk.corpus import stopwords\n",
        "import pandas as pd\n",
        "import pickle\n",
        "import re\n",
        "import datetime\n",
        "import os\n",
        "import numpy as np\n",
        "\n",
        "from keras.optimizers import Adam\n",
        "from keras.models import *\n",
        "from keras.layers import LSTM, Embedding, Dense, TimeDistributed, Dropout, Bidirectional, Input\n",
        "from keras_contrib.layers import CRF\n",
        "from keras_contrib.losses import crf_loss\n",
        "from keras_contrib.metrics import crf_viterbi_accuracy, crf_marginal_accuracy\n",
        "from keras.callbacks import EarlyStopping, ModelCheckpoint\n",
        "from keras.preprocessing.sequence import pad_sequences\n",
        "from tensorflow.keras.utils import to_categorical\n",
        "import tensorflow as tf\n",
        "\n",
        "import gensim.downloader as api\n",
        "import matplotlib.pyplot as plt\n",
        "from catboost import CatBoostClassifier\n",
        "from gensim.models import Word2Vec\n",
        "from glove import Corpus, Glove\n",
        "from tqdm import tqdm"
      ],
      "execution_count": 3,
      "outputs": [
        {
          "output_type": "stream",
          "text": [
            "Using TensorFlow backend.\n"
          ],
          "name": "stderr"
        }
      ]
    },
    {
      "cell_type": "code",
      "metadata": {
        "id": "rTYiqiimi1vV"
      },
      "source": [
        "df = pd.read_csv('NER_RFQ_agg.csv', converters={'tokens': eval, 'ner_tags': eval})\n",
        "train = pd.read_csv('NER_RFQ_agg_train.csv', converters={'tokens': eval, 'ner_tags': eval})\n",
        "test = pd.read_csv('NER_RFQ_agg_test.csv', converters={'tokens': eval, 'ner_tags': eval})\n",
        "\n",
        "all_dfs = [df, train, test]"
      ],
      "execution_count": 4,
      "outputs": []
    },
    {
      "cell_type": "code",
      "metadata": {
        "id": "KXz_dGApGKoB"
      },
      "source": [
        "def find_token(x):\n",
        "    SUFFIXES = ['_DET', '_NOUN', '_VERB', '_ADJ', '']\n",
        "    res = []\n",
        "    for w in x['tokens']:\n",
        "        has_found = False\n",
        "        for suffix in SUFFIXES:\n",
        "            if w + suffix in w2v.wv.vocab.keys():\n",
        "                res.append(w2v.wv.vocab[w + suffix].index)\n",
        "                has_found = True\n",
        "                break\n",
        "        if not has_found:\n",
        "            res.append(0)\n",
        "    return res\n",
        "\n",
        "all_tags = set()\n",
        "for _, row in df.iterrows():\n",
        "    for tag in row.ner_tags:\n",
        "        all_tags.add(tag)\n",
        "all_tags = sorted(list(all_tags))\n",
        "tag_to_idx = {t: i for i, t in enumerate(all_tags)}\n",
        "label_list = {i: t for i, t in enumerate(all_tags)}\n",
        "labels = list(tag_to_idx.keys())\n",
        "labels.remove('O')\n",
        "labels = sorted(labels, key=lambda name: (name[1:], name[0]))\n",
        "for d in all_dfs:\n",
        "    d['encoded_ner_tags'] = d.apply(lambda x: [tag_to_idx[t] for t in x['ner_tags']], axis=1)"
      ],
      "execution_count": 5,
      "outputs": []
    },
    {
      "cell_type": "code",
      "metadata": {
        "id": "zAl784dWnJkR"
      },
      "source": [
        "pretrained_w2v = api.load(\"word2vec-ruscorpora-300\")\n",
        "pretrained_w2v.save_word2vec_format('tmp')"
      ],
      "execution_count": null,
      "outputs": []
    },
    {
      "cell_type": "code",
      "metadata": {
        "id": "Xthif1zkvsok"
      },
      "source": [
        "def add_suffix(x):\n",
        "    SUFFIXES = ['_DET', '_NOUN', '_VERB', '_ADJ']\n",
        "    res = []\n",
        "    for w in x['tokens']:\n",
        "        has_found = False\n",
        "        for suffix in SUFFIXES:\n",
        "            if w + suffix in pretrained_w2v.vocab.keys():\n",
        "                res.append(w + suffix)\n",
        "                has_found = True\n",
        "                break\n",
        "        if not has_found:\n",
        "            res.append(w)\n",
        "    return res\n",
        "\n",
        "for d in all_dfs:\n",
        "    d['tokens_with_suffix'] = d.apply(add_suffix, axis=1)"
      ],
      "execution_count": null,
      "outputs": []
    },
    {
      "cell_type": "code",
      "metadata": {
        "id": "t1rp-IeYsnJf"
      },
      "source": [
        "w2v = Word2Vec(sentences=df['tokens_with_suffix'], size=300, window=5, min_count=2)\n",
        "w2v.train(sentences=df['tokens'], total_examples=w2v.corpus_count, epochs=30)"
      ],
      "execution_count": null,
      "outputs": []
    },
    {
      "cell_type": "code",
      "metadata": {
        "colab": {
          "background_save": true
        },
        "id": "UyqqSfYYmY-p"
      },
      "source": [
        "w2v.intersect_word2vec_format('tmp')"
      ],
      "execution_count": null,
      "outputs": []
    },
    {
      "cell_type": "code",
      "metadata": {
        "id": "wXIPpJJeAg-a"
      },
      "source": [
        "for d in all_dfs:\n",
        "    d['int_tokens'] = d.apply(find_token, axis=1)"
      ],
      "execution_count": null,
      "outputs": []
    },
    {
      "cell_type": "code",
      "metadata": {
        "colab": {
          "background_save": true
        },
        "id": "J7BswpbHlVW2",
        "outputId": "ec36b1c9-f188-45de-b0ef-c7b2239ea795"
      },
      "source": [
        "df"
      ],
      "execution_count": null,
      "outputs": [
        {
          "output_type": "execute_result",
          "data": {
            "text/html": [
              "<div>\n",
              "<style scoped>\n",
              "    .dataframe tbody tr th:only-of-type {\n",
              "        vertical-align: middle;\n",
              "    }\n",
              "\n",
              "    .dataframe tbody tr th {\n",
              "        vertical-align: top;\n",
              "    }\n",
              "\n",
              "    .dataframe thead th {\n",
              "        text-align: right;\n",
              "    }\n",
              "</style>\n",
              "<table border=\"1\" class=\"dataframe\">\n",
              "  <thead>\n",
              "    <tr style=\"text-align: right;\">\n",
              "      <th></th>\n",
              "      <th>id</th>\n",
              "      <th>tokens</th>\n",
              "      <th>ner_tags</th>\n",
              "      <th>tokens_with_suffix</th>\n",
              "      <th>encoded_ner_tags</th>\n",
              "      <th>int_tokens</th>\n",
              "    </tr>\n",
              "  </thead>\n",
              "  <tbody>\n",
              "    <tr>\n",
              "      <th>0</th>\n",
              "      <td>119287R.msg</td>\n",
              "      <td>[name, 119287r.msg, &lt;aogdesk@nordstar.ru&gt;, &lt;mv...</td>\n",
              "      <td>[O, O, O, O, O, O, O, O, O, O, O, O, O, O, O, ...</td>\n",
              "      <td>[name_NOUN, 119287r.msg, &lt;aogdesk@nordstar.ru&gt;...</td>\n",
              "      <td>[2, 2, 2, 2, 2, 2, 2, 2, 2, 2, 2, 2, 2, 2, 2, ...</td>\n",
              "      <td>[19, 0, 206, 744, 293, 22, 190, 0, 30, 36, 237...</td>\n",
              "    </tr>\n",
              "    <tr>\n",
              "      <th>1</th>\n",
              "      <td>119735R.msg</td>\n",
              "      <td>[name, 119735r.msg, &lt;aogdesk@nordstar.ru&gt;, &lt;mv...</td>\n",
              "      <td>[O, O, O, O, O, O, O, O, O, O, O, O, O, O, O, ...</td>\n",
              "      <td>[name_NOUN, 119735r.msg, &lt;aogdesk@nordstar.ru&gt;...</td>\n",
              "      <td>[2, 2, 2, 2, 2, 2, 2, 2, 2, 2, 2, 2, 2, 2, 2, ...</td>\n",
              "      <td>[19, 0, 206, 744, 293, 22, 190, 6707, 624, 106...</td>\n",
              "    </tr>\n",
              "    <tr>\n",
              "      <th>2</th>\n",
              "      <td>120421R.msg</td>\n",
              "      <td>[name, 120421r.msg, d.klebcha@s7.ru, &lt;d.klebch...</td>\n",
              "      <td>[O, O, O, O, O, O, O, O, B-GoodsString, I-Good...</td>\n",
              "      <td>[name_NOUN, 120421r.msg, d.klebcha@s7.ru, &lt;d.k...</td>\n",
              "      <td>[2, 2, 2, 2, 2, 2, 2, 2, 0, 1, 2, 2, 2, 2, 2, ...</td>\n",
              "      <td>[19, 0, 5524, 5525, 5526, 2961, 22, 57, 874, 2...</td>\n",
              "    </tr>\n",
              "    <tr>\n",
              "      <th>3</th>\n",
              "      <td>120660R.msg</td>\n",
              "      <td>[name, 120660r.msg, yuliya, a., kondratova, &lt;y...</td>\n",
              "      <td>[O, O, O, O, O, O, O, O, O, O, O, O, O, O, O, ...</td>\n",
              "      <td>[name_NOUN, 120660r.msg, yuliya, a., kondratov...</td>\n",
              "      <td>[2, 2, 2, 2, 2, 2, 2, 2, 2, 2, 2, 2, 2, 2, 2, ...</td>\n",
              "      <td>[19, 5530, 846, 833, 518, 847, 12, 22, 57, 255...</td>\n",
              "    </tr>\n",
              "    <tr>\n",
              "      <th>4</th>\n",
              "      <td>120660R.msg</td>\n",
              "      <td>[name, 120660r.msg, yuliya, a., kondratova, &lt;y...</td>\n",
              "      <td>[O, O, O, O, O, O, O, O, O, O, O, O, O, O, O, ...</td>\n",
              "      <td>[name_NOUN, 120660r.msg, yuliya, a., kondratov...</td>\n",
              "      <td>[2, 2, 2, 2, 2, 2, 2, 2, 2, 2, 2, 2, 2, 2, 2, ...</td>\n",
              "      <td>[19, 5530, 846, 833, 518, 847, 12, 22, 57, 255...</td>\n",
              "    </tr>\n",
              "    <tr>\n",
              "      <th>...</th>\n",
              "      <td>...</td>\n",
              "      <td>...</td>\n",
              "      <td>...</td>\n",
              "      <td>...</td>\n",
              "      <td>...</td>\n",
              "      <td>...</td>\n",
              "    </tr>\n",
              "    <tr>\n",
              "      <th>1187</th>\n",
              "      <td>123527R.msg</td>\n",
              "      <td>[name, 123527r.msg, =?utf-8?b?0kprincw0lrqvtcy...</td>\n",
              "      <td>[O, O, O, O, O, O, O, O, B-GoodsString, O, O, ...</td>\n",
              "      <td>[name_NOUN, 123527r.msg, =?utf-8?b?0kprincw0lr...</td>\n",
              "      <td>[2, 2, 2, 2, 2, 2, 2, 2, 0, 2, 2, 2, 2, 2, 2, ...</td>\n",
              "      <td>[19, 0, 1249, 1250, 1251, 12, 22, 679, 0, 1026...</td>\n",
              "    </tr>\n",
              "    <tr>\n",
              "      <th>1188</th>\n",
              "      <td>123088R.msg</td>\n",
              "      <td>[name, 123088r.msg, lakshmi, suresh, &lt;lakshmi@...</td>\n",
              "      <td>[O, O, O, O, O, O, O, O, O, O, O, O, O, O, O, ...</td>\n",
              "      <td>[name_NOUN, 123088r.msg, lakshmi, suresh, &lt;lak...</td>\n",
              "      <td>[2, 2, 2, 2, 2, 2, 2, 2, 2, 2, 2, 2, 2, 2, 2, ...</td>\n",
              "      <td>[19, 6241, 4264, 4265, 6242, 2961, 22, 147, 62...</td>\n",
              "    </tr>\n",
              "    <tr>\n",
              "      <th>1189</th>\n",
              "      <td>123508R.msg</td>\n",
              "      <td>[name, 123508r.msg, &lt;aogdesk@nordstar.ru&gt;, &lt;mv...</td>\n",
              "      <td>[O, O, O, O, O, O, O, O, O, O, O, O, O, O, O, ...</td>\n",
              "      <td>[name_NOUN, 123508r.msg, &lt;aogdesk@nordstar.ru&gt;...</td>\n",
              "      <td>[2, 2, 2, 2, 2, 2, 2, 2, 2, 2, 2, 2, 2, 2, 2, ...</td>\n",
              "      <td>[19, 7935, 206, 744, 293, 22, 190, 7936, 30, 3...</td>\n",
              "    </tr>\n",
              "    <tr>\n",
              "      <th>1190</th>\n",
              "      <td>124894R.msg</td>\n",
              "      <td>[name, 124894r.msg, &lt;anton.peshko@utair.ru&gt;, a...</td>\n",
              "      <td>[O, O, O, O, O, O, O, O, O, O, O, O, O, O, O, ...</td>\n",
              "      <td>[name_NOUN, 124894r.msg, &lt;anton.peshko@utair.r...</td>\n",
              "      <td>[2, 2, 2, 2, 2, 2, 2, 2, 2, 2, 2, 2, 2, 2, 2, ...</td>\n",
              "      <td>[19, 0, 304, 47, 305, 304, 22, 115, 5523, 278,...</td>\n",
              "    </tr>\n",
              "    <tr>\n",
              "      <th>1191</th>\n",
              "      <td>124484R.msg</td>\n",
              "      <td>[name, 124484r.msg, &lt;gennadiy.moskatov@utair.r...</td>\n",
              "      <td>[O, O, O, O, O, O, O, O, O, O, O, O, O, O, O, ...</td>\n",
              "      <td>[name_NOUN, 124484r.msg, &lt;gennadiy.moskatov@ut...</td>\n",
              "      <td>[2, 2, 2, 2, 2, 2, 2, 2, 2, 2, 2, 2, 2, 2, 2, ...</td>\n",
              "      <td>[19, 0, 485, 220, 486, 485, 22, 115, 6706, 472...</td>\n",
              "    </tr>\n",
              "  </tbody>\n",
              "</table>\n",
              "<p>1192 rows × 6 columns</p>\n",
              "</div>"
            ],
            "text/plain": [
              "               id  ...                                         int_tokens\n",
              "0     119287R.msg  ...  [19, 0, 206, 744, 293, 22, 190, 0, 30, 36, 237...\n",
              "1     119735R.msg  ...  [19, 0, 206, 744, 293, 22, 190, 6707, 624, 106...\n",
              "2     120421R.msg  ...  [19, 0, 5524, 5525, 5526, 2961, 22, 57, 874, 2...\n",
              "3     120660R.msg  ...  [19, 5530, 846, 833, 518, 847, 12, 22, 57, 255...\n",
              "4     120660R.msg  ...  [19, 5530, 846, 833, 518, 847, 12, 22, 57, 255...\n",
              "...           ...  ...                                                ...\n",
              "1187  123527R.msg  ...  [19, 0, 1249, 1250, 1251, 12, 22, 679, 0, 1026...\n",
              "1188  123088R.msg  ...  [19, 6241, 4264, 4265, 6242, 2961, 22, 147, 62...\n",
              "1189  123508R.msg  ...  [19, 7935, 206, 744, 293, 22, 190, 7936, 30, 3...\n",
              "1190  124894R.msg  ...  [19, 0, 304, 47, 305, 304, 22, 115, 5523, 278,...\n",
              "1191  124484R.msg  ...  [19, 0, 485, 220, 486, 485, 22, 115, 6706, 472...\n",
              "\n",
              "[1192 rows x 6 columns]"
            ]
          },
          "metadata": {
            "tags": []
          },
          "execution_count": 0
        }
      ]
    },
    {
      "cell_type": "code",
      "metadata": {
        "id": "_QUuM6AhjxyK"
      },
      "source": [
        "import warnings\n",
        "\n",
        "warnings.filterwarnings(\"ignore\")"
      ],
      "execution_count": 12,
      "outputs": []
    },
    {
      "cell_type": "code",
      "metadata": {
        "id": "QeBokW5kspLO"
      },
      "source": [
        "def focal_loss(gamma=2., alpha=1.):\n",
        "\n",
        "    gamma = float(gamma)\n",
        "    alpha = float(alpha)\n",
        "\n",
        "    def focal_loss_fixed(y_true, y_pred):\n",
        "        \"\"\"Focal loss for multi-classification\n",
        "        FL(p_t)=-alpha(1-p_t)^{gamma}ln(p_t)\n",
        "        Notice: y_pred is probability after softmax\n",
        "        gradient is d(Fl)/d(p_t) not d(Fl)/d(x) as described in paper\n",
        "        d(Fl)/d(p_t) * [p_t(1-p_t)] = d(Fl)/d(x)\n",
        "        Focal Loss for Dense Object Detection\n",
        "        https://arxiv.org/abs/1708.02002\n",
        "\n",
        "        Arguments:\n",
        "            y_true {tensor} -- ground truth labels, shape of [batch_size, num_cls]\n",
        "            y_pred {tensor} -- model's output, shape of [batch_size, num_cls]\n",
        "\n",
        "        Keyword Arguments:\n",
        "            gamma {float} -- (default: {2.0})\n",
        "            alpha {float} -- (default: {1.0})\n",
        "\n",
        "        Returns:\n",
        "            [tensor] -- loss.\n",
        "        \"\"\"\n",
        "        epsilon = 1.e-9\n",
        "        y_true = tf.convert_to_tensor(y_true, tf.float32)\n",
        "        y_pred = tf.convert_to_tensor(y_pred, tf.float32)\n",
        "\n",
        "        model_out = tf.add(y_pred, epsilon)\n",
        "        ce = tf.multiply(y_true, -tf.log(model_out))\n",
        "        weight = tf.multiply(y_true, tf.pow(tf.subtract(1., model_out), gamma))\n",
        "        fl = tf.multiply(alpha, tf.multiply(weight, ce))\n",
        "        reduced_fl = tf.reduce_max(fl, axis=1)\n",
        "        return tf.reduce_mean(reduced_fl)\n",
        "    return focal_loss_fixed"
      ],
      "execution_count": 9,
      "outputs": []
    },
    {
      "cell_type": "markdown",
      "metadata": {
        "id": "sqAcUZxSMT2c"
      },
      "source": [
        "## PRETRAINED W2V(not fixed) + BILSTM + CRF"
      ]
    },
    {
      "cell_type": "code",
      "metadata": {
        "colab": {
          "base_uri": "https://localhost:8080/"
        },
        "id": "qF1S7oW2BWoX",
        "outputId": "0295b4ca-6e2d-40ad-cbf3-6d53ac90407a"
      },
      "source": [
        "MAX_WORDS = len(w2v.wv.vocab)\n",
        "EMBEDDING_LENGTH = w2v.vector_size\n",
        "MAX_SEQUENCE_LENGTH = np.max(df['int_tokens'].apply(len))\n",
        "HIDDEN_SIZE = 100\n",
        "\n",
        "model = Sequential()\n",
        "model.add(Embedding(MAX_WORDS, EMBEDDING_LENGTH, input_length=MAX_SEQUENCE_LENGTH, mask_zero=False, weights=[w2v.wv.vectors], trainable=True))\n",
        "model.add(Bidirectional(LSTM(HIDDEN_SIZE, return_sequences=True)))\n",
        "model.add(TimeDistributed(Dense(len(label_list), activation=\"relu\")))\n",
        "crf = CRF(len(label_list), learn_mode='marginal')\n",
        "model.add(crf)\n",
        "\n",
        "model.compile(Adam(lr=0.01), loss=focal_loss(), metrics=[crf_marginal_accuracy])\n",
        "model.summary()"
      ],
      "execution_count": null,
      "outputs": [
        {
          "output_type": "stream",
          "text": [
            "Model: \"sequential\"\n",
            "_________________________________________________________________\n",
            "Layer (type)                 Output Shape              Param #   \n",
            "=================================================================\n",
            "embedding (Embedding)        (None, 3004, 300)         2544900   \n",
            "_________________________________________________________________\n",
            "bidirectional (Bidirectional (None, 3004, 200)         320800    \n",
            "_________________________________________________________________\n",
            "time_distributed (TimeDistri (None, 3004, 3)           603       \n",
            "_________________________________________________________________\n",
            "crf (CRF)                    (None, 3004, 3)           27        \n",
            "=================================================================\n",
            "Total params: 2,866,330\n",
            "Trainable params: 2,866,330\n",
            "Non-trainable params: 0\n",
            "_________________________________________________________________\n"
          ],
          "name": "stdout"
        }
      ]
    },
    {
      "cell_type": "code",
      "metadata": {
        "colab": {
          "base_uri": "https://localhost:8080/",
          "height": 1000
        },
        "id": "LAVZ0buRG02d",
        "outputId": "4ef4f2a9-c749-4641-ea92-e21c2fb4dd78"
      },
      "source": [
        "callbacks = [EarlyStopping(monitor='val_crf_marginal_accuracy', patience=5),\n",
        "         ModelCheckpoint(filepath='pretrained_best_model.h5', monitor='val_crf_marginal_accuracy', save_best_only=True)]\n",
        "\n",
        "x_train = pad_sequences(train['int_tokens'], padding='post', maxlen=MAX_SEQUENCE_LENGTH)\n",
        "y_train = pad_sequences(train['encoded_ner_tags'], padding='post', maxlen=MAX_SEQUENCE_LENGTH, value=tag_to_idx['O'])\n",
        "y_train = to_categorical(y_train, num_classes=len(label_list))\n",
        "history = model.fit(\n",
        "    x=x_train,\n",
        "    y=y_train,\n",
        "    epochs=30,\n",
        "    batch_size=128,\n",
        "    callbacks=callbacks,\n",
        "    validation_split=0.1,\n",
        ")\n",
        "\n",
        "model.load_weights('pretrained_best_model.h5')"
      ],
      "execution_count": null,
      "outputs": [
        {
          "output_type": "stream",
          "text": [
            "WARNING:tensorflow:From /tensorflow-1.15.2/python3.7/keras/backend/tensorflow_backend.py:422: The name tf.global_variables is deprecated. Please use tf.compat.v1.global_variables instead.\n",
            "\n",
            "Train on 857 samples, validate on 96 samples\n",
            "Epoch 1/30\n",
            "857/857 [==============================] - 66s 77ms/step - loss: 0.4820 - crf_marginal_accuracy: 0.7108 - val_loss: 0.4655 - val_crf_marginal_accuracy: 0.9684\n",
            "Epoch 2/30\n",
            "857/857 [==============================] - 64s 74ms/step - loss: 0.4570 - crf_marginal_accuracy: 0.9915 - val_loss: 0.4606 - val_crf_marginal_accuracy: 0.9699\n",
            "Epoch 3/30\n",
            "857/857 [==============================] - 63s 74ms/step - loss: 0.4507 - crf_marginal_accuracy: 0.9738 - val_loss: 0.4561 - val_crf_marginal_accuracy: 0.9960\n",
            "Epoch 4/30\n",
            "857/857 [==============================] - 63s 74ms/step - loss: 0.4438 - crf_marginal_accuracy: 0.9965 - val_loss: 0.4492 - val_crf_marginal_accuracy: 0.9960\n",
            "Epoch 5/30\n",
            "857/857 [==============================] - 64s 75ms/step - loss: 0.4209 - crf_marginal_accuracy: 0.9947 - val_loss: 0.4205 - val_crf_marginal_accuracy: 0.9878\n",
            "Epoch 6/30\n",
            "857/857 [==============================] - 63s 74ms/step - loss: 0.3621 - crf_marginal_accuracy: 0.9852 - val_loss: 0.3917 - val_crf_marginal_accuracy: 0.9868\n",
            "Epoch 7/30\n",
            "857/857 [==============================] - 64s 74ms/step - loss: 0.3044 - crf_marginal_accuracy: 0.9941 - val_loss: 0.3533 - val_crf_marginal_accuracy: 0.9960\n",
            "Epoch 8/30\n",
            "857/857 [==============================] - 63s 74ms/step - loss: 0.2561 - crf_marginal_accuracy: 0.9979 - val_loss: 0.3357 - val_crf_marginal_accuracy: 0.9979\n",
            "Epoch 9/30\n",
            "857/857 [==============================] - 63s 74ms/step - loss: 0.2148 - crf_marginal_accuracy: 0.9988 - val_loss: 0.3207 - val_crf_marginal_accuracy: 0.9983\n",
            "Epoch 10/30\n",
            "857/857 [==============================] - 64s 74ms/step - loss: 0.1916 - crf_marginal_accuracy: 0.9990 - val_loss: 0.3418 - val_crf_marginal_accuracy: 0.9983\n",
            "Epoch 11/30\n",
            "857/857 [==============================] - 64s 75ms/step - loss: 0.1721 - crf_marginal_accuracy: 0.9992 - val_loss: 0.3326 - val_crf_marginal_accuracy: 0.9986\n",
            "Epoch 12/30\n",
            "857/857 [==============================] - 64s 75ms/step - loss: 0.1515 - crf_marginal_accuracy: 0.9994 - val_loss: 0.3328 - val_crf_marginal_accuracy: 0.9988\n",
            "Epoch 13/30\n",
            "857/857 [==============================] - 63s 74ms/step - loss: 0.1342 - crf_marginal_accuracy: 0.9995 - val_loss: 0.3383 - val_crf_marginal_accuracy: 0.9990\n",
            "Epoch 14/30\n",
            "857/857 [==============================] - 63s 74ms/step - loss: 0.1187 - crf_marginal_accuracy: 0.9996 - val_loss: 0.3535 - val_crf_marginal_accuracy: 0.9991\n",
            "Epoch 15/30\n",
            "857/857 [==============================] - 63s 74ms/step - loss: 0.1057 - crf_marginal_accuracy: 0.9997 - val_loss: 0.3790 - val_crf_marginal_accuracy: 0.9991\n",
            "Epoch 16/30\n",
            "857/857 [==============================] - 63s 74ms/step - loss: 0.0951 - crf_marginal_accuracy: 0.9998 - val_loss: 0.3902 - val_crf_marginal_accuracy: 0.9992\n",
            "Epoch 17/30\n",
            "857/857 [==============================] - 64s 74ms/step - loss: 0.0841 - crf_marginal_accuracy: 0.9998 - val_loss: 0.4131 - val_crf_marginal_accuracy: 0.9991\n",
            "Epoch 18/30\n",
            "857/857 [==============================] - 63s 74ms/step - loss: 0.0779 - crf_marginal_accuracy: 0.9998 - val_loss: 0.4304 - val_crf_marginal_accuracy: 0.9992\n",
            "Epoch 19/30\n",
            "857/857 [==============================] - 64s 74ms/step - loss: 0.0730 - crf_marginal_accuracy: 0.9999 - val_loss: 0.4146 - val_crf_marginal_accuracy: 0.9992\n",
            "Epoch 20/30\n",
            "857/857 [==============================] - 64s 74ms/step - loss: 0.0619 - crf_marginal_accuracy: 0.9999 - val_loss: 0.4539 - val_crf_marginal_accuracy: 0.9992\n",
            "Epoch 21/30\n",
            "857/857 [==============================] - 63s 74ms/step - loss: 0.0520 - crf_marginal_accuracy: 0.9999 - val_loss: 0.4451 - val_crf_marginal_accuracy: 0.9992\n",
            "Epoch 22/30\n",
            "857/857 [==============================] - 64s 74ms/step - loss: 0.0439 - crf_marginal_accuracy: 0.9999 - val_loss: 0.4361 - val_crf_marginal_accuracy: 0.9993\n",
            "Epoch 23/30\n",
            "857/857 [==============================] - 64s 74ms/step - loss: 0.0412 - crf_marginal_accuracy: 0.9999 - val_loss: 0.4613 - val_crf_marginal_accuracy: 0.9992\n",
            "Epoch 24/30\n",
            "857/857 [==============================] - 64s 75ms/step - loss: 0.0377 - crf_marginal_accuracy: 0.9999 - val_loss: 0.4530 - val_crf_marginal_accuracy: 0.9993\n",
            "Epoch 25/30\n",
            "857/857 [==============================] - 64s 75ms/step - loss: 0.0347 - crf_marginal_accuracy: 0.9999 - val_loss: 0.4755 - val_crf_marginal_accuracy: 0.9993\n",
            "Epoch 26/30\n",
            "857/857 [==============================] - 64s 74ms/step - loss: 0.0307 - crf_marginal_accuracy: 0.9999 - val_loss: 0.4693 - val_crf_marginal_accuracy: 0.9993\n",
            "Epoch 27/30\n",
            "857/857 [==============================] - 63s 74ms/step - loss: 0.0275 - crf_marginal_accuracy: 1.0000 - val_loss: 0.4869 - val_crf_marginal_accuracy: 0.9993\n",
            "Epoch 28/30\n",
            "857/857 [==============================] - 64s 74ms/step - loss: 0.0251 - crf_marginal_accuracy: 0.9999 - val_loss: 0.5048 - val_crf_marginal_accuracy: 0.9992\n",
            "Epoch 29/30\n",
            "857/857 [==============================] - 64s 74ms/step - loss: 0.0232 - crf_marginal_accuracy: 1.0000 - val_loss: 0.5257 - val_crf_marginal_accuracy: 0.9993\n",
            "Epoch 30/30\n",
            "857/857 [==============================] - 64s 74ms/step - loss: 0.0230 - crf_marginal_accuracy: 1.0000 - val_loss: 0.5384 - val_crf_marginal_accuracy: 0.9992\n"
          ],
          "name": "stdout"
        },
        {
          "output_type": "error",
          "ename": "AttributeError",
          "evalue": "ignored",
          "traceback": [
            "\u001b[0;31m---------------------------------------------------------------------------\u001b[0m",
            "\u001b[0;31mAttributeError\u001b[0m                            Traceback (most recent call last)",
            "\u001b[0;32m<ipython-input-21-d9298111173b>\u001b[0m in \u001b[0;36m<module>\u001b[0;34m()\u001b[0m\n\u001b[1;32m     14\u001b[0m )\n\u001b[1;32m     15\u001b[0m \u001b[0;34m\u001b[0m\u001b[0m\n\u001b[0;32m---> 16\u001b[0;31m \u001b[0mmodel\u001b[0m\u001b[0;34m.\u001b[0m\u001b[0mload_weights\u001b[0m\u001b[0;34m(\u001b[0m\u001b[0;34m'pretrained_best_model.h5'\u001b[0m\u001b[0;34m)\u001b[0m\u001b[0;34m\u001b[0m\u001b[0;34m\u001b[0m\u001b[0m\n\u001b[0m",
            "\u001b[0;32m/tensorflow-1.15.2/python3.7/keras/engine/saving.py\u001b[0m in \u001b[0;36mload_wrapper\u001b[0;34m(*args, **kwargs)\u001b[0m\n\u001b[1;32m    490\u001b[0m                 \u001b[0mos\u001b[0m\u001b[0;34m.\u001b[0m\u001b[0mremove\u001b[0m\u001b[0;34m(\u001b[0m\u001b[0mtmp_filepath\u001b[0m\u001b[0;34m)\u001b[0m\u001b[0;34m\u001b[0m\u001b[0;34m\u001b[0m\u001b[0m\n\u001b[1;32m    491\u001b[0m             \u001b[0;32mreturn\u001b[0m \u001b[0mres\u001b[0m\u001b[0;34m\u001b[0m\u001b[0;34m\u001b[0m\u001b[0m\n\u001b[0;32m--> 492\u001b[0;31m         \u001b[0;32mreturn\u001b[0m \u001b[0mload_function\u001b[0m\u001b[0;34m(\u001b[0m\u001b[0;34m*\u001b[0m\u001b[0margs\u001b[0m\u001b[0;34m,\u001b[0m \u001b[0;34m**\u001b[0m\u001b[0mkwargs\u001b[0m\u001b[0;34m)\u001b[0m\u001b[0;34m\u001b[0m\u001b[0;34m\u001b[0m\u001b[0m\n\u001b[0m\u001b[1;32m    493\u001b[0m \u001b[0;34m\u001b[0m\u001b[0m\n\u001b[1;32m    494\u001b[0m     \u001b[0;32mreturn\u001b[0m \u001b[0mload_wrapper\u001b[0m\u001b[0;34m\u001b[0m\u001b[0;34m\u001b[0m\u001b[0m\n",
            "\u001b[0;32m/tensorflow-1.15.2/python3.7/keras/engine/network.py\u001b[0m in \u001b[0;36mload_weights\u001b[0;34m(self, filepath, by_name, skip_mismatch, reshape)\u001b[0m\n\u001b[1;32m   1228\u001b[0m             \u001b[0;32melse\u001b[0m\u001b[0;34m:\u001b[0m\u001b[0;34m\u001b[0m\u001b[0;34m\u001b[0m\u001b[0m\n\u001b[1;32m   1229\u001b[0m                 saving.load_weights_from_hdf5_group(\n\u001b[0;32m-> 1230\u001b[0;31m                     f, self.layers, reshape=reshape)\n\u001b[0m\u001b[1;32m   1231\u001b[0m             \u001b[0;32mif\u001b[0m \u001b[0mhasattr\u001b[0m\u001b[0;34m(\u001b[0m\u001b[0mf\u001b[0m\u001b[0;34m,\u001b[0m \u001b[0;34m'close'\u001b[0m\u001b[0;34m)\u001b[0m\u001b[0;34m:\u001b[0m\u001b[0;34m\u001b[0m\u001b[0;34m\u001b[0m\u001b[0m\n\u001b[1;32m   1232\u001b[0m                 \u001b[0mf\u001b[0m\u001b[0;34m.\u001b[0m\u001b[0mclose\u001b[0m\u001b[0;34m(\u001b[0m\u001b[0;34m)\u001b[0m\u001b[0;34m\u001b[0m\u001b[0;34m\u001b[0m\u001b[0m\n",
            "\u001b[0;32m/tensorflow-1.15.2/python3.7/keras/engine/saving.py\u001b[0m in \u001b[0;36mload_weights_from_hdf5_group\u001b[0;34m(f, layers, reshape)\u001b[0m\n\u001b[1;32m   1181\u001b[0m     \"\"\"\n\u001b[1;32m   1182\u001b[0m     \u001b[0;32mif\u001b[0m \u001b[0;34m'keras_version'\u001b[0m \u001b[0;32min\u001b[0m \u001b[0mf\u001b[0m\u001b[0;34m.\u001b[0m\u001b[0mattrs\u001b[0m\u001b[0;34m:\u001b[0m\u001b[0;34m\u001b[0m\u001b[0;34m\u001b[0m\u001b[0m\n\u001b[0;32m-> 1183\u001b[0;31m         \u001b[0moriginal_keras_version\u001b[0m \u001b[0;34m=\u001b[0m \u001b[0mf\u001b[0m\u001b[0;34m.\u001b[0m\u001b[0mattrs\u001b[0m\u001b[0;34m[\u001b[0m\u001b[0;34m'keras_version'\u001b[0m\u001b[0;34m]\u001b[0m\u001b[0;34m.\u001b[0m\u001b[0mdecode\u001b[0m\u001b[0;34m(\u001b[0m\u001b[0;34m'utf8'\u001b[0m\u001b[0;34m)\u001b[0m\u001b[0;34m\u001b[0m\u001b[0;34m\u001b[0m\u001b[0m\n\u001b[0m\u001b[1;32m   1184\u001b[0m     \u001b[0;32melse\u001b[0m\u001b[0;34m:\u001b[0m\u001b[0;34m\u001b[0m\u001b[0;34m\u001b[0m\u001b[0m\n\u001b[1;32m   1185\u001b[0m         \u001b[0moriginal_keras_version\u001b[0m \u001b[0;34m=\u001b[0m \u001b[0;34m'1'\u001b[0m\u001b[0;34m\u001b[0m\u001b[0;34m\u001b[0m\u001b[0m\n",
            "\u001b[0;31mAttributeError\u001b[0m: 'str' object has no attribute 'decode'"
          ]
        }
      ]
    },
    {
      "cell_type": "code",
      "metadata": {
        "colab": {
          "base_uri": "https://localhost:8080/"
        },
        "id": "IZNVGThAXHeL",
        "outputId": "bf23d7b0-d9c3-460b-8296-8f6f944abb1c"
      },
      "source": [
        "preds = model.predict(pad_sequences(test['int_tokens'], padding='post', maxlen=MAX_SEQUENCE_LENGTH))\n",
        "tag_preds = [np.argmax(pred, axis=1) for pred in preds]\n",
        "truncated_preds = []\n",
        "for i in range(len(tag_preds)):\n",
        "    truncated_preds.append(tag_preds[i][:len(test['encoded_ner_tags'].iloc[i])])\n",
        "named_preds = []\n",
        "for i in truncated_preds:\n",
        "    named_preds.append([])\n",
        "    for j in i:\n",
        "        named_preds[-1].append(label_list[j])\n",
        "\n",
        "print(metrics.flat_classification_report(test['ner_tags'], named_preds, digits=4, labels=labels))"
      ],
      "execution_count": null,
      "outputs": [
        {
          "output_type": "stream",
          "text": [
            "               precision    recall  f1-score   support\n",
            "\n",
            "B-GoodsString     0.9294    0.8548    0.8906      1109\n",
            "I-GoodsString     0.9505    0.8166    0.8785      1718\n",
            "\n",
            "    micro avg     0.9419    0.8316    0.8833      2827\n",
            "    macro avg     0.9400    0.8357    0.8845      2827\n",
            " weighted avg     0.9423    0.8316    0.8832      2827\n",
            "\n"
          ],
          "name": "stdout"
        }
      ]
    },
    {
      "cell_type": "markdown",
      "metadata": {
        "id": "9JNx5ntzrHuK"
      },
      "source": [
        "## PRETRAINED W2V(fixed) + BILSTM + CRF"
      ]
    },
    {
      "cell_type": "code",
      "metadata": {
        "colab": {
          "base_uri": "https://localhost:8080/"
        },
        "id": "7nV6QMPc3cyy",
        "outputId": "8e37d1cd-53f5-4790-9275-fbef90841bc3"
      },
      "source": [
        "MAX_WORDS = len(w2v.wv.vocab)\n",
        "EMBEDDING_LENGTH = w2v.vector_size\n",
        "MAX_SEQUENCE_LENGTH = np.max(df['int_tokens'].apply(len))\n",
        "HIDDEN_SIZE = 50\n",
        "\n",
        "model_fixed_embeds = Sequential()\n",
        "model_fixed_embeds.add(Embedding(MAX_WORDS, EMBEDDING_LENGTH, input_length=MAX_SEQUENCE_LENGTH, mask_zero=False, weights=[w2v.wv.vectors], trainable=False))\n",
        "model_fixed_embeds.add(Bidirectional(LSTM(HIDDEN_SIZE, return_sequences=True)))\n",
        "model_fixed_embeds.add(TimeDistributed(Dense(len(label_list), activation=\"relu\")))\n",
        "crf = CRF(len(label_list), learn_mode='marginal')\n",
        "model_fixed_embeds.add(crf)\n",
        "\n",
        "model_fixed_embeds.compile(Adam(lr=0.005), loss=focal_loss(alpha=4), metrics=[crf_marginal_accuracy])\n",
        "model_fixed_embeds.summary()"
      ],
      "execution_count": 17,
      "outputs": [
        {
          "output_type": "stream",
          "text": [
            "Model: \"sequential_2\"\n",
            "_________________________________________________________________\n",
            "Layer (type)                 Output Shape              Param #   \n",
            "=================================================================\n",
            "embedding_2 (Embedding)      (None, 3004, 300)         2544900   \n",
            "_________________________________________________________________\n",
            "bidirectional_2 (Bidirection (None, 3004, 100)         140400    \n",
            "_________________________________________________________________\n",
            "time_distributed_2 (TimeDist (None, 3004, 3)           303       \n",
            "_________________________________________________________________\n",
            "crf_2 (CRF)                  (None, 3004, 3)           27        \n",
            "=================================================================\n",
            "Total params: 2,685,630\n",
            "Trainable params: 140,730\n",
            "Non-trainable params: 2,544,900\n",
            "_________________________________________________________________\n"
          ],
          "name": "stdout"
        }
      ]
    },
    {
      "cell_type": "code",
      "metadata": {
        "id": "19U1yO8c3czD",
        "colab": {
          "base_uri": "https://localhost:8080/"
        },
        "outputId": "be29db51-7e2e-476a-82bf-a97c1a52133f"
      },
      "source": [
        "callbacks = [EarlyStopping(monitor='val_crf_marginal_accuracy', patience=5),\n",
        "         ModelCheckpoint(filepath='pretrained_best_model_fixed_embeds.h5', monitor='val_crf_marginal_accuracy', save_best_only=True)]\n",
        "\n",
        "x_train = pad_sequences(train['int_tokens'], padding='post', maxlen=MAX_SEQUENCE_LENGTH)\n",
        "y_train = pad_sequences(train['encoded_ner_tags'], padding='post', maxlen=MAX_SEQUENCE_LENGTH, value=tag_to_idx['O'])\n",
        "y_train = to_categorical(y_train, num_classes=len(label_list))\n",
        "history = model_fixed_embeds.fit(\n",
        "    x=x_train,\n",
        "    y=y_train,\n",
        "    epochs=30,\n",
        "    batch_size=128,\n",
        "    callbacks=callbacks,\n",
        "    validation_split=0.1,\n",
        ")\n",
        "\n",
        "model_fixed_embeds.load_weights('pretrained_best_model_fixed_embeds.h5')"
      ],
      "execution_count": 18,
      "outputs": [
        {
          "output_type": "stream",
          "text": [
            "Train on 857 samples, validate on 96 samples\n",
            "Epoch 1/30\n",
            "857/857 [==============================] - 61s 71ms/step - loss: 2.8965 - crf_marginal_accuracy: 0.0021 - val_loss: 2.4423 - val_crf_marginal_accuracy: 0.0023\n",
            "Epoch 2/30\n",
            "857/857 [==============================] - 60s 70ms/step - loss: 2.0859 - crf_marginal_accuracy: 0.2775 - val_loss: 1.9679 - val_crf_marginal_accuracy: 0.9443\n",
            "Epoch 3/30\n",
            "857/857 [==============================] - 60s 70ms/step - loss: 1.8852 - crf_marginal_accuracy: 0.9659 - val_loss: 1.8872 - val_crf_marginal_accuracy: 0.9786\n",
            "Epoch 4/30\n",
            "857/857 [==============================] - 60s 70ms/step - loss: 1.8381 - crf_marginal_accuracy: 0.9926 - val_loss: 1.8552 - val_crf_marginal_accuracy: 0.9948\n",
            "Epoch 5/30\n",
            "857/857 [==============================] - 60s 70ms/step - loss: 1.8215 - crf_marginal_accuracy: 0.9944 - val_loss: 1.8512 - val_crf_marginal_accuracy: 0.9931\n",
            "Epoch 6/30\n",
            "857/857 [==============================] - 60s 70ms/step - loss: 1.8171 - crf_marginal_accuracy: 0.9952 - val_loss: 1.8434 - val_crf_marginal_accuracy: 0.9957\n",
            "Epoch 7/30\n",
            "857/857 [==============================] - 60s 70ms/step - loss: 1.8125 - crf_marginal_accuracy: 0.9963 - val_loss: 1.8413 - val_crf_marginal_accuracy: 0.9957\n",
            "Epoch 8/30\n",
            "857/857 [==============================] - 60s 70ms/step - loss: 1.8099 - crf_marginal_accuracy: 0.9960 - val_loss: 1.8394 - val_crf_marginal_accuracy: 0.9948\n",
            "Epoch 9/30\n",
            "857/857 [==============================] - 60s 70ms/step - loss: 1.8078 - crf_marginal_accuracy: 0.9954 - val_loss: 1.8389 - val_crf_marginal_accuracy: 0.9954\n",
            "Epoch 10/30\n",
            "857/857 [==============================] - 60s 70ms/step - loss: 1.8067 - crf_marginal_accuracy: 0.9964 - val_loss: 1.8385 - val_crf_marginal_accuracy: 0.9959\n",
            "Epoch 11/30\n",
            "857/857 [==============================] - 60s 70ms/step - loss: 1.8060 - crf_marginal_accuracy: 0.9963 - val_loss: 1.8368 - val_crf_marginal_accuracy: 0.9953\n",
            "Epoch 12/30\n",
            "857/857 [==============================] - 60s 70ms/step - loss: 1.8049 - crf_marginal_accuracy: 0.9960 - val_loss: 1.8365 - val_crf_marginal_accuracy: 0.9958\n",
            "Epoch 13/30\n",
            "857/857 [==============================] - 60s 70ms/step - loss: 1.8047 - crf_marginal_accuracy: 0.9964 - val_loss: 1.8383 - val_crf_marginal_accuracy: 0.9956\n",
            "Epoch 14/30\n",
            "857/857 [==============================] - 60s 70ms/step - loss: 1.8045 - crf_marginal_accuracy: 0.9963 - val_loss: 1.8365 - val_crf_marginal_accuracy: 0.9957\n",
            "Epoch 15/30\n",
            "857/857 [==============================] - 60s 70ms/step - loss: 1.8035 - crf_marginal_accuracy: 0.9962 - val_loss: 1.8355 - val_crf_marginal_accuracy: 0.9958\n"
          ],
          "name": "stdout"
        }
      ]
    },
    {
      "cell_type": "code",
      "metadata": {
        "id": "vU37zLsF3czD",
        "colab": {
          "base_uri": "https://localhost:8080/"
        },
        "outputId": "995ecb44-451c-4e1f-bff1-607f8efbd101"
      },
      "source": [
        "preds = model_fixed_embeds.predict(pad_sequences(test['int_tokens'], padding='post', maxlen=MAX_SEQUENCE_LENGTH))\n",
        "tag_preds = [np.argmax(pred, axis=1) for pred in preds]\n",
        "truncated_preds = []\n",
        "for i in range(len(tag_preds)):\n",
        "    truncated_preds.append(tag_preds[i][:len(test['encoded_ner_tags'].iloc[i])])\n",
        "named_preds = []\n",
        "for i in truncated_preds:\n",
        "    named_preds.append([])\n",
        "    for j in i:\n",
        "        named_preds[-1].append(label_list[j])\n",
        "\n",
        "print(metrics.flat_classification_report(test['ner_tags'], named_preds, digits=4, labels=labels))"
      ],
      "execution_count": 19,
      "outputs": [
        {
          "output_type": "stream",
          "text": [
            "               precision    recall  f1-score   support\n",
            "\n",
            "B-GoodsString     0.4027    0.5861    0.4774      1109\n",
            "I-GoodsString     0.0000    0.0000    0.0000      1718\n",
            "\n",
            "    micro avg     0.3930    0.2299    0.2901      2827\n",
            "    macro avg     0.2014    0.2931    0.2387      2827\n",
            " weighted avg     0.1580    0.2299    0.1873      2827\n",
            "\n"
          ],
          "name": "stdout"
        }
      ]
    },
    {
      "cell_type": "markdown",
      "metadata": {
        "id": "B0M6U9bFpeSI"
      },
      "source": [
        "## W2V(not fixed, window=5, min_count=2) + BILSTM + CRF"
      ]
    },
    {
      "cell_type": "code",
      "metadata": {
        "id": "JeRins3GMDd-"
      },
      "source": [
        "w2v = Word2Vec(sentences=df['tokens'], size=50, window=5, min_count=2)\n",
        "w2v.train(sentences=df['tokens'], total_examples=w2v.corpus_count, epochs=30)\n",
        "for d in all_dfs:\n",
        "    d['int_tokens'] = d.apply(find_token, axis=1)"
      ],
      "execution_count": 7,
      "outputs": []
    },
    {
      "cell_type": "code",
      "metadata": {
        "colab": {
          "base_uri": "https://localhost:8080/"
        },
        "id": "yYYv7a7bMMEI",
        "outputId": "e606edad-488e-42a9-f3c3-240acee7719d"
      },
      "source": [
        "MAX_WORDS = len(w2v.wv.vocab)\n",
        "EMBEDDING_LENGTH = w2v.vector_size\n",
        "MAX_SEQUENCE_LENGTH = np.max(df['int_tokens'].apply(len))\n",
        "HIDDEN_SIZE = 50\n",
        "\n",
        "model = Sequential()\n",
        "model.add(Embedding(MAX_WORDS, EMBEDDING_LENGTH, input_length=MAX_SEQUENCE_LENGTH, mask_zero=False, weights=[w2v.wv.vectors], trainable=True))\n",
        "model.add(Bidirectional(LSTM(HIDDEN_SIZE, return_sequences=True)))\n",
        "model.add(TimeDistributed(Dense(len(label_list), activation=\"relu\")))\n",
        "crf = CRF(len(label_list), learn_mode='marginal')\n",
        "model.add(crf)\n",
        "\n",
        "model.compile(Adam(lr=0.01), loss=focal_loss(), metrics=[crf_marginal_accuracy])\n",
        "model.summary()"
      ],
      "execution_count": null,
      "outputs": [
        {
          "output_type": "stream",
          "text": [
            "_________________________________________________________________\n",
            "Layer (type)                 Output Shape              Param #   \n",
            "=================================================================\n",
            "embedding_11 (Embedding)     (None, 3004, 300)         2544900   \n",
            "_________________________________________________________________\n",
            "bidirectional_11 (Bidirectio (None, 3004, 100)         140400    \n",
            "_________________________________________________________________\n",
            "time_distributed_11 (TimeDis (None, 3004, 3)           303       \n",
            "_________________________________________________________________\n",
            "crf_11 (CRF)                 (None, 3004, 3)           27        \n",
            "=================================================================\n",
            "Total params: 2,685,630\n",
            "Trainable params: 2,685,630\n",
            "Non-trainable params: 0\n",
            "_________________________________________________________________\n"
          ],
          "name": "stdout"
        }
      ]
    },
    {
      "cell_type": "code",
      "metadata": {
        "colab": {
          "base_uri": "https://localhost:8080/"
        },
        "id": "T9AHayBOMMEK",
        "outputId": "5ca96473-9a50-4111-91c6-685c649207b1"
      },
      "source": [
        "callbacks = [EarlyStopping(monitor='val_crf_marginal_accuracy', patience=5),\n",
        "         ModelCheckpoint(filepath='not_pretrained_best_model.h5', monitor='val_crf_marginal_accuracy', save_best_only=True)]\n",
        "\n",
        "x_train = pad_sequences(train['int_tokens'], padding='post', maxlen=MAX_SEQUENCE_LENGTH)\n",
        "y_train = pad_sequences(train['encoded_ner_tags'], padding='post', maxlen=MAX_SEQUENCE_LENGTH, value=tag_to_idx['O'])\n",
        "y_train = to_categorical(y_train, num_classes=len(label_list))\n",
        "history = model.fit(\n",
        "    x=x_train,\n",
        "    y=y_train,\n",
        "    epochs=30,\n",
        "    batch_size=128,\n",
        "    callbacks=callbacks,\n",
        "    validation_split=0.1,\n",
        ")\n",
        "\n",
        "model.load_weights('not_pretrained_best_model.h5')"
      ],
      "execution_count": null,
      "outputs": [
        {
          "output_type": "stream",
          "text": [
            "Train on 857 samples, validate on 96 samples\n",
            "Epoch 1/30\n",
            "857/857 [==============================] - 98s 114ms/step - loss: 0.4957 - crf_marginal_accuracy: 0.6872 - val_loss: 0.4646 - val_crf_marginal_accuracy: 0.9956\n",
            "Epoch 2/30\n",
            "857/857 [==============================] - 92s 107ms/step - loss: 0.4535 - crf_marginal_accuracy: 0.4771 - val_loss: 0.4569 - val_crf_marginal_accuracy: 0.0709\n",
            "Epoch 3/30\n",
            "857/857 [==============================] - 91s 107ms/step - loss: 0.4468 - crf_marginal_accuracy: 0.8567 - val_loss: 0.4542 - val_crf_marginal_accuracy: 0.9965\n",
            "Epoch 4/30\n",
            "857/857 [==============================] - 91s 107ms/step - loss: 0.4386 - crf_marginal_accuracy: 0.9969 - val_loss: 0.4468 - val_crf_marginal_accuracy: 0.9960\n",
            "Epoch 5/30\n",
            "857/857 [==============================] - 91s 106ms/step - loss: 0.4189 - crf_marginal_accuracy: 0.9970 - val_loss: 0.4338 - val_crf_marginal_accuracy: 0.9970\n",
            "Epoch 6/30\n",
            "857/857 [==============================] - 91s 106ms/step - loss: 0.3850 - crf_marginal_accuracy: 0.9977 - val_loss: 0.4165 - val_crf_marginal_accuracy: 0.9975\n",
            "Epoch 7/30\n",
            "857/857 [==============================] - 91s 107ms/step - loss: 0.3317 - crf_marginal_accuracy: 0.9983 - val_loss: 0.4171 - val_crf_marginal_accuracy: 0.9977\n",
            "Epoch 8/30\n",
            "857/857 [==============================] - 91s 106ms/step - loss: 0.2653 - crf_marginal_accuracy: 0.9988 - val_loss: 0.4012 - val_crf_marginal_accuracy: 0.9982\n",
            "Epoch 9/30\n",
            "857/857 [==============================] - 91s 106ms/step - loss: 0.2121 - crf_marginal_accuracy: 0.9992 - val_loss: 0.3723 - val_crf_marginal_accuracy: 0.9988\n",
            "Epoch 10/30\n",
            "857/857 [==============================] - 91s 106ms/step - loss: 0.1718 - crf_marginal_accuracy: 0.9995 - val_loss: 0.3861 - val_crf_marginal_accuracy: 0.9987\n",
            "Epoch 11/30\n",
            "857/857 [==============================] - 91s 106ms/step - loss: 0.1476 - crf_marginal_accuracy: 0.9995 - val_loss: 0.4065 - val_crf_marginal_accuracy: 0.9989\n",
            "Epoch 12/30\n",
            "857/857 [==============================] - 91s 106ms/step - loss: 0.1200 - crf_marginal_accuracy: 0.9996 - val_loss: 0.3672 - val_crf_marginal_accuracy: 0.9991\n",
            "Epoch 13/30\n",
            "857/857 [==============================] - 91s 107ms/step - loss: 0.0898 - crf_marginal_accuracy: 0.9997 - val_loss: 0.3499 - val_crf_marginal_accuracy: 0.9991\n",
            "Epoch 14/30\n",
            "857/857 [==============================] - 91s 106ms/step - loss: 0.0734 - crf_marginal_accuracy: 0.9998 - val_loss: 0.3959 - val_crf_marginal_accuracy: 0.9991\n",
            "Epoch 15/30\n",
            "857/857 [==============================] - 91s 106ms/step - loss: 0.0604 - crf_marginal_accuracy: 0.9998 - val_loss: 0.3799 - val_crf_marginal_accuracy: 0.9991\n",
            "Epoch 16/30\n",
            "857/857 [==============================] - 91s 106ms/step - loss: 0.0551 - crf_marginal_accuracy: 0.9998 - val_loss: 0.3644 - val_crf_marginal_accuracy: 0.9991\n",
            "Epoch 17/30\n",
            "857/857 [==============================] - 91s 106ms/step - loss: 0.0511 - crf_marginal_accuracy: 0.9998 - val_loss: 0.3988 - val_crf_marginal_accuracy: 0.9991\n",
            "Epoch 18/30\n",
            "857/857 [==============================] - 91s 106ms/step - loss: 0.0427 - crf_marginal_accuracy: 0.9998 - val_loss: 0.4072 - val_crf_marginal_accuracy: 0.9992\n",
            "Epoch 19/30\n",
            "857/857 [==============================] - 92s 107ms/step - loss: 0.0372 - crf_marginal_accuracy: 0.9998 - val_loss: 0.4425 - val_crf_marginal_accuracy: 0.9992\n",
            "Epoch 20/30\n",
            "857/857 [==============================] - 92s 107ms/step - loss: 0.0344 - crf_marginal_accuracy: 0.9998 - val_loss: 0.4732 - val_crf_marginal_accuracy: 0.9992\n",
            "Epoch 21/30\n",
            "857/857 [==============================] - 91s 106ms/step - loss: 0.0320 - crf_marginal_accuracy: 0.9998 - val_loss: 0.4689 - val_crf_marginal_accuracy: 0.9992\n",
            "Epoch 22/30\n",
            "857/857 [==============================] - 91s 107ms/step - loss: 0.0289 - crf_marginal_accuracy: 0.9999 - val_loss: 0.5235 - val_crf_marginal_accuracy: 0.9992\n",
            "Epoch 23/30\n",
            "857/857 [==============================] - 91s 106ms/step - loss: 0.0281 - crf_marginal_accuracy: 0.9998 - val_loss: 0.5479 - val_crf_marginal_accuracy: 0.9992\n",
            "Epoch 24/30\n",
            "857/857 [==============================] - 91s 106ms/step - loss: 0.0261 - crf_marginal_accuracy: 0.9999 - val_loss: 0.5762 - val_crf_marginal_accuracy: 0.9992\n",
            "Epoch 25/30\n",
            "857/857 [==============================] - 91s 106ms/step - loss: 0.0240 - crf_marginal_accuracy: 0.9999 - val_loss: 0.6077 - val_crf_marginal_accuracy: 0.9992\n",
            "Epoch 26/30\n",
            "857/857 [==============================] - 91s 106ms/step - loss: 0.0217 - crf_marginal_accuracy: 0.9999 - val_loss: 0.6101 - val_crf_marginal_accuracy: 0.9992\n",
            "Epoch 27/30\n",
            "857/857 [==============================] - 91s 106ms/step - loss: 0.0225 - crf_marginal_accuracy: 0.9999 - val_loss: 0.6157 - val_crf_marginal_accuracy: 0.9992\n"
          ],
          "name": "stdout"
        }
      ]
    },
    {
      "cell_type": "code",
      "metadata": {
        "colab": {
          "base_uri": "https://localhost:8080/"
        },
        "id": "cofffkTqMMEK",
        "outputId": "ab28ce8a-e2d4-4ab7-e8c4-f256d7990c29"
      },
      "source": [
        "preds = model.predict(pad_sequences(test['int_tokens'], padding='post', maxlen=MAX_SEQUENCE_LENGTH))\n",
        "tag_preds = [np.argmax(pred, axis=1) for pred in preds]\n",
        "truncated_preds = []\n",
        "for i in range(len(tag_preds)):\n",
        "    truncated_preds.append(tag_preds[i][:len(test['encoded_ner_tags'].iloc[i])])\n",
        "named_preds = []\n",
        "for i in truncated_preds:\n",
        "    named_preds.append([])\n",
        "    for j in i:\n",
        "        named_preds[-1].append(label_list[j])\n",
        "\n",
        "print(metrics.flat_classification_report(test['ner_tags'], named_preds, digits=4, labels=labels))"
      ],
      "execution_count": null,
      "outputs": [
        {
          "output_type": "stream",
          "text": [
            "               precision    recall  f1-score   support\n",
            "\n",
            "B-GoodsString     0.9026    0.8602    0.8809      1109\n",
            "I-GoodsString     0.8842    0.8487    0.8661      1718\n",
            "\n",
            "    micro avg     0.8914    0.8532    0.8719      2827\n",
            "    macro avg     0.8934    0.8544    0.8735      2827\n",
            " weighted avg     0.8914    0.8532    0.8719      2827\n",
            "\n"
          ],
          "name": "stdout"
        }
      ]
    },
    {
      "cell_type": "markdown",
      "metadata": {
        "id": "1D9pIp5Zpjqo"
      },
      "source": [
        "## W2V(fixed, window=5, min_count=2) + BILSTM + CRF"
      ]
    },
    {
      "cell_type": "code",
      "metadata": {
        "colab": {
          "base_uri": "https://localhost:8080/"
        },
        "id": "AKFIa_0IMMEL",
        "outputId": "99c15854-255e-414f-c473-9aaccc6e495d"
      },
      "source": [
        "MAX_WORDS = len(w2v.wv.vocab)\n",
        "EMBEDDING_LENGTH = w2v.vector_size\n",
        "MAX_SEQUENCE_LENGTH = np.max(df['int_tokens'].apply(len))\n",
        "HIDDEN_SIZE = 50\n",
        "\n",
        "model_fixed_embeds = Sequential()\n",
        "model_fixed_embeds.add(Embedding(MAX_WORDS, EMBEDDING_LENGTH, input_length=MAX_SEQUENCE_LENGTH, mask_zero=False, weights=[w2v.wv.vectors], trainable=False))\n",
        "model_fixed_embeds.add(Bidirectional(LSTM(HIDDEN_SIZE, return_sequences=True)))\n",
        "model_fixed_embeds.add(TimeDistributed(Dense(len(label_list), activation=\"relu\")))\n",
        "crf = CRF(len(label_list), learn_mode='marginal')\n",
        "model_fixed_embeds.add(crf)\n",
        "\n",
        "model_fixed_embeds.compile(Adam(lr=0.01), loss=focal_loss(alpha=4), metrics=[crf_marginal_accuracy])\n",
        "model_fixed_embeds.summary()"
      ],
      "execution_count": 29,
      "outputs": [
        {
          "output_type": "stream",
          "text": [
            "Model: \"sequential_7\"\n",
            "_________________________________________________________________\n",
            "Layer (type)                 Output Shape              Param #   \n",
            "=================================================================\n",
            "embedding_7 (Embedding)      (None, 3004, 50)          424150    \n",
            "_________________________________________________________________\n",
            "bidirectional_7 (Bidirection (None, 3004, 100)         40400     \n",
            "_________________________________________________________________\n",
            "time_distributed_7 (TimeDist (None, 3004, 3)           303       \n",
            "_________________________________________________________________\n",
            "crf_7 (CRF)                  (None, 3004, 3)           27        \n",
            "=================================================================\n",
            "Total params: 464,880\n",
            "Trainable params: 40,730\n",
            "Non-trainable params: 424,150\n",
            "_________________________________________________________________\n"
          ],
          "name": "stdout"
        }
      ]
    },
    {
      "cell_type": "code",
      "metadata": {
        "colab": {
          "base_uri": "https://localhost:8080/"
        },
        "id": "nJSFEq-vMMEL",
        "outputId": "b60b9365-de14-4362-a8ab-90a3693356f0"
      },
      "source": [
        "callbacks = [EarlyStopping(monitor='val_crf_marginal_accuracy', patience=5),\n",
        "         ModelCheckpoint(filepath='not_pretrained_best_model_fixed_embeds.h5', monitor='val_crf_marginal_accuracy', save_best_only=True)]\n",
        "\n",
        "x_train = pad_sequences(train['int_tokens'], padding='post', maxlen=MAX_SEQUENCE_LENGTH)\n",
        "y_train = pad_sequences(train['encoded_ner_tags'], padding='post', maxlen=MAX_SEQUENCE_LENGTH, value=tag_to_idx['O'])\n",
        "y_train = to_categorical(y_train, num_classes=len(label_list))\n",
        "history = model_fixed_embeds.fit(\n",
        "    x=x_train,\n",
        "    y=y_train,\n",
        "    epochs=30,\n",
        "    batch_size=1024,\n",
        "    callbacks=callbacks,\n",
        "    validation_split=0.1,\n",
        ")\n",
        "\n",
        "model_fixed_embeds.load_weights('not_pretrained_best_model_fixed_embeds.h5')"
      ],
      "execution_count": 30,
      "outputs": [
        {
          "output_type": "stream",
          "text": [
            "Train on 857 samples, validate on 96 samples\n",
            "Epoch 1/30\n",
            "857/857 [==============================] - 14s 17ms/step - loss: 3.7022 - crf_marginal_accuracy: 0.0013 - val_loss: 4.7602 - val_crf_marginal_accuracy: 0.0021\n",
            "Epoch 2/30\n",
            "857/857 [==============================] - 13s 15ms/step - loss: 4.6038 - crf_marginal_accuracy: 0.0018 - val_loss: 3.2985 - val_crf_marginal_accuracy: 0.0014\n",
            "Epoch 3/30\n",
            "857/857 [==============================] - 13s 15ms/step - loss: 3.2380 - crf_marginal_accuracy: 0.0013 - val_loss: 3.1270 - val_crf_marginal_accuracy: 0.0014\n",
            "Epoch 4/30\n",
            "857/857 [==============================] - 13s 15ms/step - loss: 3.0572 - crf_marginal_accuracy: 0.0013 - val_loss: 2.7264 - val_crf_marginal_accuracy: 0.0014\n",
            "Epoch 5/30\n",
            "857/857 [==============================] - 13s 15ms/step - loss: 2.6721 - crf_marginal_accuracy: 0.0013 - val_loss: 2.3031 - val_crf_marginal_accuracy: 0.0015\n",
            "Epoch 6/30\n",
            "857/857 [==============================] - 13s 15ms/step - loss: 2.2782 - crf_marginal_accuracy: 0.0014 - val_loss: 2.1672 - val_crf_marginal_accuracy: 0.0023\n",
            "Epoch 7/30\n",
            "857/857 [==============================] - 13s 15ms/step - loss: 2.1538 - crf_marginal_accuracy: 0.0021 - val_loss: 2.1199 - val_crf_marginal_accuracy: 0.0024\n",
            "Epoch 8/30\n",
            "857/857 [==============================] - 13s 15ms/step - loss: 2.1011 - crf_marginal_accuracy: 0.0021 - val_loss: 2.0476 - val_crf_marginal_accuracy: 0.0027\n",
            "Epoch 9/30\n",
            "857/857 [==============================] - 13s 15ms/step - loss: 2.0199 - crf_marginal_accuracy: 0.0024 - val_loss: 1.9758 - val_crf_marginal_accuracy: 0.0038\n",
            "Epoch 10/30\n",
            "857/857 [==============================] - 13s 15ms/step - loss: 1.9417 - crf_marginal_accuracy: 0.0034 - val_loss: 1.9278 - val_crf_marginal_accuracy: 0.0348\n",
            "Epoch 11/30\n",
            "857/857 [==============================] - 13s 15ms/step - loss: 1.8893 - crf_marginal_accuracy: 0.0311 - val_loss: 1.9081 - val_crf_marginal_accuracy: 0.0679\n",
            "Epoch 12/30\n",
            "857/857 [==============================] - 13s 15ms/step - loss: 1.8668 - crf_marginal_accuracy: 0.0544 - val_loss: 1.9061 - val_crf_marginal_accuracy: 0.0682\n",
            "Epoch 13/30\n",
            "857/857 [==============================] - 13s 15ms/step - loss: 1.8634 - crf_marginal_accuracy: 0.0550 - val_loss: 1.9092 - val_crf_marginal_accuracy: 0.9597\n",
            "Epoch 14/30\n",
            "857/857 [==============================] - 13s 15ms/step - loss: 1.8662 - crf_marginal_accuracy: 0.9633 - val_loss: 1.9157 - val_crf_marginal_accuracy: 0.9942\n",
            "Epoch 15/30\n",
            "857/857 [==============================] - 13s 15ms/step - loss: 1.8723 - crf_marginal_accuracy: 0.9952 - val_loss: 1.9227 - val_crf_marginal_accuracy: 0.9963\n",
            "Epoch 16/30\n",
            "857/857 [==============================] - 13s 15ms/step - loss: 1.8793 - crf_marginal_accuracy: 0.9966 - val_loss: 1.9235 - val_crf_marginal_accuracy: 0.9962\n",
            "Epoch 17/30\n",
            "857/857 [==============================] - 13s 15ms/step - loss: 1.8809 - crf_marginal_accuracy: 0.9966 - val_loss: 1.9179 - val_crf_marginal_accuracy: 0.9962\n",
            "Epoch 18/30\n",
            "857/857 [==============================] - 13s 15ms/step - loss: 1.8760 - crf_marginal_accuracy: 0.9966 - val_loss: 1.9075 - val_crf_marginal_accuracy: 0.9962\n",
            "Epoch 19/30\n",
            "857/857 [==============================] - 13s 15ms/step - loss: 1.8673 - crf_marginal_accuracy: 0.9966 - val_loss: 1.8954 - val_crf_marginal_accuracy: 0.9962\n",
            "Epoch 20/30\n",
            "857/857 [==============================] - 13s 15ms/step - loss: 1.8572 - crf_marginal_accuracy: 0.9966 - val_loss: 1.8817 - val_crf_marginal_accuracy: 0.9962\n"
          ],
          "name": "stdout"
        }
      ]
    },
    {
      "cell_type": "code",
      "metadata": {
        "colab": {
          "base_uri": "https://localhost:8080/"
        },
        "id": "va-v-3tFMMEL",
        "outputId": "628c28d1-7a91-4b75-aedc-69ead284309b"
      },
      "source": [
        "preds = model_fixed_embeds.predict(pad_sequences(test['int_tokens'], padding='post', maxlen=MAX_SEQUENCE_LENGTH))\n",
        "tag_preds = [np.argmax(pred, axis=1) for pred in preds]\n",
        "truncated_preds = []\n",
        "for i in range(len(tag_preds)):\n",
        "    truncated_preds.append(tag_preds[i][:len(test['encoded_ner_tags'].iloc[i])])\n",
        "named_preds = []\n",
        "for i in truncated_preds:\n",
        "    named_preds.append([])\n",
        "    for j in i:\n",
        "        named_preds[-1].append(label_list[j])\n",
        "\n",
        "print(metrics.flat_classification_report(test['ner_tags'], named_preds, digits=4, labels=labels))"
      ],
      "execution_count": 31,
      "outputs": [
        {
          "output_type": "stream",
          "text": [
            "               precision    recall  f1-score   support\n",
            "\n",
            "B-GoodsString     0.4673    0.1289    0.2021      1109\n",
            "I-GoodsString     0.0000    0.0000    0.0000      1718\n",
            "\n",
            "    micro avg     0.4673    0.0506    0.0913      2827\n",
            "    macro avg     0.2337    0.0645    0.1011      2827\n",
            " weighted avg     0.1833    0.0506    0.0793      2827\n",
            "\n"
          ],
          "name": "stdout"
        }
      ]
    },
    {
      "cell_type": "markdown",
      "metadata": {
        "id": "ZKJI4oy3hzMT"
      },
      "source": [
        "\n",
        "## W2V(fixed, window=5, min_count=2) + CatBoost"
      ]
    },
    {
      "cell_type": "code",
      "metadata": {
        "colab": {
          "base_uri": "https://localhost:8080/"
        },
        "id": "id2BNTd0n0-0",
        "outputId": "e9876a27-8be2-4a37-f8ab-c0a4056ce5fb"
      },
      "source": [
        "EMBEDDING_LENGTH = w2v.vector_size\n",
        "WINDOW_SIZE = 5\n",
        "catboost_x_train = []\n",
        "catboost_y_train = []\n",
        "\n",
        "def prepare_data_for_catboost(x):\n",
        "    tokenized_text = x['int_tokens']\n",
        "    for i, token in enumerate(tokenized_text):\n",
        "        catboost_x_train.append([])\n",
        "        for shift in range(WINDOW_SIZE):\n",
        "            if i - WINDOW_SIZE // 2 + shift < 0 or i - WINDOW_SIZE // 2 + shift >= len(tokenized_text) :\n",
        "                catboost_x_train[-1] += [0] * EMBEDDING_LENGTH\n",
        "            else:\n",
        "                catboost_x_train[-1] += list(w2v.wv.vectors[tokenized_text[i - WINDOW_SIZE // 2 + shift]])\n",
        "        catboost_y_train.append(tag_to_idx[x['ner_tags'][i]])\n",
        "\n",
        "\n",
        "train.apply(prepare_data_for_catboost, axis=1)\n"
      ],
      "execution_count": 8,
      "outputs": [
        {
          "output_type": "execute_result",
          "data": {
            "text/plain": [
              "0      None\n",
              "1      None\n",
              "2      None\n",
              "3      None\n",
              "4      None\n",
              "       ... \n",
              "948    None\n",
              "949    None\n",
              "950    None\n",
              "951    None\n",
              "952    None\n",
              "Length: 953, dtype: object"
            ]
          },
          "metadata": {
            "tags": []
          },
          "execution_count": 8
        }
      ]
    },
    {
      "cell_type": "code",
      "metadata": {
        "id": "gZbGJKwZwPNF",
        "colab": {
          "base_uri": "https://localhost:8080/"
        },
        "outputId": "2e9a8f4c-1b59-407c-842e-2ba3406b8a1e"
      },
      "source": [
        "EMBEDDING_LENGTH = w2v.vector_size\n",
        "WINDOW_SIZE = 5\n",
        "catboost_x_test = []\n",
        "catboost_y_test = []\n",
        "\n",
        "def prepare_data_for_catboost(x):\n",
        "    tokenized_text = x['int_tokens']\n",
        "    for i, token in enumerate(tokenized_text):\n",
        "        catboost_x_test.append([])\n",
        "        for shift in range(WINDOW_SIZE):\n",
        "            if i - WINDOW_SIZE // 2 + shift < 0 or i - WINDOW_SIZE // 2 + shift >= len(tokenized_text) :\n",
        "                catboost_x_test[-1] += [0] * EMBEDDING_LENGTH\n",
        "            else:\n",
        "                catboost_x_test[-1] += list(w2v.wv.vectors[tokenized_text[i - WINDOW_SIZE // 2 + shift]])\n",
        "        catboost_y_test.append(tag_to_idx[x['ner_tags'][i]])\n",
        "\n",
        "\n",
        "test.apply(prepare_data_for_catboost, axis=1)"
      ],
      "execution_count": 9,
      "outputs": [
        {
          "output_type": "execute_result",
          "data": {
            "text/plain": [
              "0      None\n",
              "1      None\n",
              "2      None\n",
              "3      None\n",
              "4      None\n",
              "       ... \n",
              "234    None\n",
              "235    None\n",
              "236    None\n",
              "237    None\n",
              "238    None\n",
              "Length: 239, dtype: object"
            ]
          },
          "metadata": {
            "tags": []
          },
          "execution_count": 9
        }
      ]
    },
    {
      "cell_type": "code",
      "metadata": {
        "id": "ZFFhboVQs9BR"
      },
      "source": [
        "cb = CatBoostClassifier(verbose=False, task_type=\"GPU\", class_weights=[1, 1, 0.3], iterations=1000)\n",
        "cb.fit(catboost_x_train, catboost_y_train)\n",
        "pred = cb.predict(catboost_x_test)"
      ],
      "execution_count": 11,
      "outputs": []
    },
    {
      "cell_type": "code",
      "metadata": {
        "colab": {
          "base_uri": "https://localhost:8080/"
        },
        "id": "3OamBx6BudKo",
        "outputId": "5ce6ad4e-fa85-4c8a-b93e-d69ed07b3711"
      },
      "source": [
        "print(metrics.flat_classification_report(\n",
        "    np.array([label_list[i] for i in catboost_y_test])[..., np.newaxis, np.newaxis], \n",
        "    np.array([label_list[i] for i in pred[:, 0]])[..., np.newaxis, np.newaxis], \n",
        "    digits=4, \n",
        "    labels=labels))"
      ],
      "execution_count": 12,
      "outputs": [
        {
          "output_type": "stream",
          "text": [
            "               precision    recall  f1-score   support\n",
            "\n",
            "B-GoodsString     0.8753    0.8990    0.8870      1109\n",
            "I-GoodsString     0.8444    0.8749    0.8593      1718\n",
            "\n",
            "    micro avg     0.8565    0.8843    0.8702      2827\n",
            "    macro avg     0.8599    0.8869    0.8732      2827\n",
            " weighted avg     0.8565    0.8843    0.8702      2827\n",
            "\n"
          ],
          "name": "stdout"
        }
      ]
    },
    {
      "cell_type": "markdown",
      "metadata": {
        "id": "T5Rxo5d1o93d"
      },
      "source": [
        "## W2V(not fixed, window=5, min_count=1) + BILSTM + CRF"
      ]
    },
    {
      "cell_type": "code",
      "metadata": {
        "id": "jFGPObsQWal6"
      },
      "source": [
        "w2v = Word2Vec(sentences=df['tokens'], size=50, window=5, min_count=1)\n",
        "w2v.train(sentences=df['tokens'], total_examples=w2v.corpus_count, epochs=30)\n",
        "for d in all_dfs:\n",
        "    d['int_tokens'] = d.apply(find_token, axis=1)"
      ],
      "execution_count": 22,
      "outputs": []
    },
    {
      "cell_type": "code",
      "metadata": {
        "colab": {
          "base_uri": "https://localhost:8080/"
        },
        "id": "SqDnQ8VNWal-",
        "outputId": "bdec6c0a-cb24-48e2-c807-405fed560a3b"
      },
      "source": [
        "MAX_WORDS = len(w2v.wv.vocab)\n",
        "EMBEDDING_LENGTH = w2v.vector_size\n",
        "MAX_SEQUENCE_LENGTH = np.max(df['int_tokens'].apply(len))\n",
        "HIDDEN_SIZE = 50\n",
        "\n",
        "model = Sequential()\n",
        "model.add(Embedding(MAX_WORDS, EMBEDDING_LENGTH, input_length=MAX_SEQUENCE_LENGTH, mask_zero=False, weights=[w2v.wv.vectors], trainable=True))\n",
        "model.add(Bidirectional(LSTM(HIDDEN_SIZE, return_sequences=True)))\n",
        "model.add(TimeDistributed(Dense(len(label_list), activation=\"relu\")))\n",
        "crf = CRF(len(label_list), learn_mode='marginal')\n",
        "model.add(crf)\n",
        "\n",
        "model.compile(Adam(lr=0.01), loss=focal_loss(), metrics=[crf_marginal_accuracy])\n",
        "model.summary()"
      ],
      "execution_count": 34,
      "outputs": [
        {
          "output_type": "stream",
          "text": [
            "Model: \"sequential_10\"\n",
            "_________________________________________________________________\n",
            "Layer (type)                 Output Shape              Param #   \n",
            "=================================================================\n",
            "embedding_10 (Embedding)     (None, 3004, 50)          618050    \n",
            "_________________________________________________________________\n",
            "bidirectional_10 (Bidirectio (None, 3004, 100)         40400     \n",
            "_________________________________________________________________\n",
            "time_distributed_10 (TimeDis (None, 3004, 3)           303       \n",
            "_________________________________________________________________\n",
            "crf_10 (CRF)                 (None, 3004, 3)           27        \n",
            "=================================================================\n",
            "Total params: 658,780\n",
            "Trainable params: 658,780\n",
            "Non-trainable params: 0\n",
            "_________________________________________________________________\n"
          ],
          "name": "stdout"
        }
      ]
    },
    {
      "cell_type": "code",
      "metadata": {
        "colab": {
          "base_uri": "https://localhost:8080/"
        },
        "id": "-WqCw-lOWamB",
        "outputId": "8364e9d4-d2dd-405a-fb07-ba33457bec4e"
      },
      "source": [
        "callbacks = [EarlyStopping(monitor='val_crf_marginal_accuracy', patience=5),\n",
        "         ModelCheckpoint(filepath='window=5,min_count=1,best_model.h5', monitor='val_crf_marginal_accuracy', save_best_only=True)]\n",
        "\n",
        "x_train = pad_sequences(train['int_tokens'], padding='post', maxlen=MAX_SEQUENCE_LENGTH)\n",
        "y_train = pad_sequences(train['encoded_ner_tags'], padding='post', maxlen=MAX_SEQUENCE_LENGTH, value=tag_to_idx['O'])\n",
        "y_train = to_categorical(y_train, num_classes=len(label_list))\n",
        "history = model.fit(\n",
        "    x=x_train,\n",
        "    y=y_train,\n",
        "    epochs=30,\n",
        "    batch_size=1024,\n",
        "    callbacks=callbacks,\n",
        "    validation_split=0.1,\n",
        ")\n",
        "\n",
        "model.load_weights('window=5,min_count=1,best_model.h5')"
      ],
      "execution_count": 35,
      "outputs": [
        {
          "output_type": "stream",
          "text": [
            "Train on 857 samples, validate on 96 samples\n",
            "Epoch 1/30\n",
            "857/857 [==============================] - 15s 18ms/step - loss: 0.9747 - crf_marginal_accuracy: 0.9966 - val_loss: 0.9106 - val_crf_marginal_accuracy: 0.9962\n",
            "Epoch 2/30\n",
            "857/857 [==============================] - 13s 15ms/step - loss: 0.8899 - crf_marginal_accuracy: 0.9966 - val_loss: 0.8760 - val_crf_marginal_accuracy: 0.9962\n",
            "Epoch 3/30\n",
            "857/857 [==============================] - 13s 15ms/step - loss: 0.8530 - crf_marginal_accuracy: 0.9966 - val_loss: 0.8516 - val_crf_marginal_accuracy: 0.9963\n",
            "Epoch 4/30\n",
            "857/857 [==============================] - 13s 15ms/step - loss: 0.8271 - crf_marginal_accuracy: 0.9966 - val_loss: 0.8217 - val_crf_marginal_accuracy: 0.9962\n",
            "Epoch 5/30\n",
            "857/857 [==============================] - 13s 15ms/step - loss: 0.7966 - crf_marginal_accuracy: 0.9966 - val_loss: 0.7970 - val_crf_marginal_accuracy: 0.9962\n",
            "Epoch 6/30\n",
            "857/857 [==============================] - 13s 15ms/step - loss: 0.7708 - crf_marginal_accuracy: 0.9966 - val_loss: 0.7727 - val_crf_marginal_accuracy: 0.9961\n",
            "Epoch 7/30\n",
            "857/857 [==============================] - 13s 15ms/step - loss: 0.7476 - crf_marginal_accuracy: 0.9966 - val_loss: 0.7494 - val_crf_marginal_accuracy: 0.9961\n",
            "Epoch 8/30\n",
            "857/857 [==============================] - 13s 15ms/step - loss: 0.7260 - crf_marginal_accuracy: 0.9965 - val_loss: 0.7281 - val_crf_marginal_accuracy: 0.9962\n"
          ],
          "name": "stdout"
        }
      ]
    },
    {
      "cell_type": "code",
      "metadata": {
        "colab": {
          "base_uri": "https://localhost:8080/"
        },
        "id": "XhCujGbXWamC",
        "outputId": "276d75e8-d08a-4235-aec7-31f7fa44fb76"
      },
      "source": [
        "preds = model.predict(pad_sequences(test['int_tokens'], padding='post', maxlen=MAX_SEQUENCE_LENGTH))\n",
        "tag_preds = [np.argmax(pred, axis=1) for pred in preds]\n",
        "truncated_preds = []\n",
        "for i in range(len(tag_preds)):\n",
        "    truncated_preds.append(tag_preds[i][:len(test['encoded_ner_tags'].iloc[i])])\n",
        "named_preds = []\n",
        "for i in truncated_preds:\n",
        "    named_preds.append([])\n",
        "    for j in i:\n",
        "        named_preds[-1].append(label_list[j])\n",
        "\n",
        "print(metrics.flat_classification_report(test['ner_tags'], named_preds, digits=4, labels=labels))"
      ],
      "execution_count": 29,
      "outputs": [
        {
          "output_type": "stream",
          "text": [
            "               precision    recall  f1-score   support\n",
            "\n",
            "B-GoodsString     0.5954    0.6276    0.6111      1109\n",
            "I-GoodsString     0.7830    0.1932    0.3100      1718\n",
            "\n",
            "    micro avg     0.6453    0.3636    0.4652      2827\n",
            "    macro avg     0.6892    0.4104    0.4605      2827\n",
            " weighted avg     0.7094    0.3636    0.4281      2827\n",
            "\n"
          ],
          "name": "stdout"
        }
      ]
    },
    {
      "cell_type": "markdown",
      "metadata": {
        "id": "-W1mf60mpD9t"
      },
      "source": [
        "## W2V(fixed, window=5, min_count=1) + BILSTM + CRF"
      ]
    },
    {
      "cell_type": "code",
      "metadata": {
        "id": "8jRCZwwNWamC",
        "colab": {
          "base_uri": "https://localhost:8080/"
        },
        "outputId": "5ac31d58-22f2-4a5b-a5f4-a745afea8c6c"
      },
      "source": [
        "MAX_WORDS = len(w2v.wv.vocab)\n",
        "EMBEDDING_LENGTH = w2v.vector_size\n",
        "MAX_SEQUENCE_LENGTH = np.max(df['int_tokens'].apply(len))\n",
        "HIDDEN_SIZE = 50\n",
        "\n",
        "model_fixed_embeds = Sequential()\n",
        "model_fixed_embeds.add(Embedding(MAX_WORDS, EMBEDDING_LENGTH, input_length=MAX_SEQUENCE_LENGTH, mask_zero=False, weights=[w2v.wv.vectors], trainable=False))\n",
        "model_fixed_embeds.add(Bidirectional(LSTM(HIDDEN_SIZE, return_sequences=True)))\n",
        "model_fixed_embeds.add(TimeDistributed(Dense(len(label_list), activation=\"relu\")))\n",
        "crf = CRF(len(label_list), learn_mode='marginal')\n",
        "model_fixed_embeds.add(crf)\n",
        "\n",
        "model_fixed_embeds.compile(Adam(lr=0.01), loss=focal_loss(gamma=5), metrics=[crf_marginal_accuracy])\n",
        "model_fixed_embeds.summary()"
      ],
      "execution_count": 40,
      "outputs": [
        {
          "output_type": "stream",
          "text": [
            "Model: \"sequential_13\"\n",
            "_________________________________________________________________\n",
            "Layer (type)                 Output Shape              Param #   \n",
            "=================================================================\n",
            "embedding_13 (Embedding)     (None, 3004, 50)          618050    \n",
            "_________________________________________________________________\n",
            "bidirectional_13 (Bidirectio (None, 3004, 100)         40400     \n",
            "_________________________________________________________________\n",
            "time_distributed_13 (TimeDis (None, 3004, 3)           303       \n",
            "_________________________________________________________________\n",
            "crf_13 (CRF)                 (None, 3004, 3)           27        \n",
            "=================================================================\n",
            "Total params: 658,780\n",
            "Trainable params: 40,730\n",
            "Non-trainable params: 618,050\n",
            "_________________________________________________________________\n"
          ],
          "name": "stdout"
        }
      ]
    },
    {
      "cell_type": "code",
      "metadata": {
        "colab": {
          "base_uri": "https://localhost:8080/"
        },
        "id": "ipy3tg6aWamD",
        "outputId": "49edc5e8-757d-4e2d-bb4f-f681c577725f"
      },
      "source": [
        "callbacks = [EarlyStopping(monitor='val_crf_marginal_accuracy', patience=10),\n",
        "         ModelCheckpoint(filepath='window=5,min_count=1,best_model_fixed_embeds.h5', monitor='val_crf_marginal_accuracy', save_best_only=True)]\n",
        "\n",
        "x_train = pad_sequences(train['int_tokens'], padding='post', maxlen=MAX_SEQUENCE_LENGTH)\n",
        "y_train = pad_sequences(train['encoded_ner_tags'], padding='post', maxlen=MAX_SEQUENCE_LENGTH, value=tag_to_idx['O'])\n",
        "y_train = to_categorical(y_train, num_classes=len(label_list))\n",
        "history = model_fixed_embeds.fit(\n",
        "    x=x_train,\n",
        "    y=y_train,\n",
        "    epochs=30,\n",
        "    batch_size=1024,\n",
        "    callbacks=callbacks,\n",
        "    validation_split=0.1,\n",
        ")\n",
        "\n",
        "model_fixed_embeds.load_weights('window=5,min_count=1,best_model_fixed_embeds.h5')"
      ],
      "execution_count": 42,
      "outputs": [
        {
          "output_type": "stream",
          "text": [
            "Train on 857 samples, validate on 96 samples\n",
            "Epoch 1/30\n",
            "857/857 [==============================] - 13s 15ms/step - loss: 0.2429 - crf_marginal_accuracy: 0.9960 - val_loss: 0.1958 - val_crf_marginal_accuracy: 0.9966\n",
            "Epoch 2/30\n",
            "857/857 [==============================] - 13s 15ms/step - loss: 0.1882 - crf_marginal_accuracy: 0.9968 - val_loss: 0.1617 - val_crf_marginal_accuracy: 0.9968\n",
            "Epoch 3/30\n",
            "857/857 [==============================] - 13s 15ms/step - loss: 0.1545 - crf_marginal_accuracy: 0.9971 - val_loss: 0.1464 - val_crf_marginal_accuracy: 0.9964\n",
            "Epoch 4/30\n",
            "857/857 [==============================] - 13s 15ms/step - loss: 0.1389 - crf_marginal_accuracy: 0.9971 - val_loss: 0.1444 - val_crf_marginal_accuracy: 0.9958\n",
            "Epoch 5/30\n",
            "857/857 [==============================] - 13s 15ms/step - loss: 0.1364 - crf_marginal_accuracy: 0.9963 - val_loss: 0.1468 - val_crf_marginal_accuracy: 0.9951\n",
            "Epoch 6/30\n",
            "857/857 [==============================] - 13s 15ms/step - loss: 0.1385 - crf_marginal_accuracy: 0.9955 - val_loss: 0.1477 - val_crf_marginal_accuracy: 0.9949\n",
            "Epoch 7/30\n",
            "857/857 [==============================] - 13s 15ms/step - loss: 0.1396 - crf_marginal_accuracy: 0.9952 - val_loss: 0.1465 - val_crf_marginal_accuracy: 0.9951\n",
            "Epoch 8/30\n",
            "857/857 [==============================] - 13s 15ms/step - loss: 0.1388 - crf_marginal_accuracy: 0.9954 - val_loss: 0.1440 - val_crf_marginal_accuracy: 0.9958\n",
            "Epoch 9/30\n",
            "857/857 [==============================] - 13s 15ms/step - loss: 0.1368 - crf_marginal_accuracy: 0.9960 - val_loss: 0.1421 - val_crf_marginal_accuracy: 0.9964\n",
            "Epoch 10/30\n",
            "857/857 [==============================] - 13s 15ms/step - loss: 0.1352 - crf_marginal_accuracy: 0.9968 - val_loss: 0.1410 - val_crf_marginal_accuracy: 0.9966\n",
            "Epoch 11/30\n",
            "857/857 [==============================] - 13s 15ms/step - loss: 0.1345 - crf_marginal_accuracy: 0.9969 - val_loss: 0.1400 - val_crf_marginal_accuracy: 0.9964\n",
            "Epoch 12/30\n",
            "857/857 [==============================] - 13s 15ms/step - loss: 0.1337 - crf_marginal_accuracy: 0.9969 - val_loss: 0.1385 - val_crf_marginal_accuracy: 0.9964\n"
          ],
          "name": "stdout"
        }
      ]
    },
    {
      "cell_type": "code",
      "metadata": {
        "colab": {
          "base_uri": "https://localhost:8080/"
        },
        "id": "NuStVCRzWamD",
        "outputId": "352afce3-4926-4a28-8997-54b19b8a4a53"
      },
      "source": [
        "preds = model_fixed_embeds.predict(pad_sequences(test['int_tokens'], padding='post', maxlen=MAX_SEQUENCE_LENGTH))\n",
        "tag_preds = [np.argmax(pred, axis=1) for pred in preds]\n",
        "truncated_preds = []\n",
        "for i in range(len(tag_preds)):\n",
        "    truncated_preds.append(tag_preds[i][:len(test['encoded_ner_tags'].iloc[i])])\n",
        "named_preds = []\n",
        "for i in truncated_preds:\n",
        "    named_preds.append([])\n",
        "    for j in i:\n",
        "        named_preds[-1].append(label_list[j])\n",
        "\n",
        "print(metrics.flat_classification_report(test['ner_tags'], named_preds, digits=4, labels=labels))"
      ],
      "execution_count": 43,
      "outputs": [
        {
          "output_type": "stream",
          "text": [
            "               precision    recall  f1-score   support\n",
            "\n",
            "B-GoodsString     0.7254    0.1262    0.2151      1109\n",
            "I-GoodsString     0.5678    0.3731    0.4503      1718\n",
            "\n",
            "    micro avg     0.5908    0.2763    0.3765      2827\n",
            "    macro avg     0.6466    0.2497    0.3327      2827\n",
            " weighted avg     0.6296    0.2763    0.3580      2827\n",
            "\n"
          ],
          "name": "stdout"
        }
      ]
    },
    {
      "cell_type": "markdown",
      "metadata": {
        "id": "mL_5lS1paJ1a"
      },
      "source": [
        "\n",
        "## W2V(fixed, window=5, min_count=1) + CatBoost"
      ]
    },
    {
      "cell_type": "code",
      "metadata": {
        "colab": {
          "base_uri": "https://localhost:8080/"
        },
        "id": "VFV0gNT-aJ1a",
        "outputId": "8cfdd8a6-8111-44f3-bac0-c58644701f4a"
      },
      "source": [
        "EMBEDDING_LENGTH = w2v.vector_size\n",
        "WINDOW_SIZE = 5\n",
        "catboost_x_train = []\n",
        "catboost_y_train = []\n",
        "\n",
        "def prepare_data_for_catboost(x):\n",
        "    tokenized_text = x['int_tokens']\n",
        "    for i, token in enumerate(tokenized_text):\n",
        "        catboost_x_train.append([])\n",
        "        for shift in range(WINDOW_SIZE):\n",
        "            if i - WINDOW_SIZE // 2 + shift < 0 or i - WINDOW_SIZE // 2 + shift >= len(tokenized_text) :\n",
        "                catboost_x_train[-1] += [0] * EMBEDDING_LENGTH\n",
        "            else:\n",
        "                catboost_x_train[-1] += list(w2v.wv.vectors[tokenized_text[i - WINDOW_SIZE // 2 + shift]])\n",
        "        catboost_y_train.append(tag_to_idx[x['ner_tags'][i]])\n",
        "\n",
        "\n",
        "train.apply(prepare_data_for_catboost, axis=1)\n"
      ],
      "execution_count": 44,
      "outputs": [
        {
          "output_type": "execute_result",
          "data": {
            "text/plain": [
              "0      None\n",
              "1      None\n",
              "2      None\n",
              "3      None\n",
              "4      None\n",
              "       ... \n",
              "948    None\n",
              "949    None\n",
              "950    None\n",
              "951    None\n",
              "952    None\n",
              "Length: 953, dtype: object"
            ]
          },
          "metadata": {
            "tags": []
          },
          "execution_count": 44
        }
      ]
    },
    {
      "cell_type": "code",
      "metadata": {
        "colab": {
          "base_uri": "https://localhost:8080/"
        },
        "id": "b7-nO8i6aJ1a",
        "outputId": "d79d74f6-5d94-4840-f599-fe753de9c664"
      },
      "source": [
        "EMBEDDING_LENGTH = w2v.vector_size\n",
        "WINDOW_SIZE = 5\n",
        "catboost_x_test = []\n",
        "catboost_y_test = []\n",
        "\n",
        "def prepare_data_for_catboost(x):\n",
        "    tokenized_text = x['int_tokens']\n",
        "    for i, token in enumerate(tokenized_text):\n",
        "        catboost_x_test.append([])\n",
        "        for shift in range(WINDOW_SIZE):\n",
        "            if i - WINDOW_SIZE // 2 + shift < 0 or i - WINDOW_SIZE // 2 + shift >= len(tokenized_text) :\n",
        "                catboost_x_test[-1] += [0] * EMBEDDING_LENGTH\n",
        "            else:\n",
        "                catboost_x_test[-1] += list(w2v.wv.vectors[tokenized_text[i - WINDOW_SIZE // 2 + shift]])\n",
        "        catboost_y_test.append(tag_to_idx[x['ner_tags'][i]])\n",
        "\n",
        "\n",
        "test.apply(prepare_data_for_catboost, axis=1)"
      ],
      "execution_count": 45,
      "outputs": [
        {
          "output_type": "execute_result",
          "data": {
            "text/plain": [
              "0      None\n",
              "1      None\n",
              "2      None\n",
              "3      None\n",
              "4      None\n",
              "       ... \n",
              "234    None\n",
              "235    None\n",
              "236    None\n",
              "237    None\n",
              "238    None\n",
              "Length: 239, dtype: object"
            ]
          },
          "metadata": {
            "tags": []
          },
          "execution_count": 45
        }
      ]
    },
    {
      "cell_type": "code",
      "metadata": {
        "id": "swuyMDFUaJ1a",
        "colab": {
          "base_uri": "https://localhost:8080/"
        },
        "outputId": "a422d97e-7e24-4504-961f-2ac22d01cda4"
      },
      "source": [
        "cb = CatBoostClassifier(verbose=False, task_type=\"GPU\", class_weights=[1, 1, 0.3], iterations=1000)\n",
        "cb.fit(catboost_x_train, catboost_y_train)\n",
        "pred = cb.predict(catboost_x_test)"
      ],
      "execution_count": 46,
      "outputs": [
        {
          "output_type": "stream",
          "text": [
            "Warning: less than 75% gpu memory available for training. Free: 549.75 Total: 15109.75\n"
          ],
          "name": "stderr"
        }
      ]
    },
    {
      "cell_type": "code",
      "metadata": {
        "colab": {
          "base_uri": "https://localhost:8080/"
        },
        "id": "AKofLJ1uaJ1b",
        "outputId": "c3844ba9-6721-42de-c038-93bfd58b0af3"
      },
      "source": [
        "print(metrics.flat_classification_report(\n",
        "    np.array([label_list[i] for i in catboost_y_test])[..., np.newaxis, np.newaxis], \n",
        "    np.array([label_list[i] for i in pred[:, 0]])[..., np.newaxis, np.newaxis], \n",
        "    digits=4, \n",
        "    labels=labels))"
      ],
      "execution_count": 47,
      "outputs": [
        {
          "output_type": "stream",
          "text": [
            "               precision    recall  f1-score   support\n",
            "\n",
            "B-GoodsString     0.8885    0.9053    0.8968      1109\n",
            "I-GoodsString     0.8551    0.8795    0.8671      1718\n",
            "\n",
            "    micro avg     0.8681    0.8896    0.8788      2827\n",
            "    macro avg     0.8718    0.8924    0.8820      2827\n",
            " weighted avg     0.8682    0.8896    0.8788      2827\n",
            "\n"
          ],
          "name": "stdout"
        }
      ]
    },
    {
      "cell_type": "markdown",
      "metadata": {
        "id": "Y4WKYxHZuT9p"
      },
      "source": [
        "## W2V(not fixed, window=25) + BILSTM + CRF"
      ]
    },
    {
      "cell_type": "code",
      "metadata": {
        "id": "Kgm2UrFtuT9p"
      },
      "source": [
        "w2v = Word2Vec(sentences=df['tokens'], size=50, window=25, min_count=2)\n",
        "w2v.train(sentences=df['tokens'], total_examples=w2v.corpus_count, epochs=30)\n",
        "for d in all_dfs:\n",
        "    d['int_tokens'] = d.apply(find_token, axis=1)"
      ],
      "execution_count": 48,
      "outputs": []
    },
    {
      "cell_type": "code",
      "metadata": {
        "colab": {
          "base_uri": "https://localhost:8080/"
        },
        "id": "Si5Zc-UjuEN3",
        "outputId": "4b4b9e01-6f55-44b4-8533-db6630047507"
      },
      "source": [
        "MAX_WORDS = len(w2v.wv.vocab)\n",
        "EMBEDDING_LENGTH = w2v.vector_size\n",
        "MAX_SEQUENCE_LENGTH = np.max(df['int_tokens'].apply(len))\n",
        "HIDDEN_SIZE = 50\n",
        "\n",
        "model = Sequential()\n",
        "model.add(Embedding(MAX_WORDS, EMBEDDING_LENGTH, input_length=MAX_SEQUENCE_LENGTH, mask_zero=False, weights=[w2v.wv.vectors], trainable=True))\n",
        "model.add(Bidirectional(LSTM(HIDDEN_SIZE, return_sequences=True)))\n",
        "model.add(TimeDistributed(Dense(len(label_list), activation=\"relu\")))\n",
        "crf = CRF(len(label_list), learn_mode='marginal')\n",
        "model.add(crf)\n",
        "\n",
        "model.compile(Adam(lr=0.01), loss=focal_loss(), metrics=[crf_marginal_accuracy])\n",
        "model.summary()"
      ],
      "execution_count": 52,
      "outputs": [
        {
          "output_type": "stream",
          "text": [
            "Model: \"sequential_15\"\n",
            "_________________________________________________________________\n",
            "Layer (type)                 Output Shape              Param #   \n",
            "=================================================================\n",
            "embedding_15 (Embedding)     (None, 3004, 50)          424150    \n",
            "_________________________________________________________________\n",
            "bidirectional_15 (Bidirectio (None, 3004, 100)         40400     \n",
            "_________________________________________________________________\n",
            "time_distributed_15 (TimeDis (None, 3004, 3)           303       \n",
            "_________________________________________________________________\n",
            "crf_15 (CRF)                 (None, 3004, 3)           27        \n",
            "=================================================================\n",
            "Total params: 464,880\n",
            "Trainable params: 464,880\n",
            "Non-trainable params: 0\n",
            "_________________________________________________________________\n"
          ],
          "name": "stdout"
        }
      ]
    },
    {
      "cell_type": "code",
      "metadata": {
        "colab": {
          "base_uri": "https://localhost:8080/"
        },
        "id": "9EN4RSuMuEN9",
        "outputId": "771257d5-543a-4cd6-99ca-22c0079da910"
      },
      "source": [
        "callbacks = [EarlyStopping(monitor='val_crf_marginal_accuracy', patience=5),\n",
        "         ModelCheckpoint(filepath='window=25,best_model.h5', monitor='val_crf_marginal_accuracy', save_best_only=True)]\n",
        "\n",
        "x_train = pad_sequences(train['int_tokens'], padding='post', maxlen=MAX_SEQUENCE_LENGTH)\n",
        "y_train = pad_sequences(train['encoded_ner_tags'], padding='post', maxlen=MAX_SEQUENCE_LENGTH, value=tag_to_idx['O'])\n",
        "y_train = to_categorical(y_train, num_classes=len(label_list))\n",
        "history = model.fit(\n",
        "    x=x_train,\n",
        "    y=y_train,\n",
        "    epochs=30,\n",
        "    batch_size=1024,\n",
        "    callbacks=callbacks,\n",
        "    validation_split=0.1,\n",
        ")\n",
        "\n",
        "model.load_weights('window=25,best_model.h5')"
      ],
      "execution_count": 53,
      "outputs": [
        {
          "output_type": "stream",
          "text": [
            "Train on 857 samples, validate on 96 samples\n",
            "Epoch 1/30\n",
            "857/857 [==============================] - 16s 19ms/step - loss: 0.9337 - crf_marginal_accuracy: 0.0384 - val_loss: 0.7648 - val_crf_marginal_accuracy: 0.9733\n",
            "Epoch 2/30\n",
            "857/857 [==============================] - 13s 16ms/step - loss: 0.7331 - crf_marginal_accuracy: 0.9801 - val_loss: 0.6647 - val_crf_marginal_accuracy: 0.9791\n",
            "Epoch 3/30\n",
            "857/857 [==============================] - 13s 16ms/step - loss: 0.6376 - crf_marginal_accuracy: 0.9845 - val_loss: 0.5911 - val_crf_marginal_accuracy: 0.9865\n",
            "Epoch 4/30\n",
            "857/857 [==============================] - 13s 15ms/step - loss: 0.5667 - crf_marginal_accuracy: 0.9896 - val_loss: 0.5539 - val_crf_marginal_accuracy: 0.0815\n",
            "Epoch 5/30\n",
            "857/857 [==============================] - 13s 16ms/step - loss: 0.5283 - crf_marginal_accuracy: 0.0670 - val_loss: 0.5132 - val_crf_marginal_accuracy: 0.9917\n",
            "Epoch 6/30\n",
            "857/857 [==============================] - 13s 15ms/step - loss: 0.4903 - crf_marginal_accuracy: 0.9932 - val_loss: 0.4919 - val_crf_marginal_accuracy: 0.9918\n",
            "Epoch 7/30\n",
            "857/857 [==============================] - 13s 15ms/step - loss: 0.4703 - crf_marginal_accuracy: 0.9931 - val_loss: 0.4765 - val_crf_marginal_accuracy: 0.9916\n",
            "Epoch 8/30\n",
            "857/857 [==============================] - 13s 15ms/step - loss: 0.4553 - crf_marginal_accuracy: 0.9930 - val_loss: 0.4651 - val_crf_marginal_accuracy: 0.9915\n",
            "Epoch 9/30\n",
            "857/857 [==============================] - 13s 15ms/step - loss: 0.4438 - crf_marginal_accuracy: 0.9931 - val_loss: 0.4576 - val_crf_marginal_accuracy: 0.9918\n",
            "Epoch 10/30\n",
            "857/857 [==============================] - 13s 16ms/step - loss: 0.4355 - crf_marginal_accuracy: 0.9933 - val_loss: 0.4520 - val_crf_marginal_accuracy: 0.9918\n",
            "Epoch 11/30\n",
            "857/857 [==============================] - 13s 16ms/step - loss: 0.4288 - crf_marginal_accuracy: 0.9932 - val_loss: 0.4476 - val_crf_marginal_accuracy: 0.9914\n",
            "Epoch 12/30\n",
            "857/857 [==============================] - 13s 15ms/step - loss: 0.4236 - crf_marginal_accuracy: 0.9929 - val_loss: 0.4431 - val_crf_marginal_accuracy: 0.9910\n",
            "Epoch 13/30\n",
            "857/857 [==============================] - 13s 15ms/step - loss: 0.4185 - crf_marginal_accuracy: 0.9924 - val_loss: 0.4376 - val_crf_marginal_accuracy: 0.9911\n",
            "Epoch 14/30\n",
            "857/857 [==============================] - 13s 16ms/step - loss: 0.4134 - crf_marginal_accuracy: 0.9925 - val_loss: 0.4328 - val_crf_marginal_accuracy: 0.9916\n"
          ],
          "name": "stdout"
        }
      ]
    },
    {
      "cell_type": "code",
      "metadata": {
        "colab": {
          "base_uri": "https://localhost:8080/"
        },
        "id": "ZGjQQcIDuEN9",
        "outputId": "f914a62e-b561-48ab-a248-a2b828e3255b"
      },
      "source": [
        "preds = model.predict(pad_sequences(test['int_tokens'], padding='post', maxlen=MAX_SEQUENCE_LENGTH))\n",
        "tag_preds = [np.argmax(pred, axis=1) for pred in preds]\n",
        "truncated_preds = []\n",
        "for i in range(len(tag_preds)):\n",
        "    truncated_preds.append(tag_preds[i][:len(test['encoded_ner_tags'].iloc[i])])\n",
        "named_preds = []\n",
        "for i in truncated_preds:\n",
        "    named_preds.append([])\n",
        "    for j in i:\n",
        "        named_preds[-1].append(label_list[j])\n",
        "\n",
        "print(metrics.flat_classification_report(test['ner_tags'], named_preds, digits=4, labels=labels))"
      ],
      "execution_count": 54,
      "outputs": [
        {
          "output_type": "stream",
          "text": [
            "               precision    recall  f1-score   support\n",
            "\n",
            "B-GoodsString     0.1645    0.4941    0.2468      1109\n",
            "I-GoodsString     0.3562    0.3260    0.3404      1718\n",
            "\n",
            "    micro avg     0.2260    0.3919    0.2867      2827\n",
            "    macro avg     0.2604    0.4100    0.2936      2827\n",
            " weighted avg     0.2810    0.3919    0.3037      2827\n",
            "\n"
          ],
          "name": "stdout"
        }
      ]
    },
    {
      "cell_type": "markdown",
      "metadata": {
        "id": "s4nOcQoQ7r6Y"
      },
      "source": [
        "## W2V(fixed, window=25) + BILSTM + CRF"
      ]
    },
    {
      "cell_type": "code",
      "metadata": {
        "colab": {
          "base_uri": "https://localhost:8080/"
        },
        "id": "peH3Gg3p7gYa",
        "outputId": "c89406db-d834-4852-8bcc-d2934726bbbc"
      },
      "source": [
        "MAX_WORDS = len(w2v.wv.vocab)\n",
        "EMBEDDING_LENGTH = w2v.vector_size\n",
        "MAX_SEQUENCE_LENGTH = np.max(df['int_tokens'].apply(len))\n",
        "HIDDEN_SIZE = 50\n",
        "\n",
        "model_fixed_embeds = Sequential()\n",
        "model_fixed_embeds.add(Embedding(MAX_WORDS, EMBEDDING_LENGTH, input_length=MAX_SEQUENCE_LENGTH, mask_zero=False, weights=[w2v.wv.vectors], trainable=False))\n",
        "model_fixed_embeds.add(Bidirectional(LSTM(HIDDEN_SIZE, return_sequences=True)))\n",
        "model_fixed_embeds.add(TimeDistributed(Dense(len(label_list), activation=\"relu\")))\n",
        "crf = CRF(len(label_list), learn_mode='marginal')\n",
        "model_fixed_embeds.add(crf)\n",
        "\n",
        "model_fixed_embeds.compile(Adam(lr=0.005), loss=focal_loss(gamma=4), metrics=[crf_marginal_accuracy])\n",
        "model_fixed_embeds.summary()"
      ],
      "execution_count": 60,
      "outputs": [
        {
          "output_type": "stream",
          "text": [
            "Model: \"sequential_18\"\n",
            "_________________________________________________________________\n",
            "Layer (type)                 Output Shape              Param #   \n",
            "=================================================================\n",
            "embedding_18 (Embedding)     (None, 3004, 50)          424150    \n",
            "_________________________________________________________________\n",
            "bidirectional_18 (Bidirectio (None, 3004, 100)         40400     \n",
            "_________________________________________________________________\n",
            "time_distributed_18 (TimeDis (None, 3004, 3)           303       \n",
            "_________________________________________________________________\n",
            "crf_18 (CRF)                 (None, 3004, 3)           27        \n",
            "=================================================================\n",
            "Total params: 464,880\n",
            "Trainable params: 40,730\n",
            "Non-trainable params: 424,150\n",
            "_________________________________________________________________\n"
          ],
          "name": "stdout"
        }
      ]
    },
    {
      "cell_type": "code",
      "metadata": {
        "colab": {
          "base_uri": "https://localhost:8080/"
        },
        "id": "Ik-ulolE7gYb",
        "outputId": "489a5cbf-0d91-4cbc-918a-cd7581e08ace"
      },
      "source": [
        "callbacks = [EarlyStopping(monitor='val_crf_marginal_accuracy', patience=5),\n",
        "         ModelCheckpoint(filepath='window=25,best_model_fixed_embeds.h5', monitor='val_crf_marginal_accuracy', save_best_only=True)]\n",
        "\n",
        "x_train = pad_sequences(train['int_tokens'], padding='post', maxlen=MAX_SEQUENCE_LENGTH)\n",
        "y_train = pad_sequences(train['encoded_ner_tags'], padding='post', maxlen=MAX_SEQUENCE_LENGTH, value=tag_to_idx['O'])\n",
        "y_train = to_categorical(y_train, num_classes=len(label_list))\n",
        "history = model_fixed_embeds.fit(\n",
        "    x=x_train,\n",
        "    y=y_train,\n",
        "    epochs=30,\n",
        "    batch_size=1024,\n",
        "    callbacks=callbacks,\n",
        "    validation_split=0.1,\n",
        ")\n",
        "\n",
        "model.load_weights('window=25,best_model_fixed_embeds.h5')"
      ],
      "execution_count": 61,
      "outputs": [
        {
          "output_type": "stream",
          "text": [
            "Train on 857 samples, validate on 96 samples\n",
            "Epoch 1/30\n",
            "857/857 [==============================] - 16s 19ms/step - loss: 0.4207 - crf_marginal_accuracy: 0.9963 - val_loss: 0.2760 - val_crf_marginal_accuracy: 0.9959\n",
            "Epoch 2/30\n",
            "857/857 [==============================] - 13s 16ms/step - loss: 0.2712 - crf_marginal_accuracy: 0.9964 - val_loss: 0.2555 - val_crf_marginal_accuracy: 0.9958\n",
            "Epoch 3/30\n",
            "857/857 [==============================] - 13s 15ms/step - loss: 0.2507 - crf_marginal_accuracy: 0.9962 - val_loss: 0.2426 - val_crf_marginal_accuracy: 0.9952\n",
            "Epoch 4/30\n",
            "857/857 [==============================] - 13s 16ms/step - loss: 0.2371 - crf_marginal_accuracy: 0.9958 - val_loss: 0.2359 - val_crf_marginal_accuracy: 0.9944\n",
            "Epoch 5/30\n",
            "857/857 [==============================] - 13s 15ms/step - loss: 0.2296 - crf_marginal_accuracy: 0.9951 - val_loss: 0.2295 - val_crf_marginal_accuracy: 0.9944\n",
            "Epoch 6/30\n",
            "857/857 [==============================] - 13s 16ms/step - loss: 0.2232 - crf_marginal_accuracy: 0.9951 - val_loss: 0.2233 - val_crf_marginal_accuracy: 0.9950\n"
          ],
          "name": "stdout"
        }
      ]
    },
    {
      "cell_type": "code",
      "metadata": {
        "colab": {
          "base_uri": "https://localhost:8080/"
        },
        "id": "YmQt6txl7gYb",
        "outputId": "24df7269-6d56-4e1d-c3df-11844138c46f"
      },
      "source": [
        "preds = model_fixed_embeds.predict(pad_sequences(test['int_tokens'], padding='post', maxlen=MAX_SEQUENCE_LENGTH))\n",
        "tag_preds = [np.argmax(pred, axis=1) for pred in preds]\n",
        "truncated_preds = []\n",
        "for i in range(len(tag_preds)):\n",
        "    truncated_preds.append(tag_preds[i][:len(test['encoded_ner_tags'].iloc[i])])\n",
        "named_preds = []\n",
        "for i in truncated_preds:\n",
        "    named_preds.append([])\n",
        "    for j in i:\n",
        "        named_preds[-1].append(label_list[j])\n",
        "\n",
        "print(metrics.flat_classification_report(test['ner_tags'], named_preds, digits=4, labels=labels))"
      ],
      "execution_count": 62,
      "outputs": [
        {
          "output_type": "stream",
          "text": [
            "               precision    recall  f1-score   support\n",
            "\n",
            "B-GoodsString     0.2520    0.1452    0.1842      1109\n",
            "I-GoodsString     0.3482    0.2858    0.3139      1718\n",
            "\n",
            "    micro avg     0.3182    0.2306    0.2674      2827\n",
            "    macro avg     0.3001    0.2155    0.2491      2827\n",
            " weighted avg     0.3105    0.2306    0.2630      2827\n",
            "\n"
          ],
          "name": "stdout"
        }
      ]
    },
    {
      "cell_type": "markdown",
      "metadata": {
        "id": "CpLPjaElaOZH"
      },
      "source": [
        "\n",
        "## W2V(fixed, window=25) + CatBoost"
      ]
    },
    {
      "cell_type": "code",
      "metadata": {
        "id": "wywjpjwaeB_Z"
      },
      "source": [
        "w2v = Word2Vec(sentences=df['tokens'], size=30, window=25, min_count=2)\n",
        "w2v.train(sentences=df['tokens'], total_examples=w2v.corpus_count, epochs=30)\n",
        "for d in all_dfs:\n",
        "    d['int_tokens'] = d.apply(find_token, axis=1)"
      ],
      "execution_count": 13,
      "outputs": []
    },
    {
      "cell_type": "code",
      "metadata": {
        "colab": {
          "base_uri": "https://localhost:8080/"
        },
        "id": "iksvgnyyaOZH",
        "outputId": "4ec292b9-b662-428c-eb84-d92483addc1b"
      },
      "source": [
        "EMBEDDING_LENGTH = w2v.vector_size\n",
        "WINDOW_SIZE = 25\n",
        "catboost_x_train = []\n",
        "catboost_y_train = []\n",
        "\n",
        "def prepare_data_for_catboost(x):\n",
        "    tokenized_text = x['int_tokens']\n",
        "    for i, token in enumerate(tokenized_text):\n",
        "        catboost_x_train.append([])\n",
        "        for shift in range(WINDOW_SIZE):\n",
        "            if i - WINDOW_SIZE // 2 + shift < 0 or i - WINDOW_SIZE // 2 + shift >= len(tokenized_text) :\n",
        "                catboost_x_train[-1] += [0] * EMBEDDING_LENGTH\n",
        "            else:\n",
        "                catboost_x_train[-1] += list(w2v.wv.vectors[tokenized_text[i - WINDOW_SIZE // 2 + shift]])\n",
        "        catboost_y_train.append(tag_to_idx[x['ner_tags'][i]])\n",
        "\n",
        "\n",
        "train.apply(prepare_data_for_catboost, axis=1)\n"
      ],
      "execution_count": 14,
      "outputs": [
        {
          "output_type": "execute_result",
          "data": {
            "text/plain": [
              "0      None\n",
              "1      None\n",
              "2      None\n",
              "3      None\n",
              "4      None\n",
              "       ... \n",
              "948    None\n",
              "949    None\n",
              "950    None\n",
              "951    None\n",
              "952    None\n",
              "Length: 953, dtype: object"
            ]
          },
          "metadata": {
            "tags": []
          },
          "execution_count": 14
        }
      ]
    },
    {
      "cell_type": "code",
      "metadata": {
        "colab": {
          "base_uri": "https://localhost:8080/"
        },
        "id": "JgY_iTw6aOZI",
        "outputId": "5fbcefb9-aa7e-44fd-874a-28f3633ea274"
      },
      "source": [
        "EMBEDDING_LENGTH = w2v.vector_size\n",
        "WINDOW_SIZE = 25\n",
        "catboost_x_test = []\n",
        "catboost_y_test = []\n",
        "\n",
        "def prepare_data_for_catboost(x):\n",
        "    tokenized_text = x['int_tokens']\n",
        "    for i, token in enumerate(tokenized_text):\n",
        "        catboost_x_test.append([])\n",
        "        for shift in range(WINDOW_SIZE):\n",
        "            if i - WINDOW_SIZE // 2 + shift < 0 or i - WINDOW_SIZE // 2 + shift >= len(tokenized_text) :\n",
        "                catboost_x_test[-1] += [0] * EMBEDDING_LENGTH\n",
        "            else:\n",
        "                catboost_x_test[-1] += list(w2v.wv.vectors[tokenized_text[i - WINDOW_SIZE // 2 + shift]])\n",
        "        catboost_y_test.append(tag_to_idx[x['ner_tags'][i]])\n",
        "\n",
        "\n",
        "test.apply(prepare_data_for_catboost, axis=1)"
      ],
      "execution_count": 15,
      "outputs": [
        {
          "output_type": "execute_result",
          "data": {
            "text/plain": [
              "0      None\n",
              "1      None\n",
              "2      None\n",
              "3      None\n",
              "4      None\n",
              "       ... \n",
              "234    None\n",
              "235    None\n",
              "236    None\n",
              "237    None\n",
              "238    None\n",
              "Length: 239, dtype: object"
            ]
          },
          "metadata": {
            "tags": []
          },
          "execution_count": 15
        }
      ]
    },
    {
      "cell_type": "code",
      "metadata": {
        "id": "4jsvElhRaOZI"
      },
      "source": [
        "cb = CatBoostClassifier(verbose=False, task_type=\"GPU\", class_weights=[1, 1, 0.3], iterations=10000)\n",
        "cb.fit(catboost_x_train, catboost_y_train)\n",
        "pred = cb.predict(catboost_x_test)"
      ],
      "execution_count": 16,
      "outputs": []
    },
    {
      "cell_type": "code",
      "metadata": {
        "colab": {
          "base_uri": "https://localhost:8080/"
        },
        "id": "ZsP5GT8daOZI",
        "outputId": "30c236c4-cba3-41e7-f41a-17f780fb8402"
      },
      "source": [
        "print(metrics.flat_classification_report(\n",
        "    np.array([label_list[i] for i in catboost_y_test])[..., np.newaxis, np.newaxis], \n",
        "    np.array([label_list[i] for i in pred[:, 0]])[..., np.newaxis, np.newaxis], \n",
        "    digits=4, \n",
        "    labels=labels))"
      ],
      "execution_count": 17,
      "outputs": [
        {
          "output_type": "stream",
          "text": [
            "               precision    recall  f1-score   support\n",
            "\n",
            "B-GoodsString     0.9378    0.9116    0.9246      1109\n",
            "I-GoodsString     0.9098    0.8865    0.8980      1718\n",
            "\n",
            "    micro avg     0.9208    0.8964    0.9084      2827\n",
            "    macro avg     0.9238    0.8991    0.9113      2827\n",
            " weighted avg     0.9208    0.8964    0.9084      2827\n",
            "\n"
          ],
          "name": "stdout"
        }
      ]
    },
    {
      "cell_type": "markdown",
      "metadata": {
        "id": "rAsUlkf-ap4n"
      },
      "source": [
        "## GLOVE (not fixed) + BILSTM + CRF"
      ]
    },
    {
      "cell_type": "code",
      "metadata": {
        "colab": {
          "base_uri": "https://localhost:8080/"
        },
        "id": "LNrzxYz3ar3x",
        "outputId": "54304f35-15fc-449b-98f8-3e95281cf9f8"
      },
      "source": [
        "def find_glove_token(x):\n",
        "    res = []\n",
        "    for w in x['tokens']:\n",
        "        if w in glove.dictionary.keys():\n",
        "            res.append(glove.dictionary[w])\n",
        "        else:\n",
        "            res.append(0)\n",
        "    return res\n",
        "\n",
        "#Creating a corpus object\n",
        "corpus = Corpus() \n",
        "\n",
        "#Training the corpus to generate the co occurence matrix which is used in GloVe\n",
        "corpus.fit(df['tokens'], window=5)\n",
        "\n",
        "glove = Glove(no_components=50, learning_rate=0.05) \n",
        "glove.fit(corpus.matrix, epochs=30, no_threads=8, verbose=True)\n",
        "glove.add_dictionary(corpus.dictionary)\n",
        "glove.save('glove.model')\n",
        "\n",
        "for d in all_dfs:\n",
        "    d['encoded_ner_tags'] = d.apply(lambda x: [tag_to_idx[t] for t in x['ner_tags']], axis=1)\n",
        "    d['int_tokens'] = d.apply(find_glove_token, axis=1)"
      ],
      "execution_count": 31,
      "outputs": [
        {
          "output_type": "stream",
          "text": [
            "Performing 30 training epochs with 8 threads\n",
            "Epoch 0\n",
            "Epoch 1\n",
            "Epoch 2\n",
            "Epoch 3\n",
            "Epoch 4\n",
            "Epoch 5\n",
            "Epoch 6\n",
            "Epoch 7\n",
            "Epoch 8\n",
            "Epoch 9\n",
            "Epoch 10\n",
            "Epoch 11\n",
            "Epoch 12\n",
            "Epoch 13\n",
            "Epoch 14\n",
            "Epoch 15\n",
            "Epoch 16\n",
            "Epoch 17\n",
            "Epoch 18\n",
            "Epoch 19\n",
            "Epoch 20\n",
            "Epoch 21\n",
            "Epoch 22\n",
            "Epoch 23\n",
            "Epoch 24\n",
            "Epoch 25\n",
            "Epoch 26\n",
            "Epoch 27\n",
            "Epoch 28\n",
            "Epoch 29\n"
          ],
          "name": "stdout"
        }
      ]
    },
    {
      "cell_type": "code",
      "metadata": {
        "colab": {
          "base_uri": "https://localhost:8080/"
        },
        "id": "HtUIADA6a6h-",
        "outputId": "59073a71-68fd-4c4b-9041-c2017ede4d4a"
      },
      "source": [
        "MAX_WORDS = len(glove.dictionary)\n",
        "EMBEDDING_LENGTH = glove.no_components\n",
        "MAX_SEQUENCE_LENGTH = np.max(df['int_tokens'].apply(len))\n",
        "HIDDEN_SIZE = 50\n",
        "\n",
        "model = Sequential()\n",
        "model.add(Embedding(MAX_WORDS, EMBEDDING_LENGTH, input_length=MAX_SEQUENCE_LENGTH, mask_zero=False, weights=[glove.word_vectors], trainable=True))\n",
        "model.add(Bidirectional(LSTM(HIDDEN_SIZE, return_sequences=True)))\n",
        "model.add(TimeDistributed(Dense(len(label_list), activation=\"relu\")))\n",
        "crf = CRF(len(label_list), learn_mode='marginal')\n",
        "model.add(crf)\n",
        "\n",
        "model.compile(Adam(lr=0.01), loss=focal_loss(), metrics=[crf_marginal_accuracy])\n",
        "model.summary()"
      ],
      "execution_count": null,
      "outputs": [
        {
          "output_type": "stream",
          "text": [
            "WARNING:tensorflow:From /usr/local/lib/python3.7/dist-packages/keras/optimizers.py:790: The name tf.train.Optimizer is deprecated. Please use tf.compat.v1.train.Optimizer instead.\n",
            "\n",
            "_________________________________________________________________\n",
            "Layer (type)                 Output Shape              Param #   \n",
            "=================================================================\n",
            "embedding_2 (Embedding)      (None, 3004, 50)          618050    \n",
            "_________________________________________________________________\n",
            "bidirectional_2 (Bidirection (None, 3004, 100)         40400     \n",
            "_________________________________________________________________\n",
            "time_distributed_2 (TimeDist (None, 3004, 3)           303       \n",
            "_________________________________________________________________\n",
            "crf_2 (CRF)                  (None, 3004, 3)           27        \n",
            "=================================================================\n",
            "Total params: 658,780\n",
            "Trainable params: 658,780\n",
            "Non-trainable params: 0\n",
            "_________________________________________________________________\n"
          ],
          "name": "stdout"
        }
      ]
    },
    {
      "cell_type": "code",
      "metadata": {
        "colab": {
          "base_uri": "https://localhost:8080/"
        },
        "id": "hTxAndSBa6iK",
        "outputId": "3ba5b880-ec78-4cf9-a90e-c718f320e8b0"
      },
      "source": [
        "callbacks = [EarlyStopping(monitor='val_crf_marginal_accuracy', patience=5),\n",
        "         ModelCheckpoint(filepath='not_pretrained_glove_best_model.h5', monitor='val_crf_marginal_accuracy', save_best_only=True)]\n",
        "\n",
        "x_train = pad_sequences(train['int_tokens'], padding='post', maxlen=MAX_SEQUENCE_LENGTH)\n",
        "y_train = pad_sequences(train['encoded_ner_tags'], padding='post', maxlen=MAX_SEQUENCE_LENGTH, value=tag_to_idx['O'])\n",
        "y_train = to_categorical(y_train, num_classes=len(label_list))\n",
        "history = model.fit(\n",
        "    x=x_train,\n",
        "    y=y_train,\n",
        "    epochs=30,\n",
        "    batch_size=128,\n",
        "    callbacks=callbacks,\n",
        "    validation_split=0.1,\n",
        ")\n",
        "\n",
        "model.load_weights('not_pretrained_glove_best_model.h5')"
      ],
      "execution_count": null,
      "outputs": [
        {
          "output_type": "stream",
          "text": [
            "WARNING:tensorflow:From /usr/local/lib/python3.7/dist-packages/keras/backend/tensorflow_backend.py:133: The name tf.placeholder_with_default is deprecated. Please use tf.compat.v1.placeholder_with_default instead.\n",
            "\n",
            "WARNING:tensorflow:From /usr/local/lib/python3.7/dist-packages/keras/backend/tensorflow_backend.py:986: The name tf.assign_add is deprecated. Please use tf.compat.v1.assign_add instead.\n",
            "\n",
            "WARNING:tensorflow:From /usr/local/lib/python3.7/dist-packages/keras/backend/tensorflow_backend.py:973: The name tf.assign is deprecated. Please use tf.compat.v1.assign instead.\n",
            "\n",
            "Train on 857 samples, validate on 96 samples\n",
            "Epoch 1/30\n",
            "857/857 [==============================] - 89s 104ms/step - loss: 0.6272 - crf_marginal_accuracy: 0.9930 - val_loss: 0.4888 - val_crf_marginal_accuracy: 0.9963\n",
            "Epoch 2/30\n",
            "857/857 [==============================] - 86s 100ms/step - loss: 0.4588 - crf_marginal_accuracy: 0.9936 - val_loss: 0.4634 - val_crf_marginal_accuracy: 0.9964\n",
            "Epoch 3/30\n",
            "857/857 [==============================] - 86s 100ms/step - loss: 0.4333 - crf_marginal_accuracy: 0.9970 - val_loss: 0.4511 - val_crf_marginal_accuracy: 0.9967\n",
            "Epoch 4/30\n",
            "857/857 [==============================] - 86s 100ms/step - loss: 0.3979 - crf_marginal_accuracy: 0.9973 - val_loss: 0.4313 - val_crf_marginal_accuracy: 0.9969\n",
            "Epoch 5/30\n",
            "857/857 [==============================] - 86s 100ms/step - loss: 0.3423 - crf_marginal_accuracy: 0.9977 - val_loss: 0.4080 - val_crf_marginal_accuracy: 0.9973\n",
            "Epoch 6/30\n",
            "857/857 [==============================] - 88s 102ms/step - loss: 0.2862 - crf_marginal_accuracy: 0.9982 - val_loss: 0.3913 - val_crf_marginal_accuracy: 0.9978\n",
            "Epoch 7/30\n",
            "857/857 [==============================] - 86s 101ms/step - loss: 0.2469 - crf_marginal_accuracy: 0.9985 - val_loss: 0.3634 - val_crf_marginal_accuracy: 0.9983\n",
            "Epoch 8/30\n",
            "857/857 [==============================] - 87s 102ms/step - loss: 0.1953 - crf_marginal_accuracy: 0.9990 - val_loss: 0.3370 - val_crf_marginal_accuracy: 0.9987\n",
            "Epoch 9/30\n",
            "857/857 [==============================] - 88s 103ms/step - loss: 0.1507 - crf_marginal_accuracy: 0.9994 - val_loss: 0.3280 - val_crf_marginal_accuracy: 0.9988\n",
            "Epoch 10/30\n",
            "857/857 [==============================] - 87s 102ms/step - loss: 0.1160 - crf_marginal_accuracy: 0.9997 - val_loss: 0.3239 - val_crf_marginal_accuracy: 0.9990\n",
            "Epoch 11/30\n",
            "857/857 [==============================] - 86s 100ms/step - loss: 0.0869 - crf_marginal_accuracy: 0.9998 - val_loss: 0.3280 - val_crf_marginal_accuracy: 0.9990\n",
            "Epoch 12/30\n",
            "857/857 [==============================] - 85s 99ms/step - loss: 0.0618 - crf_marginal_accuracy: 0.9999 - val_loss: 0.3355 - val_crf_marginal_accuracy: 0.9991\n",
            "Epoch 13/30\n",
            "857/857 [==============================] - 87s 101ms/step - loss: 0.0449 - crf_marginal_accuracy: 0.9999 - val_loss: 0.3476 - val_crf_marginal_accuracy: 0.9992\n",
            "Epoch 14/30\n",
            "857/857 [==============================] - 85s 99ms/step - loss: 0.0317 - crf_marginal_accuracy: 0.9999 - val_loss: 0.3802 - val_crf_marginal_accuracy: 0.9992\n",
            "Epoch 15/30\n",
            "857/857 [==============================] - 85s 99ms/step - loss: 0.0257 - crf_marginal_accuracy: 0.9999 - val_loss: 0.3844 - val_crf_marginal_accuracy: 0.9992\n",
            "Epoch 16/30\n",
            "857/857 [==============================] - 86s 100ms/step - loss: 0.0222 - crf_marginal_accuracy: 1.0000 - val_loss: 0.3878 - val_crf_marginal_accuracy: 0.9992\n",
            "Epoch 17/30\n",
            "857/857 [==============================] - 86s 100ms/step - loss: 0.0184 - crf_marginal_accuracy: 1.0000 - val_loss: 0.4099 - val_crf_marginal_accuracy: 0.9992\n",
            "Epoch 18/30\n",
            "857/857 [==============================] - 86s 100ms/step - loss: 0.0150 - crf_marginal_accuracy: 1.0000 - val_loss: 0.4020 - val_crf_marginal_accuracy: 0.9993\n",
            "Epoch 19/30\n",
            "857/857 [==============================] - 84s 98ms/step - loss: 0.0129 - crf_marginal_accuracy: 1.0000 - val_loss: 0.4173 - val_crf_marginal_accuracy: 0.9992\n",
            "Epoch 20/30\n",
            "857/857 [==============================] - 85s 99ms/step - loss: 0.0092 - crf_marginal_accuracy: 1.0000 - val_loss: 0.4032 - val_crf_marginal_accuracy: 0.9993\n",
            "Epoch 21/30\n",
            "857/857 [==============================] - 85s 99ms/step - loss: 0.0081 - crf_marginal_accuracy: 1.0000 - val_loss: 0.4399 - val_crf_marginal_accuracy: 0.9993\n",
            "Epoch 22/30\n",
            "857/857 [==============================] - 84s 98ms/step - loss: 0.0075 - crf_marginal_accuracy: 1.0000 - val_loss: 0.4624 - val_crf_marginal_accuracy: 0.9992\n",
            "Epoch 23/30\n",
            "857/857 [==============================] - 84s 98ms/step - loss: 0.0070 - crf_marginal_accuracy: 1.0000 - val_loss: 0.4771 - val_crf_marginal_accuracy: 0.9992\n",
            "Epoch 24/30\n",
            "857/857 [==============================] - 84s 98ms/step - loss: 0.0068 - crf_marginal_accuracy: 1.0000 - val_loss: 0.4615 - val_crf_marginal_accuracy: 0.9992\n",
            "Epoch 25/30\n",
            "857/857 [==============================] - 85s 99ms/step - loss: 0.0068 - crf_marginal_accuracy: 1.0000 - val_loss: 0.4605 - val_crf_marginal_accuracy: 0.9993\n"
          ],
          "name": "stdout"
        }
      ]
    },
    {
      "cell_type": "code",
      "metadata": {
        "colab": {
          "base_uri": "https://localhost:8080/"
        },
        "id": "9fQo3JKAa6iL",
        "outputId": "694b0e81-a541-4e8d-ca86-ab3df77b2344"
      },
      "source": [
        "preds = model.predict(pad_sequences(test['int_tokens'], padding='post', maxlen=MAX_SEQUENCE_LENGTH))\n",
        "tag_preds = [np.argmax(pred, axis=1) for pred in preds]\n",
        "truncated_preds = []\n",
        "for i in range(len(tag_preds)):\n",
        "    truncated_preds.append(tag_preds[i][:len(test['encoded_ner_tags'].iloc[i])])\n",
        "named_preds = []\n",
        "for i in truncated_preds:\n",
        "    named_preds.append([])\n",
        "    for j in i:\n",
        "        named_preds[-1].append(label_list[j])\n",
        "\n",
        "print(metrics.flat_classification_report(test['ner_tags'], named_preds, digits=4, labels=labels))"
      ],
      "execution_count": null,
      "outputs": [
        {
          "output_type": "stream",
          "text": [
            "               precision    recall  f1-score   support\n",
            "\n",
            "B-GoodsString     0.9172    0.8693    0.8926      1109\n",
            "I-GoodsString     0.8951    0.8737    0.8842      1718\n",
            "\n",
            "    micro avg     0.9036    0.8719    0.8875      2827\n",
            "    macro avg     0.9061    0.8715    0.8884      2827\n",
            " weighted avg     0.9037    0.8719    0.8875      2827\n",
            "\n"
          ],
          "name": "stdout"
        }
      ]
    },
    {
      "cell_type": "markdown",
      "metadata": {
        "id": "K0LPCsrMoJYm"
      },
      "source": [
        "## GLOVE (fixed) + BILSTM + CRF"
      ]
    },
    {
      "cell_type": "code",
      "metadata": {
        "colab": {
          "base_uri": "https://localhost:8080/"
        },
        "id": "W7KzsnJxvbDN",
        "outputId": "5451f165-f262-481f-dc9d-a7d8b89750b4"
      },
      "source": [
        "MAX_WORDS = len(glove.dictionary)\n",
        "EMBEDDING_LENGTH = glove.no_components\n",
        "MAX_SEQUENCE_LENGTH = np.max(df['int_tokens'].apply(len))\n",
        "HIDDEN_SIZE = 50\n",
        "\n",
        "model_fixed_embeds = Sequential()\n",
        "model_fixed_embeds.add(Embedding(MAX_WORDS, EMBEDDING_LENGTH, input_length=MAX_SEQUENCE_LENGTH, mask_zero=False, weights=[glove.word_vectors], trainable=False))\n",
        "model_fixed_embeds.add(Bidirectional(LSTM(HIDDEN_SIZE, return_sequences=True)))\n",
        "model_fixed_embeds.add(TimeDistributed(Dense(len(label_list), activation=\"relu\")))\n",
        "crf = CRF(len(label_list), learn_mode='marginal')\n",
        "model_fixed_embeds.add(crf)\n",
        "\n",
        "model_fixed_embeds.compile(Adam(lr=0.01), loss=focal_loss(gamma=4), metrics=[crf_marginal_accuracy])\n",
        "model_fixed_embeds.summary()"
      ],
      "execution_count": 51,
      "outputs": [
        {
          "output_type": "stream",
          "text": [
            "Model: \"sequential_17\"\n",
            "_________________________________________________________________\n",
            "Layer (type)                 Output Shape              Param #   \n",
            "=================================================================\n",
            "embedding_17 (Embedding)     (None, 3004, 50)          618050    \n",
            "_________________________________________________________________\n",
            "bidirectional_17 (Bidirectio (None, 3004, 100)         40400     \n",
            "_________________________________________________________________\n",
            "time_distributed_17 (TimeDis (None, 3004, 3)           303       \n",
            "_________________________________________________________________\n",
            "crf_17 (CRF)                 (None, 3004, 3)           27        \n",
            "=================================================================\n",
            "Total params: 658,780\n",
            "Trainable params: 40,730\n",
            "Non-trainable params: 618,050\n",
            "_________________________________________________________________\n"
          ],
          "name": "stdout"
        }
      ]
    },
    {
      "cell_type": "code",
      "metadata": {
        "colab": {
          "base_uri": "https://localhost:8080/"
        },
        "id": "rE_R3XoqvbDP",
        "outputId": "17f72467-80a4-4e70-adf7-c473f2ca8e40"
      },
      "source": [
        "callbacks = [EarlyStopping(monitor='val_crf_marginal_accuracy', patience=10),\n",
        "         ModelCheckpoint(filepath='not_pretrained_glove_best_model_fixed_embeds.h5', monitor='val_crf_marginal_accuracy', save_best_only=True)]\n",
        "\n",
        "x_train = pad_sequences(train['int_tokens'], padding='post', maxlen=MAX_SEQUENCE_LENGTH)\n",
        "y_train = pad_sequences(train['encoded_ner_tags'], padding='post', maxlen=MAX_SEQUENCE_LENGTH, value=tag_to_idx['O'])\n",
        "y_train = to_categorical(y_train, num_classes=len(label_list))\n",
        "history = model_fixed_embeds.fit(\n",
        "    x=x_train,\n",
        "    y=y_train,\n",
        "    epochs=30,\n",
        "    batch_size=1024,\n",
        "    callbacks=callbacks,\n",
        "    validation_split=0.1,\n",
        ")\n",
        "\n",
        "model_fixed_embeds.load_weights('not_pretrained_glove_best_model_fixed_embeds.h5')"
      ],
      "execution_count": 52,
      "outputs": [
        {
          "output_type": "stream",
          "text": [
            "Train on 857 samples, validate on 96 samples\n",
            "Epoch 1/30\n",
            "857/857 [==============================] - 16s 18ms/step - loss: 0.4335 - crf_marginal_accuracy: 0.9966 - val_loss: 0.3496 - val_crf_marginal_accuracy: 0.9962\n",
            "Epoch 2/30\n",
            "857/857 [==============================] - 13s 15ms/step - loss: 0.3380 - crf_marginal_accuracy: 0.9966 - val_loss: 0.4887 - val_crf_marginal_accuracy: 0.9593\n",
            "Epoch 3/30\n",
            "857/857 [==============================] - 13s 15ms/step - loss: 0.4741 - crf_marginal_accuracy: 0.9637 - val_loss: 0.2706 - val_crf_marginal_accuracy: 0.9870\n",
            "Epoch 4/30\n",
            "857/857 [==============================] - 13s 15ms/step - loss: 0.2655 - crf_marginal_accuracy: 0.9887 - val_loss: 0.2767 - val_crf_marginal_accuracy: 0.9962\n",
            "Epoch 5/30\n",
            "857/857 [==============================] - 13s 15ms/step - loss: 0.2712 - crf_marginal_accuracy: 0.9966 - val_loss: 0.2876 - val_crf_marginal_accuracy: 0.9962\n",
            "Epoch 6/30\n",
            "857/857 [==============================] - 13s 15ms/step - loss: 0.2818 - crf_marginal_accuracy: 0.9964 - val_loss: 0.2663 - val_crf_marginal_accuracy: 0.9962\n",
            "Epoch 7/30\n",
            "857/857 [==============================] - 13s 15ms/step - loss: 0.2606 - crf_marginal_accuracy: 0.9962 - val_loss: 0.2410 - val_crf_marginal_accuracy: 0.9966\n",
            "Epoch 8/30\n",
            "857/857 [==============================] - 13s 15ms/step - loss: 0.2361 - crf_marginal_accuracy: 0.9963 - val_loss: 0.2348 - val_crf_marginal_accuracy: 0.9934\n",
            "Epoch 9/30\n",
            "857/857 [==============================] - 13s 15ms/step - loss: 0.2299 - crf_marginal_accuracy: 0.9934 - val_loss: 0.2394 - val_crf_marginal_accuracy: 0.9845\n",
            "Epoch 10/30\n",
            "857/857 [==============================] - 13s 15ms/step - loss: 0.2341 - crf_marginal_accuracy: 0.9866 - val_loss: 0.2392 - val_crf_marginal_accuracy: 0.9816\n",
            "Epoch 11/30\n",
            "857/857 [==============================] - 13s 15ms/step - loss: 0.2339 - crf_marginal_accuracy: 0.9840 - val_loss: 0.2326 - val_crf_marginal_accuracy: 0.9850\n",
            "Epoch 12/30\n",
            "857/857 [==============================] - 13s 15ms/step - loss: 0.2269 - crf_marginal_accuracy: 0.9863 - val_loss: 0.2249 - val_crf_marginal_accuracy: 0.9905\n",
            "Epoch 13/30\n",
            "857/857 [==============================] - 13s 15ms/step - loss: 0.2187 - crf_marginal_accuracy: 0.9905 - val_loss: 0.2197 - val_crf_marginal_accuracy: 0.9942\n",
            "Epoch 14/30\n",
            "857/857 [==============================] - 13s 15ms/step - loss: 0.2131 - crf_marginal_accuracy: 0.9940 - val_loss: 0.2176 - val_crf_marginal_accuracy: 0.9954\n",
            "Epoch 15/30\n",
            "857/857 [==============================] - 13s 15ms/step - loss: 0.2106 - crf_marginal_accuracy: 0.9955 - val_loss: 0.2174 - val_crf_marginal_accuracy: 0.9961\n",
            "Epoch 16/30\n",
            "857/857 [==============================] - 13s 15ms/step - loss: 0.2103 - crf_marginal_accuracy: 0.9963 - val_loss: 0.2173 - val_crf_marginal_accuracy: 0.9962\n",
            "Epoch 17/30\n",
            "857/857 [==============================] - 13s 15ms/step - loss: 0.2101 - crf_marginal_accuracy: 0.9966 - val_loss: 0.2165 - val_crf_marginal_accuracy: 0.9962\n"
          ],
          "name": "stdout"
        }
      ]
    },
    {
      "cell_type": "code",
      "metadata": {
        "colab": {
          "base_uri": "https://localhost:8080/"
        },
        "id": "SRQU0DDgvbDQ",
        "outputId": "01eb1183-e55e-456f-aad3-af9f15075534"
      },
      "source": [
        "preds = model_fixed_embeds.predict(pad_sequences(test['int_tokens'], padding='post', maxlen=MAX_SEQUENCE_LENGTH))\n",
        "tag_preds = [np.argmax(pred, axis=1) for pred in preds]\n",
        "truncated_preds = []\n",
        "for i in range(len(tag_preds)):\n",
        "    truncated_preds.append(tag_preds[i][:len(test['encoded_ner_tags'].iloc[i])])\n",
        "named_preds = []\n",
        "for i in truncated_preds:\n",
        "    named_preds.append([])\n",
        "    for j in i:\n",
        "        named_preds[-1].append(label_list[j])\n",
        "\n",
        "print(metrics.flat_classification_report(test['ner_tags'], named_preds, digits=4, labels=labels))"
      ],
      "execution_count": 53,
      "outputs": [
        {
          "output_type": "stream",
          "text": [
            "               precision    recall  f1-score   support\n",
            "\n",
            "B-GoodsString     0.0251    0.0153    0.0190      1109\n",
            "I-GoodsString     0.6494    0.3277    0.4356      1718\n",
            "\n",
            "    micro avg     0.3756    0.2052    0.2654      2827\n",
            "    macro avg     0.3372    0.1715    0.2273      2827\n",
            " weighted avg     0.4045    0.2052    0.2722      2827\n",
            "\n"
          ],
          "name": "stdout"
        }
      ]
    },
    {
      "cell_type": "markdown",
      "metadata": {
        "id": "nvYtfwsNzuZd"
      },
      "source": [
        "## GLOVE (fixed, window=5) + CatBoost"
      ]
    },
    {
      "cell_type": "code",
      "metadata": {
        "colab": {
          "base_uri": "https://localhost:8080/"
        },
        "id": "7pCZ2NJ_zfvQ",
        "outputId": "eb520088-a242-4f0a-b854-ae591795b924"
      },
      "source": [
        "EMBEDDING_LENGTH = glove.no_components\n",
        "WINDOW_SIZE = 5\n",
        "catboost_x_train = []\n",
        "catboost_y_train = []\n",
        "\n",
        "def prepare_data_for_catboost(x):\n",
        "    tokenized_text = x['int_tokens']\n",
        "    for i, token in enumerate(tokenized_text):\n",
        "        catboost_x_train.append([])\n",
        "        for shift in range(WINDOW_SIZE):\n",
        "            if i - WINDOW_SIZE // 2 + shift < 0 or i - WINDOW_SIZE // 2 + shift >= len(tokenized_text) :\n",
        "                catboost_x_train[-1] += [0] * EMBEDDING_LENGTH\n",
        "            else:\n",
        "                catboost_x_train[-1] += list(glove.word_vectors[tokenized_text[i - WINDOW_SIZE // 2 + shift]])\n",
        "        catboost_y_train.append(tag_to_idx[x['ner_tags'][i]])\n",
        "\n",
        "train.apply(prepare_data_for_catboost, axis=1)"
      ],
      "execution_count": 20,
      "outputs": [
        {
          "output_type": "execute_result",
          "data": {
            "text/plain": [
              "0      None\n",
              "1      None\n",
              "2      None\n",
              "3      None\n",
              "4      None\n",
              "       ... \n",
              "948    None\n",
              "949    None\n",
              "950    None\n",
              "951    None\n",
              "952    None\n",
              "Length: 953, dtype: object"
            ]
          },
          "metadata": {
            "tags": []
          },
          "execution_count": 20
        }
      ]
    },
    {
      "cell_type": "code",
      "metadata": {
        "colab": {
          "base_uri": "https://localhost:8080/"
        },
        "id": "cJlUl4tnzfvb",
        "outputId": "ae121cec-4151-4333-e07c-3123452665d1"
      },
      "source": [
        "EMBEDDING_LENGTH = glove.no_components\n",
        "WINDOW_SIZE = 5\n",
        "catboost_x_test = []\n",
        "catboost_y_test = []\n",
        "\n",
        "def prepare_data_for_catboost(x):\n",
        "    tokenized_text = x['int_tokens']\n",
        "    for i, token in enumerate(tokenized_text):\n",
        "        catboost_x_test.append([])\n",
        "        for shift in range(WINDOW_SIZE):\n",
        "            if i - WINDOW_SIZE // 2 + shift < 0 or i - WINDOW_SIZE // 2 + shift >= len(tokenized_text) :\n",
        "                catboost_x_test[-1] += [0] * EMBEDDING_LENGTH\n",
        "            else:\n",
        "                catboost_x_test[-1] += list(glove.word_vectors[tokenized_text[i - WINDOW_SIZE // 2 + shift]])\n",
        "        catboost_y_test.append(tag_to_idx[x['ner_tags'][i]])\n",
        "\n",
        "\n",
        "test.apply(prepare_data_for_catboost, axis=1)"
      ],
      "execution_count": 21,
      "outputs": [
        {
          "output_type": "execute_result",
          "data": {
            "text/plain": [
              "0      None\n",
              "1      None\n",
              "2      None\n",
              "3      None\n",
              "4      None\n",
              "       ... \n",
              "234    None\n",
              "235    None\n",
              "236    None\n",
              "237    None\n",
              "238    None\n",
              "Length: 239, dtype: object"
            ]
          },
          "metadata": {
            "tags": []
          },
          "execution_count": 21
        }
      ]
    },
    {
      "cell_type": "code",
      "metadata": {
        "id": "m_-CTKgczfvb"
      },
      "source": [
        "cb = CatBoostClassifier(verbose=False, task_type=\"GPU\", class_weights=[1, 1, 0.3], iterations=1000)\n",
        "cb.fit(catboost_x_train, catboost_y_train)\n",
        "pred = cb.predict(catboost_x_test)"
      ],
      "execution_count": 22,
      "outputs": []
    },
    {
      "cell_type": "code",
      "metadata": {
        "colab": {
          "base_uri": "https://localhost:8080/"
        },
        "id": "HBN8OPD0zfvb",
        "outputId": "341a378c-33d8-48bc-f227-e453d047cb42"
      },
      "source": [
        "print(metrics.flat_classification_report(\n",
        "    np.array([label_list[i] for i in catboost_y_test])[..., np.newaxis, np.newaxis], \n",
        "    np.array([label_list[i] for i in pred[:, 0]])[..., np.newaxis, np.newaxis], \n",
        "    digits=4, \n",
        "    labels=labels))"
      ],
      "execution_count": 23,
      "outputs": [
        {
          "output_type": "stream",
          "text": [
            "               precision    recall  f1-score   support\n",
            "\n",
            "B-GoodsString     0.8959    0.8999    0.8979      1109\n",
            "I-GoodsString     0.8666    0.8731    0.8698      1718\n",
            "\n",
            "    micro avg     0.8780    0.8836    0.8808      2827\n",
            "    macro avg     0.8812    0.8865    0.8839      2827\n",
            " weighted avg     0.8781    0.8836    0.8808      2827\n",
            "\n"
          ],
          "name": "stdout"
        }
      ]
    },
    {
      "cell_type": "markdown",
      "metadata": {
        "id": "-mj6XiDy65yt"
      },
      "source": [
        "## GLOVE (fixed, window=10) + CatBoost"
      ]
    },
    {
      "cell_type": "code",
      "metadata": {
        "colab": {
          "base_uri": "https://localhost:8080/"
        },
        "id": "8r-ARNPS61Ib",
        "outputId": "b597a311-22d6-47c4-df8d-11033bfb9faa"
      },
      "source": [
        "from glove import Corpus, Glove\n",
        "\n",
        "#Creating a corpus object\n",
        "corpus = Corpus() \n",
        "\n",
        "#Training the corpus to generate the co occurence matrix which is used in GloVe\n",
        "corpus.fit(df['tokens'], window=10)\n",
        "\n",
        "glove = Glove(no_components=50, learning_rate=0.05) \n",
        "glove.fit(corpus.matrix, epochs=100, no_threads=8, verbose=True)\n",
        "glove.add_dictionary(corpus.dictionary)\n",
        "\n",
        "for d in all_dfs:\n",
        "    d['encoded_ner_tags'] = d.apply(lambda x: [tag_to_idx[t] for t in x['ner_tags']], axis=1)\n",
        "    d['int_tokens'] = d.apply(find_glove_token, axis=1)"
      ],
      "execution_count": 24,
      "outputs": [
        {
          "output_type": "stream",
          "text": [
            "Performing 100 training epochs with 8 threads\n",
            "Epoch 0\n",
            "Epoch 1\n",
            "Epoch 2\n",
            "Epoch 3\n",
            "Epoch 4\n",
            "Epoch 5\n",
            "Epoch 6\n",
            "Epoch 7\n",
            "Epoch 8\n",
            "Epoch 9\n",
            "Epoch 10\n",
            "Epoch 11\n",
            "Epoch 12\n",
            "Epoch 13\n",
            "Epoch 14\n",
            "Epoch 15\n",
            "Epoch 16\n",
            "Epoch 17\n",
            "Epoch 18\n",
            "Epoch 19\n",
            "Epoch 20\n",
            "Epoch 21\n",
            "Epoch 22\n",
            "Epoch 23\n",
            "Epoch 24\n",
            "Epoch 25\n",
            "Epoch 26\n",
            "Epoch 27\n",
            "Epoch 28\n",
            "Epoch 29\n",
            "Epoch 30\n",
            "Epoch 31\n",
            "Epoch 32\n",
            "Epoch 33\n",
            "Epoch 34\n",
            "Epoch 35\n",
            "Epoch 36\n",
            "Epoch 37\n",
            "Epoch 38\n",
            "Epoch 39\n",
            "Epoch 40\n",
            "Epoch 41\n",
            "Epoch 42\n",
            "Epoch 43\n",
            "Epoch 44\n",
            "Epoch 45\n",
            "Epoch 46\n",
            "Epoch 47\n",
            "Epoch 48\n",
            "Epoch 49\n",
            "Epoch 50\n",
            "Epoch 51\n",
            "Epoch 52\n",
            "Epoch 53\n",
            "Epoch 54\n",
            "Epoch 55\n",
            "Epoch 56\n",
            "Epoch 57\n",
            "Epoch 58\n",
            "Epoch 59\n",
            "Epoch 60\n",
            "Epoch 61\n",
            "Epoch 62\n",
            "Epoch 63\n",
            "Epoch 64\n",
            "Epoch 65\n",
            "Epoch 66\n",
            "Epoch 67\n",
            "Epoch 68\n",
            "Epoch 69\n",
            "Epoch 70\n",
            "Epoch 71\n",
            "Epoch 72\n",
            "Epoch 73\n",
            "Epoch 74\n",
            "Epoch 75\n",
            "Epoch 76\n",
            "Epoch 77\n",
            "Epoch 78\n",
            "Epoch 79\n",
            "Epoch 80\n",
            "Epoch 81\n",
            "Epoch 82\n",
            "Epoch 83\n",
            "Epoch 84\n",
            "Epoch 85\n",
            "Epoch 86\n",
            "Epoch 87\n",
            "Epoch 88\n",
            "Epoch 89\n",
            "Epoch 90\n",
            "Epoch 91\n",
            "Epoch 92\n",
            "Epoch 93\n",
            "Epoch 94\n",
            "Epoch 95\n",
            "Epoch 96\n",
            "Epoch 97\n",
            "Epoch 98\n",
            "Epoch 99\n"
          ],
          "name": "stdout"
        }
      ]
    },
    {
      "cell_type": "code",
      "metadata": {
        "colab": {
          "base_uri": "https://localhost:8080/"
        },
        "id": "AjcyEbXN7GM0",
        "outputId": "37fa6dd3-887d-4d09-9ac1-7a42c80c9f82"
      },
      "source": [
        "EMBEDDING_LENGTH = glove.no_components\n",
        "WINDOW_SIZE = 10\n",
        "catboost_x_train = []\n",
        "catboost_y_train = []\n",
        "\n",
        "def prepare_data_for_catboost(x):\n",
        "    tokenized_text = x['int_tokens']\n",
        "    for i, token in enumerate(tokenized_text):\n",
        "        catboost_x_train.append([])\n",
        "        for shift in range(WINDOW_SIZE):\n",
        "            if i - WINDOW_SIZE // 2 + shift < 0 or i - WINDOW_SIZE // 2 + shift >= len(tokenized_text) :\n",
        "                catboost_x_train[-1] += [0] * EMBEDDING_LENGTH\n",
        "            else:\n",
        "                catboost_x_train[-1] += list(glove.word_vectors[tokenized_text[i - WINDOW_SIZE // 2 + shift]])\n",
        "        catboost_y_train.append(tag_to_idx[x['ner_tags'][i]])\n",
        "\n",
        "\n",
        "train.apply(prepare_data_for_catboost, axis=1)\n"
      ],
      "execution_count": 25,
      "outputs": [
        {
          "output_type": "execute_result",
          "data": {
            "text/plain": [
              "0      None\n",
              "1      None\n",
              "2      None\n",
              "3      None\n",
              "4      None\n",
              "       ... \n",
              "948    None\n",
              "949    None\n",
              "950    None\n",
              "951    None\n",
              "952    None\n",
              "Length: 953, dtype: object"
            ]
          },
          "metadata": {
            "tags": []
          },
          "execution_count": 25
        }
      ]
    },
    {
      "cell_type": "code",
      "metadata": {
        "colab": {
          "base_uri": "https://localhost:8080/"
        },
        "id": "mPYrbq2m7GM1",
        "outputId": "a08ba987-bc7a-47b7-f46a-531b7ba1af3b"
      },
      "source": [
        "EMBEDDING_LENGTH = glove.no_components\n",
        "WINDOW_SIZE = 10\n",
        "catboost_x_test = []\n",
        "catboost_y_test = []\n",
        "\n",
        "def prepare_data_for_catboost(x):\n",
        "    tokenized_text = x['int_tokens']\n",
        "    for i, token in enumerate(tokenized_text):\n",
        "        catboost_x_test.append([])\n",
        "        for shift in range(WINDOW_SIZE):\n",
        "            if i - WINDOW_SIZE // 2 + shift < 0 or i - WINDOW_SIZE // 2 + shift >= len(tokenized_text) :\n",
        "                catboost_x_test[-1] += [0] * EMBEDDING_LENGTH\n",
        "            else:\n",
        "                catboost_x_test[-1] += list(glove.word_vectors[tokenized_text[i - WINDOW_SIZE // 2 + shift]])\n",
        "        catboost_y_test.append(tag_to_idx[x['ner_tags'][i]])\n",
        "\n",
        "\n",
        "test.apply(prepare_data_for_catboost, axis=1)"
      ],
      "execution_count": 26,
      "outputs": [
        {
          "output_type": "execute_result",
          "data": {
            "text/plain": [
              "0      None\n",
              "1      None\n",
              "2      None\n",
              "3      None\n",
              "4      None\n",
              "       ... \n",
              "234    None\n",
              "235    None\n",
              "236    None\n",
              "237    None\n",
              "238    None\n",
              "Length: 239, dtype: object"
            ]
          },
          "metadata": {
            "tags": []
          },
          "execution_count": 26
        }
      ]
    },
    {
      "cell_type": "code",
      "metadata": {
        "id": "2_V0-ls47GM1"
      },
      "source": [
        "cb = CatBoostClassifier(verbose=False, task_type=\"GPU\", class_weights=[1, 1, 0.3], iterations=1000)\n",
        "cb.fit(catboost_x_train, catboost_y_train)\n",
        "pred = cb.predict(catboost_x_test)"
      ],
      "execution_count": 27,
      "outputs": []
    },
    {
      "cell_type": "code",
      "metadata": {
        "colab": {
          "base_uri": "https://localhost:8080/"
        },
        "id": "YqI-aOY37GM1",
        "outputId": "15813585-8f9c-4141-e6c7-53310645b9a4"
      },
      "source": [
        "print(metrics.flat_classification_report(\n",
        "    np.array([label_list[i] for i in catboost_y_test])[..., np.newaxis, np.newaxis], \n",
        "    np.array([label_list[i] for i in pred[:, 0]])[..., np.newaxis, np.newaxis], \n",
        "    digits=4, \n",
        "    labels=labels))"
      ],
      "execution_count": 28,
      "outputs": [
        {
          "output_type": "stream",
          "text": [
            "               precision    recall  f1-score   support\n",
            "\n",
            "B-GoodsString     0.8955    0.8963    0.8959      1109\n",
            "I-GoodsString     0.8554    0.8882    0.8715      1718\n",
            "\n",
            "    micro avg     0.8708    0.8914    0.8810      2827\n",
            "    macro avg     0.8754    0.8923    0.8837      2827\n",
            " weighted avg     0.8711    0.8914    0.8811      2827\n",
            "\n"
          ],
          "name": "stdout"
        }
      ]
    },
    {
      "cell_type": "markdown",
      "metadata": {
        "id": "hYzIBS7IjLwK"
      },
      "source": [
        "## GLOVE (fixed, window=25) + CatBoost"
      ]
    },
    {
      "cell_type": "code",
      "metadata": {
        "colab": {
          "base_uri": "https://localhost:8080/"
        },
        "id": "VICcoqOVjLwL",
        "outputId": "4369beb6-ef8f-4e82-e679-0506dca4448e"
      },
      "source": [
        "from glove import Corpus, Glove\n",
        "\n",
        "#Creating a corpus object\n",
        "corpus = Corpus() \n",
        "\n",
        "#Training the corpus to generate the co occurence matrix which is used in GloVe\n",
        "corpus.fit(df['tokens'], window=25)\n",
        "\n",
        "glove = Glove(no_components=20, learning_rate=0.05) \n",
        "glove.fit(corpus.matrix, epochs=100, no_threads=8, verbose=True)\n",
        "glove.add_dictionary(corpus.dictionary)\n",
        "\n",
        "for d in all_dfs:\n",
        "    d['encoded_ner_tags'] = d.apply(lambda x: [tag_to_idx[t] for t in x['ner_tags']], axis=1)\n",
        "    d['int_tokens'] = d.apply(find_glove_token, axis=1)"
      ],
      "execution_count": 29,
      "outputs": [
        {
          "output_type": "stream",
          "text": [
            "Performing 100 training epochs with 8 threads\n",
            "Epoch 0\n",
            "Epoch 1\n",
            "Epoch 2\n",
            "Epoch 3\n",
            "Epoch 4\n",
            "Epoch 5\n",
            "Epoch 6\n",
            "Epoch 7\n",
            "Epoch 8\n",
            "Epoch 9\n",
            "Epoch 10\n",
            "Epoch 11\n",
            "Epoch 12\n",
            "Epoch 13\n",
            "Epoch 14\n",
            "Epoch 15\n",
            "Epoch 16\n",
            "Epoch 17\n",
            "Epoch 18\n",
            "Epoch 19\n",
            "Epoch 20\n",
            "Epoch 21\n",
            "Epoch 22\n",
            "Epoch 23\n",
            "Epoch 24\n",
            "Epoch 25\n",
            "Epoch 26\n",
            "Epoch 27\n",
            "Epoch 28\n",
            "Epoch 29\n",
            "Epoch 30\n",
            "Epoch 31\n",
            "Epoch 32\n",
            "Epoch 33\n",
            "Epoch 34\n",
            "Epoch 35\n",
            "Epoch 36\n",
            "Epoch 37\n",
            "Epoch 38\n",
            "Epoch 39\n",
            "Epoch 40\n",
            "Epoch 41\n",
            "Epoch 42\n",
            "Epoch 43\n",
            "Epoch 44\n",
            "Epoch 45\n",
            "Epoch 46\n",
            "Epoch 47\n",
            "Epoch 48\n",
            "Epoch 49\n",
            "Epoch 50\n",
            "Epoch 51\n",
            "Epoch 52\n",
            "Epoch 53\n",
            "Epoch 54\n",
            "Epoch 55\n",
            "Epoch 56\n",
            "Epoch 57\n",
            "Epoch 58\n",
            "Epoch 59\n",
            "Epoch 60\n",
            "Epoch 61\n",
            "Epoch 62\n",
            "Epoch 63\n",
            "Epoch 64\n",
            "Epoch 65\n",
            "Epoch 66\n",
            "Epoch 67\n",
            "Epoch 68\n",
            "Epoch 69\n",
            "Epoch 70\n",
            "Epoch 71\n",
            "Epoch 72\n",
            "Epoch 73\n",
            "Epoch 74\n",
            "Epoch 75\n",
            "Epoch 76\n",
            "Epoch 77\n",
            "Epoch 78\n",
            "Epoch 79\n",
            "Epoch 80\n",
            "Epoch 81\n",
            "Epoch 82\n",
            "Epoch 83\n",
            "Epoch 84\n",
            "Epoch 85\n",
            "Epoch 86\n",
            "Epoch 87\n",
            "Epoch 88\n",
            "Epoch 89\n",
            "Epoch 90\n",
            "Epoch 91\n",
            "Epoch 92\n",
            "Epoch 93\n",
            "Epoch 94\n",
            "Epoch 95\n",
            "Epoch 96\n",
            "Epoch 97\n",
            "Epoch 98\n",
            "Epoch 99\n"
          ],
          "name": "stdout"
        }
      ]
    },
    {
      "cell_type": "code",
      "metadata": {
        "colab": {
          "base_uri": "https://localhost:8080/"
        },
        "id": "wQncFeCOjLwL",
        "outputId": "c18c014c-2e7f-4dc1-aa0b-3777886708bd"
      },
      "source": [
        "EMBEDDING_LENGTH = glove.no_components\n",
        "WINDOW_SIZE = 25\n",
        "catboost_x_train = []\n",
        "catboost_y_train = []\n",
        "\n",
        "def prepare_data_for_catboost(x):\n",
        "    tokenized_text = x['int_tokens']\n",
        "    for i, token in enumerate(tokenized_text):\n",
        "        catboost_x_train.append([])\n",
        "        for shift in range(WINDOW_SIZE):\n",
        "            if i - WINDOW_SIZE // 2 + shift < 0 or i - WINDOW_SIZE // 2 + shift >= len(tokenized_text) :\n",
        "                catboost_x_train[-1] += [0] * EMBEDDING_LENGTH\n",
        "            else:\n",
        "                catboost_x_train[-1] += list(glove.word_vectors[tokenized_text[i - WINDOW_SIZE // 2 + shift]])\n",
        "        catboost_y_train.append(tag_to_idx[x['ner_tags'][i]])\n",
        "\n",
        "\n",
        "train.apply(prepare_data_for_catboost, axis=1)\n"
      ],
      "execution_count": 30,
      "outputs": [
        {
          "output_type": "execute_result",
          "data": {
            "text/plain": [
              "0      None\n",
              "1      None\n",
              "2      None\n",
              "3      None\n",
              "4      None\n",
              "       ... \n",
              "948    None\n",
              "949    None\n",
              "950    None\n",
              "951    None\n",
              "952    None\n",
              "Length: 953, dtype: object"
            ]
          },
          "metadata": {
            "tags": []
          },
          "execution_count": 30
        }
      ]
    },
    {
      "cell_type": "code",
      "metadata": {
        "colab": {
          "base_uri": "https://localhost:8080/"
        },
        "id": "VMFCFVQWjLwL",
        "outputId": "82d4b608-b772-4c31-b8e3-dadf374d0b2f"
      },
      "source": [
        "EMBEDDING_LENGTH = glove.no_components\n",
        "WINDOW_SIZE = 25\n",
        "catboost_x_test = []\n",
        "catboost_y_test = []\n",
        "\n",
        "def prepare_data_for_catboost(x):\n",
        "    tokenized_text = x['int_tokens']\n",
        "    for i, token in enumerate(tokenized_text):\n",
        "        catboost_x_test.append([])\n",
        "        for shift in range(WINDOW_SIZE):\n",
        "            if i - WINDOW_SIZE // 2 + shift < 0 or i - WINDOW_SIZE // 2 + shift >= len(tokenized_text) :\n",
        "                catboost_x_test[-1] += [0] * EMBEDDING_LENGTH\n",
        "            else:\n",
        "                catboost_x_test[-1] += list(glove.word_vectors[tokenized_text[i - WINDOW_SIZE // 2 + shift]])\n",
        "        catboost_y_test.append(tag_to_idx[x['ner_tags'][i]])\n",
        "\n",
        "\n",
        "test.apply(prepare_data_for_catboost, axis=1)"
      ],
      "execution_count": 31,
      "outputs": [
        {
          "output_type": "execute_result",
          "data": {
            "text/plain": [
              "0      None\n",
              "1      None\n",
              "2      None\n",
              "3      None\n",
              "4      None\n",
              "       ... \n",
              "234    None\n",
              "235    None\n",
              "236    None\n",
              "237    None\n",
              "238    None\n",
              "Length: 239, dtype: object"
            ]
          },
          "metadata": {
            "tags": []
          },
          "execution_count": 31
        }
      ]
    },
    {
      "cell_type": "code",
      "metadata": {
        "id": "f0uYfrCUjLwL"
      },
      "source": [
        "cb = CatBoostClassifier(verbose=False, task_type=\"GPU\", class_weights=[1, 1, 0.3], iterations=1000)\n",
        "cb.fit(catboost_x_train, catboost_y_train)\n",
        "pred = cb.predict(catboost_x_test)"
      ],
      "execution_count": 32,
      "outputs": []
    },
    {
      "cell_type": "code",
      "metadata": {
        "colab": {
          "base_uri": "https://localhost:8080/"
        },
        "id": "k600p1NVjLwM",
        "outputId": "991b5959-3005-4b94-a68b-77bc03458de4"
      },
      "source": [
        "print(metrics.flat_classification_report(\n",
        "    np.array([label_list[i] for i in catboost_y_test])[..., np.newaxis, np.newaxis], \n",
        "    np.array([label_list[i] for i in pred[:, 0]])[..., np.newaxis, np.newaxis], \n",
        "    digits=4, \n",
        "    labels=labels))"
      ],
      "execution_count": 33,
      "outputs": [
        {
          "output_type": "stream",
          "text": [
            "               precision    recall  f1-score   support\n",
            "\n",
            "B-GoodsString     0.9180    0.8990    0.9084      1109\n",
            "I-GoodsString     0.8825    0.8871    0.8848      1718\n",
            "\n",
            "    micro avg     0.8962    0.8918    0.8940      2827\n",
            "    macro avg     0.9003    0.8930    0.8966      2827\n",
            " weighted avg     0.8964    0.8918    0.8940      2827\n",
            "\n"
          ],
          "name": "stdout"
        }
      ]
    },
    {
      "cell_type": "markdown",
      "metadata": {
        "id": "QBIZP9Wqn4Xe"
      },
      "source": [
        "## GLOVE (fixed, window=20) + CatBoost"
      ]
    },
    {
      "cell_type": "code",
      "metadata": {
        "colab": {
          "base_uri": "https://localhost:8080/"
        },
        "id": "dtnxKj_ln4Xe",
        "outputId": "9930ff65-978d-48a0-eff0-6ffc7355a90b"
      },
      "source": [
        "from glove import Corpus, Glove\n",
        "\n",
        "#Creating a corpus object\n",
        "corpus = Corpus() \n",
        "\n",
        "#Training the corpus to generate the co occurence matrix which is used in GloVe\n",
        "corpus.fit(df['tokens'], window=20)\n",
        "\n",
        "glove = Glove(no_components=30, learning_rate=0.05) \n",
        "glove.fit(corpus.matrix, epochs=100, no_threads=8, verbose=True)\n",
        "glove.add_dictionary(corpus.dictionary)\n",
        "\n",
        "for d in all_dfs:\n",
        "    d['encoded_ner_tags'] = d.apply(lambda x: [tag_to_idx[t] for t in x['ner_tags']], axis=1)\n",
        "    d['int_tokens'] = d.apply(find_glove_token, axis=1)"
      ],
      "execution_count": 34,
      "outputs": [
        {
          "output_type": "stream",
          "text": [
            "Performing 100 training epochs with 8 threads\n",
            "Epoch 0\n",
            "Epoch 1\n",
            "Epoch 2\n",
            "Epoch 3\n",
            "Epoch 4\n",
            "Epoch 5\n",
            "Epoch 6\n",
            "Epoch 7\n",
            "Epoch 8\n",
            "Epoch 9\n",
            "Epoch 10\n",
            "Epoch 11\n",
            "Epoch 12\n",
            "Epoch 13\n",
            "Epoch 14\n",
            "Epoch 15\n",
            "Epoch 16\n",
            "Epoch 17\n",
            "Epoch 18\n",
            "Epoch 19\n",
            "Epoch 20\n",
            "Epoch 21\n",
            "Epoch 22\n",
            "Epoch 23\n",
            "Epoch 24\n",
            "Epoch 25\n",
            "Epoch 26\n",
            "Epoch 27\n",
            "Epoch 28\n",
            "Epoch 29\n",
            "Epoch 30\n",
            "Epoch 31\n",
            "Epoch 32\n",
            "Epoch 33\n",
            "Epoch 34\n",
            "Epoch 35\n",
            "Epoch 36\n",
            "Epoch 37\n",
            "Epoch 38\n",
            "Epoch 39\n",
            "Epoch 40\n",
            "Epoch 41\n",
            "Epoch 42\n",
            "Epoch 43\n",
            "Epoch 44\n",
            "Epoch 45\n",
            "Epoch 46\n",
            "Epoch 47\n",
            "Epoch 48\n",
            "Epoch 49\n",
            "Epoch 50\n",
            "Epoch 51\n",
            "Epoch 52\n",
            "Epoch 53\n",
            "Epoch 54\n",
            "Epoch 55\n",
            "Epoch 56\n",
            "Epoch 57\n",
            "Epoch 58\n",
            "Epoch 59\n",
            "Epoch 60\n",
            "Epoch 61\n",
            "Epoch 62\n",
            "Epoch 63\n",
            "Epoch 64\n",
            "Epoch 65\n",
            "Epoch 66\n",
            "Epoch 67\n",
            "Epoch 68\n",
            "Epoch 69\n",
            "Epoch 70\n",
            "Epoch 71\n",
            "Epoch 72\n",
            "Epoch 73\n",
            "Epoch 74\n",
            "Epoch 75\n",
            "Epoch 76\n",
            "Epoch 77\n",
            "Epoch 78\n",
            "Epoch 79\n",
            "Epoch 80\n",
            "Epoch 81\n",
            "Epoch 82\n",
            "Epoch 83\n",
            "Epoch 84\n",
            "Epoch 85\n",
            "Epoch 86\n",
            "Epoch 87\n",
            "Epoch 88\n",
            "Epoch 89\n",
            "Epoch 90\n",
            "Epoch 91\n",
            "Epoch 92\n",
            "Epoch 93\n",
            "Epoch 94\n",
            "Epoch 95\n",
            "Epoch 96\n",
            "Epoch 97\n",
            "Epoch 98\n",
            "Epoch 99\n"
          ],
          "name": "stdout"
        }
      ]
    },
    {
      "cell_type": "code",
      "metadata": {
        "colab": {
          "base_uri": "https://localhost:8080/"
        },
        "id": "O9QiUfNKn4Xe",
        "outputId": "9d74a344-568b-42e7-97f0-7ba11e6e2b96"
      },
      "source": [
        "EMBEDDING_LENGTH = glove.no_components\n",
        "WINDOW_SIZE = 20\n",
        "catboost_x_train = []\n",
        "catboost_y_train = []\n",
        "\n",
        "def prepare_data_for_catboost(x):\n",
        "    tokenized_text = x['int_tokens']\n",
        "    for i, token in enumerate(tokenized_text):\n",
        "        catboost_x_train.append([])\n",
        "        for shift in range(WINDOW_SIZE):\n",
        "            if i - WINDOW_SIZE // 2 + shift < 0 or i - WINDOW_SIZE // 2 + shift >= len(tokenized_text) :\n",
        "                catboost_x_train[-1] += [0] * EMBEDDING_LENGTH\n",
        "            else:\n",
        "                catboost_x_train[-1] += list(glove.word_vectors[tokenized_text[i - WINDOW_SIZE // 2 + shift]])\n",
        "        catboost_y_train.append(tag_to_idx[x['ner_tags'][i]])\n",
        "\n",
        "\n",
        "train.apply(prepare_data_for_catboost, axis=1)\n"
      ],
      "execution_count": 35,
      "outputs": [
        {
          "output_type": "execute_result",
          "data": {
            "text/plain": [
              "0      None\n",
              "1      None\n",
              "2      None\n",
              "3      None\n",
              "4      None\n",
              "       ... \n",
              "948    None\n",
              "949    None\n",
              "950    None\n",
              "951    None\n",
              "952    None\n",
              "Length: 953, dtype: object"
            ]
          },
          "metadata": {
            "tags": []
          },
          "execution_count": 35
        }
      ]
    },
    {
      "cell_type": "code",
      "metadata": {
        "colab": {
          "base_uri": "https://localhost:8080/"
        },
        "id": "M6OkahAUn4Xf",
        "outputId": "9281e5fc-fff0-42af-8882-1ede82d42f7b"
      },
      "source": [
        "EMBEDDING_LENGTH = glove.no_components\n",
        "WINDOW_SIZE = 20\n",
        "catboost_x_test = []\n",
        "catboost_y_test = []\n",
        "\n",
        "def prepare_data_for_catboost(x):\n",
        "    tokenized_text = x['int_tokens']\n",
        "    for i, token in enumerate(tokenized_text):\n",
        "        catboost_x_test.append([])\n",
        "        for shift in range(WINDOW_SIZE):\n",
        "            if i - WINDOW_SIZE // 2 + shift < 0 or i - WINDOW_SIZE // 2 + shift >= len(tokenized_text) :\n",
        "                catboost_x_test[-1] += [0] * EMBEDDING_LENGTH\n",
        "            else:\n",
        "                catboost_x_test[-1] += list(glove.word_vectors[tokenized_text[i - WINDOW_SIZE // 2 + shift]])\n",
        "        catboost_y_test.append(tag_to_idx[x['ner_tags'][i]])\n",
        "\n",
        "\n",
        "test.apply(prepare_data_for_catboost, axis=1)"
      ],
      "execution_count": 36,
      "outputs": [
        {
          "output_type": "execute_result",
          "data": {
            "text/plain": [
              "0      None\n",
              "1      None\n",
              "2      None\n",
              "3      None\n",
              "4      None\n",
              "       ... \n",
              "234    None\n",
              "235    None\n",
              "236    None\n",
              "237    None\n",
              "238    None\n",
              "Length: 239, dtype: object"
            ]
          },
          "metadata": {
            "tags": []
          },
          "execution_count": 36
        }
      ]
    },
    {
      "cell_type": "code",
      "metadata": {
        "id": "Picoj7eUn4Xf"
      },
      "source": [
        "cb = CatBoostClassifier(verbose=False, task_type=\"GPU\", class_weights=[1, 1, 0.3], iterations=1000)\n",
        "cb.fit(catboost_x_train, catboost_y_train)\n",
        "pred = cb.predict(catboost_x_test)"
      ],
      "execution_count": 37,
      "outputs": []
    },
    {
      "cell_type": "code",
      "metadata": {
        "colab": {
          "base_uri": "https://localhost:8080/"
        },
        "id": "7utYKHkHn4Xf",
        "outputId": "6967c0e7-6281-45fb-c9ba-fb0bdf0660e7"
      },
      "source": [
        "print(metrics.flat_classification_report(\n",
        "    np.array([label_list[i] for i in catboost_y_test])[..., np.newaxis, np.newaxis], \n",
        "    np.array([label_list[i] for i in pred[:, 0]])[..., np.newaxis, np.newaxis], \n",
        "    digits=4, \n",
        "    labels=labels))"
      ],
      "execution_count": 38,
      "outputs": [
        {
          "output_type": "stream",
          "text": [
            "               precision    recall  f1-score   support\n",
            "\n",
            "B-GoodsString     0.9132    0.9008    0.9069      1109\n",
            "I-GoodsString     0.8823    0.8987    0.8904      1718\n",
            "\n",
            "    micro avg     0.8942    0.8995    0.8968      2827\n",
            "    macro avg     0.8977    0.8998    0.8987      2827\n",
            " weighted avg     0.8944    0.8995    0.8969      2827\n",
            "\n"
          ],
          "name": "stdout"
        }
      ]
    },
    {
      "cell_type": "markdown",
      "metadata": {
        "id": "Dl-kdToFKHn0"
      },
      "source": [
        "## Подбор гиперпараметров для CatBoost"
      ]
    },
    {
      "cell_type": "code",
      "metadata": {
        "colab": {
          "base_uri": "https://localhost:8080/"
        },
        "id": "Fxr9cm5gKNIx",
        "outputId": "15619441-e1a9-47fe-aa4d-06b9f83a6f3f"
      },
      "source": [
        "def find_glove_token(x):\n",
        "    res = []\n",
        "    for w in x['tokens']:\n",
        "        if w in glove.dictionary.keys():\n",
        "            res.append(glove.dictionary[w])\n",
        "        else:\n",
        "            res.append(0)\n",
        "    return res\n",
        "\n",
        "\n",
        "f1_scores = []\n",
        "precision_scores = []\n",
        "recall_scores = []\n",
        "window_sizes = range(2, 25)\n",
        "EMBEDDING_LENGTH = 30\n",
        "\n",
        "for window_size in tqdm(window_sizes):\n",
        "    corpus = Corpus() \n",
        "\n",
        "    corpus.fit(df['tokens'], window=window_size)\n",
        "\n",
        "    glove = Glove(no_components=EMBEDDING_LENGTH, learning_rate=0.05) \n",
        "    glove.fit(corpus.matrix, epochs=30, no_threads=8, verbose=False)\n",
        "    glove.add_dictionary(corpus.dictionary)\n",
        "    for d in all_dfs:\n",
        "        d['encoded_ner_tags'] = d.apply(lambda x: [tag_to_idx[t] for t in x['ner_tags']], axis=1)\n",
        "        d['int_tokens'] = d.apply(find_glove_token, axis=1)\n",
        "    \n",
        "    catboost_x_train = []\n",
        "    catboost_y_train = []\n",
        "\n",
        "    def prepare_data_for_catboost(x):\n",
        "        tokenized_text = x['int_tokens']\n",
        "        for i, token in enumerate(tokenized_text):\n",
        "            catboost_x_train.append([])\n",
        "            for shift in range(window_size):\n",
        "                if i - window_size // 2 + shift < 0 or i - window_size // 2 + shift >= len(tokenized_text) :\n",
        "                    catboost_x_train[-1] += [0] * EMBEDDING_LENGTH\n",
        "                else:\n",
        "                    catboost_x_train[-1] += list(glove.word_vectors[tokenized_text[i - window_size // 2 + shift]])\n",
        "            catboost_y_train.append(tag_to_idx[x['ner_tags'][i]])\n",
        "\n",
        "    train.apply(prepare_data_for_catboost, axis=1)\n",
        "\n",
        "    catboost_x_test = []\n",
        "    catboost_y_test = []\n",
        "\n",
        "    def prepare_data_for_catboost(x):\n",
        "        tokenized_text = x['int_tokens']\n",
        "        for i, token in enumerate(tokenized_text):\n",
        "            catboost_x_test.append([])\n",
        "            for shift in range(window_size):\n",
        "                if i - window_size // 2 + shift < 0 or i - window_size // 2 + shift >= len(tokenized_text) :\n",
        "                    catboost_x_test[-1] += [0] * EMBEDDING_LENGTH\n",
        "                else:\n",
        "                    catboost_x_test[-1] += list(glove.word_vectors[tokenized_text[i - window_size // 2 + shift]])\n",
        "            catboost_y_test.append(tag_to_idx[x['ner_tags'][i]])\n",
        "\n",
        "    test.apply(prepare_data_for_catboost, axis=1)\n",
        "\n",
        "    cb = CatBoostClassifier(verbose=False, task_type=\"GPU\", iterations=1000)\n",
        "    cb.fit(catboost_x_train, catboost_y_train)\n",
        "    pred = cb.predict(catboost_x_test)\n",
        "    f1_scores.append(f1_score(catboost_y_test, pred, average='weighted', labels=[0, 1]))\n",
        "    precision_scores.append(precision_score(catboost_y_test, pred, average='weighted', labels=[0, 1]))\n",
        "    recall_scores.append(recall_score(catboost_y_test, pred, average='weighted', labels=[0, 1]))"
      ],
      "execution_count": 7,
      "outputs": [
        {
          "output_type": "stream",
          "text": [
            "100%|██████████| 23/23 [45:03<00:00, 117.53s/it]\n"
          ],
          "name": "stderr"
        }
      ]
    },
    {
      "cell_type": "code",
      "metadata": {
        "colab": {
          "base_uri": "https://localhost:8080/",
          "height": 295
        },
        "id": "EWSpAUjhXbVN",
        "outputId": "2e9eea7f-4454-4509-b19c-032b4f562520"
      },
      "source": [
        "plt.plot(window_sizes, f1_scores, label='f1')\n",
        "plt.plot(window_sizes, precision_scores, label='precision')\n",
        "plt.plot(window_sizes, recall_scores, label='recall')\n",
        "plt.title('Metrics dependency on window size')\n",
        "plt.xlabel('Window size')\n",
        "plt.ylabel('Score')\n",
        "plt.legend()\n",
        "plt.show()"
      ],
      "execution_count": 8,
      "outputs": [
        {
          "output_type": "display_data",
          "data": {
            "image/png": "[encoded data removed]",
            "text/plain": [
              "<Figure size 432x288 with 1 Axes>"
            ]
          },
          "metadata": {
            "tags": [],
            "needs_background": "light"
          }
        }
      ]
    },
    {
      "cell_type": "code",
      "metadata": {
        "colab": {
          "base_uri": "https://localhost:8080/"
        },
        "id": "vbgOyEPrAXL0",
        "outputId": "73ffb4bb-d232-467d-add0-1d1d00eaacaa"
      },
      "source": [
        "def find_glove_token(x):\n",
        "    res = []\n",
        "    for w in x['tokens']:\n",
        "        if w in glove.dictionary.keys():\n",
        "            res.append(glove.dictionary[w])\n",
        "        else:\n",
        "            res.append(0)\n",
        "    return res\n",
        "\n",
        "\n",
        "f1_scores = []\n",
        "precision_scores = []\n",
        "recall_scores = []\n",
        "window_size = 25\n",
        "EMBEDDING_LENGTH = 10\n",
        "\n",
        "for o_weight in tqdm(np.arange(0.05, 1.0000001, 0.05)):\n",
        "    corpus = Corpus() \n",
        "\n",
        "    corpus.fit(df['tokens'], window=window_size)\n",
        "\n",
        "    glove = Glove(no_components=EMBEDDING_LENGTH, learning_rate=0.05) \n",
        "    glove.fit(corpus.matrix, epochs=30, no_threads=8, verbose=False)\n",
        "    glove.add_dictionary(corpus.dictionary)\n",
        "    for d in all_dfs:\n",
        "        d['encoded_ner_tags'] = d.apply(lambda x: [tag_to_idx[t] for t in x['ner_tags']], axis=1)\n",
        "        d['int_tokens'] = d.apply(find_glove_token, axis=1)\n",
        "    \n",
        "    catboost_x_train = []\n",
        "    catboost_y_train = []\n",
        "\n",
        "    def prepare_data_for_catboost(x):\n",
        "        tokenized_text = x['int_tokens']\n",
        "        for i, token in enumerate(tokenized_text):\n",
        "            catboost_x_train.append([])\n",
        "            for shift in range(window_size):\n",
        "                if i - window_size // 2 + shift < 0 or i - window_size // 2 + shift >= len(tokenized_text) :\n",
        "                    catboost_x_train[-1] += [0] * EMBEDDING_LENGTH\n",
        "                else:\n",
        "                    catboost_x_train[-1] += list(glove.word_vectors[tokenized_text[i - window_size // 2 + shift]])\n",
        "            catboost_y_train.append(tag_to_idx[x['ner_tags'][i]])\n",
        "\n",
        "    train.apply(prepare_data_for_catboost, axis=1)\n",
        "\n",
        "    catboost_x_test = []\n",
        "    catboost_y_test = []\n",
        "\n",
        "    def prepare_data_for_catboost(x):\n",
        "        tokenized_text = x['int_tokens']\n",
        "        for i, token in enumerate(tokenized_text):\n",
        "            catboost_x_test.append([])\n",
        "            for shift in range(window_size):\n",
        "                if i - window_size // 2 + shift < 0 or i - window_size // 2 + shift >= len(tokenized_text) :\n",
        "                    catboost_x_test[-1] += [0] * EMBEDDING_LENGTH\n",
        "                else:\n",
        "                    catboost_x_test[-1] += list(glove.word_vectors[tokenized_text[i - window_size // 2 + shift]])\n",
        "            catboost_y_test.append(tag_to_idx[x['ner_tags'][i]])\n",
        "\n",
        "    test.apply(prepare_data_for_catboost, axis=1)\n",
        "\n",
        "    cb = CatBoostClassifier(verbose=False, task_type=\"GPU\", class_weights=[1] * 2 + [o_weight], iterations=1000)\n",
        "    cb.fit(catboost_x_train, catboost_y_train)\n",
        "    pred = cb.predict(catboost_x_test)\n",
        "    f1_scores.append(f1_score(catboost_y_test, pred, average='weighted', labels=[0, 1]))\n",
        "    precision_scores.append(precision_score(catboost_y_test, pred, average='weighted', labels=[0, 1]))\n",
        "    recall_scores.append(recall_score(catboost_y_test, pred, average='weighted', labels=[0, 1]))"
      ],
      "execution_count": 9,
      "outputs": [
        {
          "output_type": "stream",
          "text": [
            "100%|██████████| 20/20 [28:45<00:00, 86.27s/it]\n"
          ],
          "name": "stderr"
        }
      ]
    },
    {
      "cell_type": "code",
      "metadata": {
        "colab": {
          "base_uri": "https://localhost:8080/",
          "height": 295
        },
        "id": "X7aD5-aKAXL-",
        "outputId": "22decca4-7c0b-4325-b514-ef817311860f"
      },
      "source": [
        "plt.plot(np.arange(0.05, 1.0000001, 0.05), f1_scores, label='f1')\n",
        "plt.plot(np.arange(0.05, 1.0000001, 0.05), precision_scores, label='precision')\n",
        "plt.plot(np.arange(0.05, 1.0000001, 0.05), recall_scores, label='recall')\n",
        "plt.title('Metrics dependency on O weight')\n",
        "plt.xlabel('O weight')\n",
        "plt.ylabel('Score')\n",
        "plt.legend()\n",
        "plt.show()"
      ],
      "execution_count": 10,
      "outputs": [
        {
          "output_type": "display_data",
          "data": {
            "image/png": "[encoded data removed]",
            "text/plain": [
              "<Figure size 432x288 with 1 Axes>"
            ]
          },
          "metadata": {
            "tags": [],
            "needs_background": "light"
          }
        }
      ]
    },
    {
      "cell_type": "markdown",
      "metadata": {
        "id": "zcd-r_M4BPAC"
      },
      "source": [
        "## GLOVE (fixed, window=25, O_weight=0.7) + CatBoost"
      ]
    },
    {
      "cell_type": "code",
      "metadata": {
        "id": "cKfpXYtkBPAC"
      },
      "source": [
        "def find_glove_token(x):\n",
        "    res = []\n",
        "    for w in x['tokens']:\n",
        "        if w in glove.dictionary.keys():\n",
        "            res.append(glove.dictionary[w])\n",
        "        else:\n",
        "            res.append(0)\n",
        "    return res\n",
        "\n",
        "#Creating a corpus object\n",
        "corpus = Corpus() \n",
        "\n",
        "#Training the corpus to generate the co occurence matrix which is used in GloVe\n",
        "corpus.fit(df['tokens'], window=25)\n",
        "\n",
        "glove = Glove(no_components=30, learning_rate=0.05) \n",
        "glove.fit(corpus.matrix, epochs=30, no_threads=8, verbose=False)\n",
        "glove.add_dictionary(corpus.dictionary)\n",
        "\n",
        "for d in all_dfs:\n",
        "    d['encoded_ner_tags'] = d.apply(lambda x: [tag_to_idx[t] for t in x['ner_tags']], axis=1)\n",
        "    d['int_tokens'] = d.apply(find_glove_token, axis=1)"
      ],
      "execution_count": 11,
      "outputs": []
    },
    {
      "cell_type": "code",
      "metadata": {
        "colab": {
          "base_uri": "https://localhost:8080/"
        },
        "id": "wS3pI_5aBPAC",
        "outputId": "c65071cc-5901-4a4e-aa23-9a0f8c935bde"
      },
      "source": [
        "EMBEDDING_LENGTH = glove.no_components\n",
        "WINDOW_SIZE = 25\n",
        "catboost_x_train = []\n",
        "catboost_y_train = []\n",
        "\n",
        "def prepare_data_for_catboost(x):\n",
        "    tokenized_text = x['int_tokens']\n",
        "    for i, token in enumerate(tokenized_text):\n",
        "        catboost_x_train.append([])\n",
        "        for shift in range(WINDOW_SIZE):\n",
        "            if i - WINDOW_SIZE // 2 + shift < 0 or i - WINDOW_SIZE // 2 + shift >= len(tokenized_text) :\n",
        "                catboost_x_train[-1] += [0] * EMBEDDING_LENGTH\n",
        "            else:\n",
        "                catboost_x_train[-1] += list(glove.word_vectors[tokenized_text[i - WINDOW_SIZE // 2 + shift]])\n",
        "        catboost_y_train.append(tag_to_idx[x['ner_tags'][i]])\n",
        "\n",
        "\n",
        "train.apply(prepare_data_for_catboost, axis=1)\n"
      ],
      "execution_count": 12,
      "outputs": [
        {
          "output_type": "execute_result",
          "data": {
            "text/plain": [
              "0      None\n",
              "1      None\n",
              "2      None\n",
              "3      None\n",
              "4      None\n",
              "       ... \n",
              "948    None\n",
              "949    None\n",
              "950    None\n",
              "951    None\n",
              "952    None\n",
              "Length: 953, dtype: object"
            ]
          },
          "metadata": {
            "tags": []
          },
          "execution_count": 12
        }
      ]
    },
    {
      "cell_type": "code",
      "metadata": {
        "colab": {
          "base_uri": "https://localhost:8080/"
        },
        "id": "02V-qh_8BPAD",
        "outputId": "553cfaaf-5794-4e27-d213-3657d1b26ea9"
      },
      "source": [
        "EMBEDDING_LENGTH = glove.no_components\n",
        "WINDOW_SIZE = 25\n",
        "catboost_x_test = []\n",
        "catboost_y_test = []\n",
        "\n",
        "def prepare_data_for_catboost(x):\n",
        "    tokenized_text = x['int_tokens']\n",
        "    for i, token in enumerate(tokenized_text):\n",
        "        catboost_x_test.append([])\n",
        "        for shift in range(WINDOW_SIZE):\n",
        "            if i - WINDOW_SIZE // 2 + shift < 0 or i - WINDOW_SIZE // 2 + shift >= len(tokenized_text) :\n",
        "                catboost_x_test[-1] += [0] * EMBEDDING_LENGTH\n",
        "            else:\n",
        "                catboost_x_test[-1] += list(glove.word_vectors[tokenized_text[i - WINDOW_SIZE // 2 + shift]])\n",
        "        catboost_y_test.append(tag_to_idx[x['ner_tags'][i]])\n",
        "\n",
        "\n",
        "test.apply(prepare_data_for_catboost, axis=1)"
      ],
      "execution_count": 13,
      "outputs": [
        {
          "output_type": "execute_result",
          "data": {
            "text/plain": [
              "0      None\n",
              "1      None\n",
              "2      None\n",
              "3      None\n",
              "4      None\n",
              "       ... \n",
              "234    None\n",
              "235    None\n",
              "236    None\n",
              "237    None\n",
              "238    None\n",
              "Length: 239, dtype: object"
            ]
          },
          "metadata": {
            "tags": []
          },
          "execution_count": 13
        }
      ]
    },
    {
      "cell_type": "code",
      "metadata": {
        "id": "IOx71rEwBPAD"
      },
      "source": [
        "cb = CatBoostClassifier(verbose=False, task_type=\"GPU\", class_weights=[1, 1, 0.25], iterations=25000)\n",
        "cb.fit(catboost_x_train, catboost_y_train)\n",
        "pred = cb.predict(catboost_x_test)"
      ],
      "execution_count": 14,
      "outputs": []
    },
    {
      "cell_type": "code",
      "metadata": {
        "colab": {
          "base_uri": "https://localhost:8080/"
        },
        "id": "80QcGyiBBPAD",
        "outputId": "39fb3c14-e828-4686-bb6c-98e72f5a9d7c"
      },
      "source": [
        "print(metrics.flat_classification_report(\n",
        "    np.array([label_list[i] for i in catboost_y_test])[..., np.newaxis, np.newaxis], \n",
        "    np.array([label_list[i] for i in pred[:, 0]])[..., np.newaxis, np.newaxis], \n",
        "    digits=4, \n",
        "    labels=labels))"
      ],
      "execution_count": 15,
      "outputs": [
        {
          "output_type": "stream",
          "text": [
            "               precision    recall  f1-score   support\n",
            "\n",
            "B-GoodsString     0.9288    0.9179    0.9234      1109\n",
            "I-GoodsString     0.9115    0.8935    0.9024      1718\n",
            "\n",
            "    micro avg     0.9183    0.9031    0.9106      2827\n",
            "    macro avg     0.9202    0.9057    0.9129      2827\n",
            " weighted avg     0.9183    0.9031    0.9106      2827\n",
            "\n"
          ],
          "name": "stdout"
        }
      ]
    },
    {
      "cell_type": "code",
      "metadata": {
        "id": "sN0Au-eHPKd8"
      },
      "source": [
        ""
      ],
      "execution_count": null,
      "outputs": []
    }
  ]
}